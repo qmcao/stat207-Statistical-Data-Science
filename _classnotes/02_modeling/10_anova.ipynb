{
 "cells": [
  {
   "cell_type": "markdown",
   "metadata": {},
   "source": [
    "<!--# STAT 207: Data Science Exploration-->\n",
    "## Analysis of Variance\n",
    "\n",
    "In the general linear regression framework we saw that we can test individual regression coefficients in the model for statistical significance using the coefficient t-tests. This approach is most useful when one of the effects, such as a treatment effect, is of primary interest, and other variables are included as covariate adjustments. There is a danger, however, in doing multiple tests when we have more than one varable in the model. By doing so we can inflate the false positive rate, increasing the chance of detecting nonexistent results purely by increasing the number of tests performed.\n",
    "\n",
    "Analysis of variance (ANOVA) gives us a way to counteract this effect, by testing all effects simultaneously to see if *any* variable is significant. It also lies behind the interpretation of $R^2$ as the proportion of variance explained by the model.\n",
    "\n",
    "The strategy is to compare the full model with a constrained, null, model in which the set of parameters we wish to test are zeroed out or constrained. The change in residual sum of squares forms the basis for constructing an F test for the null hypothesis that the constrained model is correct.\n",
    "\n",
    "As special cases we consider:\n",
    "\n",
    "- F test for the regression\n",
    "\n",
    "- Oneway ANOVA when the explanatory variable is categorical, i.e., the $k$ sample design\n",
    "\n",
    "- Testing a subset of variables in multiple linear regression\n",
    "\n",
    "Relevant libraries and functions:\n",
    "\n",
    "- pandas.DataFrame.groupby\n",
    "- statsmodels.api\n",
    "- statsmodels.formula.api\n",
    "- statsmodels.formula.api.ols\n",
    "- statsmodels.regression.linear_model\n",
    "- RegressionResults.compare_f_test\n",
    "\n"
   ]
  },
  {
   "cell_type": "markdown",
   "metadata": {},
   "source": [
    "### Example: Geographic analysis of melanoma mortality\n",
    "\n",
    "Mortality rates from skin cancer are available from the CDC. Early studies of the relation between exposure to sunlight and melanoma, a type of skin cancer investigated the relation between mortality from skin cancer and geographic location in degrees latitude (how far north or south); Elwood et al. (1974). In this study, each state is represented by the latitude of its largest city. Mortality rates are age-standardized and expressed in rates per 1 million population."
   ]
  },
  {
   "cell_type": "code",
   "execution_count": 1,
   "metadata": {},
   "outputs": [],
   "source": [
    "import numpy as np\n",
    "import pandas as pd\n",
    "import matplotlib.pyplot as plt\n",
    "import seaborn as sns; sns.set()"
   ]
  },
  {
   "cell_type": "markdown",
   "metadata": {},
   "source": [
    "#### Import and explore the data"
   ]
  },
  {
   "cell_type": "code",
   "execution_count": 2,
   "metadata": {},
   "outputs": [
    {
     "data": {
      "text/plain": [
       "(49, 4)"
      ]
     },
     "metadata": {},
     "output_type": "display_data"
    },
    {
     "data": {
      "text/html": [
       "<div>\n",
       "<style scoped>\n",
       "    .dataframe tbody tr th:only-of-type {\n",
       "        vertical-align: middle;\n",
       "    }\n",
       "\n",
       "    .dataframe tbody tr th {\n",
       "        vertical-align: top;\n",
       "    }\n",
       "\n",
       "    .dataframe thead th {\n",
       "        text-align: right;\n",
       "    }\n",
       "</style>\n",
       "<table border=\"1\" class=\"dataframe\">\n",
       "  <thead>\n",
       "    <tr style=\"text-align: right;\">\n",
       "      <th></th>\n",
       "      <th>state</th>\n",
       "      <th>latitude</th>\n",
       "      <th>mortality</th>\n",
       "      <th>ocean</th>\n",
       "    </tr>\n",
       "  </thead>\n",
       "  <tbody>\n",
       "    <tr>\n",
       "      <th>0</th>\n",
       "      <td>AL</td>\n",
       "      <td>33.0</td>\n",
       "      <td>219</td>\n",
       "      <td>1</td>\n",
       "    </tr>\n",
       "    <tr>\n",
       "      <th>1</th>\n",
       "      <td>AZ</td>\n",
       "      <td>34.5</td>\n",
       "      <td>160</td>\n",
       "      <td>0</td>\n",
       "    </tr>\n",
       "    <tr>\n",
       "      <th>2</th>\n",
       "      <td>AR</td>\n",
       "      <td>35.0</td>\n",
       "      <td>170</td>\n",
       "      <td>0</td>\n",
       "    </tr>\n",
       "    <tr>\n",
       "      <th>3</th>\n",
       "      <td>CA</td>\n",
       "      <td>37.5</td>\n",
       "      <td>182</td>\n",
       "      <td>1</td>\n",
       "    </tr>\n",
       "    <tr>\n",
       "      <th>4</th>\n",
       "      <td>CO</td>\n",
       "      <td>39.0</td>\n",
       "      <td>149</td>\n",
       "      <td>0</td>\n",
       "    </tr>\n",
       "  </tbody>\n",
       "</table>\n",
       "</div>"
      ],
      "text/plain": [
       "  state  latitude  mortality  ocean\n",
       "0    AL      33.0        219      1\n",
       "1    AZ      34.5        160      0\n",
       "2    AR      35.0        170      0\n",
       "3    CA      37.5        182      1\n",
       "4    CO      39.0        149      0"
      ]
     },
     "metadata": {},
     "output_type": "display_data"
    }
   ],
   "source": [
    "skin = pd.read_csv(\"../data/skin.txt\", \n",
    "                   delim_whitespace=True)\n",
    "display(skin.shape, skin.head())"
   ]
  },
  {
   "cell_type": "markdown",
   "metadata": {},
   "source": [
    "Check if any missing values using the pandas notna() and all() functions. notna() returns True if a value is not missing and False if missing. all() returns True only if all elements n a column are True. It returns False if any element is False."
   ]
  },
  {
   "cell_type": "code",
   "execution_count": 3,
   "metadata": {},
   "outputs": [
    {
     "data": {
      "text/plain": [
       "state        True\n",
       "latitude     True\n",
       "mortality    True\n",
       "ocean        True\n",
       "dtype: bool"
      ]
     },
     "execution_count": 3,
     "metadata": {},
     "output_type": "execute_result"
    }
   ],
   "source": [
    "skin.notna().all()"
   ]
  },
  {
   "cell_type": "markdown",
   "metadata": {},
   "source": [
    "Looks clean."
   ]
  },
  {
   "cell_type": "markdown",
   "metadata": {},
   "source": [
    "Let's view a scatter plot of mortality versus latitude. How can we also incorporate 'ocean', a binary indicator variable in the plot? One way is to color each state's data point by whether or not it is an ocean state. In the seaborn scatterplot function the 'style' and 'hue' arguments do this."
   ]
  },
  {
   "cell_type": "code",
   "execution_count": 4,
   "metadata": {},
   "outputs": [
    {
     "data": {
      "image/png": "[encoded data removed]",
      "text/plain": [
       "<Figure size 432x288 with 1 Axes>"
      ]
     },
     "metadata": {
      "needs_background": "light"
     },
     "output_type": "display_data"
    }
   ],
   "source": [
    "sns.scatterplot(x='latitude', y='mortality', \n",
    "                style='ocean', \n",
    "                hue='ocean', \n",
    "                data=skin)\n",
    "plt.show()"
   ]
  },
  {
   "cell_type": "markdown",
   "metadata": {},
   "source": [
    "#### Fit a multiple regression model"
   ]
  },
  {
   "cell_type": "markdown",
   "metadata": {},
   "source": [
    "Let's fit a regression model that includes latitude, the ocean coastal indicator, and a possible interaction between these two variables. Mathematically, this model has the form:\n",
    "\n",
    "$$\n",
    "\\mbox{Expected Mortality Rate} = \\beta_0 + \\beta_1 * \\mbox{latitude} + \\beta_2 * \\mbox{ocean}\n",
    "+ \\beta_3 * \\mbox{latitude} * \\mbox{ocean}\n",
    "$$\n",
    "\n",
    "The interaction is expressed as the product of 'latitude' and the 0-1 value for 'ocean'. How can we interpret this? It creates two regression lines, one for ocean=0 (the reference line), and one for ocean=1:\n",
    "\n",
    "$$\n",
    "\\begin{align}\n",
    "\\mbox{ocean=0:}&\\qquad \\mbox{Expected Mortality Rate} = \\beta_0 + \\beta_1 * \\mbox{latitude} \\\\\n",
    "\\mbox{ocean=1:}&\\qquad \\mbox{Expected Mortality Rate} = (\\beta_0 + \\beta_2) + (\\beta_1 + \\beta_3) * \\mbox{latitude} \\\\\n",
    "\\end{align}\n",
    "$$\n",
    "\n",
    "The interaction term in the model means that the dependence of the mortality rate on latitude is modified by whether or not the state touches the ocean. By fitting the model we can test the difference coefficients.\n",
    "\n",
    "In the python statsmodels formula package, the interaction is included as 'latitude:ocean'."
   ]
  },
  {
   "cell_type": "code",
   "execution_count": 5,
   "metadata": {},
   "outputs": [],
   "source": [
    "import statsmodels.api as sm\n",
    "import statsmodels.formula.api as smf"
   ]
  },
  {
   "cell_type": "code",
   "execution_count": 6,
   "metadata": {},
   "outputs": [],
   "source": [
    "# create the fitted model object\n",
    "mod1 = smf.ols('mortality ~ latitude + ocean + latitude*ocean', \n",
    "               data=skin).fit()"
   ]
  },
  {
   "cell_type": "code",
   "execution_count": 7,
   "metadata": {},
   "outputs": [
    {
     "data": {
      "image/png": "[encoded data removed]",
      "text/plain": [
       "<Figure size 432x288 with 1 Axes>"
      ]
     },
     "metadata": {
      "needs_background": "light"
     },
     "output_type": "display_data"
    }
   ],
   "source": [
    "# residual plot for inital check on the model fit\n",
    "sns.regplot(x=mod1.fittedvalues, y=mod1.resid, ci=None)\n",
    "plt.xlabel('Fitted Values')\n",
    "plt.ylabel('Residuals')\n",
    "plt.title('Residuals versus Fitted Values')\n",
    "plt.show()"
   ]
  },
  {
   "cell_type": "markdown",
   "metadata": {},
   "source": [
    "Now let's have a look at the model summary."
   ]
  },
  {
   "cell_type": "code",
   "execution_count": 8,
   "metadata": {},
   "outputs": [
    {
     "data": {
      "text/html": [
       "<table class=\"simpletable\">\n",
       "<caption>OLS Regression Results</caption>\n",
       "<tr>\n",
       "  <th>Dep. Variable:</th>        <td>mortality</td>    <th>  R-squared:         </th> <td>   0.770</td>\n",
       "</tr>\n",
       "<tr>\n",
       "  <th>Model:</th>                   <td>OLS</td>       <th>  Adj. R-squared:    </th> <td>   0.754</td>\n",
       "</tr>\n",
       "<tr>\n",
       "  <th>Method:</th>             <td>Least Squares</td>  <th>  F-statistic:       </th> <td>   50.11</td>\n",
       "</tr>\n",
       "<tr>\n",
       "  <th>Date:</th>             <td>Mon, 30 Mar 2020</td> <th>  Prob (F-statistic):</th> <td>2.17e-14</td>\n",
       "</tr>\n",
       "<tr>\n",
       "  <th>Time:</th>                 <td>10:27:53</td>     <th>  Log-Likelihood:    </th> <td> -205.02</td>\n",
       "</tr>\n",
       "<tr>\n",
       "  <th>No. Observations:</th>      <td>    49</td>      <th>  AIC:               </th> <td>   418.0</td>\n",
       "</tr>\n",
       "<tr>\n",
       "  <th>Df Residuals:</th>          <td>    45</td>      <th>  BIC:               </th> <td>   425.6</td>\n",
       "</tr>\n",
       "<tr>\n",
       "  <th>Df Model:</th>              <td>     3</td>      <th>                     </th>     <td> </td>   \n",
       "</tr>\n",
       "<tr>\n",
       "  <th>Covariance Type:</th>      <td>nonrobust</td>    <th>                     </th>     <td> </td>   \n",
       "</tr>\n",
       "</table>\n",
       "<table class=\"simpletable\">\n",
       "<tr>\n",
       "         <td></td>           <th>coef</th>     <th>std err</th>      <th>t</th>      <th>P>|t|</th>  <th>[0.025</th>    <th>0.975]</th>  \n",
       "</tr>\n",
       "<tr>\n",
       "  <th>Intercept</th>      <td>  360.5495</td> <td>   35.498</td> <td>   10.157</td> <td> 0.000</td> <td>  289.052</td> <td>  432.047</td>\n",
       "</tr>\n",
       "<tr>\n",
       "  <th>latitude</th>       <td>   -5.4853</td> <td>    0.874</td> <td>   -6.274</td> <td> 0.000</td> <td>   -7.246</td> <td>   -3.724</td>\n",
       "</tr>\n",
       "<tr>\n",
       "  <th>ocean</th>          <td>   20.6501</td> <td>   43.988</td> <td>    0.469</td> <td> 0.641</td> <td>  -67.946</td> <td>  109.246</td>\n",
       "</tr>\n",
       "<tr>\n",
       "  <th>latitude:ocean</th> <td>   -0.0055</td> <td>    1.101</td> <td>   -0.005</td> <td> 0.996</td> <td>   -2.224</td> <td>    2.213</td>\n",
       "</tr>\n",
       "</table>\n",
       "<table class=\"simpletable\">\n",
       "<tr>\n",
       "  <th>Omnibus:</th>       <td> 2.149</td> <th>  Durbin-Watson:     </th> <td>   2.049</td>\n",
       "</tr>\n",
       "<tr>\n",
       "  <th>Prob(Omnibus):</th> <td> 0.342</td> <th>  Jarque-Bera (JB):  </th> <td>   1.576</td>\n",
       "</tr>\n",
       "<tr>\n",
       "  <th>Skew:</th>          <td> 0.437</td> <th>  Prob(JB):          </th> <td>   0.455</td>\n",
       "</tr>\n",
       "<tr>\n",
       "  <th>Kurtosis:</th>      <td> 3.085</td> <th>  Cond. No.          </th> <td>1.00e+03</td>\n",
       "</tr>\n",
       "</table><br/><br/>Warnings:<br/>[1] Standard Errors assume that the covariance matrix of the errors is correctly specified.<br/>[2] The condition number is large,  1e+03. This might indicate that there are<br/>strong multicollinearity or other numerical problems."
      ],
      "text/plain": [
       "<class 'statsmodels.iolib.summary.Summary'>\n",
       "\"\"\"\n",
       "                            OLS Regression Results                            \n",
       "==============================================================================\n",
       "Dep. Variable:              mortality   R-squared:                       0.770\n",
       "Model:                            OLS   Adj. R-squared:                  0.754\n",
       "Method:                 Least Squares   F-statistic:                     50.11\n",
       "Date:                Mon, 30 Mar 2020   Prob (F-statistic):           2.17e-14\n",
       "Time:                        10:27:53   Log-Likelihood:                -205.02\n",
       "No. Observations:                  49   AIC:                             418.0\n",
       "Df Residuals:                      45   BIC:                             425.6\n",
       "Df Model:                           3                                         \n",
       "Covariance Type:            nonrobust                                         \n",
       "==================================================================================\n",
       "                     coef    std err          t      P>|t|      [0.025      0.975]\n",
       "----------------------------------------------------------------------------------\n",
       "Intercept        360.5495     35.498     10.157      0.000     289.052     432.047\n",
       "latitude          -5.4853      0.874     -6.274      0.000      -7.246      -3.724\n",
       "ocean             20.6501     43.988      0.469      0.641     -67.946     109.246\n",
       "latitude:ocean    -0.0055      1.101     -0.005      0.996      -2.224       2.213\n",
       "==============================================================================\n",
       "Omnibus:                        2.149   Durbin-Watson:                   2.049\n",
       "Prob(Omnibus):                  0.342   Jarque-Bera (JB):                1.576\n",
       "Skew:                           0.437   Prob(JB):                        0.455\n",
       "Kurtosis:                       3.085   Cond. No.                     1.00e+03\n",
       "==============================================================================\n",
       "\n",
       "Warnings:\n",
       "[1] Standard Errors assume that the covariance matrix of the errors is correctly specified.\n",
       "[2] The condition number is large,  1e+03. This might indicate that there are\n",
       "strong multicollinearity or other numerical problems.\n",
       "\"\"\""
      ]
     },
     "execution_count": 8,
     "metadata": {},
     "output_type": "execute_result"
    }
   ],
   "source": [
    "mod1.summary()"
   ]
  },
  {
   "cell_type": "markdown",
   "metadata": {},
   "source": [
    "#### Form of the fitted model\n",
    "\n",
    "Based on the results in the summary, we see that the estimated model has the form:\n",
    "\n",
    "$$\n",
    "\\text{mortality} = 360.55 - 5.49*\\text{latitude} + 20.65*\\text{ocean} -0.0055*\\text{latitude}*\\text{ocean}.\n",
    "$$\n",
    "\n",
    "In order to interpret the results, it is important to be able to extract the form of the model from the summary tables."
   ]
  },
  {
   "cell_type": "markdown",
   "metadata": {},
   "source": [
    "#### Coefficient t tests\n",
    "\n",
    "The coefficient t tests indicate that latitude is highly statistically signficant with p < 0.001. Neither ocean nor the latitude x ocean interaction appears to be significant based on their coeffiicent t tests.\n",
    "\n",
    "#### Question\n",
    "\n",
    "We can see individual t test statistics for each of the three varaibles in the model, and these give individual tests. How can we test all three coefficents at the same time and control the false positive rate?"
   ]
  },
  {
   "cell_type": "markdown",
   "metadata": {},
   "source": [
    "### F test for regression\n",
    "\n",
    "Considering the preceding example, with three regression variables in the model, how can we perform a test of the following hyptheses?\n",
    "\n",
    "$$\n",
    "H_0: \\beta_1=\\beta_2=\\beta_3=0\\qquad \\mbox{versus} \\qquad H_A: \\mbox{at least one of } \\beta_1, \\beta_2, \\beta_3 \\ne 0\n",
    "$$\n",
    "\n",
    "The key is to compare the residual sum of square with and without these variables in the model. As in the preceding section, let's use the general notation:\n",
    "\n",
    "\n",
    "| $X_1$ | $X_2$ | $X_3$ | $Y$ |\n",
    "| --- | --- | --- | --- | \n",
    "| $x_{11}$ | $x_{12}$ | $x_{13}$ | $y_1$ |\n",
    "| $x_{21}$ | $x_{22}$ | $x_{23}$ | $y_2$ |\n",
    "| $\\vdots$ | $\\vdots$ | $\\vdots$ | $\\vdots$ |\n",
    "| $x_{n1}$ | $x_{n2}$ | $x_{n3}$ | $y_n$ |\n",
    "\n",
    "We compare the full three variable model with the null model without *any* explanatry variables. The null model still includes the intercept if the full model does. The fitted values, residual sums of squares, and *degrees of freedom (df)* for these models are as follows:\n",
    "\n",
    "$$\n",
    "\\begin{align}\n",
    "\\mbox{Full model:}&\\qquad\n",
    "\\hat{y}_i = \\hat{\\beta}_0 +  \\hat{\\beta}_1 x_{i1} + \\hat{\\beta}_2 x_{i2} + \\hat{\\beta}_3 x_{i3} \n",
    "&RSS = \\sum_{i=1}^n (y_i - \\hat{y}_i)^2\\\\\n",
    "& &df = n-3-1=n-4\\\\\n",
    "\\\\\n",
    "\\mbox{Null model:}&\\qquad\n",
    "\\hat{y}_{0i} = \\bar{y} \n",
    "&RSS_0 = \\sum_{i=1}^n (y_i - \\bar{y})^2\\\\\n",
    "& &df = n-1 \\qquad\\\\\n",
    "\\end{align}\n",
    "$$\n",
    "\n",
    "here $RSS$ refers to the **residual sum of squares**, and ${RSS}_0$ refers to the residual sum of squares for the null model, sometimes called the **total sum of squares** for the response."
   ]
  },
  {
   "cell_type": "markdown",
   "metadata": {},
   "source": [
    "The sum of squares accounted for by the regression is the difference, which has $df_{diff} = (n-1) - (n-3-1) = 3$ degrees of freedom in this case:\n",
    "\n",
    "$$\n",
    "SSReg = RSS_0 - RSS = \\sum_{i=1}^n (\\hat{y}_i - \\bar{y})^2\n",
    "$$\n",
    "\n",
    "where the second equality of this last equation can be shown using the normal equations solved by the least squares estimates.\n",
    "\n",
    "The regression sum of squares is $\\ge 0$ because the null model is the special case of the full model where the explantory coefficients equal 0. Consequently, the minimized sum of square residuals cannot be smaller for the null model than for the full model. (The more options you add, the smaller the minimum can be)."
   ]
  },
  {
   "cell_type": "markdown",
   "metadata": {},
   "source": [
    "Assuming the full model is correctly specified, i.e. that there are no missing variables, and assuming Gaussian noise terms in the model, the following statistic is a ratio of independent chi-square statistics divided by their degrees of freedom:\n",
    "\n",
    "$$\n",
    "F = {SSReg / p \\over RSS / (n-p-1)}\n",
    "$$\n",
    "\n",
    "It provides a test of the null model $H_0$ versus versus the full model expressed by $H_A$.\n",
    "\n",
    "A random variable with this representation is said to have an **F distribution with p and n-p-1 degrees of freedom**. in the context of our example, n=49, p=3, so the F test statistic has degrees of freedom 3 and 49-3-1 = 45.\n",
    "\n",
    "Given F for our model, we can compute the p-value using the **scipy.stats.f** function in python."
   ]
  },
  {
   "cell_type": "markdown",
   "metadata": {},
   "source": [
    "It is also worth observing at this point that the denominator of the F test statistic provides an unbiased estimator of the full model error variance:\n",
    "\n",
    "$$\n",
    "\\hat{\\sigma}^2 = {RSS\\over n-p-1}.\n",
    "$$"
   ]
  },
  {
   "cell_type": "markdown",
   "metadata": {},
   "source": [
    "### Relation between R-squared and F\n",
    "\n",
    "Both F and $R^2$ depend on $RSS$ and $RSS_0$. They can be related to each other as follows. First, recall that\n",
    "\n",
    "$$\n",
    "R^2 = {RSS_0 - RSS \\over RSS_0}\n",
    "$$\n",
    "\n",
    "Therefore $F$ can be rewritten in terms of $R_2$ as\n",
    "\n",
    "$$\n",
    "\\begin{align}\n",
    "F = {(RSS_0 - RSS)/ p \\over RSS / (n-p-1)} &=\n",
    "\\left({RSS_0 \\over RSS}\\right) \\left({RSS_0 - RSS \\over RSS_0}\\right) \\left({n-p-1 \\over p}\\right)\\\\\n",
    "\\\\\n",
    "&= \\left({n-p-1 \\over p}\\right) \\left({R^2 \\over 1 - R^2}\\right)\\\\\n",
    "\\end{align}\n",
    "$$\n",
    "\n",
    "In other words, the higher the \"proportion of variance explained\" ($R^2$), the larger the value for $F$ and vice versa, for a given model and sample size."
   ]
  },
  {
   "cell_type": "markdown",
   "metadata": {},
   "source": [
    "### F test for Model: Geographic analysis of melanoma mortality\n",
    "\n",
    "The F value appears in the first tabe of the model summary underneath the R-squared statistic. The table also displays the p-value \"Prob(F-statistic)\" and degrees of freedom for the model and residuals."
   ]
  },
  {
   "cell_type": "code",
   "execution_count": 9,
   "metadata": {},
   "outputs": [
    {
     "data": {
      "text/html": [
       "<table class=\"simpletable\">\n",
       "<caption>OLS Regression Results</caption>\n",
       "<tr>\n",
       "  <th>Dep. Variable:</th>        <td>mortality</td>    <th>  R-squared:         </th> <td>   0.770</td>\n",
       "</tr>\n",
       "<tr>\n",
       "  <th>Model:</th>                   <td>OLS</td>       <th>  Adj. R-squared:    </th> <td>   0.754</td>\n",
       "</tr>\n",
       "<tr>\n",
       "  <th>Method:</th>             <td>Least Squares</td>  <th>  F-statistic:       </th> <td>   50.11</td>\n",
       "</tr>\n",
       "<tr>\n",
       "  <th>Date:</th>             <td>Mon, 30 Mar 2020</td> <th>  Prob (F-statistic):</th> <td>2.17e-14</td>\n",
       "</tr>\n",
       "<tr>\n",
       "  <th>Time:</th>                 <td>10:27:53</td>     <th>  Log-Likelihood:    </th> <td> -205.02</td>\n",
       "</tr>\n",
       "<tr>\n",
       "  <th>No. Observations:</th>      <td>    49</td>      <th>  AIC:               </th> <td>   418.0</td>\n",
       "</tr>\n",
       "<tr>\n",
       "  <th>Df Residuals:</th>          <td>    45</td>      <th>  BIC:               </th> <td>   425.6</td>\n",
       "</tr>\n",
       "<tr>\n",
       "  <th>Df Model:</th>              <td>     3</td>      <th>                     </th>     <td> </td>   \n",
       "</tr>\n",
       "<tr>\n",
       "  <th>Covariance Type:</th>      <td>nonrobust</td>    <th>                     </th>     <td> </td>   \n",
       "</tr>\n",
       "</table>"
      ],
      "text/plain": [
       "<class 'statsmodels.iolib.table.SimpleTable'>"
      ]
     },
     "execution_count": 9,
     "metadata": {},
     "output_type": "execute_result"
    }
   ],
   "source": [
    "mod1.summary().tables[0]"
   ]
  },
  {
   "cell_type": "markdown",
   "metadata": {},
   "source": [
    "We see that F= 50.11 with degrees of freedom 3 and 45. The p-value is essentially zero, so there is no question the model is signficant. At least one of the explanatory variables is needed in the model."
   ]
  },
  {
   "cell_type": "markdown",
   "metadata": {},
   "source": [
    "Let's confirm the p-value by direct calculation."
   ]
  },
  {
   "cell_type": "code",
   "execution_count": 10,
   "metadata": {},
   "outputs": [],
   "source": [
    "import numpy as np\n",
    "from scipy.stats import f "
   ]
  },
  {
   "cell_type": "code",
   "execution_count": 11,
   "metadata": {},
   "outputs": [
    {
     "data": {
      "text/plain": [
       "2.1649348980190553e-14"
      ]
     },
     "execution_count": 11,
     "metadata": {},
     "output_type": "execute_result"
    }
   ],
   "source": [
    "pvalue= 1 - f.cdf(50.11, dfn=3, dfd=45)\n",
    "pvalue"
   ]
  },
  {
   "cell_type": "markdown",
   "metadata": {},
   "source": [
    "**Nondirectional nature of F test**\n",
    "\n",
    "Notice that we only use the right hand tail in this calculation. This is because the F test is already a nondirectional test of deviations from the null hypothesis, and we reject $H_0$ for large values only, no for small values."
   ]
  },
  {
   "cell_type": "markdown",
   "metadata": {},
   "source": [
    "Graph of the F distribution and cutoff for hypothetical level $\\alpha$ test of $H_0$."
   ]
  },
  {
   "cell_type": "code",
   "execution_count": 12,
   "metadata": {},
   "outputs": [
    {
     "data": {
      "image/png": "[encoded data removed]",
      "text/plain": [
       "<Figure size 432x288 with 1 Axes>"
      ]
     },
     "metadata": {
      "needs_background": "light"
     },
     "output_type": "display_data"
    }
   ],
   "source": [
    "alpha = 0.05\n",
    "Fvalue = 9.87\n",
    "dfn, dfd = 3, 45\n",
    "# alpha cutoff value\n",
    "Fcut = f.ppf(1-alpha, dfn, dfd)\n",
    "# set up for probability density curve\n",
    "x = np.linspace(0.0001, f.ppf(0.99, dfn, dfd), 400)\n",
    "plt.plot(x, f.pdf(x, dfn, dfd))\n",
    "plt.xlabel('F value')\n",
    "plt.ylabel('f(x)')\n",
    "# Construct the title based on input data\n",
    "degn = 'dfn=' + str(dfn)\n",
    "degd = 'dfd=' + str(dfd)\n",
    "alph = 'alpha=' + str(alpha)\n",
    "fcut = 'F_cut=' + str(round(Fcut, 4))\n",
    "comma = ', '\n",
    "plt.title(degn+comma+degd+comma+alph+comma+fcut)\n",
    "# add shaded areas whose probability we need\n",
    "xfval = np.linspace(Fcut, f.ppf(0.99, dfn, dfd), 100)\n",
    "plt.fill_between(xfval, 0, f.pdf(xfval, dfn, dfd), color='b')\n",
    "plt.show()"
   ]
  },
  {
   "cell_type": "markdown",
   "metadata": {},
   "source": [
    "### F test for One-Way ANOVA Model\n",
    "\n",
    "A very common special case of linear regression models is when there is one categorical explanatory variable, and the goal is to determine if the **mean response** is significantly different between categories of the explanatory variable. \n",
    "\n",
    "This is an extension of two-sample analysis where we have one categorical exaplanatory variable, such as website version A versus B, and we compare them based on a quantitifed outcome. The ANOVA approach lets us compare K > 2 categories at the same time.\n"
   ]
  },
  {
   "cell_type": "markdown",
   "metadata": {},
   "source": [
    "### Example: Comparison of mean age across party affilations in the Pew Reseach Survey\n",
    "\n",
    "#### Import and clean data"
   ]
  },
  {
   "cell_type": "code",
   "execution_count": 13,
   "metadata": {},
   "outputs": [
    {
     "data": {
      "text/html": [
       "<div>\n",
       "<style scoped>\n",
       "    .dataframe tbody tr th:only-of-type {\n",
       "        vertical-align: middle;\n",
       "    }\n",
       "\n",
       "    .dataframe tbody tr th {\n",
       "        vertical-align: top;\n",
       "    }\n",
       "\n",
       "    .dataframe thead th {\n",
       "        text-align: right;\n",
       "    }\n",
       "</style>\n",
       "<table border=\"1\" class=\"dataframe\">\n",
       "  <thead>\n",
       "    <tr style=\"text-align: right;\">\n",
       "      <th></th>\n",
       "      <th>age</th>\n",
       "      <th>party</th>\n",
       "    </tr>\n",
       "  </thead>\n",
       "  <tbody>\n",
       "    <tr>\n",
       "      <th>0</th>\n",
       "      <td>80.0</td>\n",
       "      <td>Independent</td>\n",
       "    </tr>\n",
       "    <tr>\n",
       "      <th>1</th>\n",
       "      <td>70.0</td>\n",
       "      <td>Democrat</td>\n",
       "    </tr>\n",
       "    <tr>\n",
       "      <th>2</th>\n",
       "      <td>69.0</td>\n",
       "      <td>Independent</td>\n",
       "    </tr>\n",
       "    <tr>\n",
       "      <th>3</th>\n",
       "      <td>50.0</td>\n",
       "      <td>Republican</td>\n",
       "    </tr>\n",
       "    <tr>\n",
       "      <th>4</th>\n",
       "      <td>70.0</td>\n",
       "      <td>Democrat</td>\n",
       "    </tr>\n",
       "  </tbody>\n",
       "</table>\n",
       "</div>"
      ],
      "text/plain": [
       "    age        party\n",
       "0  80.0  Independent\n",
       "1  70.0     Democrat\n",
       "2  69.0  Independent\n",
       "3  50.0   Republican\n",
       "4  70.0     Democrat"
      ]
     },
     "execution_count": 13,
     "metadata": {},
     "output_type": "execute_result"
    }
   ],
   "source": [
    "import zipfile as zp\n",
    "zf = zp.ZipFile('../data/Feb17-public.zip')\n",
    "missing_values = [\"NaN\", \"nan\", \"Don't know/Refused (VOL.)\"]\n",
    "pew = pd.read_csv(zf.open('Feb17public.csv'), \n",
    "                   na_values=missing_values)[['age', 'party']].dropna()\n",
    "pew.head()"
   ]
  },
  {
   "cell_type": "code",
   "execution_count": 14,
   "metadata": {},
   "outputs": [
    {
     "data": {
      "text/plain": [
       "Democrat                527\n",
       "Independent             525\n",
       "Republican              367\n",
       "No preference (VOL.)     41\n",
       "Other party (VOL.)        5\n",
       "Name: party, dtype: int64"
      ]
     },
     "execution_count": 14,
     "metadata": {},
     "output_type": "execute_result"
    }
   ],
   "source": [
    "pew['party'].value_counts()"
   ]
  },
  {
   "cell_type": "markdown",
   "metadata": {},
   "source": [
    "Let's rename the party categories so they are easier to label in graphs. We can do this as follows."
   ]
  },
  {
   "cell_type": "code",
   "execution_count": 15,
   "metadata": {},
   "outputs": [],
   "source": [
    "# rename categories so they display better\n",
    "party = pd.Categorical(pew['party'])\n",
    "party.rename_categories({'Democrat': 'Dem', \n",
    "                         'Independent': 'Ind', \n",
    "                         'Republican': 'Rep',\n",
    "                         'No preference (VOL.)': 'No_Pref',\n",
    "                         'Other party (VOL.)': 'Other'\n",
    "                        }, inplace=True)\n",
    "pew['party']=party"
   ]
  },
  {
   "cell_type": "code",
   "execution_count": 16,
   "metadata": {},
   "outputs": [
    {
     "data": {
      "text/plain": [
       "Dem        527\n",
       "Ind        525\n",
       "Rep        367\n",
       "No_Pref     41\n",
       "Other        5\n",
       "Name: party, dtype: int64"
      ]
     },
     "execution_count": 16,
     "metadata": {},
     "output_type": "execute_result"
    }
   ],
   "source": [
    "pew['party'].value_counts()"
   ]
  },
  {
   "cell_type": "markdown",
   "metadata": {},
   "source": [
    "#### Visualize the data\n",
    "\n",
    "With several groups we can use side by side boxplots to visualize the age distributions."
   ]
  },
  {
   "cell_type": "code",
   "execution_count": 17,
   "metadata": {
    "scrolled": true
   },
   "outputs": [
    {
     "data": {
      "image/png": "[encoded data removed]",
      "text/plain": [
       "<Figure size 432x288 with 1 Axes>"
      ]
     },
     "metadata": {
      "needs_background": "light"
     },
     "output_type": "display_data"
    }
   ],
   "source": [
    "sns.boxplot(x='party', y='age', data=pew)\n",
    "plt.show()"
   ]
  },
  {
   "cell_type": "markdown",
   "metadata": {},
   "source": [
    "#### Using Pandas GroupBy function to get summary stats within groups"
   ]
  },
  {
   "cell_type": "code",
   "execution_count": 18,
   "metadata": {},
   "outputs": [
    {
     "data": {
      "text/html": [
       "<div>\n",
       "<style scoped>\n",
       "    .dataframe tbody tr th:only-of-type {\n",
       "        vertical-align: middle;\n",
       "    }\n",
       "\n",
       "    .dataframe tbody tr th {\n",
       "        vertical-align: top;\n",
       "    }\n",
       "\n",
       "    .dataframe thead th {\n",
       "        text-align: right;\n",
       "    }\n",
       "</style>\n",
       "<table border=\"1\" class=\"dataframe\">\n",
       "  <thead>\n",
       "    <tr style=\"text-align: right;\">\n",
       "      <th></th>\n",
       "      <th>age</th>\n",
       "    </tr>\n",
       "    <tr>\n",
       "      <th>party</th>\n",
       "      <th></th>\n",
       "    </tr>\n",
       "  </thead>\n",
       "  <tbody>\n",
       "    <tr>\n",
       "      <th>Dem</th>\n",
       "      <td>50.499051</td>\n",
       "    </tr>\n",
       "    <tr>\n",
       "      <th>Ind</th>\n",
       "      <td>46.807619</td>\n",
       "    </tr>\n",
       "    <tr>\n",
       "      <th>No_Pref</th>\n",
       "      <td>43.146341</td>\n",
       "    </tr>\n",
       "    <tr>\n",
       "      <th>Other</th>\n",
       "      <td>44.600000</td>\n",
       "    </tr>\n",
       "    <tr>\n",
       "      <th>Rep</th>\n",
       "      <td>56.776567</td>\n",
       "    </tr>\n",
       "  </tbody>\n",
       "</table>\n",
       "</div>"
      ],
      "text/plain": [
       "               age\n",
       "party             \n",
       "Dem      50.499051\n",
       "Ind      46.807619\n",
       "No_Pref  43.146341\n",
       "Other    44.600000\n",
       "Rep      56.776567"
      ]
     },
     "execution_count": 18,
     "metadata": {},
     "output_type": "execute_result"
    }
   ],
   "source": [
    "# within group means\n",
    "pew.groupby('party').mean()"
   ]
  },
  {
   "cell_type": "code",
   "execution_count": 19,
   "metadata": {},
   "outputs": [
    {
     "data": {
      "text/html": [
       "<div>\n",
       "<style scoped>\n",
       "    .dataframe tbody tr th:only-of-type {\n",
       "        vertical-align: middle;\n",
       "    }\n",
       "\n",
       "    .dataframe tbody tr th {\n",
       "        vertical-align: top;\n",
       "    }\n",
       "\n",
       "    .dataframe thead th {\n",
       "        text-align: right;\n",
       "    }\n",
       "</style>\n",
       "<table border=\"1\" class=\"dataframe\">\n",
       "  <thead>\n",
       "    <tr style=\"text-align: right;\">\n",
       "      <th></th>\n",
       "      <th>age</th>\n",
       "    </tr>\n",
       "    <tr>\n",
       "      <th>party</th>\n",
       "      <th></th>\n",
       "    </tr>\n",
       "  </thead>\n",
       "  <tbody>\n",
       "    <tr>\n",
       "      <th>Dem</th>\n",
       "      <td>17.687279</td>\n",
       "    </tr>\n",
       "    <tr>\n",
       "      <th>Ind</th>\n",
       "      <td>17.517144</td>\n",
       "    </tr>\n",
       "    <tr>\n",
       "      <th>No_Pref</th>\n",
       "      <td>17.062475</td>\n",
       "    </tr>\n",
       "    <tr>\n",
       "      <th>Other</th>\n",
       "      <td>13.939153</td>\n",
       "    </tr>\n",
       "    <tr>\n",
       "      <th>Rep</th>\n",
       "      <td>16.885801</td>\n",
       "    </tr>\n",
       "  </tbody>\n",
       "</table>\n",
       "</div>"
      ],
      "text/plain": [
       "               age\n",
       "party             \n",
       "Dem      17.687279\n",
       "Ind      17.517144\n",
       "No_Pref  17.062475\n",
       "Other    13.939153\n",
       "Rep      16.885801"
      ]
     },
     "execution_count": 19,
     "metadata": {},
     "output_type": "execute_result"
    }
   ],
   "source": [
    "# within group sample standard deviations\n",
    "pew.groupby('party').std()"
   ]
  },
  {
   "cell_type": "code",
   "execution_count": 20,
   "metadata": {},
   "outputs": [
    {
     "data": {
      "text/html": [
       "<div>\n",
       "<style scoped>\n",
       "    .dataframe tbody tr th:only-of-type {\n",
       "        vertical-align: middle;\n",
       "    }\n",
       "\n",
       "    .dataframe tbody tr th {\n",
       "        vertical-align: top;\n",
       "    }\n",
       "\n",
       "    .dataframe thead th {\n",
       "        text-align: right;\n",
       "    }\n",
       "</style>\n",
       "<table border=\"1\" class=\"dataframe\">\n",
       "  <thead>\n",
       "    <tr style=\"text-align: right;\">\n",
       "      <th></th>\n",
       "      <th>age</th>\n",
       "    </tr>\n",
       "    <tr>\n",
       "      <th>party</th>\n",
       "      <th></th>\n",
       "    </tr>\n",
       "  </thead>\n",
       "  <tbody>\n",
       "    <tr>\n",
       "      <th>Dem</th>\n",
       "      <td>527</td>\n",
       "    </tr>\n",
       "    <tr>\n",
       "      <th>Ind</th>\n",
       "      <td>525</td>\n",
       "    </tr>\n",
       "    <tr>\n",
       "      <th>No_Pref</th>\n",
       "      <td>41</td>\n",
       "    </tr>\n",
       "    <tr>\n",
       "      <th>Other</th>\n",
       "      <td>5</td>\n",
       "    </tr>\n",
       "    <tr>\n",
       "      <th>Rep</th>\n",
       "      <td>367</td>\n",
       "    </tr>\n",
       "  </tbody>\n",
       "</table>\n",
       "</div>"
      ],
      "text/plain": [
       "         age\n",
       "party       \n",
       "Dem      527\n",
       "Ind      525\n",
       "No_Pref   41\n",
       "Other      5\n",
       "Rep      367"
      ]
     },
     "execution_count": 20,
     "metadata": {},
     "output_type": "execute_result"
    }
   ],
   "source": [
    "# within group sample sizes\n",
    "pew.groupby('party').count()"
   ]
  },
  {
   "cell_type": "code",
   "execution_count": 21,
   "metadata": {},
   "outputs": [
    {
     "data": {
      "image/png": "[encoded data removed]",
      "text/plain": [
       "<Figure size 432x288 with 1 Axes>"
      ]
     },
     "metadata": {
      "needs_background": "light"
     },
     "output_type": "display_data"
    }
   ],
   "source": [
    "pew.groupby('party').mean().sort_values(by='age').plot.bar()\n",
    "plt.ylabel('Mean Age')\n",
    "plt.show()"
   ]
  },
  {
   "cell_type": "markdown",
   "metadata": {},
   "source": [
    "#### Fit a one-way anova regression model\n",
    "\n",
    "Are there significant mean age differences between the different self-reported party affiliations? We can fit a one-way anova model with 5 categories of 'party'. The ols function will encode the categorical party affiliatoin variable into a series of 0/1 indicator variables. One category will be the reference category. Sometimes this is called  reference cell coding."
   ]
  },
  {
   "cell_type": "code",
   "execution_count": 22,
   "metadata": {},
   "outputs": [
    {
     "data": {
      "text/html": [
       "<table class=\"simpletable\">\n",
       "<caption>OLS Regression Results</caption>\n",
       "<tr>\n",
       "  <th>Dep. Variable:</th>           <td>age</td>       <th>  R-squared:         </th> <td>   0.052</td> \n",
       "</tr>\n",
       "<tr>\n",
       "  <th>Model:</th>                   <td>OLS</td>       <th>  Adj. R-squared:    </th> <td>   0.049</td> \n",
       "</tr>\n",
       "<tr>\n",
       "  <th>Method:</th>             <td>Least Squares</td>  <th>  F-statistic:       </th> <td>   19.82</td> \n",
       "</tr>\n",
       "<tr>\n",
       "  <th>Date:</th>             <td>Mon, 30 Mar 2020</td> <th>  Prob (F-statistic):</th> <td>6.66e-16</td> \n",
       "</tr>\n",
       "<tr>\n",
       "  <th>Time:</th>                 <td>10:27:55</td>     <th>  Log-Likelihood:    </th> <td> -6261.1</td> \n",
       "</tr>\n",
       "<tr>\n",
       "  <th>No. Observations:</th>      <td>  1465</td>      <th>  AIC:               </th> <td>1.253e+04</td>\n",
       "</tr>\n",
       "<tr>\n",
       "  <th>Df Residuals:</th>          <td>  1460</td>      <th>  BIC:               </th> <td>1.256e+04</td>\n",
       "</tr>\n",
       "<tr>\n",
       "  <th>Df Model:</th>              <td>     4</td>      <th>                     </th>     <td> </td>    \n",
       "</tr>\n",
       "<tr>\n",
       "  <th>Covariance Type:</th>      <td>nonrobust</td>    <th>                     </th>     <td> </td>    \n",
       "</tr>\n",
       "</table>\n",
       "<table class=\"simpletable\">\n",
       "<tr>\n",
       "          <td></td>            <th>coef</th>     <th>std err</th>      <th>t</th>      <th>P>|t|</th>  <th>[0.025</th>    <th>0.975]</th>  \n",
       "</tr>\n",
       "<tr>\n",
       "  <th>Intercept</th>        <td>   50.4991</td> <td>    0.758</td> <td>   66.618</td> <td> 0.000</td> <td>   49.012</td> <td>   51.986</td>\n",
       "</tr>\n",
       "<tr>\n",
       "  <th>party[T.Ind]</th>     <td>   -3.6914</td> <td>    1.073</td> <td>   -3.440</td> <td> 0.001</td> <td>   -5.796</td> <td>   -1.587</td>\n",
       "</tr>\n",
       "<tr>\n",
       "  <th>party[T.No_Pref]</th> <td>   -7.3527</td> <td>    2.821</td> <td>   -2.606</td> <td> 0.009</td> <td>  -12.887</td> <td>   -1.818</td>\n",
       "</tr>\n",
       "<tr>\n",
       "  <th>party[T.Other]</th>   <td>   -5.8991</td> <td>    7.819</td> <td>   -0.754</td> <td> 0.451</td> <td>  -21.237</td> <td>    9.439</td>\n",
       "</tr>\n",
       "<tr>\n",
       "  <th>party[T.Rep]</th>     <td>    6.2775</td> <td>    1.183</td> <td>    5.306</td> <td> 0.000</td> <td>    3.957</td> <td>    8.598</td>\n",
       "</tr>\n",
       "</table>\n",
       "<table class=\"simpletable\">\n",
       "<tr>\n",
       "  <th>Omnibus:</th>       <td>130.613</td> <th>  Durbin-Watson:     </th> <td>   1.725</td>\n",
       "</tr>\n",
       "<tr>\n",
       "  <th>Prob(Omnibus):</th> <td> 0.000</td>  <th>  Jarque-Bera (JB):  </th> <td>  40.798</td>\n",
       "</tr>\n",
       "<tr>\n",
       "  <th>Skew:</th>          <td>-0.017</td>  <th>  Prob(JB):          </th> <td>1.38e-09</td>\n",
       "</tr>\n",
       "<tr>\n",
       "  <th>Kurtosis:</th>      <td> 2.183</td>  <th>  Cond. No.          </th> <td>    19.0</td>\n",
       "</tr>\n",
       "</table><br/><br/>Warnings:<br/>[1] Standard Errors assume that the covariance matrix of the errors is correctly specified."
      ],
      "text/plain": [
       "<class 'statsmodels.iolib.summary.Summary'>\n",
       "\"\"\"\n",
       "                            OLS Regression Results                            \n",
       "==============================================================================\n",
       "Dep. Variable:                    age   R-squared:                       0.052\n",
       "Model:                            OLS   Adj. R-squared:                  0.049\n",
       "Method:                 Least Squares   F-statistic:                     19.82\n",
       "Date:                Mon, 30 Mar 2020   Prob (F-statistic):           6.66e-16\n",
       "Time:                        10:27:55   Log-Likelihood:                -6261.1\n",
       "No. Observations:                1465   AIC:                         1.253e+04\n",
       "Df Residuals:                    1460   BIC:                         1.256e+04\n",
       "Df Model:                           4                                         \n",
       "Covariance Type:            nonrobust                                         \n",
       "====================================================================================\n",
       "                       coef    std err          t      P>|t|      [0.025      0.975]\n",
       "------------------------------------------------------------------------------------\n",
       "Intercept           50.4991      0.758     66.618      0.000      49.012      51.986\n",
       "party[T.Ind]        -3.6914      1.073     -3.440      0.001      -5.796      -1.587\n",
       "party[T.No_Pref]    -7.3527      2.821     -2.606      0.009     -12.887      -1.818\n",
       "party[T.Other]      -5.8991      7.819     -0.754      0.451     -21.237       9.439\n",
       "party[T.Rep]         6.2775      1.183      5.306      0.000       3.957       8.598\n",
       "==============================================================================\n",
       "Omnibus:                      130.613   Durbin-Watson:                   1.725\n",
       "Prob(Omnibus):                  0.000   Jarque-Bera (JB):               40.798\n",
       "Skew:                          -0.017   Prob(JB):                     1.38e-09\n",
       "Kurtosis:                       2.183   Cond. No.                         19.0\n",
       "==============================================================================\n",
       "\n",
       "Warnings:\n",
       "[1] Standard Errors assume that the covariance matrix of the errors is correctly specified.\n",
       "\"\"\""
      ]
     },
     "execution_count": 22,
     "metadata": {},
     "output_type": "execute_result"
    }
   ],
   "source": [
    "agemod = smf.ols('age ~ party', data=pew).fit()\n",
    "agemod.summary()"
   ]
  },
  {
   "cell_type": "markdown",
   "metadata": {},
   "source": [
    "### Interpretation of the model: equivalence of reference cell and cell means models\n",
    "\n",
    "Notice that the 'Intercept' in the model above equals the sample mean age for Democrats. In this case Democrats are the reference category. The other coefficients are incremental adjustments for other parties versus Democrats. \n",
    "\n",
    "**Example: Coding of Republicans and non Republicans.**\n",
    "\n",
    "$$\n",
    "\\text{party[T.Rep]} = \\cases{1,& if 'party'$\\,=\\,$'Rep'\\\\ 0,& if 'party'$\\,\\ne\\,$ 'Rep'\\\\}\n",
    "$$\n",
    "\n",
    "The effective model for Republicans is that the mean age is\n",
    "\n",
    "$$\n",
    "50.4991 + 6.2775 = 56.7766.\n",
    "$$\n",
    "\n",
    "This is equal to the sample mean age for Republicans."
   ]
  },
  {
   "cell_type": "code",
   "execution_count": 23,
   "metadata": {},
   "outputs": [
    {
     "data": {
      "text/plain": [
       "56.7766"
      ]
     },
     "execution_count": 23,
     "metadata": {},
     "output_type": "execute_result"
    }
   ],
   "source": [
    "# Check calculation\n",
    "50.4991 + 6.2775"
   ]
  },
  {
   "cell_type": "markdown",
   "metadata": {},
   "source": [
    "The same relation holds for all the other groups. In other words, for the $k$ group model, the fitted value for each observation is equal to the sample mean for the group that individual is from. \n",
    "\n",
    "**Coding of all groups**\n",
    "\n",
    "Overall the numerical coding of the binary X variables for different groups is as follows:\n",
    "\n",
    "| Party | party[T.Ind] | party[T.No_Pref] | party[T.Other] | party[T.Rep] |\n",
    "| --- | --- | --- | --- | --- |\n",
    "| Dem | 0 | 0 | 0 | 0 |\n",
    "| Ind | 1 | 0 | 0 | 0 |\n",
    "| No_Pref | 0 | 1 | 0 | 0 |\n",
    "| Other | 0 | 0 | 1 | 0 |\n",
    "| Rep | 0 | 0 | 0 | 1 |\n"
   ]
  },
  {
   "cell_type": "markdown",
   "metadata": {},
   "source": [
    "#### F test for regression = test for equality of mean ages across parties\n",
    "\n",
    "The F test is highly significant (F = 19.82, p < 0.001), so we conclude there are significant differences in mean age across the self-reported party affiliations.\n",
    "\n",
    "The null hypothesis for this test is that the population mean ages for the different parties are all the same:\n",
    "\n",
    "$$\n",
    "H_0:\\quad \\mu_{Dem} = \\mu_{Ind} = \\cdots \\mu_{Rep}.\n",
    "$$\n",
    "\n",
    "Rejecting this hypothesis implies that there is at least one pair of groups whose population mean values are deemed to be significantly different from each other."
   ]
  },
  {
   "cell_type": "markdown",
   "metadata": {},
   "source": [
    "**Comments:**\n",
    "\n",
    "\n",
    "+ In the linear model results we can see that 4 0/1 indicator variables were generated for each party versus the reference party (Democrats). The F test for the regression is a test of the party differences, with 4 and 1460 degrees of freedom. The coefficient estimates are mean age adjustments for each party versus the mean for Democrats.\n",
    "\n",
    "+ A key assumption for validity of the F test here is that the response variable (age) has the same variance within each group. The box plot above suggests this is a reasonable assumption in the IQR, a measure of spread is similar in each group.\n"
   ]
  },
  {
   "cell_type": "markdown",
   "metadata": {},
   "source": [
    "### Simple Linear Regression: Relation between F test for model and t test for slope\n",
    "\n",
    "The simplest regression model is when there is only one explanatory varible. In this case, we can work out explicit expressions for the least squares estimates and standard errors. Also, in this case, it turns out that the F test for the regression is equivalent to the two-sided t test for the regression coefficient."
   ]
  },
  {
   "cell_type": "code",
   "execution_count": 24,
   "metadata": {},
   "outputs": [
    {
     "data": {
      "text/html": [
       "<div>\n",
       "<style scoped>\n",
       "    .dataframe tbody tr th:only-of-type {\n",
       "        vertical-align: middle;\n",
       "    }\n",
       "\n",
       "    .dataframe tbody tr th {\n",
       "        vertical-align: top;\n",
       "    }\n",
       "\n",
       "    .dataframe thead th {\n",
       "        text-align: right;\n",
       "    }\n",
       "</style>\n",
       "<table border=\"1\" class=\"dataframe\">\n",
       "  <thead>\n",
       "    <tr style=\"text-align: right;\">\n",
       "      <th></th>\n",
       "      <th>species</th>\n",
       "      <th>bodykg</th>\n",
       "      <th>braing</th>\n",
       "    </tr>\n",
       "  </thead>\n",
       "  <tbody>\n",
       "    <tr>\n",
       "      <th>0</th>\n",
       "      <td>African elephant</td>\n",
       "      <td>6654.000</td>\n",
       "      <td>5712.0</td>\n",
       "    </tr>\n",
       "    <tr>\n",
       "      <th>1</th>\n",
       "      <td>African giant pouched rat</td>\n",
       "      <td>1.000</td>\n",
       "      <td>6.6</td>\n",
       "    </tr>\n",
       "    <tr>\n",
       "      <th>2</th>\n",
       "      <td>Arctic Fox</td>\n",
       "      <td>3.385</td>\n",
       "      <td>44.5</td>\n",
       "    </tr>\n",
       "    <tr>\n",
       "      <th>3</th>\n",
       "      <td>Arctic ground squirrel</td>\n",
       "      <td>0.920</td>\n",
       "      <td>5.7</td>\n",
       "    </tr>\n",
       "    <tr>\n",
       "      <th>4</th>\n",
       "      <td>Asian elephant</td>\n",
       "      <td>2547.000</td>\n",
       "      <td>4603.0</td>\n",
       "    </tr>\n",
       "    <tr>\n",
       "      <th>5</th>\n",
       "      <td>Baboon</td>\n",
       "      <td>10.550</td>\n",
       "      <td>179.5</td>\n",
       "    </tr>\n",
       "    <tr>\n",
       "      <th>6</th>\n",
       "      <td>Big brown bat</td>\n",
       "      <td>0.023</td>\n",
       "      <td>0.3</td>\n",
       "    </tr>\n",
       "    <tr>\n",
       "      <th>7</th>\n",
       "      <td>Brazilian tapir</td>\n",
       "      <td>160.000</td>\n",
       "      <td>169.0</td>\n",
       "    </tr>\n",
       "    <tr>\n",
       "      <th>8</th>\n",
       "      <td>Cat</td>\n",
       "      <td>3.300</td>\n",
       "      <td>25.6</td>\n",
       "    </tr>\n",
       "    <tr>\n",
       "      <th>9</th>\n",
       "      <td>Chimpanzee</td>\n",
       "      <td>52.160</td>\n",
       "      <td>440.0</td>\n",
       "    </tr>\n",
       "  </tbody>\n",
       "</table>\n",
       "</div>"
      ],
      "text/plain": [
       "                     species    bodykg  braing\n",
       "0           African elephant  6654.000  5712.0\n",
       "1  African giant pouched rat     1.000     6.6\n",
       "2                 Arctic Fox     3.385    44.5\n",
       "3     Arctic ground squirrel     0.920     5.7\n",
       "4             Asian elephant  2547.000  4603.0\n",
       "5                     Baboon    10.550   179.5\n",
       "6              Big brown bat     0.023     0.3\n",
       "7            Brazilian tapir   160.000   169.0\n",
       "8                        Cat     3.300    25.6\n",
       "9                 Chimpanzee    52.160   440.0"
      ]
     },
     "execution_count": 24,
     "metadata": {},
     "output_type": "execute_result"
    }
   ],
   "source": [
    "brain = pd.read_csv('../data/brain.csv') \n",
    "brain.head(10)"
   ]
  },
  {
   "cell_type": "code",
   "execution_count": 25,
   "metadata": {},
   "outputs": [
    {
     "data": {
      "text/html": [
       "<table class=\"simpletable\">\n",
       "<tr>\n",
       "          <td></td>            <th>coef</th>     <th>std err</th>      <th>t</th>      <th>P>|t|</th>  <th>[0.025</th>    <th>0.975]</th>  \n",
       "</tr>\n",
       "<tr>\n",
       "  <th>Intercept</th>        <td>    0.9271</td> <td>    0.042</td> <td>   22.227</td> <td> 0.000</td> <td>    0.844</td> <td>    1.011</td>\n",
       "</tr>\n",
       "<tr>\n",
       "  <th>np.log10(bodykg)</th> <td>    0.7517</td> <td>    0.028</td> <td>   26.409</td> <td> 0.000</td> <td>    0.695</td> <td>    0.809</td>\n",
       "</tr>\n",
       "</table>"
      ],
      "text/plain": [
       "<class 'statsmodels.iolib.table.SimpleTable'>"
      ]
     },
     "execution_count": 25,
     "metadata": {},
     "output_type": "execute_result"
    }
   ],
   "source": [
    "brain_mod = smf.ols('np.log10(braing) ~ np.log10(bodykg)', \n",
    "                    data=brain).fit()\n",
    "brain_mod.summary().tables[1]"
   ]
  },
  {
   "cell_type": "code",
   "execution_count": 26,
   "metadata": {},
   "outputs": [
    {
     "data": {
      "text/html": [
       "<table class=\"simpletable\">\n",
       "<caption>OLS Regression Results</caption>\n",
       "<tr>\n",
       "  <th>Dep. Variable:</th>    <td>np.log10(braing)</td> <th>  R-squared:         </th> <td>   0.921</td>\n",
       "</tr>\n",
       "<tr>\n",
       "  <th>Model:</th>                   <td>OLS</td>       <th>  Adj. R-squared:    </th> <td>   0.919</td>\n",
       "</tr>\n",
       "<tr>\n",
       "  <th>Method:</th>             <td>Least Squares</td>  <th>  F-statistic:       </th> <td>   697.4</td>\n",
       "</tr>\n",
       "<tr>\n",
       "  <th>Date:</th>             <td>Mon, 30 Mar 2020</td> <th>  Prob (F-statistic):</th> <td>9.84e-35</td>\n",
       "</tr>\n",
       "<tr>\n",
       "  <th>Time:</th>                 <td>10:27:56</td>     <th>  Log-Likelihood:    </th> <td> -12.626</td>\n",
       "</tr>\n",
       "<tr>\n",
       "  <th>No. Observations:</th>      <td>    62</td>      <th>  AIC:               </th> <td>   29.25</td>\n",
       "</tr>\n",
       "<tr>\n",
       "  <th>Df Residuals:</th>          <td>    60</td>      <th>  BIC:               </th> <td>   33.51</td>\n",
       "</tr>\n",
       "<tr>\n",
       "  <th>Df Model:</th>              <td>     1</td>      <th>                     </th>     <td> </td>   \n",
       "</tr>\n",
       "<tr>\n",
       "  <th>Covariance Type:</th>      <td>nonrobust</td>    <th>                     </th>     <td> </td>   \n",
       "</tr>\n",
       "</table>"
      ],
      "text/plain": [
       "<class 'statsmodels.iolib.table.SimpleTable'>"
      ]
     },
     "execution_count": 26,
     "metadata": {},
     "output_type": "execute_result"
    }
   ],
   "source": [
    "brain_mod.summary().tables[0]"
   ]
  },
  {
   "cell_type": "code",
   "execution_count": 27,
   "metadata": {},
   "outputs": [
    {
     "name": "stdout",
     "output_type": "stream",
     "text": [
      "F value:  697.4200360590312\n",
      "Square of t value for slope coef:  697.4200360590308\n"
     ]
    }
   ],
   "source": [
    "print('F value: ', brain_mod.fvalue)\n",
    "print('Square of t value for slope coef: ', brain_mod.tvalues[1]**2)"
   ]
  },
  {
   "cell_type": "markdown",
   "metadata": {},
   "source": [
    "We see that the square root of coefficient t statistic for 'np.log10(bodykg) equals the F statistic for the regression. "
   ]
  },
  {
   "cell_type": "markdown",
   "metadata": {},
   "source": [
    "### Extension: F test for comparing two regression models\n",
    "\n",
    "The F test for the regression is a special case of a general method for comparing two regression models, a full model and a reduced model. The F test for the model takes the reduced model to be the one that has no explanatory variables, just the intercept. The more general testing problem is to compare two **nested models**, where the smaller model is a special case of the larger model, and the null hypothesis is that the smaller model is adequate for describing the data.  \n",
    "\n",
    "\n"
   ]
  },
  {
   "cell_type": "markdown",
   "metadata": {},
   "source": [
    "#### Example: melanoma mortality study\n",
    "\n",
    "Here we compare two models:\n",
    "\n",
    "**Full Model:**\n",
    "\n",
    "$$\n",
    "\\mbox{Expected Mortality Rate} = \\beta_0 + \\beta_1 * \\mbox{latitude} + \\beta_2 * \\mbox{ocean}\n",
    "+ \\beta_3 * \\mbox{latitude} * \\mbox{ocean}\n",
    "$$\n",
    "\n",
    "**Reduced Model:**\n",
    "\n",
    "$$\n",
    "\\mbox{Expected Mortality Rate} = \\beta_0 + \\beta_1 * \\mbox{latitude}\n",
    "$$\n",
    "\n",
    "\n",
    "To compare these models we consider the null hypothesis: $H_0$: $\\beta_2=0$ and $\\beta_3=0$ against the alternative $H_A$: $\\beta_2 \\ne 0$ or $\\beta_3\\ne 0$. The null hypothesies here is that there is no 'ocean' main effect or interaction.\n"
   ]
  },
  {
   "cell_type": "markdown",
   "metadata": {},
   "source": [
    "Operationally we can test for the difference between the two models by fitting both models and comparing the difference in residual sums of squares using an F test. Suppose we compare two models and the reduced model is obtained by zeroing out q of the parameters. Then we can organize the computations as follows.\n",
    "\n",
    "$$\n",
    "\\begin{align}\n",
    "\\mbox{Full Model:}&\\quad  df_1=n - p -q -1 \\quad &RSS_1 = \\sum_{i=1}^n (y_i - \\hat{y}_i)^2 & &\\\\\n",
    "\\mbox{Reduced Model:}&\\quad df_0 = n-p-1 \\quad &RSS_0 = \\sum_{i=1}^n (y_i - \\hat{y}_{0i})^2 & \\\\\n",
    "\\\\\n",
    "\\mbox{Difference:}&\\quad df_{diff} = df_0 - df_1 = q & SS_{Diff} = RSS_0 - RSS_1 \\\\\n",
    "\\end{align}\n",
    "$$\n",
    "\n",
    "Here the full model has $q$ more parameters than the reduced. We compute the F statistic as follows:\n",
    "\n",
    "$$\n",
    "F_{diff} = {SS_{diff} / (df_{diff}) \\over RSS_1 / df_1 } = { (RSS_0 - RSS_1)/q \\over  RSS_1 / (n-p-1) }\n",
    "$$\n",
    "\n",
    "If $H_0$ (the reduced model) is correct, then $F_{diff}$ has an F distribution with $q$ and $n-p-1$ degrees of freedom. \n",
    "\n",
    "In our example, n=49, p = 3, q=2, and the degrees of freedom for F are 2 and 49-3-1=45.\n",
    "\n",
    "The statsmodels.regression.linear_model function .compare_f_test is one implementation of this test."
   ]
  },
  {
   "cell_type": "code",
   "execution_count": 28,
   "metadata": {},
   "outputs": [],
   "source": [
    "# The two fitted models we wish to compare\n",
    "# mod 1 is the full model\n",
    "# mod 0 is the restricted model (null hypothesis)\n",
    "mod1 = smf.ols('mortality ~ latitude + ocean + latitude*ocean', \n",
    "               data=skin).fit()\n",
    "mod0 = smf.ols('mortality ~ latitude', data=skin).fit()"
   ]
  },
  {
   "cell_type": "code",
   "execution_count": 29,
   "metadata": {},
   "outputs": [],
   "source": [
    "import statsmodels.regression.linear_model as lm"
   ]
  },
  {
   "cell_type": "code",
   "execution_count": 30,
   "metadata": {},
   "outputs": [
    {
     "data": {
      "text/html": [
       "<div>\n",
       "<style scoped>\n",
       "    .dataframe tbody tr th:only-of-type {\n",
       "        vertical-align: middle;\n",
       "    }\n",
       "\n",
       "    .dataframe tbody tr th {\n",
       "        vertical-align: top;\n",
       "    }\n",
       "\n",
       "    .dataframe thead th {\n",
       "        text-align: right;\n",
       "    }\n",
       "</style>\n",
       "<table border=\"1\" class=\"dataframe\">\n",
       "  <thead>\n",
       "    <tr style=\"text-align: right;\">\n",
       "      <th></th>\n",
       "      <th>f</th>\n",
       "      <th>pvalue</th>\n",
       "      <th>df_diff</th>\n",
       "    </tr>\n",
       "  </thead>\n",
       "  <tbody>\n",
       "    <tr>\n",
       "      <th>0</th>\n",
       "      <td>8.769251</td>\n",
       "      <td>0.000608</td>\n",
       "      <td>2.0</td>\n",
       "    </tr>\n",
       "  </tbody>\n",
       "</table>\n",
       "</div>"
      ],
      "text/plain": [
       "          f    pvalue  df_diff\n",
       "0  8.769251  0.000608      2.0"
      ]
     },
     "execution_count": 30,
     "metadata": {},
     "output_type": "execute_result"
    }
   ],
   "source": [
    "f, p, df = mod1.compare_f_test(mod0)\n",
    "pd.DataFrame({'f': [f], 'pvalue': [p], 'df_diff': [df]})"
   ]
  },
  {
   "cell_type": "markdown",
   "metadata": {},
   "source": [
    "We reject the null hypothesis that the  'ocean' main effect and interaction can be removed from the model. Ocean contiguity is a signficant factor."
   ]
  },
  {
   "cell_type": "markdown",
   "metadata": {},
   "source": [
    "**Interaction model versus additive model**\n",
    "\n",
    "We can also compare the larger model to the additive model that removes the interaction between ocean and latitude.\n",
    "\n",
    "In this case we compare:\n",
    "\n",
    "\n",
    "**Full Model:**\n",
    "\n",
    "$$\n",
    "\\mbox{Expected Mortality Rate} = \\beta_0 + \\beta_1 * \\mbox{latitude} + \\beta_2 * \\mbox{ocean}\n",
    "+ \\beta_3 * \\mbox{latitude} * \\mbox{ocean}\n",
    "$$\n",
    "\n",
    "**Reduced Model:**\n",
    "\n",
    "$$\n",
    "\\mbox{Expected Mortality Rate} = \\beta_0 + \\beta_1 * \\mbox{latitude} + \\beta_2 * \\mbox{ocean}\n",
    "$$\n",
    "\n",
    "The null hypothesis here is $H_0$: $\\beta_3=0$, with the alternative $H_A$: $\\beta_3 \\ne 0$. This same hypothesis is the target of the coefficient t-test for $\\beta_3$, and we will demonstrate that for this type of 1 degree of freedom test,\n",
    "\n",
    "$$\n",
    "F_{diff} = t_{coef}^2.\n",
    "$$\n"
   ]
  },
  {
   "cell_type": "code",
   "execution_count": 31,
   "metadata": {},
   "outputs": [
    {
     "data": {
      "text/html": [
       "<div>\n",
       "<style scoped>\n",
       "    .dataframe tbody tr th:only-of-type {\n",
       "        vertical-align: middle;\n",
       "    }\n",
       "\n",
       "    .dataframe tbody tr th {\n",
       "        vertical-align: top;\n",
       "    }\n",
       "\n",
       "    .dataframe thead th {\n",
       "        text-align: right;\n",
       "    }\n",
       "</style>\n",
       "<table border=\"1\" class=\"dataframe\">\n",
       "  <thead>\n",
       "    <tr style=\"text-align: right;\">\n",
       "      <th></th>\n",
       "      <th>f</th>\n",
       "      <th>pvalue</th>\n",
       "      <th>df_diff</th>\n",
       "    </tr>\n",
       "  </thead>\n",
       "  <tbody>\n",
       "    <tr>\n",
       "      <th>0</th>\n",
       "      <td>0.000025</td>\n",
       "      <td>0.996013</td>\n",
       "      <td>1.0</td>\n",
       "    </tr>\n",
       "  </tbody>\n",
       "</table>\n",
       "</div>"
      ],
      "text/plain": [
       "          f    pvalue  df_diff\n",
       "0  0.000025  0.996013      1.0"
      ]
     },
     "execution_count": 31,
     "metadata": {},
     "output_type": "execute_result"
    }
   ],
   "source": [
    "mod01 = smf.ols('mortality ~ latitude + ocean', \n",
    "                data=skin).fit()\n",
    "f1, p1, df1 = mod1.compare_f_test(mod01)\n",
    "pd.DataFrame({'f': [f1], 'pvalue': [p1], 'df_diff': [df1]})"
   ]
  },
  {
   "cell_type": "markdown",
   "metadata": {},
   "source": [
    "**Here we see that F is very small and the p-value is large, so we fail to reject. The simpler additive model is adequate for these data.**"
   ]
  },
  {
   "cell_type": "markdown",
   "metadata": {},
   "source": [
    "In this case the F test is equivalent to the coefficient t test for the interaction ocean:latitude."
   ]
  },
  {
   "cell_type": "code",
   "execution_count": 32,
   "metadata": {},
   "outputs": [
    {
     "data": {
      "text/html": [
       "<table class=\"simpletable\">\n",
       "<tr>\n",
       "         <td></td>           <th>coef</th>     <th>std err</th>      <th>t</th>      <th>P>|t|</th>  <th>[0.025</th>    <th>0.975]</th>  \n",
       "</tr>\n",
       "<tr>\n",
       "  <th>Intercept</th>      <td>  360.5495</td> <td>   35.498</td> <td>   10.157</td> <td> 0.000</td> <td>  289.052</td> <td>  432.047</td>\n",
       "</tr>\n",
       "<tr>\n",
       "  <th>latitude</th>       <td>   -5.4853</td> <td>    0.874</td> <td>   -6.274</td> <td> 0.000</td> <td>   -7.246</td> <td>   -3.724</td>\n",
       "</tr>\n",
       "<tr>\n",
       "  <th>ocean</th>          <td>   20.6501</td> <td>   43.988</td> <td>    0.469</td> <td> 0.641</td> <td>  -67.946</td> <td>  109.246</td>\n",
       "</tr>\n",
       "<tr>\n",
       "  <th>latitude:ocean</th> <td>   -0.0055</td> <td>    1.101</td> <td>   -0.005</td> <td> 0.996</td> <td>   -2.224</td> <td>    2.213</td>\n",
       "</tr>\n",
       "</table>"
      ],
      "text/plain": [
       "<class 'statsmodels.iolib.table.SimpleTable'>"
      ]
     },
     "execution_count": 32,
     "metadata": {},
     "output_type": "execute_result"
    }
   ],
   "source": [
    "mod1.summary().tables[1]"
   ]
  },
  {
   "cell_type": "code",
   "execution_count": 33,
   "metadata": {},
   "outputs": [
    {
     "name": "stdout",
     "output_type": "stream",
     "text": [
      "t squared: 2.5e-05, F: 2.5e-05\n"
     ]
    }
   ],
   "source": [
    "# check using results above\n",
    "t_interact = -0.005\n",
    "F_interact = 0.000025\n",
    "print(\"t squared: \"+str(t_interact**2)+\", F: \"+ str(F_interact))"
   ]
  },
  {
   "cell_type": "code",
   "execution_count": 34,
   "metadata": {},
   "outputs": [
    {
     "data": {
      "text/html": [
       "<table class=\"simpletable\">\n",
       "<tr>\n",
       "      <td></td>         <th>coef</th>     <th>std err</th>      <th>t</th>      <th>P>|t|</th>  <th>[0.025</th>    <th>0.975]</th>  \n",
       "</tr>\n",
       "<tr>\n",
       "  <th>Intercept</th> <td>  360.6905</td> <td>   21.498</td> <td>   16.778</td> <td> 0.000</td> <td>  317.417</td> <td>  403.964</td>\n",
       "</tr>\n",
       "<tr>\n",
       "  <th>latitude</th>  <td>   -5.4888</td> <td>    0.526</td> <td>  -10.437</td> <td> 0.000</td> <td>   -6.547</td> <td>   -4.430</td>\n",
       "</tr>\n",
       "<tr>\n",
       "  <th>ocean</th>     <td>   20.4304</td> <td>    4.825</td> <td>    4.234</td> <td> 0.000</td> <td>   10.718</td> <td>   30.143</td>\n",
       "</tr>\n",
       "</table>"
      ],
      "text/plain": [
       "<class 'statsmodels.iolib.table.SimpleTable'>"
      ]
     },
     "execution_count": 34,
     "metadata": {},
     "output_type": "execute_result"
    }
   ],
   "source": [
    "# Final model summary\n",
    "mod01.summary().tables[1]"
   ]
  },
  {
   "cell_type": "markdown",
   "metadata": {},
   "source": [
    "**Conclusions** \n",
    "\n",
    "+ In the final model we see that a parallel regressions model is adequate. It implies that the mortality rate tends to decrease by -5.5 per 1 million for each increase of 1% latitude, on average. The 95% confidence interval for this effect is (-6.547, -4.430) per million.\n",
    "\n",
    "\n",
    "+ The model also implies that being near an ocean is associated with an additional 20 per million in annual mortality. The 95% confidence interval for this effect is (10.7, 30.143) per million."
   ]
  },
  {
   "cell_type": "markdown",
   "metadata": {},
   "source": [
    "Let's redo the scatter plot of the data using the final model, adding the individual regression lines to the scatter plot. We plot for mortality versus latitude separating ocean versus non-ocean. We can see that the individual regression lines computed separtely for each group are very nearly parallel."
   ]
  },
  {
   "cell_type": "code",
   "execution_count": 35,
   "metadata": {},
   "outputs": [
    {
     "data": {
      "image/png": "[encoded data removed]",
      "text/plain": [
       "<Figure size 405.725x360 with 1 Axes>"
      ]
     },
     "metadata": {
      "needs_background": "light"
     },
     "output_type": "display_data"
    }
   ],
   "source": [
    "sns.lmplot(x=\"latitude\", y=\"mortality\", hue=\"ocean\", \n",
    "           data=skin, markers=[\"o\", \"x\"])\n",
    "plt.show()"
   ]
  },
  {
   "cell_type": "markdown",
   "metadata": {},
   "source": [
    "### What does the model predict for Illinois?\n",
    "\n",
    "Let's extract the latitude for Illinois ad compare the model prediction with the observed rate."
   ]
  },
  {
   "cell_type": "code",
   "execution_count": 36,
   "metadata": {},
   "outputs": [
    {
     "data": {
      "text/html": [
       "<div>\n",
       "<style scoped>\n",
       "    .dataframe tbody tr th:only-of-type {\n",
       "        vertical-align: middle;\n",
       "    }\n",
       "\n",
       "    .dataframe tbody tr th {\n",
       "        vertical-align: top;\n",
       "    }\n",
       "\n",
       "    .dataframe thead th {\n",
       "        text-align: right;\n",
       "    }\n",
       "</style>\n",
       "<table border=\"1\" class=\"dataframe\">\n",
       "  <thead>\n",
       "    <tr style=\"text-align: right;\">\n",
       "      <th></th>\n",
       "      <th>state</th>\n",
       "      <th>latitude</th>\n",
       "      <th>mortality</th>\n",
       "      <th>ocean</th>\n",
       "    </tr>\n",
       "  </thead>\n",
       "  <tbody>\n",
       "    <tr>\n",
       "      <th>11</th>\n",
       "      <td>IL</td>\n",
       "      <td>40.0</td>\n",
       "      <td>124</td>\n",
       "      <td>0</td>\n",
       "    </tr>\n",
       "  </tbody>\n",
       "</table>\n",
       "</div>"
      ],
      "text/plain": [
       "   state  latitude  mortality  ocean\n",
       "11    IL      40.0        124      0"
      ]
     },
     "execution_count": 36,
     "metadata": {},
     "output_type": "execute_result"
    }
   ],
   "source": [
    "skin[skin[\"state\"]==\"IL\"]"
   ]
  },
  {
   "cell_type": "code",
   "execution_count": 37,
   "metadata": {},
   "outputs": [
    {
     "data": {
      "text/plain": [
       "0    141.139538\n",
       "dtype: float64"
      ]
     },
     "execution_count": 37,
     "metadata": {},
     "output_type": "execute_result"
    }
   ],
   "source": [
    "mod01.predict(exog=dict(latitude=40, ocean=0))"
   ]
  },
  {
   "cell_type": "code",
   "execution_count": 38,
   "metadata": {},
   "outputs": [
    {
     "data": {
      "text/plain": [
       "141.13849999999996"
      ]
     },
     "execution_count": 38,
     "metadata": {},
     "output_type": "execute_result"
    }
   ],
   "source": [
    "# Compare direct calculation\n",
    "\n",
    "360.6905 - 5.4888*40 + 20.4304*0"
   ]
  },
  {
   "cell_type": "markdown",
   "metadata": {},
   "source": [
    "We see that the observed rate in Illinois was below the predicted rate by about 17 per million. Compare this with the residual standard error for the model, which is an estimate of the individual standard deviations:"
   ]
  },
  {
   "cell_type": "code",
   "execution_count": 39,
   "metadata": {},
   "outputs": [
    {
     "data": {
      "text/plain": [
       "16.38995028338583"
      ]
     },
     "execution_count": 39,
     "metadata": {},
     "output_type": "execute_result"
    }
   ],
   "source": [
    "# Extract mean square for residuals; \n",
    "# Its square root is an estimate of the sigma for \n",
    "# the random errors in the model \n",
    "rstd = np.sqrt(mod01.mse_resid)\n",
    "rstd"
   ]
  },
  {
   "cell_type": "markdown",
   "metadata": {},
   "source": [
    "We see that Illinois is well within 2 estimated standard deviations of the regression line, so it is consistent with the overall trend in the data."
   ]
  },
  {
   "cell_type": "markdown",
   "metadata": {},
   "source": [
    "### One-way ANOVA as a test between two models\n",
    "\n",
    "Using the full model/reduced model framework, if we take the reduced model to be the null model with an interccept only, then we recover the F test for the regression. This gives another way to perform the F test for the one way ANOVA model.\n",
    "\n",
    "#### Pew example revisited\n",
    "\n",
    "We previously imported and cleaned the 'party' and 'age' fields from the Pew Research Survey, saving them in the data frame 'pew'.\n",
    "\n",
    "We fit the full model and null model (regression on the constant '1'):"
   ]
  },
  {
   "cell_type": "code",
   "execution_count": 40,
   "metadata": {},
   "outputs": [],
   "source": [
    "# Full model\n",
    "agemod = smf.ols('age ~ party', data=pew).fit()\n",
    "# Null model\n",
    "agemod0 = smf.ols('age ~ 1', data=pew).fit()"
   ]
  },
  {
   "cell_type": "markdown",
   "metadata": {},
   "source": [
    "Here are the coefficient estimates for the full model:"
   ]
  },
  {
   "cell_type": "code",
   "execution_count": 41,
   "metadata": {},
   "outputs": [
    {
     "data": {
      "text/plain": [
       "Intercept           50.499051\n",
       "party[T.Ind]        -3.691432\n",
       "party[T.No_Pref]    -7.352710\n",
       "party[T.Other]      -5.899051\n",
       "party[T.Rep]         6.277516\n",
       "dtype: float64"
      ]
     },
     "execution_count": 41,
     "metadata": {},
     "output_type": "execute_result"
    }
   ],
   "source": [
    "agemod.params"
   ]
  },
  {
   "cell_type": "markdown",
   "metadata": {},
   "source": [
    "In contrast, the null model has only one coefficient:"
   ]
  },
  {
   "cell_type": "code",
   "execution_count": 42,
   "metadata": {},
   "outputs": [
    {
     "data": {
      "text/plain": [
       "Intercept    50.522867\n",
       "dtype: float64"
      ]
     },
     "execution_count": 42,
     "metadata": {},
     "output_type": "execute_result"
    }
   ],
   "source": [
    "agemod0.params"
   ]
  },
  {
   "cell_type": "markdown",
   "metadata": {},
   "source": [
    "Having fit these nested models we can now test the null model against the unconstrained model"
   ]
  },
  {
   "cell_type": "code",
   "execution_count": 43,
   "metadata": {},
   "outputs": [
    {
     "data": {
      "text/html": [
       "<div>\n",
       "<style scoped>\n",
       "    .dataframe tbody tr th:only-of-type {\n",
       "        vertical-align: middle;\n",
       "    }\n",
       "\n",
       "    .dataframe tbody tr th {\n",
       "        vertical-align: top;\n",
       "    }\n",
       "\n",
       "    .dataframe thead th {\n",
       "        text-align: right;\n",
       "    }\n",
       "</style>\n",
       "<table border=\"1\" class=\"dataframe\">\n",
       "  <thead>\n",
       "    <tr style=\"text-align: right;\">\n",
       "      <th></th>\n",
       "      <th>f</th>\n",
       "      <th>pvalue</th>\n",
       "      <th>df_diff</th>\n",
       "    </tr>\n",
       "  </thead>\n",
       "  <tbody>\n",
       "    <tr>\n",
       "      <th>0</th>\n",
       "      <td>19.818566</td>\n",
       "      <td>6.659457e-16</td>\n",
       "      <td>4.0</td>\n",
       "    </tr>\n",
       "  </tbody>\n",
       "</table>\n",
       "</div>"
      ],
      "text/plain": [
       "           f        pvalue  df_diff\n",
       "0  19.818566  6.659457e-16      4.0"
      ]
     },
     "execution_count": 43,
     "metadata": {},
     "output_type": "execute_result"
    }
   ],
   "source": [
    "f_party, p_party, df_party = agemod.compare_f_test(agemod0)\n",
    "pd.DataFrame({'f': [f_party], \n",
    "              'pvalue': [p_party], \n",
    "              'df_diff': [df_party]})"
   ]
  },
  {
   "cell_type": "markdown",
   "metadata": {},
   "source": [
    "Comparing this result with F test for the regression for the uncontrained model we see that they produce the same result.\n",
    "\n",
    "The advantage of the using compare_f_test is we explicitly control what is being tested."
   ]
  },
  {
   "cell_type": "markdown",
   "metadata": {},
   "source": [
    "\n",
    "#### References\n",
    "\n",
    "Elwood JM, Lee JAH, Walter SD, Mo T, Green AES (1974). Relationship of melanoma and other skin cancer mortality to latitude and ultraviolet radiation in the United States and Canada. International Journal of Epidemiology, Vol. 3, No. 4, pp. 325-332.\n",
    "\n"
   ]
  },
  {
   "cell_type": "markdown",
   "metadata": {},
   "source": [
    "---\n",
    "STAT 207, Douglas Simpson, University of Illinois at Urbana-Champaign"
   ]
  }
 ],
 "metadata": {
  "kernelspec": {
   "display_name": "Python 3",
   "language": "python",
   "name": "python3"
  },
  "language_info": {
   "codemirror_mode": {
    "name": "ipython",
    "version": 3
   },
   "file_extension": ".py",
   "mimetype": "text/x-python",
   "name": "python",
   "nbconvert_exporter": "python",
   "pygments_lexer": "ipython3",
   "version": "3.7.4"
  }
 },
 "nbformat": 4,
 "nbformat_minor": 2
}
