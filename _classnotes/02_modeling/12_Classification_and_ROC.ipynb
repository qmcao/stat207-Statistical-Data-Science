{
 "cells": [
  {
   "cell_type": "markdown",
   "metadata": {},
   "source": [
    "<script>\n",
    "    document.querySelector('head').innerHTML += '<style>.slides { zoom: 1.0 !important; }</style>';\n",
    "</script>\n",
    "<!--# STAT 207: Data Science Exploration-->"
   ]
  },
  {
   "cell_type": "markdown",
   "metadata": {},
   "source": [
    "\n",
    "## Classification and ROC Analysis\n",
    "\n",
    "The previous section explored logistic regression as a tool for modeling the dependence of a binary response variable on other exogenous variables. Once a the model is built, it is possible to use it for prediction purposes, by viewing the logistic regression model as a **classification algorithm**. In this usage, the estimated probabilities (fitted values) from the logistic regression model provide scores that can be thresholded to create a 0/1 classfier.\n",
    "\n",
    "For example, suppose we have a model that provides a probability of rain each day. We might view a fitted probability greater than or equal to 50% as a prediction of rain, and a fitted probability less than 50% as a prediction of no rain. \n",
    "\n",
    "How good is the classifer? The confusion matrix provides a way to keep track of the performance by cross classifying the true and predicted classes. From the confusion matrix we can compute:\n",
    "\n",
    "+ **Sensitivity:** fraction of true positives that are called positive by the algorithm for a given threshold;\n",
    "\n",
    "+ **Specificity:** fraction of true negatives that are called negative by the algorithm for a given threshold.\n",
    "\n",
    "The **ROC curve** provides an overall summary of how good a scoring system across all possible thresholds, by graphing sensitivity versus 1 - specificity. This can also be used to find the optimal threshold.\n",
    "\n",
    "\n",
    "**New package: scikit-learn - machine learning package**\n",
    "\n",
    "To install this on your computer enter the following command from a terminal or anaconda window:\n",
    "\n",
    "    conda install scikit-learn\n",
    " \n"
   ]
  },
  {
   "cell_type": "markdown",
   "metadata": {},
   "source": [
    "### Classification with logistic regression: simulation example"
   ]
  },
  {
   "cell_type": "markdown",
   "metadata": {},
   "source": [
    "#### First we generate some data"
   ]
  },
  {
   "cell_type": "code",
   "execution_count": 1,
   "metadata": {},
   "outputs": [],
   "source": [
    "import numpy as np\n",
    "import pandas as pd\n",
    "import zipfile as zp"
   ]
  },
  {
   "cell_type": "code",
   "execution_count": 2,
   "metadata": {},
   "outputs": [],
   "source": [
    "from scipy.stats import norm, bernoulli"
   ]
  },
  {
   "cell_type": "code",
   "execution_count": 3,
   "metadata": {},
   "outputs": [
    {
     "data": {
      "text/html": [
       "<div>\n",
       "<style scoped>\n",
       "    .dataframe tbody tr th:only-of-type {\n",
       "        vertical-align: middle;\n",
       "    }\n",
       "\n",
       "    .dataframe tbody tr th {\n",
       "        vertical-align: top;\n",
       "    }\n",
       "\n",
       "    .dataframe thead th {\n",
       "        text-align: right;\n",
       "    }\n",
       "</style>\n",
       "<table border=\"1\" class=\"dataframe\">\n",
       "  <thead>\n",
       "    <tr style=\"text-align: right;\">\n",
       "      <th></th>\n",
       "      <th>x</th>\n",
       "      <th>y</th>\n",
       "    </tr>\n",
       "  </thead>\n",
       "  <tbody>\n",
       "    <tr>\n",
       "      <th>0</th>\n",
       "      <td>0.343687</td>\n",
       "      <td>1</td>\n",
       "    </tr>\n",
       "    <tr>\n",
       "      <th>1</th>\n",
       "      <td>1.848400</td>\n",
       "      <td>1</td>\n",
       "    </tr>\n",
       "    <tr>\n",
       "      <th>2</th>\n",
       "      <td>0.224359</td>\n",
       "      <td>0</td>\n",
       "    </tr>\n",
       "    <tr>\n",
       "      <th>3</th>\n",
       "      <td>-1.633660</td>\n",
       "      <td>0</td>\n",
       "    </tr>\n",
       "    <tr>\n",
       "      <th>4</th>\n",
       "      <td>1.245538</td>\n",
       "      <td>1</td>\n",
       "    </tr>\n",
       "    <tr>\n",
       "      <th>5</th>\n",
       "      <td>1.712812</td>\n",
       "      <td>1</td>\n",
       "    </tr>\n",
       "    <tr>\n",
       "      <th>6</th>\n",
       "      <td>-0.687918</td>\n",
       "      <td>0</td>\n",
       "    </tr>\n",
       "    <tr>\n",
       "      <th>7</th>\n",
       "      <td>-1.186239</td>\n",
       "      <td>0</td>\n",
       "    </tr>\n",
       "    <tr>\n",
       "      <th>8</th>\n",
       "      <td>-0.400249</td>\n",
       "      <td>0</td>\n",
       "    </tr>\n",
       "    <tr>\n",
       "      <th>9</th>\n",
       "      <td>-0.303626</td>\n",
       "      <td>0</td>\n",
       "    </tr>\n",
       "  </tbody>\n",
       "</table>\n",
       "</div>"
      ],
      "text/plain": [
       "          x  y\n",
       "0  0.343687  1\n",
       "1  1.848400  1\n",
       "2  0.224359  0\n",
       "3 -1.633660  0\n",
       "4  1.245538  1\n",
       "5  1.712812  1\n",
       "6 -0.687918  0\n",
       "7 -1.186239  0\n",
       "8 -0.400249  0\n",
       "9 -0.303626  0"
      ]
     },
     "execution_count": 3,
     "metadata": {},
     "output_type": "execute_result"
    }
   ],
   "source": [
    "# set the coefficient values\n",
    "b0, b1 = -0.7, 2.1  \n",
    "#\n",
    "# generate exogenous variable\n",
    "x = norm.rvs(size=100, random_state=12347)\n",
    "#\n",
    "# odds depend on x\n",
    "odds = np.exp(b0 + b1*x)   \n",
    "#\n",
    "# convert odds to probabilities, generate response y\n",
    "y = bernoulli.rvs(p=odds/(1+odds), size=100, random_state=1)\n",
    "dat = pd.DataFrame({'x':x, 'y':y})\n",
    "dat.head(10)"
   ]
  },
  {
   "cell_type": "markdown",
   "metadata": {},
   "source": [
    "#### Given the data we fit a model"
   ]
  },
  {
   "cell_type": "code",
   "execution_count": 4,
   "metadata": {},
   "outputs": [],
   "source": [
    "import statsmodels.api as sm\n",
    "import statsmodels.formula.api as smf"
   ]
  },
  {
   "cell_type": "code",
   "execution_count": 5,
   "metadata": {},
   "outputs": [
    {
     "name": "stdout",
     "output_type": "stream",
     "text": [
      "Optimization terminated successfully.\n",
      "         Current function value: 0.403715\n",
      "         Iterations 7\n"
     ]
    },
    {
     "data": {
      "text/html": [
       "<table class=\"simpletable\">\n",
       "<caption>Logit Regression Results</caption>\n",
       "<tr>\n",
       "  <th>Dep. Variable:</th>         <td>y</td>        <th>  No. Observations:  </th>  <td>   100</td>  \n",
       "</tr>\n",
       "<tr>\n",
       "  <th>Model:</th>               <td>Logit</td>      <th>  Df Residuals:      </th>  <td>    98</td>  \n",
       "</tr>\n",
       "<tr>\n",
       "  <th>Method:</th>               <td>MLE</td>       <th>  Df Model:          </th>  <td>     1</td>  \n",
       "</tr>\n",
       "<tr>\n",
       "  <th>Date:</th>          <td>Wed, 15 Apr 2020</td> <th>  Pseudo R-squ.:     </th>  <td>0.4149</td>  \n",
       "</tr>\n",
       "<tr>\n",
       "  <th>Time:</th>              <td>11:35:02</td>     <th>  Log-Likelihood:    </th> <td> -40.371</td> \n",
       "</tr>\n",
       "<tr>\n",
       "  <th>converged:</th>           <td>True</td>       <th>  LL-Null:           </th> <td> -68.994</td> \n",
       "</tr>\n",
       "<tr>\n",
       "  <th> </th>                      <td> </td>        <th>  LLR p-value:       </th> <td>3.846e-14</td>\n",
       "</tr>\n",
       "</table>\n",
       "<table class=\"simpletable\">\n",
       "<tr>\n",
       "      <td></td>         <th>coef</th>     <th>std err</th>      <th>z</th>      <th>P>|z|</th>  <th>[0.025</th>    <th>0.975]</th>  \n",
       "</tr>\n",
       "<tr>\n",
       "  <th>Intercept</th> <td>   -0.4938</td> <td>    0.291</td> <td>   -1.697</td> <td> 0.090</td> <td>   -1.064</td> <td>    0.076</td>\n",
       "</tr>\n",
       "<tr>\n",
       "  <th>x</th>         <td>    2.2133</td> <td>    0.440</td> <td>    5.028</td> <td> 0.000</td> <td>    1.350</td> <td>    3.076</td>\n",
       "</tr>\n",
       "</table>"
      ],
      "text/plain": [
       "<class 'statsmodels.iolib.summary.Summary'>\n",
       "\"\"\"\n",
       "                           Logit Regression Results                           \n",
       "==============================================================================\n",
       "Dep. Variable:                      y   No. Observations:                  100\n",
       "Model:                          Logit   Df Residuals:                       98\n",
       "Method:                           MLE   Df Model:                            1\n",
       "Date:                Wed, 15 Apr 2020   Pseudo R-squ.:                  0.4149\n",
       "Time:                        11:35:02   Log-Likelihood:                -40.371\n",
       "converged:                       True   LL-Null:                       -68.994\n",
       "                                        LLR p-value:                 3.846e-14\n",
       "==============================================================================\n",
       "                 coef    std err          z      P>|z|      [0.025      0.975]\n",
       "------------------------------------------------------------------------------\n",
       "Intercept     -0.4938      0.291     -1.697      0.090      -1.064       0.076\n",
       "x              2.2133      0.440      5.028      0.000       1.350       3.076\n",
       "==============================================================================\n",
       "\"\"\""
      ]
     },
     "execution_count": 5,
     "metadata": {},
     "output_type": "execute_result"
    }
   ],
   "source": [
    "simmod = smf.logit('y ~ x', data=dat).fit()\n",
    "simmod.summary()"
   ]
  },
  {
   "cell_type": "markdown",
   "metadata": {},
   "source": [
    "#### Prediction based on the model: predictive probabilities"
   ]
  },
  {
   "cell_type": "code",
   "execution_count": 6,
   "metadata": {},
   "outputs": [
    {
     "data": {
      "text/plain": [
       "0    0.007243\n",
       "1    0.062554\n",
       "2    0.378988\n",
       "3    0.848056\n",
       "4    0.980786\n",
       "dtype: float64"
      ]
     },
     "execution_count": 6,
     "metadata": {},
     "output_type": "execute_result"
    }
   ],
   "source": [
    "# example predictive probabilities\n",
    "simmod.predict(exog=dict(x=[-2,-1,0,1,2])) "
   ]
  },
  {
   "cell_type": "code",
   "execution_count": 7,
   "metadata": {},
   "outputs": [],
   "source": [
    "import matplotlib.pyplot as plt\n",
    "import seaborn as sns; sns.set()"
   ]
  },
  {
   "cell_type": "code",
   "execution_count": 8,
   "metadata": {},
   "outputs": [
    {
     "data": {
      "image/png": "[encoded data removed]",
      "text/plain": [
       "<Figure size 432x288 with 1 Axes>"
      ]
     },
     "metadata": {},
     "output_type": "display_data"
    }
   ],
   "source": [
    "# scatter plot of raw 0/1 data\n",
    "sns.scatterplot(x='x', y='y', data=dat)\n",
    "#\n",
    "# make a grid of x values for the probability curve\n",
    "xgrid = np.linspace(dat['x'].min(), dat['x'].max(), 100)\n",
    "#\n",
    "# get predictive probabilities for the grid\n",
    "pgrid = simmod.predict(exog=dict(x=xgrid))\n",
    "#\n",
    "# add the curve to the plot\n",
    "plt.plot(xgrid, pgrid, color='r') \n",
    "plt.show()"
   ]
  },
  {
   "cell_type": "markdown",
   "metadata": {},
   "source": [
    "#### Classification threshold derived from predictive probability"
   ]
  },
  {
   "cell_type": "markdown",
   "metadata": {},
   "source": [
    "How accurate is this model as a classifier? It depends in part on where we set the threshold. Let $\\hat{p}(x)$ denote the estimated probability as a function of $x$. Suppose our classification rule is  $I(\\hat{p} > p_0)$ where $I(True)=1$ and $I(False)=0$. Because the fitted probability function is increasing as a function of x, the probability threshold is equivalent to a threshold for $x$.\n",
    "\n",
    "First, the logit of the threshold is \n",
    "\n",
    "$$\n",
    "\\log\\left({p_0 \\over 1-p_0}\\right).\n",
    "$$\n",
    "\n",
    "Furthermore, the fitted model has the form\n",
    "\n",
    "$$\n",
    "\\log\\left({\\hat{p} \\over 1 - \\hat{p}}\\right) = \\hat{\\beta}_0 + \\hat{\\beta}_1 x\n",
    "$$\n",
    "\n",
    "Setting this equal to the threshold logit and solving for $x$ gives the classifier threshold:\n",
    "\n",
    "$$\n",
    "x_{0} = {\\mbox{logit}(p_0) -\\hat{\\beta}_0 \\over \\hat{\\beta}_1}\n",
    "$$\n"
   ]
  },
  {
   "cell_type": "markdown",
   "metadata": {},
   "source": [
    "If we set $p_0=0.5$, a common default, then $\\mbox{logit}(p_0)=0$ and the threshold is simply\n",
    "\n",
    "$$\n",
    "x_0 = - { \\hat{\\beta}_0 \\over \\hat{\\beta}_1 }.\n",
    "$$"
   ]
  },
  {
   "cell_type": "markdown",
   "metadata": {},
   "source": [
    "#### Exploring different classification thresholds"
   ]
  },
  {
   "cell_type": "code",
   "execution_count": 9,
   "metadata": {},
   "outputs": [
    {
     "data": {
      "text/plain": [
       "Intercept   -0.493845\n",
       "x            2.213281\n",
       "dtype: float64"
      ]
     },
     "execution_count": 9,
     "metadata": {},
     "output_type": "execute_result"
    }
   ],
   "source": [
    "simmod.params"
   ]
  },
  {
   "cell_type": "code",
   "execution_count": 10,
   "metadata": {},
   "outputs": [],
   "source": [
    "#### Set probability threshold\n",
    "pthresh = 0.50"
   ]
  },
  {
   "cell_type": "code",
   "execution_count": 11,
   "metadata": {},
   "outputs": [
    {
     "data": {
      "text/plain": [
       "0.22312813097265544"
      ]
     },
     "execution_count": 11,
     "metadata": {},
     "output_type": "execute_result"
    }
   ],
   "source": [
    "#### Compute corresponding x threshold\n",
    "xthresh = (np.log(pthresh/(1-pthresh)) \\\n",
    "           -simmod.params[0])/simmod.params[1]\n",
    "xthresh"
   ]
  },
  {
   "cell_type": "code",
   "execution_count": 12,
   "metadata": {},
   "outputs": [
    {
     "data": {
      "text/html": [
       "<div>\n",
       "<style scoped>\n",
       "    .dataframe tbody tr th:only-of-type {\n",
       "        vertical-align: middle;\n",
       "    }\n",
       "\n",
       "    .dataframe tbody tr th {\n",
       "        vertical-align: top;\n",
       "    }\n",
       "\n",
       "    .dataframe thead th {\n",
       "        text-align: right;\n",
       "    }\n",
       "</style>\n",
       "<table border=\"1\" class=\"dataframe\">\n",
       "  <thead>\n",
       "    <tr style=\"text-align: right;\">\n",
       "      <th></th>\n",
       "      <th>x</th>\n",
       "      <th>y</th>\n",
       "      <th>yhat</th>\n",
       "    </tr>\n",
       "  </thead>\n",
       "  <tbody>\n",
       "    <tr>\n",
       "      <th>0</th>\n",
       "      <td>0.343687</td>\n",
       "      <td>1</td>\n",
       "      <td>1</td>\n",
       "    </tr>\n",
       "    <tr>\n",
       "      <th>1</th>\n",
       "      <td>1.848400</td>\n",
       "      <td>1</td>\n",
       "      <td>1</td>\n",
       "    </tr>\n",
       "    <tr>\n",
       "      <th>2</th>\n",
       "      <td>0.224359</td>\n",
       "      <td>0</td>\n",
       "      <td>1</td>\n",
       "    </tr>\n",
       "    <tr>\n",
       "      <th>3</th>\n",
       "      <td>-1.633660</td>\n",
       "      <td>0</td>\n",
       "      <td>0</td>\n",
       "    </tr>\n",
       "    <tr>\n",
       "      <th>4</th>\n",
       "      <td>1.245538</td>\n",
       "      <td>1</td>\n",
       "      <td>1</td>\n",
       "    </tr>\n",
       "  </tbody>\n",
       "</table>\n",
       "</div>"
      ],
      "text/plain": [
       "          x  y  yhat\n",
       "0  0.343687  1     1\n",
       "1  1.848400  1     1\n",
       "2  0.224359  0     1\n",
       "3 -1.633660  0     0\n",
       "4  1.245538  1     1"
      ]
     },
     "execution_count": 12,
     "metadata": {},
     "output_type": "execute_result"
    }
   ],
   "source": [
    "#### Predicted y based on threshold\n",
    "dat['yhat'] = 1*(dat['x'] >= xthresh)\n",
    "dat.head()"
   ]
  },
  {
   "cell_type": "code",
   "execution_count": 13,
   "metadata": {
    "scrolled": true
   },
   "outputs": [
    {
     "data": {
      "image/png": "[encoded data removed]",
      "text/plain": [
       "<Figure size 432x288 with 1 Axes>"
      ]
     },
     "metadata": {},
     "output_type": "display_data"
    }
   ],
   "source": [
    "# scatter plot of raw 0/1 data\n",
    "sns.scatterplot(x='x', y='y', hue='yhat', data=dat)\n",
    "#\n",
    "# make a grid of x values for probability curve\n",
    "xgrid = np.linspace(dat['x'].min(), dat['x'].max(), 100)\n",
    "#\n",
    "# get predictive probabilities for the grid\n",
    "pgrid = simmod.predict(exog=dict(x=xgrid))\n",
    "#\n",
    "# add probability curve to the graph\n",
    "plt.plot(xgrid, pgrid, color='r', linestyle='dashed')\n",
    "#\n",
    "# add x threshold line for 0/1 classification\n",
    "plt.vlines(x=xthresh, ymin=0, ymax=1)\n",
    "plt.show()"
   ]
  },
  {
   "cell_type": "markdown",
   "metadata": {},
   "source": [
    "How is the performance of the classifier on the training data? Because the 0's and 1's have overlapping $x$ values, no classifier based on $x$ only can perfectly classify them.\n",
    "\n",
    "\n",
    "+ The orange colored observations with $y=1$ are correctly classified because they are above the $x$ threshold and therefore have $\\hat{y}=1=y$.\n",
    "\n",
    "\n",
    "+ The blue colored observations with $y=0$ are correctly classified because they are below the $x$ threshold and therefore $\\hat{y}=0=y$.\n",
    "\n",
    "\n",
    "+ The blue colored observations with $y=1$ and the orange colored observations with $y=0$ are incorrectly classified because $\\hat{y} \\ne y$.\n",
    "\n"
   ]
  },
  {
   "cell_type": "markdown",
   "metadata": {},
   "source": [
    "#### Confusion matrix, sensitivity and specificity\n",
    "\n",
    "We can summarize the classification performance for a given classifier by comparing the predicted classes to the true classes. The we cross classify the results.\n"
   ]
  },
  {
   "cell_type": "markdown",
   "metadata": {},
   "source": [
    "\n",
    "| Classification  | Actual Negative (0) | Actual Positive (1) |\n",
    "| --- | --- | --- |\n",
    "| Predicted Negative (0) | TN = True Neg | FN = False Neg |\n",
    "| Predicted Positive (1) | FP = False Pos | TP = True Pos |"
   ]
  },
  {
   "cell_type": "code",
   "execution_count": 14,
   "metadata": {},
   "outputs": [],
   "source": [
    "# This import requires that you already \n",
    "# installed the scikit-learn library \n",
    "# as described in the introduction to this chapter.\n",
    "#\n",
    "from sklearn.metrics import confusion_matrix, roc_curve, roc_auc_score"
   ]
  },
  {
   "cell_type": "code",
   "execution_count": 15,
   "metadata": {},
   "outputs": [
    {
     "data": {
      "text/plain": [
       "array([[44, 10],\n",
       "       [10, 36]], dtype=int64)"
      ]
     },
     "execution_count": 15,
     "metadata": {},
     "output_type": "execute_result"
    }
   ],
   "source": [
    "confusion_matrix(y_true=dat['y'], y_pred=dat['yhat'])"
   ]
  },
  {
   "cell_type": "code",
   "execution_count": 16,
   "metadata": {},
   "outputs": [
    {
     "data": {
      "text/plain": [
       "(44, 10, 10, 36)"
      ]
     },
     "execution_count": 16,
     "metadata": {},
     "output_type": "execute_result"
    }
   ],
   "source": [
    "tn, fp, fn, tp = confusion_matrix(y_true=dat['y'], \n",
    "                                  y_pred=dat['yhat']).ravel()\n",
    "(tn, fp, fn, tp)"
   ]
  },
  {
   "cell_type": "code",
   "execution_count": 17,
   "metadata": {},
   "outputs": [
    {
     "data": {
      "text/plain": [
       "0.782608695652174"
      ]
     },
     "execution_count": 17,
     "metadata": {},
     "output_type": "execute_result"
    }
   ],
   "source": [
    "# Sensitivity = true positive rate\n",
    "tp / (fn + tp)"
   ]
  },
  {
   "cell_type": "code",
   "execution_count": 18,
   "metadata": {},
   "outputs": [
    {
     "data": {
      "text/plain": [
       "0.8148148148148148"
      ]
     },
     "execution_count": 18,
     "metadata": {},
     "output_type": "execute_result"
    }
   ],
   "source": [
    "# Specificity = true negative rate\n",
    "tn / (fp + tn)"
   ]
  },
  {
   "cell_type": "markdown",
   "metadata": {},
   "source": [
    "Sensitivity and specificity are commonly used measures of classification performance. They play against each other in that we can increase one or the other of them by changing the classfiication threshold, but it will be at the cost of decreasing the other."
   ]
  },
  {
   "cell_type": "markdown",
   "metadata": {},
   "source": [
    "#### ROC Curve, plotting sensitivity and specificity across all thresholds.\n",
    "\n",
    "The ROC curve provides a look at the inherent classification ability of a given scoring system, independently of where one sets the threshold on the scores. There will then be an optimal threshold based on the desired tradeoff, which may be deduced from the ROC curve."
   ]
  },
  {
   "cell_type": "code",
   "execution_count": 19,
   "metadata": {},
   "outputs": [],
   "source": [
    "fpr, tpr, score = roc_curve(y_true=dat['y'], \n",
    "                            y_score=simmod.fittedvalues)\n",
    "auc = roc_auc_score(y_true=dat['y'], \n",
    "                    y_score=simmod.fittedvalues)"
   ]
  },
  {
   "cell_type": "markdown",
   "metadata": {},
   "source": [
    "**Plotting function for ROC curve:** \n",
    "\n",
    "Let's define a function for plotting the ROC curve taking the arrays of false postive rates and true positive rates as arguments. (Modified from: https://stackabuse.com/understanding-roc-curves-with-python/)"
   ]
  },
  {
   "cell_type": "code",
   "execution_count": 20,
   "metadata": {},
   "outputs": [],
   "source": [
    "def plot_roc(fpr, tpr, auc, lw=2):\n",
    "    plt.plot(fpr, tpr, color='darkorange', lw=lw,\n",
    "             label='ROC curve (area = '+str(round(auc,3))+')')\n",
    "    plt.plot([0, 1], [0, 1], color='navy', lw=lw, linestyle='--')\n",
    "    plt.xlabel('False Positive Rate')\n",
    "    plt.ylabel('True Positive Rate')\n",
    "    plt.title('ROC Curve')\n",
    "    plt.legend(loc=\"lower right\")\n",
    "    plt.show()"
   ]
  },
  {
   "cell_type": "code",
   "execution_count": 21,
   "metadata": {},
   "outputs": [
    {
     "data": {
      "image/png": "[encoded data removed]",
      "text/plain": [
       "<Figure size 432x288 with 1 Axes>"
      ]
     },
     "metadata": {},
     "output_type": "display_data"
    }
   ],
   "source": [
    "plot_roc(fpr, tpr, auc)"
   ]
  },
  {
   "cell_type": "markdown",
   "metadata": {},
   "source": [
    "### ROC/AUC summary\n",
    "\n",
    "The area under the curve (AUC) is one metric of the amount of information in a classification scoring system. It shows how the true positive and false positive rates track as we change the threshold in the scoring system from a maximum to a minimum possible threshold. \n",
    "\n",
    "The curve captures the trade-off between **sensitivity (TP rate)** and **1 - specificity (1 - TN rate)** as the threshold changes.\n",
    "\n",
    "The baselines for comparison are:\n",
    "\n",
    "+ Random guessing: its ROC curve is represented by the diagonal dashed line, and its AUC = 0.50.\n",
    "\n",
    "\n",
    "+ Perfect classification: Its ROC curve would jump up to a true positive rate of 1 at a false positive rate of 0; its ASUC = 1\n",
    "\n",
    "\n",
    "+ In our example, AUC = 0.89, which is pretty high depending on the context.\n",
    "\n",
    "\n"
   ]
  },
  {
   "cell_type": "markdown",
   "metadata": {},
   "source": [
    "### Example: Predicting responses to Q52 in the Pew survey - using different features."
   ]
  },
  {
   "cell_type": "code",
   "execution_count": 22,
   "metadata": {},
   "outputs": [],
   "source": [
    "zf = zp.ZipFile('../data/Feb17-public.zip')\n",
    "missing_values = [\"NaN\", \"nan\", \"Don't know/Refused (VOL.)\"]\n",
    "df = pd.read_csv(zf.open('Feb17public.csv'),\n",
    "                 na_values=missing_values)[['age', 'sex', \\\n",
    "                                            'q52', 'party']]"
   ]
  },
  {
   "cell_type": "code",
   "execution_count": 23,
   "metadata": {},
   "outputs": [
    {
     "data": {
      "text/html": [
       "<div>\n",
       "<style scoped>\n",
       "    .dataframe tbody tr th:only-of-type {\n",
       "        vertical-align: middle;\n",
       "    }\n",
       "\n",
       "    .dataframe tbody tr th {\n",
       "        vertical-align: top;\n",
       "    }\n",
       "\n",
       "    .dataframe thead th {\n",
       "        text-align: right;\n",
       "    }\n",
       "</style>\n",
       "<table border=\"1\" class=\"dataframe\">\n",
       "  <thead>\n",
       "    <tr style=\"text-align: right;\">\n",
       "      <th></th>\n",
       "      <th>age</th>\n",
       "      <th>sex</th>\n",
       "      <th>q52</th>\n",
       "      <th>party</th>\n",
       "      <th>y</th>\n",
       "    </tr>\n",
       "  </thead>\n",
       "  <tbody>\n",
       "    <tr>\n",
       "      <th>0</th>\n",
       "      <td>80.0</td>\n",
       "      <td>Female</td>\n",
       "      <td>Not_favor</td>\n",
       "      <td>Independent</td>\n",
       "      <td>0</td>\n",
       "    </tr>\n",
       "    <tr>\n",
       "      <th>1</th>\n",
       "      <td>70.0</td>\n",
       "      <td>Female</td>\n",
       "      <td>Not_favor</td>\n",
       "      <td>Democrat</td>\n",
       "      <td>0</td>\n",
       "    </tr>\n",
       "    <tr>\n",
       "      <th>2</th>\n",
       "      <td>69.0</td>\n",
       "      <td>Female</td>\n",
       "      <td>Not_favor</td>\n",
       "      <td>Independent</td>\n",
       "      <td>0</td>\n",
       "    </tr>\n",
       "    <tr>\n",
       "      <th>3</th>\n",
       "      <td>50.0</td>\n",
       "      <td>Male</td>\n",
       "      <td>Favor</td>\n",
       "      <td>Republican</td>\n",
       "      <td>1</td>\n",
       "    </tr>\n",
       "    <tr>\n",
       "      <th>4</th>\n",
       "      <td>70.0</td>\n",
       "      <td>Female</td>\n",
       "      <td>Not_favor</td>\n",
       "      <td>Democrat</td>\n",
       "      <td>0</td>\n",
       "    </tr>\n",
       "    <tr>\n",
       "      <th>5</th>\n",
       "      <td>78.0</td>\n",
       "      <td>Male</td>\n",
       "      <td>Not_favor</td>\n",
       "      <td>Democrat</td>\n",
       "      <td>0</td>\n",
       "    </tr>\n",
       "    <tr>\n",
       "      <th>6</th>\n",
       "      <td>89.0</td>\n",
       "      <td>Female</td>\n",
       "      <td>Not_favor</td>\n",
       "      <td>Independent</td>\n",
       "      <td>0</td>\n",
       "    </tr>\n",
       "    <tr>\n",
       "      <th>7</th>\n",
       "      <td>92.0</td>\n",
       "      <td>Female</td>\n",
       "      <td>Not_favor</td>\n",
       "      <td>Republican</td>\n",
       "      <td>0</td>\n",
       "    </tr>\n",
       "    <tr>\n",
       "      <th>8</th>\n",
       "      <td>54.0</td>\n",
       "      <td>Female</td>\n",
       "      <td>Favor</td>\n",
       "      <td>Independent</td>\n",
       "      <td>1</td>\n",
       "    </tr>\n",
       "    <tr>\n",
       "      <th>9</th>\n",
       "      <td>58.0</td>\n",
       "      <td>Female</td>\n",
       "      <td>Not_favor</td>\n",
       "      <td>Independent</td>\n",
       "      <td>0</td>\n",
       "    </tr>\n",
       "  </tbody>\n",
       "</table>\n",
       "</div>"
      ],
      "text/plain": [
       "    age     sex        q52        party  y\n",
       "0  80.0  Female  Not_favor  Independent  0\n",
       "1  70.0  Female  Not_favor     Democrat  0\n",
       "2  69.0  Female  Not_favor  Independent  0\n",
       "3  50.0    Male      Favor   Republican  1\n",
       "4  70.0  Female  Not_favor     Democrat  0\n",
       "5  78.0    Male  Not_favor     Democrat  0\n",
       "6  89.0  Female  Not_favor  Independent  0\n",
       "7  92.0  Female  Not_favor   Republican  0\n",
       "8  54.0  Female      Favor  Independent  1\n",
       "9  58.0  Female  Not_favor  Independent  0"
      ]
     },
     "execution_count": 23,
     "metadata": {},
     "output_type": "execute_result"
    }
   ],
   "source": [
    "# reduce q52 responses to two categories and \n",
    "# create binary reponse variable\n",
    "df['q52'][df['q52']!='Favor'] = 'Not_favor'\n",
    "df['y'] = df['q52'].map({'Not_favor':0,'Favor':1})\n",
    "#\n",
    "# use cleaned data without records that have missing values\n",
    "dfclean = df.dropna()\n",
    "dfclean.head(10)"
   ]
  },
  {
   "cell_type": "markdown",
   "metadata": {},
   "source": [
    "#### Using age and gender for predictive probability modeling"
   ]
  },
  {
   "cell_type": "code",
   "execution_count": 24,
   "metadata": {},
   "outputs": [
    {
     "name": "stdout",
     "output_type": "stream",
     "text": [
      "Optimization terminated successfully.\n",
      "         Current function value: 0.619057\n",
      "         Iterations 5\n"
     ]
    },
    {
     "data": {
      "text/html": [
       "<table class=\"simpletable\">\n",
       "<caption>Logit Regression Results</caption>\n",
       "<tr>\n",
       "  <th>Dep. Variable:</th>         <td>y</td>        <th>  No. Observations:  </th>  <td>  1465</td>  \n",
       "</tr>\n",
       "<tr>\n",
       "  <th>Model:</th>               <td>Logit</td>      <th>  Df Residuals:      </th>  <td>  1462</td>  \n",
       "</tr>\n",
       "<tr>\n",
       "  <th>Method:</th>               <td>MLE</td>       <th>  Df Model:          </th>  <td>     2</td>  \n",
       "</tr>\n",
       "<tr>\n",
       "  <th>Date:</th>          <td>Wed, 15 Apr 2020</td> <th>  Pseudo R-squ.:     </th>  <td>0.03557</td> \n",
       "</tr>\n",
       "<tr>\n",
       "  <th>Time:</th>              <td>11:35:04</td>     <th>  Log-Likelihood:    </th> <td> -906.92</td> \n",
       "</tr>\n",
       "<tr>\n",
       "  <th>converged:</th>           <td>True</td>       <th>  LL-Null:           </th> <td> -940.37</td> \n",
       "</tr>\n",
       "<tr>\n",
       "  <th> </th>                      <td> </td>        <th>  LLR p-value:       </th> <td>2.960e-15</td>\n",
       "</tr>\n",
       "</table>\n",
       "<table class=\"simpletable\">\n",
       "<tr>\n",
       "       <td></td>          <th>coef</th>     <th>std err</th>      <th>z</th>      <th>P>|z|</th>  <th>[0.025</th>    <th>0.975]</th>  \n",
       "</tr>\n",
       "<tr>\n",
       "  <th>Intercept</th>   <td>   -2.0818</td> <td>    0.196</td> <td>  -10.637</td> <td> 0.000</td> <td>   -2.465</td> <td>   -1.698</td>\n",
       "</tr>\n",
       "<tr>\n",
       "  <th>sex[T.Male]</th> <td>    0.5415</td> <td>    0.114</td> <td>    4.750</td> <td> 0.000</td> <td>    0.318</td> <td>    0.765</td>\n",
       "</tr>\n",
       "<tr>\n",
       "  <th>age</th>         <td>    0.0220</td> <td>    0.003</td> <td>    6.770</td> <td> 0.000</td> <td>    0.016</td> <td>    0.028</td>\n",
       "</tr>\n",
       "</table>"
      ],
      "text/plain": [
       "<class 'statsmodels.iolib.summary.Summary'>\n",
       "\"\"\"\n",
       "                           Logit Regression Results                           \n",
       "==============================================================================\n",
       "Dep. Variable:                      y   No. Observations:                 1465\n",
       "Model:                          Logit   Df Residuals:                     1462\n",
       "Method:                           MLE   Df Model:                            2\n",
       "Date:                Wed, 15 Apr 2020   Pseudo R-squ.:                 0.03557\n",
       "Time:                        11:35:04   Log-Likelihood:                -906.92\n",
       "converged:                       True   LL-Null:                       -940.37\n",
       "                                        LLR p-value:                 2.960e-15\n",
       "===============================================================================\n",
       "                  coef    std err          z      P>|z|      [0.025      0.975]\n",
       "-------------------------------------------------------------------------------\n",
       "Intercept      -2.0818      0.196    -10.637      0.000      -2.465      -1.698\n",
       "sex[T.Male]     0.5415      0.114      4.750      0.000       0.318       0.765\n",
       "age             0.0220      0.003      6.770      0.000       0.016       0.028\n",
       "===============================================================================\n",
       "\"\"\""
      ]
     },
     "execution_count": 24,
     "metadata": {},
     "output_type": "execute_result"
    }
   ],
   "source": [
    "mod1 = smf.logit('y ~ age + sex', data=dfclean).fit()\n",
    "mod1.summary()"
   ]
  },
  {
   "cell_type": "code",
   "execution_count": 25,
   "metadata": {},
   "outputs": [],
   "source": [
    "fpr, tpr, score = roc_curve(y_true=dfclean['y'], \n",
    "                            y_score=mod1.fittedvalues)\n",
    "auc = roc_auc_score(y_true=dfclean['y'], \n",
    "                    y_score=mod1.fittedvalues)"
   ]
  },
  {
   "cell_type": "code",
   "execution_count": 26,
   "metadata": {},
   "outputs": [
    {
     "data": {
      "image/png": "[encoded data removed]",
      "text/plain": [
       "<Figure size 432x288 with 1 Axes>"
      ]
     },
     "metadata": {},
     "output_type": "display_data"
    }
   ],
   "source": [
    "plot_roc(fpr, tpr, auc)"
   ]
  },
  {
   "cell_type": "markdown",
   "metadata": {},
   "source": [
    "**Conclusion:** We see that although 'age' and 'sex' are statistically signficant variables in the model, using only these variables to predict 'y' is not much better than random guessing. There is too much variation beyond that explained by age and gender to rely on them for accurate classfication."
   ]
  },
  {
   "cell_type": "markdown",
   "metadata": {},
   "source": [
    "#### Including party affiliation as a predictor\n",
    "\n",
    "Let's see what happens if we add 'party' to the model as an additional explanatory variable."
   ]
  },
  {
   "cell_type": "code",
   "execution_count": 27,
   "metadata": {},
   "outputs": [
    {
     "name": "stdout",
     "output_type": "stream",
     "text": [
      "Optimization terminated successfully.\n",
      "         Current function value: 0.466129\n",
      "         Iterations 6\n"
     ]
    },
    {
     "data": {
      "text/html": [
       "<table class=\"simpletable\">\n",
       "<caption>Logit Regression Results</caption>\n",
       "<tr>\n",
       "  <th>Dep. Variable:</th>         <td>y</td>        <th>  No. Observations:  </th>   <td>  1465</td>  \n",
       "</tr>\n",
       "<tr>\n",
       "  <th>Model:</th>               <td>Logit</td>      <th>  Df Residuals:      </th>   <td>  1458</td>  \n",
       "</tr>\n",
       "<tr>\n",
       "  <th>Method:</th>               <td>MLE</td>       <th>  Df Model:          </th>   <td>     6</td>  \n",
       "</tr>\n",
       "<tr>\n",
       "  <th>Date:</th>          <td>Wed, 15 Apr 2020</td> <th>  Pseudo R-squ.:     </th>   <td>0.2738</td>  \n",
       "</tr>\n",
       "<tr>\n",
       "  <th>Time:</th>              <td>11:35:04</td>     <th>  Log-Likelihood:    </th>  <td> -682.88</td> \n",
       "</tr>\n",
       "<tr>\n",
       "  <th>converged:</th>           <td>True</td>       <th>  LL-Null:           </th>  <td> -940.37</td> \n",
       "</tr>\n",
       "<tr>\n",
       "  <th> </th>                      <td> </td>        <th>  LLR p-value:       </th> <td>4.971e-108</td>\n",
       "</tr>\n",
       "</table>\n",
       "<table class=\"simpletable\">\n",
       "<tr>\n",
       "                <td></td>                   <th>coef</th>     <th>std err</th>      <th>z</th>      <th>P>|z|</th>  <th>[0.025</th>    <th>0.975]</th>  \n",
       "</tr>\n",
       "<tr>\n",
       "  <th>Intercept</th>                     <td>   -3.5261</td> <td>    0.281</td> <td>  -12.536</td> <td> 0.000</td> <td>   -4.077</td> <td>   -2.975</td>\n",
       "</tr>\n",
       "<tr>\n",
       "  <th>party[T.Independent]</th>          <td>    1.6843</td> <td>    0.191</td> <td>    8.796</td> <td> 0.000</td> <td>    1.309</td> <td>    2.060</td>\n",
       "</tr>\n",
       "<tr>\n",
       "  <th>party[T.No preference (VOL.)]</th> <td>    1.8226</td> <td>    0.379</td> <td>    4.807</td> <td> 0.000</td> <td>    1.079</td> <td>    2.566</td>\n",
       "</tr>\n",
       "<tr>\n",
       "  <th>party[T.Other party (VOL.)]</th>   <td>    2.8930</td> <td>    0.938</td> <td>    3.083</td> <td> 0.002</td> <td>    1.054</td> <td>    4.732</td>\n",
       "</tr>\n",
       "<tr>\n",
       "  <th>party[T.Republican]</th>           <td>    3.5862</td> <td>    0.206</td> <td>   17.435</td> <td> 0.000</td> <td>    3.183</td> <td>    3.989</td>\n",
       "</tr>\n",
       "<tr>\n",
       "  <th>sex[T.Male]</th>                   <td>    0.3721</td> <td>    0.137</td> <td>    2.712</td> <td> 0.007</td> <td>    0.103</td> <td>    0.641</td>\n",
       "</tr>\n",
       "<tr>\n",
       "  <th>age</th>                           <td>    0.0168</td> <td>    0.004</td> <td>    4.305</td> <td> 0.000</td> <td>    0.009</td> <td>    0.024</td>\n",
       "</tr>\n",
       "</table>"
      ],
      "text/plain": [
       "<class 'statsmodels.iolib.summary.Summary'>\n",
       "\"\"\"\n",
       "                           Logit Regression Results                           \n",
       "==============================================================================\n",
       "Dep. Variable:                      y   No. Observations:                 1465\n",
       "Model:                          Logit   Df Residuals:                     1458\n",
       "Method:                           MLE   Df Model:                            6\n",
       "Date:                Wed, 15 Apr 2020   Pseudo R-squ.:                  0.2738\n",
       "Time:                        11:35:04   Log-Likelihood:                -682.88\n",
       "converged:                       True   LL-Null:                       -940.37\n",
       "                                        LLR p-value:                4.971e-108\n",
       "=================================================================================================\n",
       "                                    coef    std err          z      P>|z|      [0.025      0.975]\n",
       "-------------------------------------------------------------------------------------------------\n",
       "Intercept                        -3.5261      0.281    -12.536      0.000      -4.077      -2.975\n",
       "party[T.Independent]              1.6843      0.191      8.796      0.000       1.309       2.060\n",
       "party[T.No preference (VOL.)]     1.8226      0.379      4.807      0.000       1.079       2.566\n",
       "party[T.Other party (VOL.)]       2.8930      0.938      3.083      0.002       1.054       4.732\n",
       "party[T.Republican]               3.5862      0.206     17.435      0.000       3.183       3.989\n",
       "sex[T.Male]                       0.3721      0.137      2.712      0.007       0.103       0.641\n",
       "age                               0.0168      0.004      4.305      0.000       0.009       0.024\n",
       "=================================================================================================\n",
       "\"\"\""
      ]
     },
     "execution_count": 27,
     "metadata": {},
     "output_type": "execute_result"
    }
   ],
   "source": [
    "mod2 = smf.logit('y ~ party + age + sex', data=dfclean).fit()\n",
    "mod2.summary()"
   ]
  },
  {
   "cell_type": "markdown",
   "metadata": {},
   "source": [
    "Note that including 'party' entails that a few more of the rows have missing information than when we only included 'age' and 'sex'. "
   ]
  },
  {
   "cell_type": "code",
   "execution_count": 28,
   "metadata": {},
   "outputs": [],
   "source": [
    "fpr, tpr, score = roc_curve(y_true=dfclean['y'], \n",
    "                            y_score=mod2.fittedvalues)\n",
    "auc = roc_auc_score(y_true=dfclean['y'], \n",
    "                    y_score=mod2.fittedvalues)"
   ]
  },
  {
   "cell_type": "code",
   "execution_count": 29,
   "metadata": {},
   "outputs": [
    {
     "data": {
      "image/png": "[encoded data removed]",
      "text/plain": [
       "<Figure size 432x288 with 1 Axes>"
      ]
     },
     "metadata": {},
     "output_type": "display_data"
    }
   ],
   "source": [
    "plot_roc(fpr, tpr, auc)"
   ]
  },
  {
   "cell_type": "markdown",
   "metadata": {},
   "source": [
    "**Conclusion:** It appears that including party affiliation in the model gives a big improvement in the ability of the model to predict the answer to 'q52', increasing the area under the curve from 0.63 to 0.83. There is still substantial variation remaining. \n",
    "\n",
    "For example, if we set the threshold for a false positive rate of 0.2 (specificity = 0.8), then the sensitivity is around 0.75. If we set the threshold sensitivity at 0.8, then the false positive rate is 0.3 (specificity = 0.7). We see that peoples' opinions are more than just the sum of their age, gender and party affiliation."
   ]
  },
  {
   "cell_type": "markdown",
   "metadata": {},
   "source": [
    "---\n",
    "STAT 207, Douglas Simpson, University of Illinois at Urbana-Champaign"
   ]
  }
 ],
 "metadata": {
  "kernelspec": {
   "display_name": "Python 3",
   "language": "python",
   "name": "python3"
  },
  "language_info": {
   "codemirror_mode": {
    "name": "ipython",
    "version": 3
   },
   "file_extension": ".py",
   "mimetype": "text/x-python",
   "name": "python",
   "nbconvert_exporter": "python",
   "pygments_lexer": "ipython3",
   "version": "3.7.3"
  }
 },
 "nbformat": 4,
 "nbformat_minor": 2
}
