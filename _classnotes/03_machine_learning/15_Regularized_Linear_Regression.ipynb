{
 "cells": [
  {
   "cell_type": "markdown",
   "metadata": {},
   "source": [
    "<!--# STAT 207: Data Science Exploration-->\n",
    "# Regularized Linear Regression and Cross-Validation\n",
    "\n",
    "Recall the standard data structure for linear regression: We have a data frame of $n$ observations on variables $X_1, X_2, \\ldots, X_p, Y$. The variable $Y$ is the **response variable** or **target** of interest, often called an **endogenous** variable. The variables $X_1, X_2, \\ldots, X_p$ are **features**, also called **exogenenous** variables. \n",
    "\n",
    "\n",
    "| $X_1$ | $X_2$ | $\\cdots$ | $X_p$ | $Y$ |\n",
    "| --- | --- | --- | --- | --- |\n",
    "| $x_{11}$ | $x_{12}$ | $\\cdots$ | $x_{1p}$ | $y_1$ |\n",
    "| $x_{21}$ | $x_{22}$ | $\\cdots$ | $x_{2p}$ | $y_2$ |\n",
    "| $\\vdots$ | $\\vdots$ | $\\cdots$ | $\\vdots$ | $\\vdots$ |\n",
    "| $x_{n1}$ | $x_{n2}$ | $\\cdots$ | $x_{np}$ | $y_n$ |\n"
   ]
  },
  {
   "cell_type": "markdown",
   "metadata": {},
   "source": [
    "In the machine learning approach, as implemented in Scikit-Learn, we separate them into:\n",
    "\n",
    "+ Features matrix $X$:\n",
    "\n",
    "| $X_1$ | $X_2$ | $\\cdots$ | $X_p$ |\n",
    "| --- | --- | --- | --- | \n",
    "| $x_{11}$ | $x_{12}$ | $\\cdots$ | $x_{1p}$ | \n",
    "| $x_{21}$ | $x_{22}$ | $\\cdots$ | $x_{2p}$ | \n",
    "| $\\vdots$ | $\\vdots$ | $\\cdots$ | $\\vdots$ | \n",
    "| $x_{n1}$ | $x_{n2}$ | $\\cdots$ | $x_{np}$ | \n",
    "\n",
    "+ Target array $y$:\n",
    "\n",
    "| $Y$ |\n",
    "| --- | \n",
    "| $y_1$ |\n",
    "| $y_2$ |\n",
    "| $\\vdots$ |\n",
    "| $y_n$ |\n"
   ]
  },
  {
   "cell_type": "markdown",
   "metadata": {},
   "source": [
    "If we select multiple linear regression as the model class, we fit a model of the form:\n",
    "\n",
    "$$\n",
    "y_i = \\beta_0 + \\beta_1 x_{i1} + \\beta_2 x_{i2} + \\cdots + \\beta_p x_{ip} + e_i, \\quad i=1, 2, \\ldots, n\n",
    "$$"
   ]
  },
  {
   "cell_type": "markdown",
   "metadata": {},
   "source": [
    "### Ordinary Least Squares versus Penalized Least Squares\n",
    "\n",
    "In the chapter on linear regression analysis we considered ordinary least squares regression. There we fit the above model by minimizing the residual sum of squares as a function of the model coefficients $(\\hat{\\beta}_0, \\hat{\\beta}_1, \\ldots, \\hat{\\beta}_p)$:\n",
    "\n",
    "\n",
    "\\begin{align*}\n",
    "\\mbox{minimize:}\\quad &RSS = \\sum_{i=1}^n (y_i - \\hat{y}_i)^2\\\\\n",
    "\\mbox{subject to:}\\quad \n",
    "&\\hat{y}_i = \\hat{\\beta}_0 + \\hat{\\beta}_1 x_{i1} + \\hat{\\beta}_2 x_{i2} + \\cdots + \\hat{\\beta}_p x_{ip}\\\\\n",
    "\\end{align*}\n",
    "\n",
    "One way to fit this is to use statsmodels.OLS. Abother way, using Scikit-Learn, is to use the sklearn.linear_model.LinearRegression function. We'll see an example below."
   ]
  },
  {
   "cell_type": "markdown",
   "metadata": {},
   "source": [
    "If the features matrix contains a large number of variables OLS might not work very well due to overfitting and the uncertainty in estimating so many coefficients. Regularized methods get around this issue by penalizing the overall size of the coefficient vector to reduce variation at the expense of some increase in bias in the estimation. \n",
    "\n",
    "We refer to such estiamators as regularized regression estimators. Here are several methods available in Scikit-Learn:"
   ]
  },
  {
   "cell_type": "markdown",
   "metadata": {},
   "source": [
    "#### Ridge Regression (L2 Penalized Least Squares):\n",
    "\n",
    "\\begin{align*}\n",
    "\\mbox{minimize:}\\quad &RSS + \\lambda \\sum_{j=0}^p \\hat{\\beta}_j^2\\\\\n",
    "\\mbox{subject to:}\\quad \n",
    "&\\hat{y}_i = \\hat{\\beta}_0 + \\hat{\\beta}_1 x_{i1} + \\hat{\\beta}_2 x_{i2} + \\cdots + \\hat{\\beta}_p x_{ip}\\\\\n",
    "\\end{align*}\n",
    "\n",
    "This is currently implemented as sklearn.linear_model.Ridge."
   ]
  },
  {
   "cell_type": "markdown",
   "metadata": {},
   "source": [
    "#### Lasso Regression (L1 Penalized Least Squares):\n",
    "\n",
    "\\begin{align*}\n",
    "\\mbox{minimize:}\\quad &RSS + \\lambda \\sum_{j=0}^p \\vert \\hat{\\beta}_j\\vert\\\\\n",
    "\\mbox{subject to:}\\quad \n",
    "&\\hat{y}_i = \\hat{\\beta}_0 + \\hat{\\beta}_1 x_{i1} + \\hat{\\beta}_2 x_{i2} + \\cdots + \\hat{\\beta}_p x_{ip}\\\\\n",
    "\\end{align*}\n",
    "\n",
    "This is currently implemented as sklearn.linear_model.Lasso."
   ]
  },
  {
   "cell_type": "markdown",
   "metadata": {},
   "source": [
    "#### Elastic Net Regression (Combined L1 and L2 Penalized Least Squares):\n",
    "\n",
    "\\begin{align*}\n",
    "\\mbox{minimize:}\\quad &RSS + \\lambda_1 \\sum_{j=0}^p \\vert \\hat{\\beta}_j\\vert + \n",
    "\\lambda_2 \\sum_{j=0}^p \\hat{\\beta}_j^2\\\\\n",
    "\\mbox{subject to:}\\quad \n",
    "&\\hat{y}_i = \\hat{\\beta}_0 + \\hat{\\beta}_1 x_{i1} + \\hat{\\beta}_2 x_{i2} + \\cdots + \\hat{\\beta}_p x_{ip}\\\\\n",
    "\\end{align*}\n",
    "\n",
    "This is currently implemented as sklearn.linear_model.ElasticNet."
   ]
  },
  {
   "cell_type": "markdown",
   "metadata": {},
   "source": [
    "### Extended example: predicting breast cancer tumor size from gene expression measurements."
   ]
  },
  {
   "cell_type": "markdown",
   "metadata": {},
   "source": [
    "In a previous lab exercise, we considered data from a breast cancer followup study on remission of cancer after treatment with tamoxofen. Patients treated for breast cancer were followed for a period of time and diagnosed as having a recurrence of breast cancer (R), or being recurrence free (RF). Various clinical measurements were made including tumor size at the time of treatment. Gene expression was measured for a large number of gene sequences. Here we focus on a sample of 50 gene sequences and study the extent to which these might be predictive of tumr size."
   ]
  },
  {
   "cell_type": "markdown",
   "metadata": {},
   "source": [
    "**Note: the analysis here differs from that in Lab 11, where the target was the 0/1 outcome cancer recurrence. Here the target is the continuous measurement tumor size.**"
   ]
  },
  {
   "cell_type": "markdown",
   "metadata": {},
   "source": [
    "#### Import and clean the data (if necessary)"
   ]
  },
  {
   "cell_type": "code",
   "execution_count": 4,
   "metadata": {},
   "outputs": [],
   "source": [
    "import pandas as pd\n",
    "import numpy as np"
   ]
  },
  {
   "cell_type": "code",
   "execution_count": 6,
   "metadata": {},
   "outputs": [
    {
     "data": {
      "text/plain": [
       "(155, 50)"
      ]
     },
     "metadata": {},
     "output_type": "display_data"
    },
    {
     "data": {
      "text/plain": [
       "(155, 22)"
      ]
     },
     "metadata": {},
     "output_type": "display_data"
    }
   ],
   "source": [
    "clin = pd.read_csv(\"clinical_data.csv\")\n",
    "X = pd.read_csv(\"gene_expr.csv\")\n",
    "display(X.shape, clin.shape)"
   ]
  },
  {
   "cell_type": "code",
   "execution_count": 7,
   "metadata": {},
   "outputs": [
    {
     "data": {
      "text/html": [
       "<div>\n",
       "<style scoped>\n",
       "    .dataframe tbody tr th:only-of-type {\n",
       "        vertical-align: middle;\n",
       "    }\n",
       "\n",
       "    .dataframe tbody tr th {\n",
       "        vertical-align: top;\n",
       "    }\n",
       "\n",
       "    .dataframe thead th {\n",
       "        text-align: right;\n",
       "    }\n",
       "</style>\n",
       "<table border=\"1\" class=\"dataframe\">\n",
       "  <thead>\n",
       "    <tr style=\"text-align: right;\">\n",
       "      <th></th>\n",
       "      <th>Tumor sample</th>\n",
       "      <th>Status</th>\n",
       "      <th>Patient age (years)</th>\n",
       "      <th>Adjuvant therapy</th>\n",
       "      <th>Histological  type</th>\n",
       "      <th>SBR Grade</th>\n",
       "      <th>Tumor size (mm)</th>\n",
       "      <th>pT (TNM)</th>\n",
       "      <th>Lymph node checked</th>\n",
       "      <th>N+</th>\n",
       "      <th>...</th>\n",
       "      <th>ER</th>\n",
       "      <th>PR</th>\n",
       "      <th>Follow-up period (months)</th>\n",
       "      <th>Local recurrence</th>\n",
       "      <th>Distant metastases</th>\n",
       "      <th>Time before recurrence (months)</th>\n",
       "      <th>State of health</th>\n",
       "      <th>Death cause</th>\n",
       "      <th>Decease delay  upon recurrence (months)</th>\n",
       "      <th>Decease delay after surgery (months)</th>\n",
       "    </tr>\n",
       "  </thead>\n",
       "  <tbody>\n",
       "    <tr>\n",
       "      <th>0</th>\n",
       "      <td>EB5012</td>\n",
       "      <td>RF</td>\n",
       "      <td>75.6</td>\n",
       "      <td>X-ray + Tam</td>\n",
       "      <td>IDC</td>\n",
       "      <td>2.0</td>\n",
       "      <td>13.0</td>\n",
       "      <td>pT1</td>\n",
       "      <td>15</td>\n",
       "      <td>3.0</td>\n",
       "      <td>...</td>\n",
       "      <td>460</td>\n",
       "      <td>28</td>\n",
       "      <td>68.5</td>\n",
       "      <td>NaN</td>\n",
       "      <td>NaN</td>\n",
       "      <td>NaN</td>\n",
       "      <td>deceased</td>\n",
       "      <td>other cause</td>\n",
       "      <td>NaN</td>\n",
       "      <td>68.5</td>\n",
       "    </tr>\n",
       "    <tr>\n",
       "      <th>1</th>\n",
       "      <td>EB5015</td>\n",
       "      <td>RF</td>\n",
       "      <td>55.3</td>\n",
       "      <td>X-ray + Tam</td>\n",
       "      <td>IDC</td>\n",
       "      <td>1.0</td>\n",
       "      <td>15.0</td>\n",
       "      <td>pT1</td>\n",
       "      <td>22</td>\n",
       "      <td>1.0</td>\n",
       "      <td>...</td>\n",
       "      <td>39</td>\n",
       "      <td>80</td>\n",
       "      <td>99.9</td>\n",
       "      <td>NaN</td>\n",
       "      <td>NaN</td>\n",
       "      <td>NaN</td>\n",
       "      <td>alive</td>\n",
       "      <td>NaN</td>\n",
       "      <td>NaN</td>\n",
       "      <td>NaN</td>\n",
       "    </tr>\n",
       "    <tr>\n",
       "      <th>2</th>\n",
       "      <td>EB5018</td>\n",
       "      <td>RF</td>\n",
       "      <td>64.4</td>\n",
       "      <td>X-ray + Tam</td>\n",
       "      <td>IDC</td>\n",
       "      <td>2.0</td>\n",
       "      <td>15.0</td>\n",
       "      <td>pT1</td>\n",
       "      <td>5</td>\n",
       "      <td>1.0</td>\n",
       "      <td>...</td>\n",
       "      <td>26</td>\n",
       "      <td>83</td>\n",
       "      <td>137.5</td>\n",
       "      <td>NaN</td>\n",
       "      <td>NaN</td>\n",
       "      <td>NaN</td>\n",
       "      <td>alive</td>\n",
       "      <td>NaN</td>\n",
       "      <td>NaN</td>\n",
       "      <td>NaN</td>\n",
       "    </tr>\n",
       "    <tr>\n",
       "      <th>3</th>\n",
       "      <td>EB5019</td>\n",
       "      <td>RF</td>\n",
       "      <td>55.4</td>\n",
       "      <td>X-ray + Tam</td>\n",
       "      <td>IDC</td>\n",
       "      <td>1.0</td>\n",
       "      <td>20.0</td>\n",
       "      <td>pT2</td>\n",
       "      <td>9</td>\n",
       "      <td>1.0</td>\n",
       "      <td>...</td>\n",
       "      <td>79</td>\n",
       "      <td>143</td>\n",
       "      <td>142.3</td>\n",
       "      <td>NaN</td>\n",
       "      <td>NaN</td>\n",
       "      <td>NaN</td>\n",
       "      <td>alive</td>\n",
       "      <td>NaN</td>\n",
       "      <td>NaN</td>\n",
       "      <td>NaN</td>\n",
       "    </tr>\n",
       "    <tr>\n",
       "      <th>4</th>\n",
       "      <td>EB5020</td>\n",
       "      <td>RF</td>\n",
       "      <td>51.1</td>\n",
       "      <td>X-ray + Tam</td>\n",
       "      <td>IDC</td>\n",
       "      <td>1.0</td>\n",
       "      <td>10.0</td>\n",
       "      <td>pT1</td>\n",
       "      <td>10</td>\n",
       "      <td>2.0</td>\n",
       "      <td>...</td>\n",
       "      <td>26</td>\n",
       "      <td>210</td>\n",
       "      <td>167.4</td>\n",
       "      <td>NaN</td>\n",
       "      <td>NaN</td>\n",
       "      <td>NaN</td>\n",
       "      <td>alive</td>\n",
       "      <td>NaN</td>\n",
       "      <td>NaN</td>\n",
       "      <td>NaN</td>\n",
       "    </tr>\n",
       "  </tbody>\n",
       "</table>\n",
       "<p>5 rows × 22 columns</p>\n",
       "</div>"
      ],
      "text/plain": [
       "  Tumor sample Status  Patient age (years) Adjuvant therapy  \\\n",
       "0       EB5012     RF                 75.6      X-ray + Tam   \n",
       "1       EB5015     RF                 55.3      X-ray + Tam   \n",
       "2       EB5018     RF                 64.4      X-ray + Tam   \n",
       "3       EB5019     RF                 55.4      X-ray + Tam   \n",
       "4       EB5020     RF                 51.1      X-ray + Tam   \n",
       "\n",
       "  Histological  type   SBR Grade  Tumor size (mm) pT (TNM) Lymph node checked  \\\n",
       "0                IDC         2.0             13.0      pT1                 15   \n",
       "1                IDC         1.0             15.0      pT1                 22   \n",
       "2                IDC         2.0             15.0      pT1                  5   \n",
       "3                IDC         1.0             20.0      pT2                  9   \n",
       "4                IDC         1.0             10.0      pT1                 10   \n",
       "\n",
       "    N+  ...   ER   PR Follow-up period (months) Local recurrence   \\\n",
       "0  3.0  ...  460   28                      68.5               NaN   \n",
       "1  1.0  ...   39   80                      99.9               NaN   \n",
       "2  1.0  ...   26   83                     137.5               NaN   \n",
       "3  1.0  ...   79  143                     142.3               NaN   \n",
       "4  2.0  ...   26  210                     167.4               NaN   \n",
       "\n",
       "   Distant metastases Time before recurrence (months) State of health  \\\n",
       "0                 NaN                             NaN        deceased   \n",
       "1                 NaN                             NaN           alive   \n",
       "2                 NaN                             NaN           alive   \n",
       "3                 NaN                             NaN           alive   \n",
       "4                 NaN                             NaN           alive   \n",
       "\n",
       "    Death cause Decease delay  upon recurrence (months)  \\\n",
       "0  other cause                                      NaN   \n",
       "1           NaN                                     NaN   \n",
       "2           NaN                                     NaN   \n",
       "3           NaN                                     NaN   \n",
       "4           NaN                                     NaN   \n",
       "\n",
       "  Decease delay after surgery (months)  \n",
       "0                                 68.5  \n",
       "1                                  NaN  \n",
       "2                                  NaN  \n",
       "3                                  NaN  \n",
       "4                                  NaN  \n",
       "\n",
       "[5 rows x 22 columns]"
      ]
     },
     "execution_count": 7,
     "metadata": {},
     "output_type": "execute_result"
    }
   ],
   "source": [
    "clin.head()"
   ]
  },
  {
   "cell_type": "code",
   "execution_count": 8,
   "metadata": {},
   "outputs": [
    {
     "data": {
      "text/plain": [
       "array([13., 15., 20., 10., 25., 12., 18., 17., 19., 21., 32., 23., 22.,\n",
       "       14., 11., nan, 30., 35., 58., 28., 16., 50., 40., 43., 45.,  9.,\n",
       "       29., 31.])"
      ]
     },
     "execution_count": 8,
     "metadata": {},
     "output_type": "execute_result"
    }
   ],
   "source": [
    "# Check if missing values in Tumor size column\n",
    "clin['Tumor size (mm)'].unique()"
   ]
  },
  {
   "cell_type": "code",
   "execution_count": 9,
   "metadata": {},
   "outputs": [],
   "source": [
    "# Since there are missing values we combine X and y data temporarily\n",
    "# to remove rows with missing values for the response\n",
    "df = X\n",
    "df['y'] = clin['Tumor size (mm)']\n",
    "df = df.dropna()"
   ]
  },
  {
   "cell_type": "code",
   "execution_count": 10,
   "metadata": {},
   "outputs": [
    {
     "data": {
      "text/plain": [
       "(150, 50)"
      ]
     },
     "metadata": {},
     "output_type": "display_data"
    },
    {
     "data": {
      "text/plain": [
       "(150,)"
      ]
     },
     "metadata": {},
     "output_type": "display_data"
    },
    {
     "data": {
      "text/html": [
       "<div>\n",
       "<style scoped>\n",
       "    .dataframe tbody tr th:only-of-type {\n",
       "        vertical-align: middle;\n",
       "    }\n",
       "\n",
       "    .dataframe tbody tr th {\n",
       "        vertical-align: top;\n",
       "    }\n",
       "\n",
       "    .dataframe thead th {\n",
       "        text-align: right;\n",
       "    }\n",
       "</style>\n",
       "<table border=\"1\" class=\"dataframe\">\n",
       "  <thead>\n",
       "    <tr style=\"text-align: right;\">\n",
       "      <th></th>\n",
       "      <th>X159</th>\n",
       "      <th>X960</th>\n",
       "      <th>X980</th>\n",
       "      <th>X986</th>\n",
       "      <th>X1023</th>\n",
       "      <th>X1028</th>\n",
       "      <th>X1064</th>\n",
       "      <th>X1092</th>\n",
       "      <th>X1103</th>\n",
       "      <th>X1109</th>\n",
       "      <th>...</th>\n",
       "      <th>X1563</th>\n",
       "      <th>X1574</th>\n",
       "      <th>X1595</th>\n",
       "      <th>X1597</th>\n",
       "      <th>X1609</th>\n",
       "      <th>X1616</th>\n",
       "      <th>X1637</th>\n",
       "      <th>X1656</th>\n",
       "      <th>X1657</th>\n",
       "      <th>X1683</th>\n",
       "    </tr>\n",
       "  </thead>\n",
       "  <tbody>\n",
       "    <tr>\n",
       "      <th>0</th>\n",
       "      <td>0.739512</td>\n",
       "      <td>1.971036</td>\n",
       "      <td>-1.660842</td>\n",
       "      <td>2.777183</td>\n",
       "      <td>3.299062</td>\n",
       "      <td>-1.954834</td>\n",
       "      <td>2.784970</td>\n",
       "      <td>0.411848</td>\n",
       "      <td>3.974931</td>\n",
       "      <td>-0.979751</td>\n",
       "      <td>...</td>\n",
       "      <td>3.221117</td>\n",
       "      <td>-1.735267</td>\n",
       "      <td>-2.036134</td>\n",
       "      <td>3.114202</td>\n",
       "      <td>-1.567229</td>\n",
       "      <td>-2.100264</td>\n",
       "      <td>-2.067843</td>\n",
       "      <td>2.116261</td>\n",
       "      <td>-2.057195</td>\n",
       "      <td>-0.868534</td>\n",
       "    </tr>\n",
       "    <tr>\n",
       "      <th>1</th>\n",
       "      <td>2.037903</td>\n",
       "      <td>2.197854</td>\n",
       "      <td>-1.263034</td>\n",
       "      <td>4.082346</td>\n",
       "      <td>5.426886</td>\n",
       "      <td>-1.732520</td>\n",
       "      <td>3.085890</td>\n",
       "      <td>0.688056</td>\n",
       "      <td>4.503384</td>\n",
       "      <td>-1.185032</td>\n",
       "      <td>...</td>\n",
       "      <td>2.927229</td>\n",
       "      <td>-1.646363</td>\n",
       "      <td>0.127756</td>\n",
       "      <td>2.772590</td>\n",
       "      <td>-1.451107</td>\n",
       "      <td>0.267480</td>\n",
       "      <td>-1.526069</td>\n",
       "      <td>2.643856</td>\n",
       "      <td>-1.625604</td>\n",
       "      <td>-1.415037</td>\n",
       "    </tr>\n",
       "    <tr>\n",
       "      <th>2</th>\n",
       "      <td>2.218338</td>\n",
       "      <td>3.471559</td>\n",
       "      <td>-1.789433</td>\n",
       "      <td>2.829994</td>\n",
       "      <td>4.746466</td>\n",
       "      <td>-2.222392</td>\n",
       "      <td>2.977280</td>\n",
       "      <td>0.944858</td>\n",
       "      <td>4.021099</td>\n",
       "      <td>-1.825502</td>\n",
       "      <td>...</td>\n",
       "      <td>3.565945</td>\n",
       "      <td>-2.296393</td>\n",
       "      <td>-2.347923</td>\n",
       "      <td>3.577213</td>\n",
       "      <td>-2.175087</td>\n",
       "      <td>-2.084889</td>\n",
       "      <td>-2.106915</td>\n",
       "      <td>2.738768</td>\n",
       "      <td>-1.387816</td>\n",
       "      <td>-0.780555</td>\n",
       "    </tr>\n",
       "    <tr>\n",
       "      <th>3</th>\n",
       "      <td>0.972344</td>\n",
       "      <td>2.638734</td>\n",
       "      <td>-2.010999</td>\n",
       "      <td>3.913935</td>\n",
       "      <td>4.744161</td>\n",
       "      <td>-2.496426</td>\n",
       "      <td>3.139577</td>\n",
       "      <td>0.155651</td>\n",
       "      <td>4.632121</td>\n",
       "      <td>-1.671513</td>\n",
       "      <td>...</td>\n",
       "      <td>3.815160</td>\n",
       "      <td>-1.706846</td>\n",
       "      <td>-2.216318</td>\n",
       "      <td>3.168707</td>\n",
       "      <td>-1.844349</td>\n",
       "      <td>-2.010999</td>\n",
       "      <td>-1.996352</td>\n",
       "      <td>2.797407</td>\n",
       "      <td>-1.743066</td>\n",
       "      <td>-1.010999</td>\n",
       "    </tr>\n",
       "    <tr>\n",
       "      <th>4</th>\n",
       "      <td>2.412235</td>\n",
       "      <td>4.033491</td>\n",
       "      <td>-1.536501</td>\n",
       "      <td>4.239650</td>\n",
       "      <td>4.304348</td>\n",
       "      <td>-1.991067</td>\n",
       "      <td>3.700095</td>\n",
       "      <td>0.878536</td>\n",
       "      <td>4.295705</td>\n",
       "      <td>-2.141092</td>\n",
       "      <td>...</td>\n",
       "      <td>4.264107</td>\n",
       "      <td>-2.424026</td>\n",
       "      <td>-2.448274</td>\n",
       "      <td>3.717911</td>\n",
       "      <td>-2.286523</td>\n",
       "      <td>-2.045515</td>\n",
       "      <td>-1.776328</td>\n",
       "      <td>2.813104</td>\n",
       "      <td>-2.353637</td>\n",
       "      <td>-1.687061</td>\n",
       "    </tr>\n",
       "  </tbody>\n",
       "</table>\n",
       "<p>5 rows × 50 columns</p>\n",
       "</div>"
      ],
      "text/plain": [
       "       X159      X960      X980      X986     X1023     X1028     X1064  \\\n",
       "0  0.739512  1.971036 -1.660842  2.777183  3.299062 -1.954834  2.784970   \n",
       "1  2.037903  2.197854 -1.263034  4.082346  5.426886 -1.732520  3.085890   \n",
       "2  2.218338  3.471559 -1.789433  2.829994  4.746466 -2.222392  2.977280   \n",
       "3  0.972344  2.638734 -2.010999  3.913935  4.744161 -2.496426  3.139577   \n",
       "4  2.412235  4.033491 -1.536501  4.239650  4.304348 -1.991067  3.700095   \n",
       "\n",
       "      X1092     X1103     X1109  ...     X1563     X1574     X1595     X1597  \\\n",
       "0  0.411848  3.974931 -0.979751  ...  3.221117 -1.735267 -2.036134  3.114202   \n",
       "1  0.688056  4.503384 -1.185032  ...  2.927229 -1.646363  0.127756  2.772590   \n",
       "2  0.944858  4.021099 -1.825502  ...  3.565945 -2.296393 -2.347923  3.577213   \n",
       "3  0.155651  4.632121 -1.671513  ...  3.815160 -1.706846 -2.216318  3.168707   \n",
       "4  0.878536  4.295705 -2.141092  ...  4.264107 -2.424026 -2.448274  3.717911   \n",
       "\n",
       "      X1609     X1616     X1637     X1656     X1657     X1683  \n",
       "0 -1.567229 -2.100264 -2.067843  2.116261 -2.057195 -0.868534  \n",
       "1 -1.451107  0.267480 -1.526069  2.643856 -1.625604 -1.415037  \n",
       "2 -2.175087 -2.084889 -2.106915  2.738768 -1.387816 -0.780555  \n",
       "3 -1.844349 -2.010999 -1.996352  2.797407 -1.743066 -1.010999  \n",
       "4 -2.286523 -2.045515 -1.776328  2.813104 -2.353637 -1.687061  \n",
       "\n",
       "[5 rows x 50 columns]"
      ]
     },
     "metadata": {},
     "output_type": "display_data"
    },
    {
     "data": {
      "text/plain": [
       "0    13.0\n",
       "1    15.0\n",
       "2    15.0\n",
       "3    20.0\n",
       "4    10.0\n",
       "Name: y, dtype: float64"
      ]
     },
     "metadata": {},
     "output_type": "display_data"
    }
   ],
   "source": [
    "# separate the 'cleaned' X and y arrays\n",
    "X = df.iloc[:,:df.shape[1]-1]\n",
    "y = df['y']\n",
    "display(X.shape, y.shape, X.head(), y.head())"
   ]
  },
  {
   "cell_type": "markdown",
   "metadata": {},
   "source": [
    "#### Distribution of tumor size"
   ]
  },
  {
   "cell_type": "code",
   "execution_count": 11,
   "metadata": {},
   "outputs": [],
   "source": [
    "import matplotlib.pyplot as plt\n",
    "import seaborn as sns; sns.set()"
   ]
  },
  {
   "cell_type": "code",
   "execution_count": 12,
   "metadata": {},
   "outputs": [
    {
     "data": {
      "image/png": "[encoded data removed]",
      "text/plain": [
       "<Figure size 432x288 with 1 Axes>"
      ]
     },
     "metadata": {
      "needs_background": "light"
     },
     "output_type": "display_data"
    }
   ],
   "source": [
    "sns.distplot(y)\n",
    "plt.xlabel(\"Tumor Size (mm)\")\n",
    "plt.show()"
   ]
  },
  {
   "cell_type": "markdown",
   "metadata": {},
   "source": [
    "#### Preliminary OLS regression"
   ]
  },
  {
   "cell_type": "code",
   "execution_count": 17,
   "metadata": {},
   "outputs": [],
   "source": [
    "from sklearn.linear_model import Lasso, LinearRegression"
   ]
  },
  {
   "cell_type": "code",
   "execution_count": 16,
   "metadata": {},
   "outputs": [
    {
     "data": {
      "text/html": [
       "<div>\n",
       "<style scoped>\n",
       "    .dataframe tbody tr th:only-of-type {\n",
       "        vertical-align: middle;\n",
       "    }\n",
       "\n",
       "    .dataframe tbody tr th {\n",
       "        vertical-align: top;\n",
       "    }\n",
       "\n",
       "    .dataframe thead th {\n",
       "        text-align: right;\n",
       "    }\n",
       "</style>\n",
       "<table border=\"1\" class=\"dataframe\">\n",
       "  <thead>\n",
       "    <tr style=\"text-align: right;\">\n",
       "      <th></th>\n",
       "      <th>X159</th>\n",
       "      <th>X960</th>\n",
       "      <th>X980</th>\n",
       "      <th>X986</th>\n",
       "      <th>X1023</th>\n",
       "      <th>X1028</th>\n",
       "      <th>X1064</th>\n",
       "      <th>X1092</th>\n",
       "      <th>X1103</th>\n",
       "      <th>X1109</th>\n",
       "      <th>...</th>\n",
       "      <th>X1563</th>\n",
       "      <th>X1574</th>\n",
       "      <th>X1595</th>\n",
       "      <th>X1597</th>\n",
       "      <th>X1609</th>\n",
       "      <th>X1616</th>\n",
       "      <th>X1637</th>\n",
       "      <th>X1656</th>\n",
       "      <th>X1657</th>\n",
       "      <th>X1683</th>\n",
       "    </tr>\n",
       "  </thead>\n",
       "  <tbody>\n",
       "    <tr>\n",
       "      <th>0</th>\n",
       "      <td>0.739512</td>\n",
       "      <td>1.971036</td>\n",
       "      <td>-1.660842</td>\n",
       "      <td>2.777183</td>\n",
       "      <td>3.299062</td>\n",
       "      <td>-1.954834</td>\n",
       "      <td>2.784970</td>\n",
       "      <td>0.411848</td>\n",
       "      <td>3.974931</td>\n",
       "      <td>-0.979751</td>\n",
       "      <td>...</td>\n",
       "      <td>3.221117</td>\n",
       "      <td>-1.735267</td>\n",
       "      <td>-2.036134</td>\n",
       "      <td>3.114202</td>\n",
       "      <td>-1.567229</td>\n",
       "      <td>-2.100264</td>\n",
       "      <td>-2.067843</td>\n",
       "      <td>2.116261</td>\n",
       "      <td>-2.057195</td>\n",
       "      <td>-0.868534</td>\n",
       "    </tr>\n",
       "    <tr>\n",
       "      <th>1</th>\n",
       "      <td>2.037903</td>\n",
       "      <td>2.197854</td>\n",
       "      <td>-1.263034</td>\n",
       "      <td>4.082346</td>\n",
       "      <td>5.426886</td>\n",
       "      <td>-1.732520</td>\n",
       "      <td>3.085890</td>\n",
       "      <td>0.688056</td>\n",
       "      <td>4.503384</td>\n",
       "      <td>-1.185032</td>\n",
       "      <td>...</td>\n",
       "      <td>2.927229</td>\n",
       "      <td>-1.646363</td>\n",
       "      <td>0.127756</td>\n",
       "      <td>2.772590</td>\n",
       "      <td>-1.451107</td>\n",
       "      <td>0.267480</td>\n",
       "      <td>-1.526069</td>\n",
       "      <td>2.643856</td>\n",
       "      <td>-1.625604</td>\n",
       "      <td>-1.415037</td>\n",
       "    </tr>\n",
       "    <tr>\n",
       "      <th>2</th>\n",
       "      <td>2.218338</td>\n",
       "      <td>3.471559</td>\n",
       "      <td>-1.789433</td>\n",
       "      <td>2.829994</td>\n",
       "      <td>4.746466</td>\n",
       "      <td>-2.222392</td>\n",
       "      <td>2.977280</td>\n",
       "      <td>0.944858</td>\n",
       "      <td>4.021099</td>\n",
       "      <td>-1.825502</td>\n",
       "      <td>...</td>\n",
       "      <td>3.565945</td>\n",
       "      <td>-2.296393</td>\n",
       "      <td>-2.347923</td>\n",
       "      <td>3.577213</td>\n",
       "      <td>-2.175087</td>\n",
       "      <td>-2.084889</td>\n",
       "      <td>-2.106915</td>\n",
       "      <td>2.738768</td>\n",
       "      <td>-1.387816</td>\n",
       "      <td>-0.780555</td>\n",
       "    </tr>\n",
       "    <tr>\n",
       "      <th>3</th>\n",
       "      <td>0.972344</td>\n",
       "      <td>2.638734</td>\n",
       "      <td>-2.010999</td>\n",
       "      <td>3.913935</td>\n",
       "      <td>4.744161</td>\n",
       "      <td>-2.496426</td>\n",
       "      <td>3.139577</td>\n",
       "      <td>0.155651</td>\n",
       "      <td>4.632121</td>\n",
       "      <td>-1.671513</td>\n",
       "      <td>...</td>\n",
       "      <td>3.815160</td>\n",
       "      <td>-1.706846</td>\n",
       "      <td>-2.216318</td>\n",
       "      <td>3.168707</td>\n",
       "      <td>-1.844349</td>\n",
       "      <td>-2.010999</td>\n",
       "      <td>-1.996352</td>\n",
       "      <td>2.797407</td>\n",
       "      <td>-1.743066</td>\n",
       "      <td>-1.010999</td>\n",
       "    </tr>\n",
       "    <tr>\n",
       "      <th>4</th>\n",
       "      <td>2.412235</td>\n",
       "      <td>4.033491</td>\n",
       "      <td>-1.536501</td>\n",
       "      <td>4.239650</td>\n",
       "      <td>4.304348</td>\n",
       "      <td>-1.991067</td>\n",
       "      <td>3.700095</td>\n",
       "      <td>0.878536</td>\n",
       "      <td>4.295705</td>\n",
       "      <td>-2.141092</td>\n",
       "      <td>...</td>\n",
       "      <td>4.264107</td>\n",
       "      <td>-2.424026</td>\n",
       "      <td>-2.448274</td>\n",
       "      <td>3.717911</td>\n",
       "      <td>-2.286523</td>\n",
       "      <td>-2.045515</td>\n",
       "      <td>-1.776328</td>\n",
       "      <td>2.813104</td>\n",
       "      <td>-2.353637</td>\n",
       "      <td>-1.687061</td>\n",
       "    </tr>\n",
       "    <tr>\n",
       "      <th>...</th>\n",
       "      <td>...</td>\n",
       "      <td>...</td>\n",
       "      <td>...</td>\n",
       "      <td>...</td>\n",
       "      <td>...</td>\n",
       "      <td>...</td>\n",
       "      <td>...</td>\n",
       "      <td>...</td>\n",
       "      <td>...</td>\n",
       "      <td>...</td>\n",
       "      <td>...</td>\n",
       "      <td>...</td>\n",
       "      <td>...</td>\n",
       "      <td>...</td>\n",
       "      <td>...</td>\n",
       "      <td>...</td>\n",
       "      <td>...</td>\n",
       "      <td>...</td>\n",
       "      <td>...</td>\n",
       "      <td>...</td>\n",
       "      <td>...</td>\n",
       "    </tr>\n",
       "    <tr>\n",
       "      <th>150</th>\n",
       "      <td>1.037313</td>\n",
       "      <td>-1.084316</td>\n",
       "      <td>3.636530</td>\n",
       "      <td>0.764423</td>\n",
       "      <td>-0.166778</td>\n",
       "      <td>-0.379772</td>\n",
       "      <td>-1.300045</td>\n",
       "      <td>2.032701</td>\n",
       "      <td>0.473679</td>\n",
       "      <td>3.469135</td>\n",
       "      <td>...</td>\n",
       "      <td>-0.031849</td>\n",
       "      <td>2.531484</td>\n",
       "      <td>2.656651</td>\n",
       "      <td>1.384798</td>\n",
       "      <td>1.094487</td>\n",
       "      <td>2.626363</td>\n",
       "      <td>0.557401</td>\n",
       "      <td>0.935583</td>\n",
       "      <td>1.822574</td>\n",
       "      <td>3.161500</td>\n",
       "    </tr>\n",
       "    <tr>\n",
       "      <th>151</th>\n",
       "      <td>1.133431</td>\n",
       "      <td>-0.618910</td>\n",
       "      <td>4.335286</td>\n",
       "      <td>-0.191048</td>\n",
       "      <td>0.128324</td>\n",
       "      <td>0.363812</td>\n",
       "      <td>-0.671377</td>\n",
       "      <td>3.962470</td>\n",
       "      <td>0.406625</td>\n",
       "      <td>3.383235</td>\n",
       "      <td>...</td>\n",
       "      <td>0.512335</td>\n",
       "      <td>3.035897</td>\n",
       "      <td>3.078885</td>\n",
       "      <td>0.948775</td>\n",
       "      <td>1.236700</td>\n",
       "      <td>3.137249</td>\n",
       "      <td>0.661198</td>\n",
       "      <td>0.346325</td>\n",
       "      <td>1.480626</td>\n",
       "      <td>1.664730</td>\n",
       "    </tr>\n",
       "    <tr>\n",
       "      <th>152</th>\n",
       "      <td>1.612861</td>\n",
       "      <td>-1.200427</td>\n",
       "      <td>5.036507</td>\n",
       "      <td>-0.074318</td>\n",
       "      <td>-0.353972</td>\n",
       "      <td>-0.393072</td>\n",
       "      <td>-1.172946</td>\n",
       "      <td>2.084975</td>\n",
       "      <td>0.809940</td>\n",
       "      <td>2.818522</td>\n",
       "      <td>...</td>\n",
       "      <td>-0.024350</td>\n",
       "      <td>3.861100</td>\n",
       "      <td>3.932023</td>\n",
       "      <td>2.391455</td>\n",
       "      <td>1.461077</td>\n",
       "      <td>3.947756</td>\n",
       "      <td>0.416546</td>\n",
       "      <td>1.032824</td>\n",
       "      <td>1.608908</td>\n",
       "      <td>3.079987</td>\n",
       "    </tr>\n",
       "    <tr>\n",
       "      <th>153</th>\n",
       "      <td>1.204820</td>\n",
       "      <td>-1.413874</td>\n",
       "      <td>4.426671</td>\n",
       "      <td>-0.174298</td>\n",
       "      <td>-0.629302</td>\n",
       "      <td>-0.935110</td>\n",
       "      <td>-2.120142</td>\n",
       "      <td>1.191116</td>\n",
       "      <td>0.567390</td>\n",
       "      <td>2.790792</td>\n",
       "      <td>...</td>\n",
       "      <td>-0.272145</td>\n",
       "      <td>2.330982</td>\n",
       "      <td>2.410664</td>\n",
       "      <td>0.579129</td>\n",
       "      <td>1.039623</td>\n",
       "      <td>2.386818</td>\n",
       "      <td>-0.046142</td>\n",
       "      <td>0.110902</td>\n",
       "      <td>0.640919</td>\n",
       "      <td>2.673042</td>\n",
       "    </tr>\n",
       "    <tr>\n",
       "      <th>154</th>\n",
       "      <td>0.742063</td>\n",
       "      <td>-0.842899</td>\n",
       "      <td>4.180525</td>\n",
       "      <td>0.025311</td>\n",
       "      <td>-0.065291</td>\n",
       "      <td>-0.630354</td>\n",
       "      <td>-1.176323</td>\n",
       "      <td>4.576426</td>\n",
       "      <td>0.427749</td>\n",
       "      <td>3.528549</td>\n",
       "      <td>...</td>\n",
       "      <td>-0.344446</td>\n",
       "      <td>5.920234</td>\n",
       "      <td>5.892563</td>\n",
       "      <td>0.622765</td>\n",
       "      <td>1.309104</td>\n",
       "      <td>5.952548</td>\n",
       "      <td>0.589212</td>\n",
       "      <td>-0.393914</td>\n",
       "      <td>1.479029</td>\n",
       "      <td>2.406233</td>\n",
       "    </tr>\n",
       "  </tbody>\n",
       "</table>\n",
       "<p>150 rows × 50 columns</p>\n",
       "</div>"
      ],
      "text/plain": [
       "         X159      X960      X980      X986     X1023     X1028     X1064  \\\n",
       "0    0.739512  1.971036 -1.660842  2.777183  3.299062 -1.954834  2.784970   \n",
       "1    2.037903  2.197854 -1.263034  4.082346  5.426886 -1.732520  3.085890   \n",
       "2    2.218338  3.471559 -1.789433  2.829994  4.746466 -2.222392  2.977280   \n",
       "3    0.972344  2.638734 -2.010999  3.913935  4.744161 -2.496426  3.139577   \n",
       "4    2.412235  4.033491 -1.536501  4.239650  4.304348 -1.991067  3.700095   \n",
       "..        ...       ...       ...       ...       ...       ...       ...   \n",
       "150  1.037313 -1.084316  3.636530  0.764423 -0.166778 -0.379772 -1.300045   \n",
       "151  1.133431 -0.618910  4.335286 -0.191048  0.128324  0.363812 -0.671377   \n",
       "152  1.612861 -1.200427  5.036507 -0.074318 -0.353972 -0.393072 -1.172946   \n",
       "153  1.204820 -1.413874  4.426671 -0.174298 -0.629302 -0.935110 -2.120142   \n",
       "154  0.742063 -0.842899  4.180525  0.025311 -0.065291 -0.630354 -1.176323   \n",
       "\n",
       "        X1092     X1103     X1109  ...     X1563     X1574     X1595  \\\n",
       "0    0.411848  3.974931 -0.979751  ...  3.221117 -1.735267 -2.036134   \n",
       "1    0.688056  4.503384 -1.185032  ...  2.927229 -1.646363  0.127756   \n",
       "2    0.944858  4.021099 -1.825502  ...  3.565945 -2.296393 -2.347923   \n",
       "3    0.155651  4.632121 -1.671513  ...  3.815160 -1.706846 -2.216318   \n",
       "4    0.878536  4.295705 -2.141092  ...  4.264107 -2.424026 -2.448274   \n",
       "..        ...       ...       ...  ...       ...       ...       ...   \n",
       "150  2.032701  0.473679  3.469135  ... -0.031849  2.531484  2.656651   \n",
       "151  3.962470  0.406625  3.383235  ...  0.512335  3.035897  3.078885   \n",
       "152  2.084975  0.809940  2.818522  ... -0.024350  3.861100  3.932023   \n",
       "153  1.191116  0.567390  2.790792  ... -0.272145  2.330982  2.410664   \n",
       "154  4.576426  0.427749  3.528549  ... -0.344446  5.920234  5.892563   \n",
       "\n",
       "        X1597     X1609     X1616     X1637     X1656     X1657     X1683  \n",
       "0    3.114202 -1.567229 -2.100264 -2.067843  2.116261 -2.057195 -0.868534  \n",
       "1    2.772590 -1.451107  0.267480 -1.526069  2.643856 -1.625604 -1.415037  \n",
       "2    3.577213 -2.175087 -2.084889 -2.106915  2.738768 -1.387816 -0.780555  \n",
       "3    3.168707 -1.844349 -2.010999 -1.996352  2.797407 -1.743066 -1.010999  \n",
       "4    3.717911 -2.286523 -2.045515 -1.776328  2.813104 -2.353637 -1.687061  \n",
       "..        ...       ...       ...       ...       ...       ...       ...  \n",
       "150  1.384798  1.094487  2.626363  0.557401  0.935583  1.822574  3.161500  \n",
       "151  0.948775  1.236700  3.137249  0.661198  0.346325  1.480626  1.664730  \n",
       "152  2.391455  1.461077  3.947756  0.416546  1.032824  1.608908  3.079987  \n",
       "153  0.579129  1.039623  2.386818 -0.046142  0.110902  0.640919  2.673042  \n",
       "154  0.622765  1.309104  5.952548  0.589212 -0.393914  1.479029  2.406233  \n",
       "\n",
       "[150 rows x 50 columns]"
      ]
     },
     "execution_count": 16,
     "metadata": {},
     "output_type": "execute_result"
    }
   ],
   "source": [
    "X"
   ]
  },
  {
   "cell_type": "code",
   "execution_count": 10,
   "metadata": {},
   "outputs": [
    {
     "data": {
      "text/plain": [
       "LinearRegression(copy_X=True, fit_intercept=True, n_jobs=None, normalize=False)"
      ]
     },
     "execution_count": 10,
     "metadata": {},
     "output_type": "execute_result"
    }
   ],
   "source": [
    "clf0 = LinearRegression()\n",
    "clf0.fit(X, y)"
   ]
  },
  {
   "cell_type": "code",
   "execution_count": 11,
   "metadata": {},
   "outputs": [
    {
     "data": {
      "text/plain": [
       "array([  2.20642824,   5.73645705,  -3.70078376,  -1.52810086,\n",
       "        -2.55866198,   4.62944497,   3.20100039,  -0.15651285,\n",
       "         0.8295082 ,  -0.26705349,  -0.84674546,  -0.18454073,\n",
       "        -5.47570687,  -0.33206248,  -2.9031553 ,   3.7898117 ,\n",
       "         1.52793373,  -1.75916655,  -1.61799504,   1.33606853,\n",
       "         0.53881213,  -1.68033748,   1.03572337,  -3.07886961,\n",
       "         1.89327167,   1.32609532,   1.51691292,   5.13134524,\n",
       "         1.1803146 ,   1.17031312,  -1.22612368,  -0.42411867,\n",
       "        -0.80855624,  10.60913493,   0.40534732,  -3.39861693,\n",
       "        -1.05464182,  -3.17305953,  -0.85560333,   1.42079076,\n",
       "        -2.86614015,   1.7424332 , -13.64868781,   0.95394073,\n",
       "         1.8303876 ,   9.92400894,  -1.09894506,  -2.0330619 ,\n",
       "         0.08022517,   0.58108416])"
      ]
     },
     "execution_count": 11,
     "metadata": {},
     "output_type": "execute_result"
    }
   ],
   "source": [
    "clf0.coef_"
   ]
  },
  {
   "cell_type": "code",
   "execution_count": 12,
   "metadata": {},
   "outputs": [
    {
     "data": {
      "text/plain": [
       "36.329802484255694"
      ]
     },
     "execution_count": 12,
     "metadata": {},
     "output_type": "execute_result"
    }
   ],
   "source": [
    "clf0.intercept_"
   ]
  },
  {
   "cell_type": "code",
   "execution_count": 13,
   "metadata": {},
   "outputs": [
    {
     "data": {
      "text/plain": [
       "Lasso(alpha=0.3, copy_X=True, fit_intercept=True, max_iter=1000,\n",
       "      normalize=False, positive=False, precompute=False, random_state=None,\n",
       "      selection='cyclic', tol=0.0001, warm_start=False)"
      ]
     },
     "execution_count": 13,
     "metadata": {},
     "output_type": "execute_result"
    }
   ],
   "source": [
    "clf1 = Lasso(alpha=0.3, max_iter=1000)\n",
    "clf1.fit(X, y)"
   ]
  },
  {
   "cell_type": "markdown",
   "metadata": {},
   "source": [
    "#### Lasso regression - sparse model coefficients"
   ]
  },
  {
   "cell_type": "code",
   "execution_count": 14,
   "metadata": {},
   "outputs": [
    {
     "data": {
      "text/plain": [
       "array([ 0.        ,  1.57292523, -0.        , -0.        , -1.12071011,\n",
       "        1.83585391,  0.90318446,  0.00408525, -0.        , -0.66618291,\n",
       "       -0.        , -0.23909975, -0.76706287, -0.        , -0.43921484,\n",
       "        0.        ,  0.        , -0.        , -0.        ,  0.        ,\n",
       "        0.        , -0.29129979,  0.        ,  0.        , -0.        ,\n",
       "       -0.        , -0.        ,  0.        , -0.30128854,  0.        ,\n",
       "       -0.1959114 , -0.        ,  0.        ,  1.35211882,  0.        ,\n",
       "       -0.3433057 , -0.25661963, -0.68935131, -0.45513361, -0.        ,\n",
       "       -0.        , -0.        , -0.        , -0.        ,  0.10228446,\n",
       "       -0.        ,  0.        , -0.65530107,  0.        , -0.        ])"
      ]
     },
     "execution_count": 14,
     "metadata": {},
     "output_type": "execute_result"
    }
   ],
   "source": [
    "# Let's have a look at the coefficient estimates\n",
    "clf1.coef_"
   ]
  },
  {
   "cell_type": "code",
   "execution_count": 15,
   "metadata": {},
   "outputs": [
    {
     "data": {
      "text/plain": [
       "0.38"
      ]
     },
     "execution_count": 15,
     "metadata": {},
     "output_type": "execute_result"
    }
   ],
   "source": [
    "# What fraction are nonzero?\n",
    "tol = 10**(-6)\n",
    "sum(np.abs(clf1.coef_) > tol)/np.size(clf1.coef_)"
   ]
  },
  {
   "cell_type": "markdown",
   "metadata": {},
   "source": [
    "#### Compare OLS and Lasso coefficent estimates"
   ]
  },
  {
   "cell_type": "code",
   "execution_count": 16,
   "metadata": {},
   "outputs": [
    {
     "data": {
      "image/png": "[encoded data removed]",
      "text/plain": [
       "<Figure size 432x288 with 1 Axes>"
      ]
     },
     "metadata": {
      "needs_background": "light"
     },
     "output_type": "display_data"
    }
   ],
   "source": [
    "lw=3\n",
    "plt.plot(np.arange(np.size(clf0.coef_)), clf0.coef_, lw=lw)\n",
    "plt.plot(np.arange(np.size(clf1.coef_)), clf1.coef_, lw=lw)\n",
    "#plt.xticks(np.arange(0,20,1))\n",
    "plt.xlabel('Coefficient index')\n",
    "plt.ylabel('Coefficient Value')\n",
    "plt.title('Coefficient Estimates for OLS and LASSO')\n",
    "plt.legend(['OLS','LASSO'], loc='lower left')\n",
    "plt.hlines(y=0, xmin=0, xmax=50, linestyles='--')\n",
    "plt.show()"
   ]
  },
  {
   "cell_type": "markdown",
   "metadata": {},
   "source": [
    "### Cross-validation analysis of predictive accuracy"
   ]
  },
  {
   "cell_type": "markdown",
   "metadata": {},
   "source": [
    "We don't know the true values for the coefficients. We can, however, use k-fold cross-validation to compare the predictive performance of the two estimators.\n",
    "\n",
    "**Why do we need cross-validation? Why not just compare the residual sum of squares for the two models?**\n",
    "\n",
    "**Problem:** OLS minimizes RSS directly, so it will always have better within-sample RSS. To avoid this bias we need to do out-of-sample RSS, using the train/test approach. \n"
   ]
  },
  {
   "cell_type": "markdown",
   "metadata": {},
   "source": [
    "#### Out-of-sample predictive accuracy\n",
    "\n",
    "Instead of residual sum of squares we'll use the out-of-sample mean square prediction error. \n",
    "\n",
    "+ First we split the data into train and test sets. \n",
    "\n",
    "\n",
    "+ Next, we fit the model using one of the methods described above using training data only. This gives us coefficient estimates:\n",
    "\n",
    "\\begin{equation}\n",
    "(\\hat{\\beta}_{train,0}, \\hat{\\beta}_{train,1}, \\ldots, \\hat{\\beta}_{train,p})\n",
    "\\end{equation}\n",
    "\n",
    "+ Next, we obtain the predicted values for the test data based on teh training model:\n",
    "\n",
    "\\begin{equation}\n",
    "\\hat{y}_{test, i} = \\hat{\\beta}_{train,0} + \\hat{\\beta}_{train,1} * x_{test,i1} +\n",
    "\\cdots + \\hat{\\beta}_{train,p} * x_{test,ip}\n",
    "\\end{equation}\n",
    "\n",
    "+ Compute out-of-sample mean square error is\n",
    "\n",
    "\\begin{equation}\n",
    "MSE_{test} = {1\\over n_{test}} \\sum_{i=1}^{n_{test}} (y_{test,i} - \\hat{y}_{test,i} )^2\n",
    "\\end{equation}"
   ]
  },
  {
   "cell_type": "markdown",
   "metadata": {},
   "source": [
    "#### K-fold cross validation\n",
    "\n",
    "Dividing the data into $k$ random subsets, we can then cycle through each of the resulting train/test splits and compute the out of sample MSE's. The way this works is that each of the $k$ subsets is used once as the test set, with the other $k-1$ subsets used for training. The process repeats $k$ times to produce $k$ different \"scores\". Averaging the scores over the $k$ train/test splits leads to an improved overall estimate of predictive accuracy.\n",
    "\n",
    "The Scikit-Learn function cross_val_score implements this as the scoring method:\n",
    "\n",
    "            neg_mean_squared_error = - MSE_test\n",
    "\n",
    "\n",
    "Why? It makes higher scores \"better\" in that they correspond to smaller MSE.\n",
    "\n",
    "If 'cv=k' is selected, $k$ different values of neg_mean_squared_err will be computed based on the $k$ splits of the data."
   ]
  },
  {
   "cell_type": "markdown",
   "metadata": {},
   "source": [
    "#### Using the Scikit-Learn function cross_val_score"
   ]
  },
  {
   "cell_type": "code",
   "execution_count": 17,
   "metadata": {},
   "outputs": [],
   "source": [
    "from sklearn.model_selection import cross_val_score"
   ]
  },
  {
   "cell_type": "code",
   "execution_count": 18,
   "metadata": {},
   "outputs": [
    {
     "data": {
      "text/plain": [
       "array([-224.87305851, -125.45118196, -117.67760614,  -79.61891434,\n",
       "        -91.90508918])"
      ]
     },
     "metadata": {},
     "output_type": "display_data"
    },
    {
     "data": {
      "text/plain": [
       "-127.9051700255314"
      ]
     },
     "metadata": {},
     "output_type": "display_data"
    }
   ],
   "source": [
    "# OLS Negative MSE for prediction\n",
    "modclass0 = LinearRegression()\n",
    "scores0 = cross_val_score(modclass0, X, y, cv=5, \n",
    "                          scoring=\"neg_mean_squared_error\")\n",
    "display(scores0, np.mean(scores0))"
   ]
  },
  {
   "cell_type": "code",
   "execution_count": 19,
   "metadata": {},
   "outputs": [
    {
     "data": {
      "text/plain": [
       "array([ -52.00450159, -105.81602909, -104.74790139,  -72.53890058,\n",
       "        -69.78054464])"
      ]
     },
     "metadata": {},
     "output_type": "display_data"
    },
    {
     "data": {
      "text/plain": [
       "-80.9775754568175"
      ]
     },
     "metadata": {},
     "output_type": "display_data"
    }
   ],
   "source": [
    "modclass1 = Lasso(alpha=0.3, max_iter=1000)\n",
    "scores1 = cross_val_score(modclass1, X, y, cv=5, \n",
    "                          scoring=\"neg_mean_squared_error\")\n",
    "display(scores1, np.mean(scores1))"
   ]
  },
  {
   "cell_type": "markdown",
   "metadata": {},
   "source": [
    "Conclusion: We see that L1 penalized regression has much better predictive accuracy in this example than OLS regression."
   ]
  },
  {
   "cell_type": "markdown",
   "metadata": {},
   "source": [
    "#### Estimated predictive accuracy\n",
    "\n",
    "The average test MSE gives us a rough idea of how close the model predictions are expected to be to the actual values. For the Lasso, the estimated MSE was 81.0, which translates to a standard deviation for prediction of 9.0. We would therefore predict with approximate 95% confidence that the actual tumor size measurement would be within +/- 18.0 mm of the predicted value based on the gene expression measurements.\n",
    "\n",
    "Comparing to the marginal distribution of tunor sizes above, this seems only a small gain in precision using these 50 gene expression values. Using more advanced methods, we might be able to use all of the gene expression values, not just a sample of 50, to do a better job of predicting tumor size from gene expression measurements. "
   ]
  },
  {
   "cell_type": "markdown",
   "metadata": {},
   "source": [
    "### Selecting the tuning parameter"
   ]
  },
  {
   "cell_type": "markdown",
   "metadata": {},
   "source": [
    "To use a regularization method like the Lasso, we need to set the value of the tuning parameter that determines how much weight to give to the penalty function in fitting the model. how much impact does this have?\n",
    "\n",
    "**Example:** Let's experiment with different settings in the breast cancer example, using gene expression features to predict tumor size."
   ]
  },
  {
   "cell_type": "code",
   "execution_count": 20,
   "metadata": {},
   "outputs": [],
   "source": [
    "# Several settings for alpha\n",
    "mod000 = LinearRegression()\n",
    "mod025 = Lasso(alpha=0.25, max_iter=1000)\n",
    "mod050 = Lasso(alpha=0.50, max_iter=1000)\n",
    "mod075 = Lasso(alpha=0.75, max_iter=1000)\n",
    "mod100 = Lasso(alpha=1.00, max_iter=1000)\n",
    "mod300 = Lasso(alpha=3.00, max_iter=1000)"
   ]
  },
  {
   "cell_type": "code",
   "execution_count": 21,
   "metadata": {},
   "outputs": [
    {
     "data": {
      "text/plain": [
       "Lasso(alpha=3.0, copy_X=True, fit_intercept=True, max_iter=1000,\n",
       "      normalize=False, positive=False, precompute=False, random_state=None,\n",
       "      selection='cyclic', tol=0.0001, warm_start=False)"
      ]
     },
     "execution_count": 21,
     "metadata": {},
     "output_type": "execute_result"
    }
   ],
   "source": [
    "# Fit the models\n",
    "mod000.fit(X, y)\n",
    "mod025.fit(X, y)\n",
    "mod050.fit(X, y)\n",
    "mod075.fit(X, y)\n",
    "mod100.fit(X, y)\n",
    "mod300.fit(X, y)"
   ]
  },
  {
   "cell_type": "code",
   "execution_count": 22,
   "metadata": {},
   "outputs": [
    {
     "data": {
      "text/html": [
       "<div>\n",
       "<style scoped>\n",
       "    .dataframe tbody tr th:only-of-type {\n",
       "        vertical-align: middle;\n",
       "    }\n",
       "\n",
       "    .dataframe tbody tr th {\n",
       "        vertical-align: top;\n",
       "    }\n",
       "\n",
       "    .dataframe thead th {\n",
       "        text-align: right;\n",
       "    }\n",
       "</style>\n",
       "<table border=\"1\" class=\"dataframe\">\n",
       "  <thead>\n",
       "    <tr style=\"text-align: right;\">\n",
       "      <th></th>\n",
       "      <th>alpha</th>\n",
       "      <th>nonzero_coefs</th>\n",
       "    </tr>\n",
       "  </thead>\n",
       "  <tbody>\n",
       "    <tr>\n",
       "      <th>0</th>\n",
       "      <td>0.00</td>\n",
       "      <td>50</td>\n",
       "    </tr>\n",
       "    <tr>\n",
       "      <th>1</th>\n",
       "      <td>0.25</td>\n",
       "      <td>18</td>\n",
       "    </tr>\n",
       "    <tr>\n",
       "      <th>2</th>\n",
       "      <td>0.50</td>\n",
       "      <td>12</td>\n",
       "    </tr>\n",
       "    <tr>\n",
       "      <th>3</th>\n",
       "      <td>0.75</td>\n",
       "      <td>6</td>\n",
       "    </tr>\n",
       "    <tr>\n",
       "      <th>4</th>\n",
       "      <td>1.00</td>\n",
       "      <td>7</td>\n",
       "    </tr>\n",
       "    <tr>\n",
       "      <th>5</th>\n",
       "      <td>3.00</td>\n",
       "      <td>1</td>\n",
       "    </tr>\n",
       "  </tbody>\n",
       "</table>\n",
       "</div>"
      ],
      "text/plain": [
       "   alpha  nonzero_coefs\n",
       "0   0.00             50\n",
       "1   0.25             18\n",
       "2   0.50             12\n",
       "3   0.75              6\n",
       "4   1.00              7\n",
       "5   3.00              1"
      ]
     },
     "execution_count": 22,
     "metadata": {},
     "output_type": "execute_result"
    }
   ],
   "source": [
    "# compare numbers of nonzero coefficients\n",
    "tol = 10**(-6)\n",
    "perf_table = pd.DataFrame({\n",
    "    'alpha': [0.00, 0.25, 0.50, 0.75, 1.00, 3.00],\n",
    "    'nonzero_coefs': [\n",
    "        np.sum(np.abs(mod000.coef_) > tol),\n",
    "        np.sum(np.abs(mod025.coef_) > tol),\n",
    "        np.sum(np.abs(mod050.coef_) > tol),\n",
    "        np.sum(np.abs(mod075.coef_) > tol),\n",
    "        np.sum(np.abs(mod100.coef_) > tol),\n",
    "        np.sum(np.abs(mod300.coef_) > tol)]\n",
    "    })\n",
    "perf_table"
   ]
  },
  {
   "cell_type": "code",
   "execution_count": 23,
   "metadata": {},
   "outputs": [
    {
     "data": {
      "text/html": [
       "<div>\n",
       "<style scoped>\n",
       "    .dataframe tbody tr th:only-of-type {\n",
       "        vertical-align: middle;\n",
       "    }\n",
       "\n",
       "    .dataframe tbody tr th {\n",
       "        vertical-align: top;\n",
       "    }\n",
       "\n",
       "    .dataframe thead th {\n",
       "        text-align: right;\n",
       "    }\n",
       "</style>\n",
       "<table border=\"1\" class=\"dataframe\">\n",
       "  <thead>\n",
       "    <tr style=\"text-align: right;\">\n",
       "      <th></th>\n",
       "      <th>alpha</th>\n",
       "      <th>nonzero_coefs</th>\n",
       "      <th>NegMSE</th>\n",
       "      <th>RMSE</th>\n",
       "    </tr>\n",
       "  </thead>\n",
       "  <tbody>\n",
       "    <tr>\n",
       "      <th>0</th>\n",
       "      <td>0.00</td>\n",
       "      <td>50</td>\n",
       "      <td>-127.905170</td>\n",
       "      <td>11.309517</td>\n",
       "    </tr>\n",
       "    <tr>\n",
       "      <th>1</th>\n",
       "      <td>0.25</td>\n",
       "      <td>18</td>\n",
       "      <td>-81.034117</td>\n",
       "      <td>9.001895</td>\n",
       "    </tr>\n",
       "    <tr>\n",
       "      <th>2</th>\n",
       "      <td>0.50</td>\n",
       "      <td>12</td>\n",
       "      <td>-80.747123</td>\n",
       "      <td>8.985940</td>\n",
       "    </tr>\n",
       "    <tr>\n",
       "      <th>3</th>\n",
       "      <td>0.75</td>\n",
       "      <td>6</td>\n",
       "      <td>-78.908112</td>\n",
       "      <td>8.883024</td>\n",
       "    </tr>\n",
       "    <tr>\n",
       "      <th>4</th>\n",
       "      <td>1.00</td>\n",
       "      <td>7</td>\n",
       "      <td>-78.369937</td>\n",
       "      <td>8.852680</td>\n",
       "    </tr>\n",
       "    <tr>\n",
       "      <th>5</th>\n",
       "      <td>3.00</td>\n",
       "      <td>1</td>\n",
       "      <td>-79.173781</td>\n",
       "      <td>8.897965</td>\n",
       "    </tr>\n",
       "  </tbody>\n",
       "</table>\n",
       "</div>"
      ],
      "text/plain": [
       "   alpha  nonzero_coefs      NegMSE       RMSE\n",
       "0   0.00             50 -127.905170  11.309517\n",
       "1   0.25             18  -81.034117   9.001895\n",
       "2   0.50             12  -80.747123   8.985940\n",
       "3   0.75              6  -78.908112   8.883024\n",
       "4   1.00              7  -78.369937   8.852680\n",
       "5   3.00              1  -79.173781   8.897965"
      ]
     },
     "execution_count": 23,
     "metadata": {},
     "output_type": "execute_result"
    }
   ],
   "source": [
    "# Compare cv scores\n",
    "perf_table['NegMSE'] = [\n",
    "    cross_val_score(mod000, X, y, cv=5, scoring=\"neg_mean_squared_error\").mean(),\n",
    "    cross_val_score(mod025, X, y, cv=5, scoring=\"neg_mean_squared_error\").mean(),\n",
    "    cross_val_score(mod050, X, y, cv=5, scoring=\"neg_mean_squared_error\").mean(),\n",
    "    cross_val_score(mod075, X, y, cv=5, scoring=\"neg_mean_squared_error\").mean(),\n",
    "    cross_val_score(mod100, X, y, cv=5, scoring=\"neg_mean_squared_error\").mean(),\n",
    "    cross_val_score(mod300, X, y, cv=5, scoring=\"neg_mean_squared_error\").mean()]\n",
    "perf_table['RMSE'] = np.sqrt(np.abs(perf_table['NegMSE']))\n",
    "perf_table"
   ]
  },
  {
   "cell_type": "code",
   "execution_count": 24,
   "metadata": {},
   "outputs": [
    {
     "data": {
      "image/png": "[encoded data removed]",
      "text/plain": [
       "<Figure size 432x288 with 1 Axes>"
      ]
     },
     "metadata": {
      "needs_background": "light"
     },
     "output_type": "display_data"
    }
   ],
   "source": [
    "sns.lineplot(x='nonzero_coefs', y='NegMSE', data=perf_table, lw=3)\n",
    "#plt.ylim(top=0)\n",
    "plt.show()"
   ]
  },
  {
   "cell_type": "markdown",
   "metadata": {},
   "source": [
    "**Remarks:**\n",
    "\n",
    "+ The penalty tuning parameter alpha has a big effect on the sparsity of the model; larger values of alpha place greater constraints on how many coefficients can be nonzero.\n",
    "\n",
    "\n",
    "+ Among these choices, alpha = 1.00, with 7 nonzero variables gives the smallest value for cross-validated mean-square-error.\n",
    "\n",
    "\n",
    "+ The differences on MSE are relatively small, as the root-mean-square error values range only from 8.9 to 9.0. Even the one-variable model does almost as well as the 18 variable model.\n",
    "\n",
    "\n",
    "+ All of the sparse Lasso fits improve dramatically on the OLS fit with 50 variables.\n"
   ]
  },
  {
   "cell_type": "markdown",
   "metadata": {},
   "source": [
    "### Automated tuning parameter selection using cross-validation\n",
    "\n",
    "Using the Scikit learn module, LassoCV, provides a useful tool for using cross-validation to compare performance across a range of values for the tuning parameter alpha."
   ]
  },
  {
   "cell_type": "code",
   "execution_count": 25,
   "metadata": {},
   "outputs": [],
   "source": [
    "from sklearn.linear_model import LassoCV"
   ]
  },
  {
   "cell_type": "code",
   "execution_count": 26,
   "metadata": {},
   "outputs": [],
   "source": [
    "model = LassoCV(cv=5, alphas=[0.25, 0.50, 0.75, 1.00, 2.00, 3.00]).fit(X, y)"
   ]
  },
  {
   "cell_type": "code",
   "execution_count": 27,
   "metadata": {},
   "outputs": [
    {
     "data": {
      "text/plain": [
       "(0.11249999999999999, 3.1375, 45.037369754620805, 115.18853264252837)"
      ]
     },
     "execution_count": 27,
     "metadata": {},
     "output_type": "execute_result"
    },
    {
     "data": {
      "image/png": "[encoded data removed]",
      "text/plain": [
       "<Figure size 432x288 with 1 Axes>"
      ]
     },
     "metadata": {
      "needs_background": "light"
     },
     "output_type": "display_data"
    }
   ],
   "source": [
    "# Display results\n",
    "plt.figure()\n",
    "plt.plot(model.alphas_, model.mse_path_, ':')\n",
    "plt.plot(model.alphas_, model.mse_path_.mean(axis=-1), 'k',\n",
    "         label='Average across the folds', linewidth=2)\n",
    "plt.axvline(model.alpha_, linestyle='--', color='k',\n",
    "            label='alpha: CV estimate')\n",
    "plt.legend()\n",
    "plt.xlabel('alpha')\n",
    "plt.ylabel('Mean square error')\n",
    "plt.title('Mean square error on each fold: coordinate descent ')\n",
    "plt.axis('tight')"
   ]
  },
  {
   "cell_type": "markdown",
   "metadata": {},
   "source": [
    "**Conclusion:** The optimum value is estimated to be near alpha = 1. We can also see that the train/test MSE paths for each \"fold\", that is for each of the 5 train/test splits of the data. The large variation between optimal alpha values between different folds suggests that the best alpha is highly variable. We can't put too much confidence in the best value for these data. Conversely, this means that the choice of alpha is not critical within the range considered."
   ]
  },
  {
   "cell_type": "markdown",
   "metadata": {},
   "source": [
    "#### Displaying the results of the final model"
   ]
  },
  {
   "cell_type": "code",
   "execution_count": 28,
   "metadata": {},
   "outputs": [
    {
     "data": {
      "text/plain": [
       "array([-0.        ,  0.        ,  0.        , -0.        , -0.4449253 ,\n",
       "        0.08993896,  0.        ,  0.00678522, -0.        , -0.        ,\n",
       "        0.        , -0.41695898, -0.        , -0.        , -0.        ,\n",
       "       -0.        , -0.        , -0.        , -0.        , -0.        ,\n",
       "       -0.        , -0.        , -0.        ,  0.        ,  0.        ,\n",
       "        0.        , -0.18317027, -0.        , -0.05873826, -0.        ,\n",
       "       -0.        ,  0.        ,  0.        ,  0.        ,  0.        ,\n",
       "       -0.        ,  0.        , -0.        , -0.21900174,  0.        ,\n",
       "       -0.        ,  0.        ,  0.        , -0.        ,  0.        ,\n",
       "        0.        ,  0.        , -0.        ,  0.        ,  0.        ])"
      ]
     },
     "execution_count": 28,
     "metadata": {},
     "output_type": "execute_result"
    }
   ],
   "source": [
    "model.coef_"
   ]
  },
  {
   "cell_type": "code",
   "execution_count": 29,
   "metadata": {},
   "outputs": [
    {
     "data": {
      "image/png": "[encoded data removed]",
      "text/plain": [
       "<Figure size 432x288 with 1 Axes>"
      ]
     },
     "metadata": {
      "needs_background": "light"
     },
     "output_type": "display_data"
    }
   ],
   "source": [
    "plt.plot(np.arange(np.size(model.coef_)), model.coef_, lw=lw)\n",
    "plt.xlabel('Feature Number')\n",
    "plt.ylabel('Coefficient')\n",
    "plt.show()"
   ]
  },
  {
   "cell_type": "markdown",
   "metadata": {},
   "source": [
    "### Visualizing the raw data"
   ]
  },
  {
   "cell_type": "markdown",
   "metadata": {},
   "source": [
    "Visualizing the data with so many feature varaibles poses a challenge, particularly in how to represent the relationsships between the target labels in $y$ and all the features in $X$. In the classification setting we used a heat map to compare the mean X vectors for the two groups represented by $y$.\n",
    "\n",
    "In the current example. $y$ (tunor size) is a continuous target. How to display these values versus the $X$ features? With fewer variables we could make scatter plots of $y$ versus the $X$ features. With 50 that is not practical. \n",
    "\n",
    "One rough and ready method is to bin the values of $y$ into several ordered categories. Then we can make a heat map of the binned values versus the mean $X$ values for each bin.\n",
    "\n",
    "#### A binned heat map\n",
    "\n",
    "Let's bin the tumor sizes into 5 groups based on quantiles of the size distribution."
   ]
  },
  {
   "cell_type": "code",
   "execution_count": 30,
   "metadata": {},
   "outputs": [
    {
     "data": {
      "text/plain": [
       "[17.0, 20.0, 22.39999999999999, 30.0]"
      ]
     },
     "execution_count": 30,
     "metadata": {},
     "output_type": "execute_result"
    }
   ],
   "source": [
    "# Compute the quintiles of tumor size\n",
    "quints = []\n",
    "for q in [0.2, 0.4, 0.6, 0.8]:\n",
    "    quints.append(y.quantile(q=q))\n",
    "quints"
   ]
  },
  {
   "cell_type": "code",
   "execution_count": 31,
   "metadata": {},
   "outputs": [
    {
     "data": {
      "image/png": "[encoded data removed]",
      "text/plain": [
       "<Figure size 432x288 with 1 Axes>"
      ]
     },
     "metadata": {
      "needs_background": "light"
     },
     "output_type": "display_data"
    }
   ],
   "source": [
    "# create size categories by thresholding at the quintiles\n",
    "ylevel = y*0\n",
    "level = 0\n",
    "for cut in quints:\n",
    "    level = level + 1\n",
    "    ylevel[y >= cut] = level\n",
    "# display the results\n",
    "sns.scatterplot(y, ylevel)\n",
    "plt.ylabel('ylevel')\n",
    "plt.show()"
   ]
  },
  {
   "cell_type": "code",
   "execution_count": 32,
   "metadata": {},
   "outputs": [],
   "source": [
    "# create matrix of within group means\n",
    "mean_matrix = np.array((\n",
    "    X[ylevel==0].mean(), \n",
    "    X[ylevel==1].mean(),\n",
    "    X[ylevel==2].mean(), \n",
    "    X[ylevel==3].mean(),\n",
    "    X[ylevel==4].mean()\n",
    "))"
   ]
  },
  {
   "cell_type": "code",
   "execution_count": 33,
   "metadata": {},
   "outputs": [
    {
     "data": {
      "image/png": "[encoded data removed]",
      "text/plain": [
       "<Figure size 432x288 with 2 Axes>"
      ]
     },
     "metadata": {
      "needs_background": "light"
     },
     "output_type": "display_data"
    }
   ],
   "source": [
    "sns.heatmap(mean_matrix, annot=False, linewidths=0, \n",
    "            square = False, cmap = 'Blues_r');\n",
    "plt.ylabel('Tumor Size category');\n",
    "plt.xlabel('Feature');\n",
    "all_sample_title = 'Feature Means by Tumor Size'\n",
    "plt.title(all_sample_title, size = 12);\n",
    "plt.show()"
   ]
  },
  {
   "cell_type": "markdown",
   "metadata": {},
   "source": [
    "By scanning the different columns we may check whether any of the features exhibit trends across different tumor size categories. "
   ]
  },
  {
   "cell_type": "markdown",
   "metadata": {},
   "source": [
    "#### Screening feature variables"
   ]
  },
  {
   "cell_type": "markdown",
   "metadata": {},
   "source": [
    "It can be useful to screen variables in advance by computing the individual slopes of each X variable on y or vice versa. There are other possibilities, for example, plotting coefficient t test statistics or sample correlations. Let's plot the correlations. Then we can visualize the relations by graphing slopes versus coefficient number. "
   ]
  },
  {
   "cell_type": "code",
   "execution_count": 34,
   "metadata": {},
   "outputs": [
    {
     "data": {
      "text/plain": [
       "(50,)"
      ]
     },
     "metadata": {},
     "output_type": "display_data"
    },
    {
     "data": {
      "text/plain": [
       "X159    -0.044613\n",
       "X960    -0.212010\n",
       "X980     0.244669\n",
       "X986    -0.244490\n",
       "X1023   -0.287543\n",
       "Name: y, dtype: float64"
      ]
     },
     "metadata": {},
     "output_type": "display_data"
    }
   ],
   "source": [
    "# get all the correlations between X features and y\n",
    "df = X; df['y']=y\n",
    "corrxy = df.corr()['y'][:df.shape[1]-1]\n",
    "display(corrxy.shape, corrxy.head())"
   ]
  },
  {
   "cell_type": "code",
   "execution_count": 35,
   "metadata": {},
   "outputs": [
    {
     "data": {
      "image/png": "[encoded data removed]",
      "text/plain": [
       "<Figure size 432x288 with 1 Axes>"
      ]
     },
     "metadata": {
      "needs_background": "light"
     },
     "output_type": "display_data"
    }
   ],
   "source": [
    "plt.scatter(np.arange(np.size(corrxy)), corrxy)\n",
    "plt.ylabel('Pearson Correlation')\n",
    "plt.title(\"Correlation plot\")\n",
    "plt.hlines(y=0, xmin=0, xmax=50)\n",
    "plt.show()"
   ]
  },
  {
   "cell_type": "markdown",
   "metadata": {},
   "source": [
    "Nothing jumps out here. the common correlation across gene levels suggests that they may all be moving more or less together, with no particular genes among this group is dominant in having a strong association with tumor size. The optimal model selects a subset of variables that represents the relationship about as well as the entire group."
   ]
  },
  {
   "cell_type": "markdown",
   "metadata": {},
   "source": [
    "---\n",
    "STAT 207, Douglas Simpson, University of Illinois at Urbana-Champaign"
   ]
  }
 ],
 "metadata": {
  "kernelspec": {
   "display_name": "Python 3",
   "language": "python",
   "name": "python3"
  },
  "language_info": {
   "codemirror_mode": {
    "name": "ipython",
    "version": 3
   },
   "file_extension": ".py",
   "mimetype": "text/x-python",
   "name": "python",
   "nbconvert_exporter": "python",
   "pygments_lexer": "ipython3",
   "version": "3.7.3"
  }
 },
 "nbformat": 4,
 "nbformat_minor": 2
}
