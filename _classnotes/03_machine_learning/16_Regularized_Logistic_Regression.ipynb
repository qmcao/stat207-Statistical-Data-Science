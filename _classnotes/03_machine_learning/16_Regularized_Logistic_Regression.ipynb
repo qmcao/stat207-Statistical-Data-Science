{
 "cells": [
  {
   "cell_type": "markdown",
   "metadata": {},
   "source": [
    "<!--# STAT 207: Data Science Exploration-->\n",
    "# Regularized Logistic Regression and Cross-Validation\n",
    "\n",
    "Regularized regression methods are designed to improve modeling of high dimensional data by incorporating a penalty function to drive variable selection. The Python Scikit-Learn library includes regularized regression and regularized logisitic regression as standard model optimization methods. This section will provide a breif overview of penalized logistic regression and demonstrate how the methods work on simulated data. \n",
    "\n",
    "In order to evaluate the classification accuracy of regularized logistic regression we can use the \n",
    "Train/Test method to avoid optimistic bias. One limitation is that it uses only part of the data for both model building and for assessment.\n",
    "\n",
    "An extension of simple Train/Test is **cross-validation.** This method uses all of the data by repeated application of train/test splitting. The results are then averaged to improve the accuracy. The approach also gives us a simple way to estimate the uncertainty of the accuracy estiamte.\n",
    "\n",
    "The oldest such method is **leave-one-out cross-validation**, where each of the $n$ observations in a sample is omitted in turn. The estimate is recomputed for each of the $n$ subsets of size $n-1$. The resulting $n$ predictions are then used to estimate predictive accuracy.\n",
    "\n",
    "Modern methods use **k-fold cross-validation**, where the data are split into $k$ subsets. $k-1$ subsets are used for training, and the left out subset is used for testing. This is repeated at least $k$ times, leaving out each of the $k$ subsets in turn. \n",
    "\n",
    "The random selection of the $k$ subsets can itself be repeated to generate multiple $k$ fold splits, thus avoiding over dependence on one particular random split.\n",
    "\n",
    "To use these methods efficiently in Python, we first discuss the structure of models in the machine learning library Scikit-Learn. Then we illustrate some of the cross validation capabilities in the library."
   ]
  },
  {
   "cell_type": "markdown",
   "metadata": {},
   "source": [
    "### Model building with Scikit-Learn"
   ]
  },
  {
   "cell_type": "markdown",
   "metadata": {},
   "source": [
    "Unlike the statsmodels API, which is formula based and operates on pandas data frames, the machine learning functions in the Scikit-Learn expect data to be encoded as numerical matrices: \n",
    "\n",
    "1. The **features matrix** $X$ is an array with $n$ rows of observations and $p$ columns of features (exogenous variables);\n",
    "\n",
    "2. The **target array** $y$ is an array with elements that serve as \"labels\" for the $n$ observations.\n",
    "\n"
   ]
  },
  {
   "cell_type": "markdown",
   "metadata": {},
   "source": [
    "**Features matrix $X$:** We can think of the features matrix as a data frame containing only exogenous variables. Sci-kit learn modules generally expect $X$ to contain only numerical columns. Therefore it provides preprocessing functions to\n",
    "\n",
    "+ Convert categorical and boolean data into numerically coded columns (e.g. 0/1 indicator columns)\n",
    "\n",
    "\n",
    "+ Add a column of 1s for the intercept if desired\n",
    "\n"
   ]
  },
  {
   "cell_type": "markdown",
   "metadata": {},
   "source": [
    "**Target array $y$:** This is our array of labels, i.e., response data that will be used to train the model. It may be categorical (0/1) as in classification problems and logistic regression, or have continuous numerical values as in linear regression."
   ]
  },
  {
   "cell_type": "markdown",
   "metadata": {},
   "source": [
    "**Supervised learning**: When we have a target array $y$, its elements **label** the corresponding rows of $X$. The two main types of labels are:\n",
    "\n",
    "1. **Categorical (0/1) labels:** these correspond to **classification problems**, where the labels are said to **supervise** the modeling of how information in $X$ can be used for training the classifier.\n",
    "\n",
    "\n",
    "2. **Continuous numerical labels:** these correspond to **predictive regression problems** such as linear regresssion or regularized regresssion, where the goal is to predict numerical responses. The numerical $y$ labels **supervise** training of the regression model, e.g., by minimizing and ordinary or penalized least squares criterion."
   ]
  },
  {
   "cell_type": "markdown",
   "metadata": {},
   "source": [
    "**Unsupervised learning:** if we have unlabeled data, so $y$ is not available, we can no longer classify the rows of $X$, however, it is often of interest to detect **clusters** of samples in $X$ based on some assumptions about how subpopulations might separate. Applications include $k$-means clustering and mixtures of Gaussian distributions."
   ]
  },
  {
   "cell_type": "markdown",
   "metadata": {},
   "source": [
    "This section focuses on supervised model building, but generalizing train/test methods to k-fold cross-validation.\n",
    "\n",
    "#### Modeling steps in the modeling/machine learning process\n",
    "\n",
    "Scikit-Learn are designed to faciliate a regular sequence of modeling steps:\n",
    "\n",
    "1. Choose the model class for the problem and import the Scikit-Learn estimator class\n",
    "\n",
    "2. Choose model hyperparameters to create an instance of the class (more later)\n",
    "\n",
    "3. Organize data into the features matri $X$ and target array $y$\n",
    "\n",
    "4. Train the model using the .fit() method\n",
    "\n",
    "5. Test the model on new or test data using the .predict() method\n",
    "\n",
    "For extensive further discussion, see VanDerPlas, Chapter 5. We cover the basics with some examples here."
   ]
  },
  {
   "cell_type": "markdown",
   "metadata": {},
   "source": [
    "### Simulated data with 20 features and binary target"
   ]
  },
  {
   "cell_type": "code",
   "execution_count": 1,
   "metadata": {},
   "outputs": [],
   "source": [
    "import numpy as np\n",
    "import pandas as pd\n",
    "from scipy.stats import norm, bernoulli"
   ]
  },
  {
   "cell_type": "code",
   "execution_count": 2,
   "metadata": {},
   "outputs": [
    {
     "data": {
      "text/plain": [
       "(200, 20)"
      ]
     },
     "metadata": {},
     "output_type": "display_data"
    },
    {
     "data": {
      "text/plain": [
       "(200,)"
      ]
     },
     "metadata": {},
     "output_type": "display_data"
    }
   ],
   "source": [
    "## make a coefficient vector for logit model\n",
    "b0 = -1  # intercept\n",
    "bvec = np.repeat([1,-1,0], [5, 5, 10])  # feature coefficients\n",
    "n = 200\n",
    "nX = bvec.size\n",
    "\n",
    "Xmat = norm.rvs(size=n*nX, random_state=1).reshape((n, nX))\n",
    "# Generate X and add the column names\n",
    "##X = pd.DataFrame(\n",
    "##    norm.rvs(size=n*nX, random_state=1).reshape((n, nX)), \n",
    "##    columns=Xnames)\n",
    "# Now generate the target array using X and the coefficient vector\n",
    "odds = np.exp(b0 + np.matmul(Xmat, bvec)) # use matrix multiplication\n",
    "y = bernoulli.rvs(p=odds/(1+odds), size=n, random_state=12347)\n",
    "# load X into data frame with names\n",
    "Xnames = []\n",
    "for i in range(nX):\n",
    "    list.append(Xnames, 'X'+str(i))\n",
    "X = pd.DataFrame(Xmat, columns=Xnames)\n",
    "display(X.shape, y.shape)"
   ]
  },
  {
   "cell_type": "markdown",
   "metadata": {},
   "source": [
    "Can we visualize the data somehow? Let try to compare mean X features between the two groups (y=0 and y=1)."
   ]
  },
  {
   "cell_type": "code",
   "execution_count": 3,
   "metadata": {},
   "outputs": [
    {
     "data": {
      "text/plain": [
       "(2, 20)"
      ]
     },
     "metadata": {},
     "output_type": "display_data"
    },
    {
     "data": {
      "text/plain": [
       "array([[-2.22157664e-01, -2.04966538e-01, -2.43240376e-01,\n",
       "        -3.63570421e-02, -1.93845863e-01,  9.36729581e-02,\n",
       "         2.62709812e-01,  2.13169647e-01,  2.00029658e-01,\n",
       "         4.63842261e-02,  7.77167483e-02, -6.72668629e-02,\n",
       "         4.06244529e-04,  9.16813708e-02,  9.95053160e-02,\n",
       "        -6.73780626e-02,  9.83761988e-02, -9.47603953e-02,\n",
       "        -6.94209204e-02,  4.91980066e-02],\n",
       "       [ 2.25164206e-01,  2.82792473e-01,  2.80512385e-01,\n",
       "         4.03376804e-01,  1.78792096e-01, -4.00832721e-01,\n",
       "        -1.61412650e-01, -1.31933518e-01, -8.48852940e-02,\n",
       "        -4.39996214e-01,  7.77267095e-02,  2.42083521e-01,\n",
       "         4.56481738e-02,  2.79365255e-02, -2.91626160e-01,\n",
       "         4.88051708e-02,  3.90577553e-02, -1.18110230e-02,\n",
       "         9.25214471e-02,  1.95490706e-01]])"
      ]
     },
     "metadata": {},
     "output_type": "display_data"
    }
   ],
   "source": [
    "mean_matrix = np.array((X[y==0].mean(), X[y==1].mean()))\n",
    "display(mean_matrix.shape, mean_matrix)"
   ]
  },
  {
   "cell_type": "code",
   "execution_count": 4,
   "metadata": {},
   "outputs": [],
   "source": [
    "import matplotlib.pyplot as plt\n",
    "import seaborn as sns; sns.set()"
   ]
  },
  {
   "cell_type": "code",
   "execution_count": 5,
   "metadata": {},
   "outputs": [
    {
     "data": {
      "image/png": "[encoded data removed]",
      "text/plain": [
       "<Figure size 432x288 with 2 Axes>"
      ]
     },
     "metadata": {
      "needs_background": "light"
     },
     "output_type": "display_data"
    }
   ],
   "source": [
    "sns.heatmap(mean_matrix, annot=False, linewidths=0, \n",
    "            square = False, cmap = 'Blues_r');\n",
    "plt.ylabel('Group');\n",
    "plt.xlabel('Feature');\n",
    "all_sample_title = 'Feature Means by Group'\n",
    "plt.title(all_sample_title, size = 12);\n",
    "plt.show()"
   ]
  },
  {
   "cell_type": "markdown",
   "metadata": {},
   "source": [
    "We can see that the two groups differ in their patterns of mean feature values. This is a reflection of how the different features contribute to the logit model through the coefficient vector weighting of features to generate 0/1 responses."
   ]
  },
  {
   "cell_type": "markdown",
   "metadata": {},
   "source": [
    "### Brief Explanation of Regularized Logistic Regression"
   ]
  },
  {
   "cell_type": "markdown",
   "metadata": {},
   "source": [
    "In previous sections we used the Statmodels formula API to fit linear and logistic regression models. The advantage of the statsmodels API is in the amount of information it provides about model parameters, standard errors and hypothesis testing. Statsmodels is the current preferred choice if our goal is to make inferences about the model parameters. \n",
    "\n",
    "As an alternative, Scikit-Learn provides machine learning tools focused on predictive analysis. The characteristics:\n",
    "\n",
    "* Integration with machine learning tools for **cross-validation**;\n",
    "\n",
    "* Routine implementation of **regularization** for modeling with high-dimensional feature matrices;\n",
    "\n",
    "* Several choices for numerical optimizers for solving regularized regression problems.\n"
   ]
  },
  {
   "cell_type": "markdown",
   "metadata": {},
   "source": [
    "Regularization penalties automate feature selection to some extent, as an alternative to tracking AIC or BIC. \n",
    "\n",
    "First consider \"ordinary\" **maximum likelihood estimation** for the logistic regression. We solve numerically for the coefficient estimates using a numerical optimization method such as a quasi-newton algorithm. The solver maximizes the log-likelihood, equivalently, minimizes twice the negative log likelihood:\n",
    "\n",
    "\n",
    "\\begin{align*}\n",
    "\\text{Likelihood fit} & = -2* {llf} = -2*LLF(\\hat{\\beta}_0, \\hat{\\beta}_1, \\ldots, \\hat{\\beta}_p) \\\\ \\\\\n",
    "&= -2 \\sum_{i=1}^n \\{ y_i \\log(\\hat{p}_i) + (1-y_i) \\log(1-\\hat{p}_i)\\}\\\\ \\\\\n",
    "& \\ge 0.\\\\\n",
    "\\end{align*}\n"
   ]
  },
  {
   "cell_type": "markdown",
   "metadata": {},
   "source": [
    "If we compare models with different numbers of coefficients using BIC, for example, we are attempting to minimize an overall criterion of the form:\n",
    "\n",
    "$$\n",
    "-2 * llf + p*\\log(n) = \\text{likelihood fit} + \\text{complexity penalty}\n",
    "$$\n",
    "\n"
   ]
  },
  {
   "cell_type": "markdown",
   "metadata": {},
   "source": [
    "**Regularization penalties** combine the likelihood criterion and the penalty into one optimization criterion for estimating the feature coefficients. For a given level of complexity this can produce fitted models with better mean-square error predictive properties. Here a few choices that are currently in common use:\n",
    "\n",
    "+ **L2 penalty (Ridge regression):**  Shrinks parameters toward smaller absolute values to reduce variance. In linear regression this is called ridge regression. $\\lambda$ controls tradeoff between fit and shrinkage. It reduces the effect of correlation between features, which is an issue in high dimensions.\n",
    "\n",
    "$$\n",
    "\\text{Minimize: } (-2*llf) + \\lambda \\sum_{j=1}^p \\hat{\\beta}_j^2\n",
    "$$\n",
    "\n"
   ]
  },
  {
   "cell_type": "markdown",
   "metadata": {},
   "source": [
    "\n",
    "+ **L1 penalty (LASSO):** Produces sparse solutions (small number of nonzero parameters) by zeroing out some parameters. $\\lambda$ controls tradeoff between fit and sparsity. This method directly reduces redundant features. \n",
    "\n",
    "$$\n",
    "\\text{Minimize: } (-2*llf) + \\lambda \\sum_{j=1}^p \\vert \\hat{\\beta}_j \\vert\n",
    "$$\n"
   ]
  },
  {
   "cell_type": "markdown",
   "metadata": {},
   "source": [
    "\n",
    "+ **Elastic Net penalty (Combination):**  Combines L1 and L2 penalization ro produce sparse, low variance solutions. $\\lambda$ controls the tradeoff between fit and peanlization. $\\alpha \\in [0,1]$ controls the relative weight of L1 versus L2 penalization.\n",
    "\n",
    "$$\n",
    "\\text{Minimize: } (-2*llf) + \\lambda \\left(\\alpha \\sum_{j=1}^p \\vert \\hat{\\beta}_j \\vert \n",
    "+ {1-\\alpha \\over 2} \\sum_{j=1}^p \\hat{\\beta}_j^2 \\right)\n",
    "$$\n"
   ]
  },
  {
   "cell_type": "markdown",
   "metadata": {},
   "source": [
    "The current default setting in the Scikit-Learn LogisticRegression module is L1 regularization. The function sets the degree of penalization using the input C, which is inversely related to $\\lambda$. The default setting is C=1. Smaller values of C correspond to heavier regularization or more sparsity in the solution."
   ]
  },
  {
   "cell_type": "markdown",
   "metadata": {},
   "source": [
    "### Example: comparison of regularized coefficient estimates using different penalties"
   ]
  },
  {
   "cell_type": "markdown",
   "metadata": {},
   "source": [
    "Using our simulated data with 20 features, let's compare for 4 different options for regularization: None, L1 penalty, L2 penalty, and Elastic Net."
   ]
  },
  {
   "cell_type": "code",
   "execution_count": 6,
   "metadata": {},
   "outputs": [],
   "source": [
    "from sklearn.linear_model import LogisticRegression"
   ]
  },
  {
   "cell_type": "code",
   "execution_count": 7,
   "metadata": {},
   "outputs": [
    {
     "data": {
      "text/plain": [
       "LogisticRegression(C=0.3, class_weight=None, dual=False, fit_intercept=True,\n",
       "                   intercept_scaling=1, l1_ratio=0.7, max_iter=1000,\n",
       "                   multi_class='warn', n_jobs=None, penalty='elasticnet',\n",
       "                   random_state=None, solver='saga', tol=0.0001, verbose=0,\n",
       "                   warm_start=False)"
      ]
     },
     "execution_count": 7,
     "metadata": {},
     "output_type": "execute_result"
    }
   ],
   "source": [
    "C=0.3  # set the amount of penalization (1/lambda)\n",
    "clf0 = LogisticRegression('none', solver='newton-cg', \n",
    "                          max_iter=1000)\n",
    "clf0.fit(X,y)\n",
    "clf1 = LogisticRegression('l1', solver='liblinear', \n",
    "                          max_iter=1000, C=C)\n",
    "clf1.fit(X,y)\n",
    "clf2 = LogisticRegression('l2', solver='liblinear', \n",
    "                          max_iter=1000, C=C)\n",
    "clf2.fit(X,y)\n",
    "clf3 = LogisticRegression('elasticnet', solver='saga', \n",
    "                          max_iter=1000, l1_ratio=0.7, C=C)\n",
    "clf3.fit(X,y)"
   ]
  },
  {
   "cell_type": "code",
   "execution_count": 8,
   "metadata": {},
   "outputs": [
    {
     "data": {
      "text/html": [
       "<div>\n",
       "<style scoped>\n",
       "    .dataframe tbody tr th:only-of-type {\n",
       "        vertical-align: middle;\n",
       "    }\n",
       "\n",
       "    .dataframe tbody tr th {\n",
       "        vertical-align: top;\n",
       "    }\n",
       "\n",
       "    .dataframe thead th {\n",
       "        text-align: right;\n",
       "    }\n",
       "</style>\n",
       "<table border=\"1\" class=\"dataframe\">\n",
       "  <thead>\n",
       "    <tr style=\"text-align: right;\">\n",
       "      <th></th>\n",
       "      <th>0</th>\n",
       "      <th>1</th>\n",
       "      <th>2</th>\n",
       "      <th>3</th>\n",
       "    </tr>\n",
       "  </thead>\n",
       "  <tbody>\n",
       "    <tr>\n",
       "      <th>0</th>\n",
       "      <td>2.448386</td>\n",
       "      <td>0.862791</td>\n",
       "      <td>0.943341</td>\n",
       "      <td>0.913333</td>\n",
       "    </tr>\n",
       "    <tr>\n",
       "      <th>1</th>\n",
       "      <td>2.099151</td>\n",
       "      <td>0.794783</td>\n",
       "      <td>0.852618</td>\n",
       "      <td>0.840932</td>\n",
       "    </tr>\n",
       "    <tr>\n",
       "      <th>2</th>\n",
       "      <td>1.911414</td>\n",
       "      <td>0.789600</td>\n",
       "      <td>0.869266</td>\n",
       "      <td>0.832854</td>\n",
       "    </tr>\n",
       "    <tr>\n",
       "      <th>3</th>\n",
       "      <td>1.763950</td>\n",
       "      <td>0.590459</td>\n",
       "      <td>0.706093</td>\n",
       "      <td>0.658123</td>\n",
       "    </tr>\n",
       "    <tr>\n",
       "      <th>4</th>\n",
       "      <td>1.011388</td>\n",
       "      <td>0.462532</td>\n",
       "      <td>0.549192</td>\n",
       "      <td>0.501242</td>\n",
       "    </tr>\n",
       "    <tr>\n",
       "      <th>5</th>\n",
       "      <td>-2.277685</td>\n",
       "      <td>-0.818757</td>\n",
       "      <td>-0.893153</td>\n",
       "      <td>-0.877069</td>\n",
       "    </tr>\n",
       "    <tr>\n",
       "      <th>6</th>\n",
       "      <td>-1.817789</td>\n",
       "      <td>-0.713696</td>\n",
       "      <td>-0.773147</td>\n",
       "      <td>-0.739542</td>\n",
       "    </tr>\n",
       "    <tr>\n",
       "      <th>7</th>\n",
       "      <td>-1.840509</td>\n",
       "      <td>-0.684418</td>\n",
       "      <td>-0.776345</td>\n",
       "      <td>-0.730758</td>\n",
       "    </tr>\n",
       "    <tr>\n",
       "      <th>8</th>\n",
       "      <td>-1.400668</td>\n",
       "      <td>-0.493051</td>\n",
       "      <td>-0.588224</td>\n",
       "      <td>-0.531202</td>\n",
       "    </tr>\n",
       "    <tr>\n",
       "      <th>9</th>\n",
       "      <td>-2.610932</td>\n",
       "      <td>-0.890014</td>\n",
       "      <td>-1.001949</td>\n",
       "      <td>-0.978463</td>\n",
       "    </tr>\n",
       "    <tr>\n",
       "      <th>10</th>\n",
       "      <td>0.141495</td>\n",
       "      <td>0.000000</td>\n",
       "      <td>0.003993</td>\n",
       "      <td>0.000000</td>\n",
       "    </tr>\n",
       "    <tr>\n",
       "      <th>11</th>\n",
       "      <td>0.543221</td>\n",
       "      <td>0.121320</td>\n",
       "      <td>0.255975</td>\n",
       "      <td>0.173557</td>\n",
       "    </tr>\n",
       "    <tr>\n",
       "      <th>12</th>\n",
       "      <td>0.213494</td>\n",
       "      <td>0.000000</td>\n",
       "      <td>0.090158</td>\n",
       "      <td>0.014812</td>\n",
       "    </tr>\n",
       "    <tr>\n",
       "      <th>13</th>\n",
       "      <td>-0.661488</td>\n",
       "      <td>-0.090656</td>\n",
       "      <td>-0.236996</td>\n",
       "      <td>-0.136747</td>\n",
       "    </tr>\n",
       "    <tr>\n",
       "      <th>14</th>\n",
       "      <td>-0.741134</td>\n",
       "      <td>-0.235292</td>\n",
       "      <td>-0.333969</td>\n",
       "      <td>-0.293584</td>\n",
       "    </tr>\n",
       "    <tr>\n",
       "      <th>15</th>\n",
       "      <td>-0.097251</td>\n",
       "      <td>0.000000</td>\n",
       "      <td>0.047848</td>\n",
       "      <td>0.000000</td>\n",
       "    </tr>\n",
       "    <tr>\n",
       "      <th>16</th>\n",
       "      <td>-0.165984</td>\n",
       "      <td>0.000000</td>\n",
       "      <td>-0.042778</td>\n",
       "      <td>0.000000</td>\n",
       "    </tr>\n",
       "    <tr>\n",
       "      <th>17</th>\n",
       "      <td>0.204026</td>\n",
       "      <td>0.000000</td>\n",
       "      <td>0.042845</td>\n",
       "      <td>0.000000</td>\n",
       "    </tr>\n",
       "    <tr>\n",
       "      <th>18</th>\n",
       "      <td>0.222341</td>\n",
       "      <td>0.003111</td>\n",
       "      <td>0.120741</td>\n",
       "      <td>0.037537</td>\n",
       "    </tr>\n",
       "    <tr>\n",
       "      <th>19</th>\n",
       "      <td>0.344166</td>\n",
       "      <td>0.000000</td>\n",
       "      <td>0.131761</td>\n",
       "      <td>0.060758</td>\n",
       "    </tr>\n",
       "  </tbody>\n",
       "</table>\n",
       "</div>"
      ],
      "text/plain": [
       "           0         1         2         3\n",
       "0   2.448386  0.862791  0.943341  0.913333\n",
       "1   2.099151  0.794783  0.852618  0.840932\n",
       "2   1.911414  0.789600  0.869266  0.832854\n",
       "3   1.763950  0.590459  0.706093  0.658123\n",
       "4   1.011388  0.462532  0.549192  0.501242\n",
       "5  -2.277685 -0.818757 -0.893153 -0.877069\n",
       "6  -1.817789 -0.713696 -0.773147 -0.739542\n",
       "7  -1.840509 -0.684418 -0.776345 -0.730758\n",
       "8  -1.400668 -0.493051 -0.588224 -0.531202\n",
       "9  -2.610932 -0.890014 -1.001949 -0.978463\n",
       "10  0.141495  0.000000  0.003993  0.000000\n",
       "11  0.543221  0.121320  0.255975  0.173557\n",
       "12  0.213494  0.000000  0.090158  0.014812\n",
       "13 -0.661488 -0.090656 -0.236996 -0.136747\n",
       "14 -0.741134 -0.235292 -0.333969 -0.293584\n",
       "15 -0.097251  0.000000  0.047848  0.000000\n",
       "16 -0.165984  0.000000 -0.042778  0.000000\n",
       "17  0.204026  0.000000  0.042845  0.000000\n",
       "18  0.222341  0.003111  0.120741  0.037537\n",
       "19  0.344166  0.000000  0.131761  0.060758"
      ]
     },
     "execution_count": 8,
     "metadata": {},
     "output_type": "execute_result"
    }
   ],
   "source": [
    "dfcoef = pd.DataFrame(\n",
    "    np.concatenate((clf0.coef_.T, clf1.coef_.T, clf2.coef_.T, clf3.coef_.T), \n",
    "                   axis=1)\n",
    ")\n",
    "dfcoef"
   ]
  },
  {
   "cell_type": "markdown",
   "metadata": {},
   "source": [
    "Graphical comparison:"
   ]
  },
  {
   "cell_type": "code",
   "execution_count": 9,
   "metadata": {},
   "outputs": [
    {
     "data": {
      "image/png": "[encoded data removed]",
      "text/plain": [
       "<Figure size 432x288 with 1 Axes>"
      ]
     },
     "metadata": {
      "needs_background": "light"
     },
     "output_type": "display_data"
    }
   ],
   "source": [
    "plt.plot(dfcoef.index, bvec, lw=3)\n",
    "plt.plot(dfcoef.index, dfcoef[0])\n",
    "plt.plot(dfcoef.index, dfcoef[1])\n",
    "plt.plot(dfcoef.index, dfcoef[2])\n",
    "plt.plot(dfcoef.index, dfcoef[3])\n",
    "plt.xticks(np.arange(0,20,1))\n",
    "plt.xlabel('Coefficient index')\n",
    "plt.ylabel('Coefficient Value')\n",
    "plt.title('Coefficient Estimates Using Several Penalties')\n",
    "plt.legend(['True', 'None','L1','L2','EN'], loc='upper right')\n",
    "plt.hlines(y=0, xmin=0, xmax=19, linestyles='--')\n",
    "plt.show()"
   ]
  },
  {
   "cell_type": "markdown",
   "metadata": {},
   "source": [
    "We see that the unregularized ML coefficients have the most variation, and appear to stray farther from the true population values than the regularized estimators. The penalized estimators are biased toward zero, which reduces variation amd also appears to improve their accruacy. Where the coefficients are close to zero, L1 and ElasticNet zero them out.\n",
    "\n",
    "Note: C=1 is the default setting for the amount of penalization. Smaller values of C increase the amount of penalization. Here we used C=0.3"
   ]
  },
  {
   "cell_type": "markdown",
   "metadata": {},
   "source": [
    "### Regularized Logistic Regression with Train/Test split in Sci-Kit Learn"
   ]
  },
  {
   "cell_type": "markdown",
   "metadata": {},
   "source": [
    "We illustrate using the simulated binary response data. We'll generate the feature matrix $X$ and a binary target array $y$ from a logistic regression model with 20 features."
   ]
  },
  {
   "cell_type": "markdown",
   "metadata": {},
   "source": [
    "1. Import the model class:"
   ]
  },
  {
   "cell_type": "code",
   "execution_count": 10,
   "metadata": {},
   "outputs": [],
   "source": [
    "from sklearn.linear_model import LogisticRegression"
   ]
  },
  {
   "cell_type": "markdown",
   "metadata": {},
   "source": [
    "2. Create an instance of the model. We'll use an 'l1' penalty to regularize the regression for this example."
   ]
  },
  {
   "cell_type": "code",
   "execution_count": 11,
   "metadata": {},
   "outputs": [],
   "source": [
    "logitReg = LogisticRegression(penalty='l1', solver='liblinear', C=1, max_iter=1000)"
   ]
  },
  {
   "cell_type": "markdown",
   "metadata": {},
   "source": [
    "3. Train the model (we'll use a five-fold split)"
   ]
  },
  {
   "cell_type": "code",
   "execution_count": 12,
   "metadata": {},
   "outputs": [],
   "source": [
    "from sklearn.model_selection import train_test_split"
   ]
  },
  {
   "cell_type": "code",
   "execution_count": 13,
   "metadata": {},
   "outputs": [],
   "source": [
    "X_train, X_test, y_train, y_test = train_test_split(\n",
    "    X, y, test_size=0.20, random_state=42)"
   ]
  },
  {
   "cell_type": "code",
   "execution_count": 14,
   "metadata": {},
   "outputs": [
    {
     "data": {
      "text/plain": [
       "LogisticRegression(C=1, class_weight=None, dual=False, fit_intercept=True,\n",
       "                   intercept_scaling=1, l1_ratio=None, max_iter=1000,\n",
       "                   multi_class='warn', n_jobs=None, penalty='l1',\n",
       "                   random_state=None, solver='liblinear', tol=0.0001, verbose=0,\n",
       "                   warm_start=False)"
      ]
     },
     "execution_count": 14,
     "metadata": {},
     "output_type": "execute_result"
    }
   ],
   "source": [
    "logitReg.fit(X_train, y_train)"
   ]
  },
  {
   "cell_type": "markdown",
   "metadata": {},
   "source": [
    "4. Get predictions for test data"
   ]
  },
  {
   "cell_type": "code",
   "execution_count": 15,
   "metadata": {},
   "outputs": [],
   "source": [
    "yhat = logitReg.predict(X_test)"
   ]
  },
  {
   "cell_type": "code",
   "execution_count": 16,
   "metadata": {},
   "outputs": [
    {
     "data": {
      "text/plain": [
       "array([0, 0, 0, 1, 0, 0, 0, 0, 0, 0, 1, 0, 0, 1, 1, 0, 0, 1, 0, 0, 0, 0,\n",
       "       0, 1, 1, 0, 1, 1, 0, 0, 0, 0, 1, 1, 0, 1, 0, 0, 0, 0])"
      ]
     },
     "execution_count": 16,
     "metadata": {},
     "output_type": "execute_result"
    }
   ],
   "source": [
    "yhat"
   ]
  },
  {
   "cell_type": "markdown",
   "metadata": {},
   "source": [
    "5. Evaluate the results"
   ]
  },
  {
   "cell_type": "code",
   "execution_count": 17,
   "metadata": {},
   "outputs": [
    {
     "data": {
      "text/plain": [
       "0.825"
      ]
     },
     "execution_count": 17,
     "metadata": {},
     "output_type": "execute_result"
    }
   ],
   "source": [
    "# Accuracy:\n",
    "score = logitReg.score(X_test, y_test)\n",
    "score"
   ]
  },
  {
   "cell_type": "code",
   "execution_count": 18,
   "metadata": {},
   "outputs": [],
   "source": [
    "# Confusion matrix\n",
    "import matplotlib.pyplot as plt\n",
    "import seaborn as sns; sns.set()\n",
    "from sklearn import metrics"
   ]
  },
  {
   "cell_type": "code",
   "execution_count": 19,
   "metadata": {},
   "outputs": [
    {
     "data": {
      "text/plain": [
       "array([[24,  3],\n",
       "       [ 4,  9]], dtype=int64)"
      ]
     },
     "execution_count": 19,
     "metadata": {},
     "output_type": "execute_result"
    }
   ],
   "source": [
    "# rows are actual labels (0, 1), columns are predicted label (0,1)\n",
    "cm = metrics.confusion_matrix(y_test, yhat)\n",
    "cm"
   ]
  },
  {
   "cell_type": "markdown",
   "metadata": {},
   "source": [
    "Here's a more visual confusion matrix. Code adapted from: ([Galarnyk, 2017](https://towardsdatascience.com/logistic-regression-using-python-sklearn-numpy-mnist-handwriting-recognition-matplotlib-a6b31e2b166a))"
   ]
  },
  {
   "cell_type": "code",
   "execution_count": 20,
   "metadata": {},
   "outputs": [
    {
     "data": {
      "image/png": "[encoded data removed]",
      "text/plain": [
       "<Figure size 144x144 with 2 Axes>"
      ]
     },
     "metadata": {},
     "output_type": "display_data"
    }
   ],
   "source": [
    "plt.figure(figsize=(2,2))\n",
    "sns.heatmap(cm, annot=True, fmt=\".0f\", linewidths=.5, \n",
    "            square = True, cmap = 'Blues_r');\n",
    "plt.ylabel('Actual label');\n",
    "plt.xlabel('Predicted label');\n",
    "all_sample_title = 'Accuracy Score: {0}'.format(score)\n",
    "plt.title(all_sample_title, size = 9);\n",
    "plt.show()"
   ]
  },
  {
   "cell_type": "markdown",
   "metadata": {},
   "source": [
    "### Cross Validation Scoring of Regularized Classifiers"
   ]
  },
  {
   "cell_type": "code",
   "execution_count": 21,
   "metadata": {},
   "outputs": [],
   "source": [
    "from sklearn.model_selection import cross_val_score"
   ]
  },
  {
   "cell_type": "markdown",
   "metadata": {},
   "source": [
    "#### Without regularization"
   ]
  },
  {
   "cell_type": "code",
   "execution_count": 22,
   "metadata": {},
   "outputs": [
    {
     "data": {
      "text/plain": [
       "array([0.825, 0.675, 0.8  , 0.85 , 0.9  ])"
      ]
     },
     "execution_count": 22,
     "metadata": {},
     "output_type": "execute_result"
    }
   ],
   "source": [
    "modclass0 = LogisticRegression(penalty='none', solver='newton-cg')\n",
    "scores0 = cross_val_score(modclass0, X, y, cv=5)\n",
    "scores0"
   ]
  },
  {
   "cell_type": "code",
   "execution_count": 23,
   "metadata": {},
   "outputs": [
    {
     "name": "stdout",
     "output_type": "stream",
     "text": [
      "Accuracy: 0.81 (+/- 0.07)\n"
     ]
    }
   ],
   "source": [
    "print(\"Accuracy: %0.2f (+/- %0.2f)\" % (scores0.mean(), 2*scores0.std()/np.sqrt(5)))"
   ]
  },
  {
   "cell_type": "markdown",
   "metadata": {},
   "source": [
    "#### Using L1 regularization"
   ]
  },
  {
   "cell_type": "code",
   "execution_count": 24,
   "metadata": {},
   "outputs": [
    {
     "data": {
      "text/plain": [
       "array([0.825, 0.75 , 0.8  , 0.8  , 0.85 ])"
      ]
     },
     "execution_count": 24,
     "metadata": {},
     "output_type": "execute_result"
    }
   ],
   "source": [
    "modclass1 = LogisticRegression(penalty='l1', solver='saga', C=0.3, max_iter=1000)\n",
    "scores1 = cross_val_score(modclass1, X, y, cv=5)\n",
    "scores1"
   ]
  },
  {
   "cell_type": "code",
   "execution_count": 25,
   "metadata": {},
   "outputs": [
    {
     "name": "stdout",
     "output_type": "stream",
     "text": [
      "Accuracy: 0.80 (+/- 0.03)\n"
     ]
    }
   ],
   "source": [
    "print(\"Accuracy: %0.2f (+/- %0.2f)\" % (scores1.mean(), 2*scores1.std()/np.sqrt(5)))"
   ]
  },
  {
   "cell_type": "markdown",
   "metadata": {},
   "source": [
    "#### Using L2 regularization"
   ]
  },
  {
   "cell_type": "code",
   "execution_count": 26,
   "metadata": {},
   "outputs": [
    {
     "data": {
      "text/plain": [
       "array([0.825, 0.75 , 0.8  , 0.85 , 0.9  ])"
      ]
     },
     "execution_count": 26,
     "metadata": {},
     "output_type": "execute_result"
    }
   ],
   "source": [
    "modclass2 = LogisticRegression(penalty='l2', solver='saga', C=0.3, max_iter=1000)\n",
    "scores2 = cross_val_score(modclass2, X, y, cv=5)\n",
    "scores2"
   ]
  },
  {
   "cell_type": "code",
   "execution_count": 27,
   "metadata": {},
   "outputs": [
    {
     "name": "stdout",
     "output_type": "stream",
     "text": [
      "Accuracy: 0.82 (+/- 0.04)\n"
     ]
    }
   ],
   "source": [
    "print(\"Accuracy: %0.2f (+/- %0.2f)\" % (scores2.mean(), 2*scores2.std()/np.sqrt(5)))"
   ]
  },
  {
   "cell_type": "markdown",
   "metadata": {},
   "source": [
    "#### Using Elastic Net regularization"
   ]
  },
  {
   "cell_type": "code",
   "execution_count": 28,
   "metadata": {},
   "outputs": [
    {
     "data": {
      "text/plain": [
       "array([0.825, 0.75 , 0.825, 0.85 , 0.85 ])"
      ]
     },
     "execution_count": 28,
     "metadata": {},
     "output_type": "execute_result"
    }
   ],
   "source": [
    "modclass3 = LogisticRegression(penalty='elasticnet', solver='saga', \n",
    "                               l1_ratio=0.75, C=0.3, max_iter=1000)\n",
    "scores3 = cross_val_score(modclass3, X, y, cv=5)\n",
    "scores3"
   ]
  },
  {
   "cell_type": "code",
   "execution_count": 29,
   "metadata": {},
   "outputs": [
    {
     "name": "stdout",
     "output_type": "stream",
     "text": [
      "Accuracy: 0.82 (+/- 0.03)\n"
     ]
    }
   ],
   "source": [
    "print(\"Accuracy: %0.2f (+/- %0.2f)\" % (scores3.mean(), 2*scores3.std()/np.sqrt(5)))"
   ]
  },
  {
   "cell_type": "markdown",
   "metadata": {},
   "source": [
    "---\n",
    "STAT 207, Douglas Simpson, University of Illinois at Urbana-Champaign"
   ]
  }
 ],
 "metadata": {
  "kernelspec": {
   "display_name": "Python 3",
   "language": "python",
   "name": "python3"
  },
  "language_info": {
   "codemirror_mode": {
    "name": "ipython",
    "version": 3
   },
   "file_extension": ".py",
   "mimetype": "text/x-python",
   "name": "python",
   "nbconvert_exporter": "python",
   "pygments_lexer": "ipython3",
   "version": "3.7.3"
  }
 },
 "nbformat": 4,
 "nbformat_minor": 2
}
