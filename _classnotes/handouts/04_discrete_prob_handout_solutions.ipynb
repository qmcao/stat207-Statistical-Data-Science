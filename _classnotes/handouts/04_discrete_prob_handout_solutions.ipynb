{
 "cells": [
  {
   "cell_type": "markdown",
   "metadata": {},
   "source": [
    "### Handout for sampling and probability - solutions"
   ]
  },
  {
   "cell_type": "markdown",
   "metadata": {},
   "source": [
    "#### Try:\n",
    "\n",
    "**Figure out the probability that a random poker hand is \"four-of-a-kind\". This is a five card hand drawn at random without replacement with four card of one face value, and one card of another face value.**"
   ]
  },
  {
   "cell_type": "markdown",
   "metadata": {},
   "source": [
    "We know that the total number of possible sets of 5 card is \n",
    "\n",
    "$$\n",
    "{{52}\\choose{5}} = {52*51*50*49*48 \\over 5*4*3*2*1} = 2598960.\n",
    "$$\n",
    "\n",
    "There are 13 possible face values for the quadruple, 1 way to take all 4 of that face value. There are then 12 ways to pick the face value for the non matching card, and 4 suits from which to select it. Therefore the number of possible \"four-of-a-kind\" hands is\n",
    "\n",
    "$$\n",
    "13*12*4 = 624\n",
    "$$\n",
    "\n",
    "Because all possible sets of 5 cards are equally likely this means the probability of 4 of a kind is\n",
    "\n",
    "$$\n",
    "{13*12*4 \\over {{52}\\choose{5}}} = {624 \\over 2598960} = 0.00024\n",
    "$$\n"
   ]
  },
  {
   "cell_type": "code",
   "execution_count": 1,
   "metadata": {},
   "outputs": [
    {
     "data": {
      "text/plain": [
       "(2598960.0, 624, 0.00024009603841536616)"
      ]
     },
     "execution_count": 1,
     "metadata": {},
     "output_type": "execute_result"
    }
   ],
   "source": [
    "(52*51*50*49*48)/(5*4*3*2*1), 13*12*4, 624/2598960"
   ]
  },
  {
   "cell_type": "markdown",
   "metadata": {},
   "source": [
    "#### Try:\n",
    "\n",
    "**Suppose we wanted to simulate coin tossing using python.  How could we do it using the pandas sample function? Contruct an appropriate data frame and show how to sample $n$ coin tosses and report the number of tails.**"
   ]
  },
  {
   "cell_type": "code",
   "execution_count": 2,
   "metadata": {},
   "outputs": [],
   "source": [
    "import pandas as pd"
   ]
  },
  {
   "cell_type": "code",
   "execution_count": 3,
   "metadata": {},
   "outputs": [
    {
     "data": {
      "text/html": [
       "<div>\n",
       "<style scoped>\n",
       "    .dataframe tbody tr th:only-of-type {\n",
       "        vertical-align: middle;\n",
       "    }\n",
       "\n",
       "    .dataframe tbody tr th {\n",
       "        vertical-align: top;\n",
       "    }\n",
       "\n",
       "    .dataframe thead th {\n",
       "        text-align: right;\n",
       "    }\n",
       "</style>\n",
       "<table border=\"1\" class=\"dataframe\">\n",
       "  <thead>\n",
       "    <tr style=\"text-align: right;\">\n",
       "      <th></th>\n",
       "      <th>side</th>\n",
       "    </tr>\n",
       "  </thead>\n",
       "  <tbody>\n",
       "    <tr>\n",
       "      <th>0</th>\n",
       "      <td>H</td>\n",
       "    </tr>\n",
       "    <tr>\n",
       "      <th>1</th>\n",
       "      <td>T</td>\n",
       "    </tr>\n",
       "  </tbody>\n",
       "</table>\n",
       "</div>"
      ],
      "text/plain": [
       "  side\n",
       "0    H\n",
       "1    T"
      ]
     },
     "execution_count": 3,
     "metadata": {},
     "output_type": "execute_result"
    }
   ],
   "source": [
    "coin = pd.DataFrame({'side': ['H', 'T']})\n",
    "coin"
   ]
  },
  {
   "cell_type": "code",
   "execution_count": 4,
   "metadata": {},
   "outputs": [
    {
     "data": {
      "text/html": [
       "<div>\n",
       "<style scoped>\n",
       "    .dataframe tbody tr th:only-of-type {\n",
       "        vertical-align: middle;\n",
       "    }\n",
       "\n",
       "    .dataframe tbody tr th {\n",
       "        vertical-align: top;\n",
       "    }\n",
       "\n",
       "    .dataframe thead th {\n",
       "        text-align: right;\n",
       "    }\n",
       "</style>\n",
       "<table border=\"1\" class=\"dataframe\">\n",
       "  <thead>\n",
       "    <tr style=\"text-align: right;\">\n",
       "      <th></th>\n",
       "      <th>side</th>\n",
       "    </tr>\n",
       "  </thead>\n",
       "  <tbody>\n",
       "    <tr>\n",
       "      <th>1</th>\n",
       "      <td>T</td>\n",
       "    </tr>\n",
       "    <tr>\n",
       "      <th>1</th>\n",
       "      <td>T</td>\n",
       "    </tr>\n",
       "    <tr>\n",
       "      <th>0</th>\n",
       "      <td>H</td>\n",
       "    </tr>\n",
       "    <tr>\n",
       "      <th>0</th>\n",
       "      <td>H</td>\n",
       "    </tr>\n",
       "    <tr>\n",
       "      <th>1</th>\n",
       "      <td>T</td>\n",
       "    </tr>\n",
       "    <tr>\n",
       "      <th>1</th>\n",
       "      <td>T</td>\n",
       "    </tr>\n",
       "    <tr>\n",
       "      <th>1</th>\n",
       "      <td>T</td>\n",
       "    </tr>\n",
       "    <tr>\n",
       "      <th>0</th>\n",
       "      <td>H</td>\n",
       "    </tr>\n",
       "    <tr>\n",
       "      <th>0</th>\n",
       "      <td>H</td>\n",
       "    </tr>\n",
       "    <tr>\n",
       "      <th>1</th>\n",
       "      <td>T</td>\n",
       "    </tr>\n",
       "  </tbody>\n",
       "</table>\n",
       "</div>"
      ],
      "text/plain": [
       "  side\n",
       "1    T\n",
       "1    T\n",
       "0    H\n",
       "0    H\n",
       "1    T\n",
       "1    T\n",
       "1    T\n",
       "0    H\n",
       "0    H\n",
       "1    T"
      ]
     },
     "metadata": {},
     "output_type": "display_data"
    },
    {
     "data": {
      "text/plain": [
       "'Number of Tails:'"
      ]
     },
     "metadata": {},
     "output_type": "display_data"
    },
    {
     "data": {
      "text/plain": [
       "6"
      ]
     },
     "metadata": {},
     "output_type": "display_data"
    }
   ],
   "source": [
    "n = 10\n",
    "result = coin.sample(n, replace=True)\n",
    "n_tails = (result['side']=='T').sum()\n",
    "display(result, 'Number of Tails:', n_tails)"
   ]
  },
  {
   "cell_type": "markdown",
   "metadata": {},
   "source": [
    "#### Try: \n",
    "\n",
    "**Instead of coin tossing, suppose we roll a 6-sided die with sides number 1,2, ... ,6.**\n",
    "\n",
    "**a) If we roll it twice, what is the probability of \"snake eyes\", i.e., rolling two 1's? Hint: consider how many possible outcomes there are.**\n"
   ]
  },
  {
   "cell_type": "markdown",
   "metadata": {},
   "source": [
    "\n",
    "Rolling twice is equivalent to drawing two numbers at random with replacement from {1,2,3,4,5,6}. There are $6^2 = 36$ ways to do this. out of these, there is only one way to get 1 both times. therefore the probability is\n",
    "$\n",
    "{1\\over 36}.\n",
    "$\n"
   ]
  },
  {
   "cell_type": "markdown",
   "metadata": {},
   "source": [
    "**b) If we roll it 10 times, what is the probability of getting exactly two 1's?**"
   ]
  },
  {
   "cell_type": "markdown",
   "metadata": {},
   "source": [
    "For each of the 10 rolls, there are 6 possible values. So the number of possible sequences of 10 rolls is $6^{10}$.\n",
    "\n",
    "Out of these the number of sequences with exactly two 1's among the 10 rolls is the number of ways to pick 2 positions for the 1's multiplied by the number of ways to fill in the remaining slots with other numbers, so\n",
    "\n",
    "$$\n",
    "\\text{# ways to pick sequence with two 1's} = {{10}\\choose {2}} * 5^8.\n",
    "$$\n",
    "\n",
    "Therefore the probability is\n",
    "\n",
    "$$\n",
    "{{{10}\\choose {2}} * 5^8 \\over 6^{10}} = {{10}\\choose {2}} \\left({1\\over 6}\\right)^2 \\left({5\\over 6}\\right)^8\n",
    "= 0.2907\n",
    "$$"
   ]
  },
  {
   "cell_type": "code",
   "execution_count": 5,
   "metadata": {},
   "outputs": [
    {
     "data": {
      "text/plain": [
       "0.2907100492017223"
      ]
     },
     "execution_count": 5,
     "metadata": {},
     "output_type": "execute_result"
    }
   ],
   "source": [
    "(10*9/2)*(5**8)/(6**10)"
   ]
  }
 ],
 "metadata": {
  "kernelspec": {
   "display_name": "Python 3",
   "language": "python",
   "name": "python3"
  },
  "language_info": {
   "codemirror_mode": {
    "name": "ipython",
    "version": 3
   },
   "file_extension": ".py",
   "mimetype": "text/x-python",
   "name": "python",
   "nbconvert_exporter": "python",
   "pygments_lexer": "ipython3",
   "version": "3.7.1"
  }
 },
 "nbformat": 4,
 "nbformat_minor": 2
}
