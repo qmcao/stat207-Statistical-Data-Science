{
 "cells": [
  {
   "cell_type": "markdown",
   "metadata": {},
   "source": [
    "### Handout for random variables and population parameters"
   ]
  },
  {
   "cell_type": "markdown",
   "metadata": {},
   "source": [
    "**Try:** For a discrete random variable $X$:\n",
    "\n",
    "$$\\mu = E[X] = \\sum_x x p(x) $$\n",
    "\n",
    "$$\\sigma^2 = E[(X-\\mu)^2] = \\sum_x (x-\\mu)^2 p(x)$$\n",
    "\n",
    "where the summation is over all possible values for $X$.\n",
    "\n",
    "Suppose $P(X=-1) = 0.25$, $P(X=0) = 0.50$ and $P(X=1)= 0.25$\n",
    "\n",
    "Calculate $\\mu$, $\\sigma^2$ and $\\sigma$ for $X$.\n"
   ]
  },
  {
   "cell_type": "markdown",
   "metadata": {},
   "source": [
    "\n",
    "$$\\qquad$$\n",
    "\n",
    "$$\\qquad$$\n",
    "\n",
    "$$\\qquad$$\n"
   ]
  },
  {
   "cell_type": "markdown",
   "metadata": {},
   "source": [
    "**Try:** If $X$ is a random number between 0 and 1, then it is a continuous random variable that can take on any value in the interval with equal likelihood, that is, its probability density function is constant over the interval. Because the area under a pdf curve must be 1, its pdf is given by\n",
    "\n",
    "$$\n",
    "f(x) =\n",
    "\\begin{cases}\n",
    "1, & \\text{if $0\\le x \\le 1$}\\\\\n",
    "0, & \\text{otherwise}\n",
    "\\end{cases}\n",
    "$$\n",
    "\n",
    "**a)** Find $P(X \\le 0.25)$  (Hint: try sketching the pdf and remember that probabilities are areas under the curve)."
   ]
  },
  {
   "cell_type": "markdown",
   "metadata": {},
   "source": [
    "$$\\qquad$$\n",
    "\n",
    "$$\\qquad$$\n",
    "\n",
    "$$\\qquad$$"
   ]
  },
  {
   "cell_type": "markdown",
   "metadata": {},
   "source": [
    "**b)** Find an expression for $F(x) = P(X\\le x)$ as a function of $x$."
   ]
  },
  {
   "cell_type": "markdown",
   "metadata": {},
   "source": [
    "$$\\qquad$$\n",
    "\n",
    "$$\\qquad$$\n",
    "\n",
    "$$\\qquad$$"
   ]
  },
  {
   "cell_type": "markdown",
   "metadata": {},
   "source": [
    "**c)** Find the 75th percentile of the distrbution of $X$, i.e., find the value q such that $P(X\\le q) = 0.75$."
   ]
  }
 ],
 "metadata": {
  "kernelspec": {
   "display_name": "Python 3",
   "language": "python",
   "name": "python3"
  },
  "language_info": {
   "codemirror_mode": {
    "name": "ipython",
    "version": 3
   },
   "file_extension": ".py",
   "mimetype": "text/x-python",
   "name": "python",
   "nbconvert_exporter": "python",
   "pygments_lexer": "ipython3",
   "version": "3.7.1"
  }
 },
 "nbformat": 4,
 "nbformat_minor": 2
}
