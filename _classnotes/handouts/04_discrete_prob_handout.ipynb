{
 "cells": [
  {
   "cell_type": "markdown",
   "metadata": {},
   "source": [
    "### Handout for sampling and probability"
   ]
  },
  {
   "cell_type": "markdown",
   "metadata": {},
   "source": [
    "#### Try:\n",
    "\n",
    "Figure out the probability that a random poker hand is \"four-of-a-kind\". This is a five card hand drawn at random without replacement with four card of one face value, and one card of another face value."
   ]
  },
  {
   "cell_type": "markdown",
   "metadata": {},
   "source": [
    "\n",
    "$$\\quad$$\n",
    "\n",
    "$$\\quad$$\n",
    "\n",
    "$$\\quad$$\n"
   ]
  },
  {
   "cell_type": "markdown",
   "metadata": {},
   "source": [
    "#### Try:\n",
    "\n",
    "Suppose we wanted to simulate coin tossing using python.  How could we do it using the pandas sample function? Contruct an appropriate data frame and show how to sample $n$ coin tosses and report the number of tails."
   ]
  },
  {
   "cell_type": "markdown",
   "metadata": {},
   "source": [
    "\n",
    "\n",
    "$$\\quad$$\n",
    "\n",
    "$$\\quad$$\n",
    "\n",
    "$$\\quad$$\n"
   ]
  },
  {
   "cell_type": "markdown",
   "metadata": {},
   "source": [
    "#### Try: \n",
    "\n",
    "Instead of coin tossing, suppose we roll a 6-sided die with sides number 1,2, ... ,6. \n",
    "\n",
    "**a)** If we roll it twice, what is the probability of \"snake eyes\", i.e., rolling two 1's? Hint: consider how many possible outcomes there are.\n"
   ]
  },
  {
   "cell_type": "markdown",
   "metadata": {},
   "source": [
    "\n",
    "\n",
    "$$\\quad$$\n",
    "\n",
    "\n",
    "$$\\quad$$\n",
    "\n",
    "$$\\quad$$"
   ]
  },
  {
   "cell_type": "markdown",
   "metadata": {},
   "source": [
    "**b)** If we roll it 10 times, what is the probability of getting exactly two 1's?"
   ]
  }
 ],
 "metadata": {
  "kernelspec": {
   "display_name": "Python 3",
   "language": "python",
   "name": "python3"
  },
  "language_info": {
   "codemirror_mode": {
    "name": "ipython",
    "version": 3
   },
   "file_extension": ".py",
   "mimetype": "text/x-python",
   "name": "python",
   "nbconvert_exporter": "python",
   "pygments_lexer": "ipython3",
   "version": "3.7.1"
  }
 },
 "nbformat": 4,
 "nbformat_minor": 2
}
