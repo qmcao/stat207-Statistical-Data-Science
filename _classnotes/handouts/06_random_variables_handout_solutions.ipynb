{
 "cells": [
  {
   "cell_type": "markdown",
   "metadata": {},
   "source": [
    "### Handout for random variables and population parameters"
   ]
  },
  {
   "cell_type": "markdown",
   "metadata": {},
   "source": [
    "**Try:** For a discrete random variable $X$:\n",
    "\n",
    "$$\\mu = E[X] = \\sum_x x p(x) $$\n",
    "\n",
    "$$\\sigma^2 = E[(X-\\mu)^2] = \\sum_x (x-\\mu)^2 p(x)$$\n",
    "\n",
    "where the summation is over all possible values for $X$.\n",
    "\n",
    "Suppose $P(X=-1) = 0.25$, $P(X=0) = 0.50$ and $P(X=1)= 0.25$\n",
    "\n",
    "Calculate $\\mu$, $\\sigma^2$ and $\\sigma$ for $X$.\n"
   ]
  },
  {
   "cell_type": "markdown",
   "metadata": {},
   "source": [
    "$$\n",
    "\\mu = (-1)(0.25) + (0)(0.50) + (1)(0.25) = 0\n",
    "$$\n",
    "\n",
    "$$\n",
    "\\sigma^2 = (0.25)(-1-0)^2 + (0.50)(0-0)^2 + (0.25)(1-0)^2 = 0.25+0.25=0.5\n",
    "$$\n",
    "\n",
    "$$\n",
    "\\sigma = \\sqrt{0.5} = 0.707\n",
    "$$\n"
   ]
  },
  {
   "cell_type": "markdown",
   "metadata": {},
   "source": [
    "**Try:** If $X$ is a random number between 0 and 1, then it is a continuous random variable that can take on any value in the interval with equal likelihood, that is, its probability density function is constant over the interval. Because the area under a pdf curve must be 1, its pdf is given by\n",
    "\n",
    "$$\n",
    "f(x) =\n",
    "\\begin{cases}\n",
    "1, & \\text{if $0\\le x \\le 1$}\\\\\n",
    "0, & \\text{otherwise}\n",
    "\\end{cases}\n",
    "$$\n",
    "\n",
    "**a)** Find $P(X \\le 0.25)$  (Hint: try sketching the pdf and remember that probabilities are areas under the curve)."
   ]
  },
  {
   "attachments": {
    "image.png": {
     "image/png": "[encoded data removed]"
    }
   },
   "cell_type": "markdown",
   "metadata": {},
   "source": [
    "![image.png](attachment:image.png)\n",
    "\n",
    "$$\n",
    "P(X \\le 0.25) = \\text{Shaded area} = 1 * 0.25 = 0.25\n",
    "$$"
   ]
  },
  {
   "cell_type": "markdown",
   "metadata": {},
   "source": [
    "**b)** Find an expression for $F(x) = P(X\\le x)$ as a function of $x$."
   ]
  },
  {
   "cell_type": "markdown",
   "metadata": {},
   "source": [
    "Similar to the figure above, if $0 < x < 1$, then $P(X\\le x) = x$. if $x \\le 0$, then $P(X \\le x)=0$. If $x \\ge 1$, then \n",
    "$P(X \\le x) = P(X \\le 1) = 1$ Summarizing,\n",
    "\n",
    "$$\n",
    "F(x) = P(X\\le x) = \n",
    "\\begin{cases}\n",
    "0, & \\text{if $x<0$} \\\\\n",
    "x, & \\text{if $0\\le x \\le 1$} \\\\\n",
    "1, & \\text{if $x > 1$}\n",
    "\\end{cases}\n",
    "$$\n"
   ]
  },
  {
   "cell_type": "markdown",
   "metadata": {},
   "source": [
    "**c)** Find the 75th percentile of the distrbution of $X$, i.e., find the value q such that $P(X\\le q) = 0.75$."
   ]
  },
  {
   "cell_type": "markdown",
   "metadata": {},
   "source": [
    "$$\n",
    "P(X\\le q) = F(q) = q \\text{, therefore } q=0.75.\n",
    "$$"
   ]
  },
  {
   "cell_type": "markdown",
   "metadata": {},
   "source": [
    "---\n",
    "Extra: code for making the graph"
   ]
  },
  {
   "cell_type": "code",
   "execution_count": null,
   "metadata": {},
   "outputs": [],
   "source": [
    "import matplotlib.pyplot as plt\n",
    "import seaborn as sns; sns.set()\n",
    "import numpy as np\n",
    "from scipy.stats import uniform"
   ]
  },
  {
   "cell_type": "code",
   "execution_count": null,
   "metadata": {},
   "outputs": [],
   "source": [
    "x = np.linspace(0,1,100)\n",
    "x25 = np.linspace(0,0.25, 100)\n",
    "plt.plot(x, uniform.pdf(x), lw=3, color='blue')\n",
    "plt.hlines(y=0, xmin=-0.2, xmax=0, lw=3, color='blue')\n",
    "plt.hlines(y=0, xmin=1.0, xmax=1.2, lw=3, color='blue')\n",
    "plt.hlines(y=0, xmin=-0.2, xmax=1.2)\n",
    "plt.vlines(x=[0,1], ymin=0, ymax=1, linestyle='--', colors='blue')\n",
    "plt.xlabel('x')\n",
    "plt.ylabel('f(x)')\n",
    "plt.fill_between(x25, 0, uniform.pdf(x25), color='gray')\n",
    "plt.xlim([-0.2, 1.2])\n",
    "plt.ylim([-0.1,1.1])\n",
    "plt.show()"
   ]
  }
 ],
 "metadata": {
  "kernelspec": {
   "display_name": "Python 3",
   "language": "python",
   "name": "python3"
  },
  "language_info": {
   "codemirror_mode": {
    "name": "ipython",
    "version": 3
   },
   "file_extension": ".py",
   "mimetype": "text/x-python",
   "name": "python",
   "nbconvert_exporter": "python",
   "pygments_lexer": "ipython3",
   "version": "3.7.1"
  }
 },
 "nbformat": 4,
 "nbformat_minor": 2
}
