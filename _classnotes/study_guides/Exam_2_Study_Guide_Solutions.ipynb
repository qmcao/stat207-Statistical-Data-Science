{
 "cells": [
  {
   "cell_type": "markdown",
   "metadata": {},
   "source": [
    "### STAT 207 STUDY GUIDE FOR EXAM 2 SOLUTIONS\n",
    "\n",
    "\n",
    "#### The Exam 2 notebook will be released on the class git release repository as exam_02 by Monday, April 13, 9 am US central time.\n",
    "\n",
    "#### Your completed Exam 2 notebook must be committed and pushed to your remote class repo by Tuesday, April 14, 11:59 pm US central time.\n",
    "\n",
    "\n",
    "+ The exam will be in the form of a Jupyter notebook. this is an open notes, open internet exam, **but you must do all the work independently without consulting other people.** \n",
    "\n",
    "+ The instructional staff will not answer questions about how to do the problems. They will only answer questions about possible typos or other errata in the exam. \n",
    "\n",
    "+ The exam will be intended to be a one hour exam if done in one sitting.\n",
    "\n",
    "+ The exam covers classnote chapters 8 - 12 and homework labs 6 - 9.\n",
    "\n",
    "\n",
    "Exam problems are generally be shorter than homework problems and may involve short answer conceptual questions, quick calculations and Python code interpretation or debugging. It is not a multiple choice exam, although some multiple choice questions are possible.\n",
    "\n",
    "\n",
    "Here is a list of concepts covered since the previous exam:\n",
    "\n",
    "\n",
    "+ Hypothesis testing: formulating hypotheses as statements about population parameters\n",
    "+ Hypothesis testing: large sample z tests for means and proportions\n",
    "+ Hypothesis testing: t distribution and degrees of freedom\n",
    "+ Hypothesis testing: one- and two-sample t tests and confidence intervals for means\n",
    "+ Scatter plots and correlation\n",
    "+ Simple linear regression: Relation between regression slope, correlation, $S_y$ and $S_x$\n",
    "+ OLS model fitting criterion\n",
    "+ Model checking with residual plots\n",
    "+ Multiple regression models: interpretation of coefficents\n",
    "+ Multiple regression models: model summary, estimates, standard errors, coefficient t tests\n",
    "+ F test for the regression\n",
    "+ Oneway anova model\n",
    "+ Analysis of variance F tests: comparing two models\n",
    "+ Categorical data: Odds, odds-ratios, log-odds ratios, standard errors\n",
    "+ Logit models for binary responses (logistic regression models)\n",
    "+ Coefficent estimates, interpretation, standard errors, z-test, confidence intervals\n",
    "+ Converting the estimated log-odds to estimated probablity and vice versa\n",
    "+ Logit classifier\n",
    "+ Accuracy of classifier\n",
    "+ Sensitivy, Specificity, True Negative, False Positive, False Negative, True Positive\n",
    "\n",
    "\n",
    "Below are some exam type practice problems. Note: Please do not expect the exam to be exactly like these sample questions. Use them as a way to see what you know or need to study further. The exam itself will not be as long as this list of practice problems.\n"
   ]
  },
  {
   "cell_type": "markdown",
   "metadata": {},
   "source": [
    "**1. Internal body temperature varies throughout the day. Suppose we obtain a random sample of 16 individuals who have their temperature taken immediately after waking. A 95% confidence interval is calculated for the true mean body temperature (degrees Fahrenheit) upon waking and is found to be (97.63, 98.17). We are also told that the standard error is 0.125.**"
   ]
  },
  {
   "cell_type": "markdown",
   "metadata": {},
   "source": [
    "**a) Calculate an estimate of the population mean body temperature upon waking.**"
   ]
  },
  {
   "cell_type": "markdown",
   "metadata": {},
   "source": [
    "Estimate is midpoint of confidence interval:"
   ]
  },
  {
   "cell_type": "code",
   "execution_count": 1,
   "metadata": {},
   "outputs": [
    {
     "data": {
      "text/plain": [
       "97.9"
      ]
     },
     "execution_count": 1,
     "metadata": {},
     "output_type": "execute_result"
    }
   ],
   "source": [
    "(97.63 + 98.17)/2"
   ]
  },
  {
   "cell_type": "markdown",
   "metadata": {},
   "source": [
    "**b) Show python commands to calculate the critical value ($t_q$) for this interval, including any imports.**"
   ]
  },
  {
   "cell_type": "markdown",
   "metadata": {},
   "source": [
    "    from scipy.stats import t\n",
    "    t.ppf(0.975, df=15)\n",
    "\n",
    "\n"
   ]
  },
  {
   "cell_type": "markdown",
   "metadata": {},
   "source": [
    "**c) Based on the information given, calculate the sample standard deviation of body temperature in the data.**"
   ]
  },
  {
   "cell_type": "markdown",
   "metadata": {},
   "source": [
    "$$\n",
    "se = {s \\over \\sqrt{16}} = 0.125 \\quad \\implies s = (0.125)(4) = 0.50\n",
    "$$\n",
    "\n",
    "\n"
   ]
  },
  {
   "cell_type": "markdown",
   "metadata": {},
   "source": [
    "**For the following questions, we test whether these data are consistent with the typical assumption that normal human body temperature is 98.6 degrees Fahrenheit against a two-sided alternative hypothesis.**\n",
    "\n",
    "**d) State the null and alternative hypotheses, defining any parameters used in the statements.**"
   ]
  },
  {
   "cell_type": "markdown",
   "metadata": {},
   "source": [
    "Define $\\mu$ to be the population mean body temperature upon waking.\n",
    "\n",
    "$$\n",
    "H_0: \\mu=98.6\\quad \\mbox{against} \\quad H_A: \\mu\\ne 98.6\n",
    "$$\n",
    "\n",
    "\n"
   ]
  },
  {
   "cell_type": "markdown",
   "metadata": {},
   "source": [
    "**e) Calculate the value of the test statistic.**"
   ]
  },
  {
   "cell_type": "markdown",
   "metadata": {},
   "source": [
    "\n",
    "$$\n",
    "t = {97.9 - 98.6 \\over 0.125} = -5.6\n",
    "$$\n"
   ]
  },
  {
   "cell_type": "code",
   "execution_count": 2,
   "metadata": {},
   "outputs": [
    {
     "data": {
      "text/plain": [
       "-5.599999999999909"
      ]
     },
     "execution_count": 2,
     "metadata": {},
     "output_type": "execute_result"
    }
   ],
   "source": [
    "(97.9 - 98.6)/0.125"
   ]
  },
  {
   "cell_type": "markdown",
   "metadata": {},
   "source": [
    "**f) Based on the available information, do you reject or accept the null hypothesis at a signficance level of 0.05? Explain briefly.**"
   ]
  },
  {
   "cell_type": "markdown",
   "metadata": {},
   "source": [
    "\n",
    "The 95% confidence interval does not contain the null value 98.6, therefore we reject $H_0$ at the 0.05 level. \n",
    "\n",
    "Notice that you could deduce the value of the 0.05 cutoff for t from the available information: divide the halfwidth of the confidence interval by the standard error. The result is the 0.05 cutoff for the absolute value of the t-test statistic. \n"
   ]
  },
  {
   "cell_type": "markdown",
   "metadata": {},
   "source": [
    "---"
   ]
  },
  {
   "cell_type": "markdown",
   "metadata": {},
   "source": [
    "**2. Here is a scatter plot of  Marble Tombstone Mean Surface Recession Rates (MRR) and Mean SO2 concentrations (SO2) over a 100-year period. (Source: T. C. Meierding (1993)).**"
   ]
  },
  {
   "attachments": {
    "image.png": {
     "image/png": "[encoded data removed]"
    }
   },
   "cell_type": "markdown",
   "metadata": {},
   "source": [
    "![image.png](attachment:image.png)"
   ]
  },
  {
   "cell_type": "markdown",
   "metadata": {},
   "source": [
    "**The model summary for the linear regression of MMR on SO2 includes the following information:**\n",
    "\n",
    "| $\\quad$ | coef | std err | t | $\\mbox{P}>\\vert \\mbox{t} \\vert$ | $\\mbox{[0.025}$ | $\\mbox{0.975]}$ |\n",
    "| --- | --- | --- | --- | --- | --- | --- |\n",
    "| Intercept | 0.3229959 | 0.1521958 |  2.122 |  0.0472 | ** | ** |\n",
    "| SO2 | 0.0085933 | 0.0009499 |  9.046 | 2.58e-08 | ** | ** |"
   ]
  },
  {
   "cell_type": "markdown",
   "metadata": {},
   "source": [
    "**a) Based on the graph, select the closest value for the sample correlation coefficient between MRR and SO2.**\n",
    "\n",
    "        i. 1.2      ii. 0.9       iii. 0       iv. -0.5\n",
    "  \n",
    "The answer is ii. We can eliminate i. (correlations cannot be > 1), iv. (slope is not negative), and iii. (there is a pretty strong positive linear assocation).  \n",
    "\n",
    "It is also informative to realize here that the sample correlation between SO2 and MMR for this model is the square root of $R^2$, the proportion of variance explained."
   ]
  },
  {
   "cell_type": "markdown",
   "metadata": {},
   "source": [
    "**b) Using the estimates above, write down the formula for the final regression model (least square line formula).**"
   ]
  },
  {
   "cell_type": "markdown",
   "metadata": {},
   "source": [
    "Let y denote body temperature. Round to 3 significant digits. Fitted model is\n",
    "\n",
    "$$\n",
    "\\hat{y} = 0.323 + 0.00859 * SO2\n",
    "$$\n",
    "\n"
   ]
  },
  {
   "cell_type": "markdown",
   "metadata": {},
   "source": [
    "**c) If I measure an SO2 concentration of 2 units, what recession rate would you predict based on the model?**"
   ]
  },
  {
   "cell_type": "markdown",
   "metadata": {},
   "source": [
    "\n",
    "$$\n",
    "\\hat{y} = 0.323 + 0.00859 * 2 = 0.340\n",
    "$$\n",
    "\n"
   ]
  },
  {
   "cell_type": "code",
   "execution_count": 3,
   "metadata": {},
   "outputs": [
    {
     "data": {
      "text/plain": [
       "0.34018000000000004"
      ]
     },
     "execution_count": 3,
     "metadata": {},
     "output_type": "execute_result"
    }
   ],
   "source": [
    "0.323 + 0.00859 * 2 "
   ]
  },
  {
   "cell_type": "markdown",
   "metadata": {},
   "source": [
    "**d) For each 1 unit increase of SO2 concentration in the marble, how much increase/decrease of recession rate would you expect on average?**"
   ]
  },
  {
   "cell_type": "markdown",
   "metadata": {},
   "source": [
    "\n",
    "0.00859\n"
   ]
  },
  {
   "cell_type": "markdown",
   "metadata": {},
   "source": [
    "**e) If we use a critical value $t_q$ = 2 for a 95% confidence interval, compute the confidence interval for the slope coefficient.**"
   ]
  },
  {
   "cell_type": "markdown",
   "metadata": {},
   "source": [
    "\n",
    "margin of error = (2)(0.000950) = 0.0019\n",
    "\n",
    "confidence interval: (0.00859 - 0.0019, 0.00859 + 0.0019) = (0.00669, 0.01049)\n",
    "\n",
    "\n"
   ]
  },
  {
   "cell_type": "markdown",
   "metadata": {},
   "source": [
    "**f) I want to perform a hypothesis test on the slope to see if it is zero or not. What would be the value of the test statistic and the p-value in this case?**"
   ]
  },
  {
   "cell_type": "markdown",
   "metadata": {},
   "source": [
    "\n",
    "test statistic value is t = 9.046\n",
    "\n",
    "p-value is 2.58 x 10**(-8)\n"
   ]
  },
  {
   "cell_type": "markdown",
   "metadata": {},
   "source": [
    "**g) Would you say there is statistical evidence that SO2 concentration and surface recession rates are indeed linearly associated, at a significance level of 0.05?**"
   ]
  },
  {
   "cell_type": "markdown",
   "metadata": {},
   "source": [
    "\n",
    "Yes, because the p-value is much smaller than 0.05.\n",
    "\n"
   ]
  },
  {
   "cell_type": "markdown",
   "metadata": {},
   "source": [
    "---"
   ]
  },
  {
   "cell_type": "markdown",
   "metadata": {},
   "source": [
    "**3. We ran a regression for a dataset that studied human happiness across different nations. The response was LSI, which is the life-satisfaction index. The explanatory variables include GINI, CORRUPT, and DEMOCRACY. GINI is the measure of the inequality in income distributions (higher number means greater inequality). CORRUPT is the degree of corruption in the government (higher number means less corruption). DEMOCRACY is the degree of democracy (higher number means more civil and political liberties).**\n",
    "\n",
    "\n",
    "                                OLS Regression Results                            \n",
    "    ==============================================================================\n",
    "    Dep. Variable:                    LSI   R-squared:                       0.555\n",
    "    Model:                            OLS   Adj. R-squared:                  0.471\n",
    "    Method:                 Least Squares   F-statistic:                     6.649\n",
    "    Date:                Wed, 06 Nov 2019   Prob (F-statistic):           0.003997\n",
    "    Time:                        10:42:26   Log-Likelihood:                   **\n",
    "    No. Observations:                  20   AIC:                              **\n",
    "    Df Residuals:                      16   BIC:                              **\n",
    "    Df Model:                           3                                         \n",
    "    Covariance Type:            nonrobust                                         \n",
    "    ==============================================================================\n",
    "                     coef    std err          t      P>|t|      [0.025      0.975]\n",
    "    ------------------------------------------------------------------------------\n",
    "    Intercept      3.3404      1.5726      2.124     0.0496        **          **\n",
    "    GINI           0.0210      0.0336      0.625     0.5406        **          **\n",
    "    CORRUPT        0.2672      0.1330      2.010     0.0616        **          **\n",
    "    DEMOCRACY      0.1852      0.2138      0.866     0.3992        **          **\n",
    "    ==============================================================================\n",
    "  \n",
    "\n",
    "\n"
   ]
  },
  {
   "cell_type": "markdown",
   "metadata": {},
   "source": [
    "**a) Which of the explanatory variables are significant at a 5% significance level?**"
   ]
  },
  {
   "cell_type": "markdown",
   "metadata": {},
   "source": [
    "**None** of the variables is significant at the 0.05 level based on their coefficient p-values.\n",
    "\n",
    "CORRUPT is closest, with p=0.0616.\n",
    "\n",
    "\n",
    "\n"
   ]
  },
  {
   "cell_type": "markdown",
   "metadata": {},
   "source": [
    "**b) Show how to calculate the predicted LSI value for a nation with GINI = 42.7, CORRUPT = 22, and DEMOCRACY = 36.2. Just set it up, you don't need to do the calculation.**"
   ]
  },
  {
   "cell_type": "markdown",
   "metadata": {},
   "source": [
    "\n",
    "$$\n",
    "\\hat{y} = 3.3404 + 0.0210*42.7 + 0.2672*22 + 0.1852*36.2\n",
    "$$\n",
    "\n",
    "\n"
   ]
  },
  {
   "cell_type": "markdown",
   "metadata": {},
   "source": [
    "**c) What is the proportion of variance in the response explained by these explanatory variables?**"
   ]
  },
  {
   "cell_type": "markdown",
   "metadata": {},
   "source": [
    "\n",
    "This is given by R-squared = 0.555\n",
    "\n",
    "\n"
   ]
  },
  {
   "cell_type": "markdown",
   "metadata": {},
   "source": [
    "\n",
    "\n",
    "\n",
    "\n",
    "\n"
   ]
  },
  {
   "cell_type": "markdown",
   "metadata": {},
   "source": [
    "**d) A small P-value for the F-statistic reported for the model implies that all explanatory variables are significantly different from 0. Circle only one answer.**\n",
    "\n",
    "    TRUE\tFALSE\n",
    " \n",
    "**False**, it implies that at least one of their coefficients is not zero."
   ]
  },
  {
   "cell_type": "markdown",
   "metadata": {},
   "source": [
    "**e) In order to compute a 95% confidence interval for the coefficient of CORRUPT, we need to find the multiplier for the standard error. Show how to use the scipy.stats.t to compute this multiplier, including importing necessary package(s) and inserting \n",
    "numerical values for the arguments.**"
   ]
  },
  {
   "cell_type": "markdown",
   "metadata": {},
   "source": [
    "We need $t_q$ for a confidence level of 0.95. For degrees of freedom use 'DF residuals' from the summary.\n",
    "\n",
    "    from scipy.stats import t\n",
    "    t.ppf(0.975, df=16)\n",
    "\n"
   ]
  },
  {
   "cell_type": "markdown",
   "metadata": {},
   "source": [
    "---"
   ]
  },
  {
   "cell_type": "markdown",
   "metadata": {},
   "source": [
    "**4. For each of the following questions, assume we have already run the following commands:**"
   ]
  },
  {
   "cell_type": "code",
   "execution_count": 4,
   "metadata": {},
   "outputs": [],
   "source": [
    "import numpy as np\n",
    "from scipy.stats import norm, t"
   ]
  },
  {
   "cell_type": "markdown",
   "metadata": {},
   "source": [
    "**a) Suppose $X$ is normally distributed with population mean=5 and standard deviation=2. What Python commands are needed to compute the probability that $X$ is larger than 8?** "
   ]
  },
  {
   "cell_type": "markdown",
   "metadata": {},
   "source": [
    "\n",
    "    1 - norm.cdf(8, loc=5, scale=2)\n",
    "\n",
    "\n"
   ]
  },
  {
   "cell_type": "markdown",
   "metadata": {},
   "source": [
    "**b) With X the same as in a), what Python commands are needed in order to compute the probability that $|X – 5| > 3$?**"
   ]
  },
  {
   "cell_type": "markdown",
   "metadata": {},
   "source": [
    "\n",
    "    2*norm.cdf(-3, loc=0, scale=2)\n",
    "\n"
   ]
  },
  {
   "cell_type": "markdown",
   "metadata": {},
   "source": [
    "**c) Will the output of $\\,$ t.ppf(0.73, df = 56) $\\,$ be larger or smaller than 0?**"
   ]
  },
  {
   "cell_type": "markdown",
   "metadata": {},
   "source": [
    "\n",
    "Larger than 0 because the 73rd percentile is larger than the median, which equals 0\n",
    "\n"
   ]
  },
  {
   "cell_type": "markdown",
   "metadata": {},
   "source": [
    "**d) Will the output of $\\,$ norm.ppf(0.73, loc = -5, scale = 0.001) $\\,$ be larger or smaller than 0?**"
   ]
  },
  {
   "cell_type": "markdown",
   "metadata": {},
   "source": [
    "\n",
    "Less than zero because the small scale ensures that the 73rd percentile is still close to -5. \n",
    "\n",
    "It is less than the 95th percentile, which is less than -5 + (2)(0.001) = -4.998\n",
    "\n"
   ]
  },
  {
   "cell_type": "markdown",
   "metadata": {},
   "source": [
    "**e) Which of the following commands will give the largest value:**\n",
    "\n",
    "    norm.cdf(-1, loc=0, scale=1)\n",
    "    t.cdf(-1, df=3)\n",
    "    t.cdf(-1, df=30)\n"
   ]
  },
  {
   "cell_type": "markdown",
   "metadata": {},
   "source": [
    "\n",
    "All three distributions have the same center at 0. The t with 3 df has the heaviest tails so the answer is \n",
    "\n",
    "    t.cdf(-1, df=3)\n",
    "\n"
   ]
  },
  {
   "cell_type": "markdown",
   "metadata": {},
   "source": [
    "**f) Which of the following will give you the 45th percentile of the standard normal distribution?**\n",
    "\n",
    "    norm.cdf(45)\n",
    "    norm.cdf(0.45)\n",
    "    norm.ppf(0.45)\n",
    "    norm.ppf(0.475)\n"
   ]
  },
  {
   "cell_type": "markdown",
   "metadata": {},
   "source": [
    "norm.ppf(0.45)"
   ]
  },
  {
   "cell_type": "markdown",
   "metadata": {},
   "source": [
    "---"
   ]
  },
  {
   "cell_type": "markdown",
   "metadata": {},
   "source": [
    "**5. A sample survey interviews a simple random sample of 300 college women. It is hypothesized that 60% of all college women have been on a diet during the past year.**\n"
   ]
  },
  {
   "cell_type": "markdown",
   "metadata": {},
   "source": [
    "**a) If $\\hat{p}$ is the proportion of women in the sample that have been on a diet in the past year, find the numerical values for the mean and the standard deviation of the sampling distribution for $\\hat{p}$, assuming the hypothesis is true.** "
   ]
  },
  {
   "cell_type": "markdown",
   "metadata": {},
   "source": [
    "\n",
    "$$\n",
    "E(\\hat{p}) = 0.60 \\qquad sd(\\hat{p}) = \\sqrt{ (0.6)(0.4) \\over 300 }\n",
    "= 0.028\n",
    "$$\n"
   ]
  },
  {
   "cell_type": "code",
   "execution_count": 5,
   "metadata": {},
   "outputs": [
    {
     "data": {
      "text/plain": [
       "0.0282842712474619"
      ]
     },
     "execution_count": 5,
     "metadata": {},
     "output_type": "execute_result"
    }
   ],
   "source": [
    "import numpy as np\n",
    "np.sqrt(0.6*0.4/300)"
   ]
  },
  {
   "cell_type": "markdown",
   "metadata": {},
   "source": [
    "**b) If in the sample $\\hat{p} = 0.54$, compute the z-test value for testing the hypothesis against a two-sided alternative. Does the value exceed 1.96 in absolute value?**"
   ]
  },
  {
   "cell_type": "markdown",
   "metadata": {},
   "source": [
    "\n",
    "We can use the null hypothesis value for $sd(\\hat{p})$, and compute\n",
    "\n",
    "$$\n",
    "z = {0.54 - 0.60 \\over 0.028} = -2.14\n",
    "$$\n",
    "\n",
    "Yes, |-2.14| > 1.96.\n"
   ]
  },
  {
   "cell_type": "code",
   "execution_count": 6,
   "metadata": {},
   "outputs": [
    {
     "data": {
      "text/plain": [
       "-2.1428571428571406"
      ]
     },
     "execution_count": 6,
     "metadata": {},
     "output_type": "execute_result"
    }
   ],
   "source": [
    "(0.54-0.60)/0.028"
   ]
  },
  {
   "cell_type": "markdown",
   "metadata": {},
   "source": [
    "**c) Calculate the margin of error for 95% confidence interval for the population proportion $p$. Use $z_q=1.96$.**"
   ]
  },
  {
   "cell_type": "markdown",
   "metadata": {},
   "source": [
    "\n",
    "First calculate the standard error:\n",
    "\n",
    "$$\n",
    "se = \\sqrt{(0.54)(0.46) \\over 300 } = 0.029\n",
    "$$\n",
    "\n",
    "The margin of error is  (1.96)(0.029) = 0.056\n"
   ]
  },
  {
   "cell_type": "code",
   "execution_count": 7,
   "metadata": {},
   "outputs": [
    {
     "data": {
      "text/plain": [
       "(0.02877498913987632, 0.05639897871415758)"
      ]
     },
     "execution_count": 7,
     "metadata": {},
     "output_type": "execute_result"
    }
   ],
   "source": [
    "se = np.sqrt(0.54*0.46/300)\n",
    "me = 1.96*se\n",
    "(se, me)"
   ]
  },
  {
   "cell_type": "markdown",
   "metadata": {},
   "source": [
    "---"
   ]
  },
  {
   "cell_type": "markdown",
   "metadata": {},
   "source": [
    "**6. A gene expression diagnostic test for breast cancer yields the following results for 100 women with known cancer status.**\n",
    "\n",
    "| $\\quad$  |  Cancer  |   No Cancer |\n",
    "| --- | --- | --- |\n",
    "| Test positive | 34 | 8 |\n",
    "| Test negative | 6  | 52 |\n"
   ]
  },
  {
   "cell_type": "markdown",
   "metadata": {},
   "source": [
    "**a) The sensitivity of a test is the probability of testing positive if the person has cancer. Using the data, calculate an estimate of the sensitivity of this test.**"
   ]
  },
  {
   "cell_type": "code",
   "execution_count": 8,
   "metadata": {},
   "outputs": [
    {
     "data": {
      "text/plain": [
       "0.85"
      ]
     },
     "execution_count": 8,
     "metadata": {},
     "output_type": "execute_result"
    }
   ],
   "source": [
    "34 / (34 + 6)"
   ]
  },
  {
   "cell_type": "markdown",
   "metadata": {},
   "source": [
    "**b) The specificity of a test is the probability of testing negative if the person does not have cancer. Using the data, calculate an estimate of the specificity of this test.**"
   ]
  },
  {
   "cell_type": "code",
   "execution_count": 9,
   "metadata": {},
   "outputs": [
    {
     "data": {
      "text/plain": [
       "0.8666666666666667"
      ]
     },
     "execution_count": 9,
     "metadata": {},
     "output_type": "execute_result"
    }
   ],
   "source": [
    "52 / (8 + 52)\n"
   ]
  },
  {
   "cell_type": "markdown",
   "metadata": {},
   "source": [
    "**c) Calculate the odds-ratio for cancer versus no cancer for those who test positive versus those who test negative. Does the value support the idea that the test is more effective than random guessing, at least?**"
   ]
  },
  {
   "cell_type": "code",
   "execution_count": 10,
   "metadata": {},
   "outputs": [
    {
     "data": {
      "text/plain": [
       "36.83333333333333"
      ]
     },
     "execution_count": 10,
     "metadata": {},
     "output_type": "execute_result"
    }
   ],
   "source": [
    "(34/8)/(6/52)\n"
   ]
  },
  {
   "cell_type": "markdown",
   "metadata": {},
   "source": [
    "Random guessing => odds ratio =1. The value here is much higher than 1 so much better than random guessing."
   ]
  },
  {
   "cell_type": "markdown",
   "metadata": {},
   "source": [
    "**d) The standard error for the sample log-odds-ratio is**\n",
    "\n",
    "$$\n",
    "\\sqrt{{1\\over 34}+{1\\over 8}+{1\\over 6} + {1\\over 52}} = 0.583\n",
    "$$\n",
    "\n",
    "**Calculate the z test statistic if we wish to test the null hypothesis that the populatoin log-odds-ratio is zero.**"
   ]
  },
  {
   "cell_type": "code",
   "execution_count": 11,
   "metadata": {},
   "outputs": [
    {
     "data": {
      "text/plain": [
       "6.185924841295014"
      ]
     },
     "execution_count": 11,
     "metadata": {},
     "output_type": "execute_result"
    }
   ],
   "source": [
    "z = np.log(36.833)/0.583\n",
    "z"
   ]
  },
  {
   "cell_type": "markdown",
   "metadata": {},
   "source": [
    "---"
   ]
  },
  {
   "cell_type": "markdown",
   "metadata": {},
   "source": [
    "**7. Consider the following code and results for data from the Galapagos islands.**"
   ]
  },
  {
   "cell_type": "code",
   "execution_count": 12,
   "metadata": {},
   "outputs": [],
   "source": [
    "import pandas as pd\n",
    "import numpy as np\n",
    "import matplotlib.pyplot as plt\n",
    "import seaborn as sns; sns.set()\n",
    "import statsmodels.api as sm\n",
    "import statsmodels.formula.api as smf\n",
    "import statsmodels.regression.linear_model as lm"
   ]
  },
  {
   "cell_type": "code",
   "execution_count": 13,
   "metadata": {},
   "outputs": [
    {
     "data": {
      "text/html": [
       "<div>\n",
       "<style scoped>\n",
       "    .dataframe tbody tr th:only-of-type {\n",
       "        vertical-align: middle;\n",
       "    }\n",
       "\n",
       "    .dataframe tbody tr th {\n",
       "        vertical-align: top;\n",
       "    }\n",
       "\n",
       "    .dataframe thead th {\n",
       "        text-align: right;\n",
       "    }\n",
       "</style>\n",
       "<table border=\"1\" class=\"dataframe\">\n",
       "  <thead>\n",
       "    <tr style=\"text-align: right;\">\n",
       "      <th></th>\n",
       "      <th>Island</th>\n",
       "      <th>Species</th>\n",
       "      <th>Endemics</th>\n",
       "      <th>Area</th>\n",
       "      <th>Elevation</th>\n",
       "      <th>Nearest</th>\n",
       "      <th>Scruz</th>\n",
       "      <th>Adjacent</th>\n",
       "    </tr>\n",
       "  </thead>\n",
       "  <tbody>\n",
       "    <tr>\n",
       "      <th>0</th>\n",
       "      <td>Baltra</td>\n",
       "      <td>58</td>\n",
       "      <td>23</td>\n",
       "      <td>25.09</td>\n",
       "      <td>346</td>\n",
       "      <td>0.6</td>\n",
       "      <td>0.6</td>\n",
       "      <td>1.84</td>\n",
       "    </tr>\n",
       "    <tr>\n",
       "      <th>1</th>\n",
       "      <td>Bartolome</td>\n",
       "      <td>31</td>\n",
       "      <td>21</td>\n",
       "      <td>1.24</td>\n",
       "      <td>109</td>\n",
       "      <td>0.6</td>\n",
       "      <td>26.3</td>\n",
       "      <td>572.33</td>\n",
       "    </tr>\n",
       "    <tr>\n",
       "      <th>2</th>\n",
       "      <td>Caldwell</td>\n",
       "      <td>3</td>\n",
       "      <td>3</td>\n",
       "      <td>0.21</td>\n",
       "      <td>114</td>\n",
       "      <td>2.8</td>\n",
       "      <td>58.7</td>\n",
       "      <td>0.78</td>\n",
       "    </tr>\n",
       "  </tbody>\n",
       "</table>\n",
       "</div>"
      ],
      "text/plain": [
       "      Island  Species  Endemics   Area  Elevation  Nearest  Scruz  Adjacent\n",
       "0     Baltra       58        23  25.09        346      0.6    0.6      1.84\n",
       "1  Bartolome       31        21   1.24        109      0.6   26.3    572.33\n",
       "2   Caldwell        3         3   0.21        114      2.8   58.7      0.78"
      ]
     },
     "execution_count": 13,
     "metadata": {},
     "output_type": "execute_result"
    }
   ],
   "source": [
    "gala = pd.read_csv(\"gala.csv\")\n",
    "gala.head(3)"
   ]
  },
  {
   "cell_type": "code",
   "execution_count": 14,
   "metadata": {},
   "outputs": [
    {
     "data": {
      "text/html": [
       "<div>\n",
       "<style scoped>\n",
       "    .dataframe tbody tr th:only-of-type {\n",
       "        vertical-align: middle;\n",
       "    }\n",
       "\n",
       "    .dataframe tbody tr th {\n",
       "        vertical-align: top;\n",
       "    }\n",
       "\n",
       "    .dataframe thead th {\n",
       "        text-align: right;\n",
       "    }\n",
       "</style>\n",
       "<table border=\"1\" class=\"dataframe\">\n",
       "  <thead>\n",
       "    <tr style=\"text-align: right;\">\n",
       "      <th></th>\n",
       "      <th>f</th>\n",
       "      <th>pvalue</th>\n",
       "      <th>df_diff</th>\n",
       "    </tr>\n",
       "  </thead>\n",
       "  <tbody>\n",
       "    <tr>\n",
       "      <th>0</th>\n",
       "      <td>10.131299</td>\n",
       "      <td>0.000599</td>\n",
       "      <td>2.0</td>\n",
       "    </tr>\n",
       "  </tbody>\n",
       "</table>\n",
       "</div>"
      ],
      "text/plain": [
       "           f    pvalue  df_diff\n",
       "0  10.131299  0.000599      2.0"
      ]
     },
     "execution_count": 14,
     "metadata": {},
     "output_type": "execute_result"
    }
   ],
   "source": [
    "model1 = smf.ols('Species ~ Area + Elevation + Nearest + Adjacent', data=gala).fit()\n",
    "model0 = smf.ols('Species ~ Area + Elevation', data=gala).fit()\n",
    "f, p, df = model1.compare_f_test(model0)\n",
    "pd.DataFrame({'f': [f], 'pvalue': [p], 'df_diff': [df]})"
   ]
  },
  {
   "cell_type": "markdown",
   "metadata": {},
   "source": [
    "**a) Write down the mathematical form of the regression model for 'model1' using generic symbols for the regression coefficients and defining the explanatory and response variables.**"
   ]
  },
  {
   "cell_type": "markdown",
   "metadata": {},
   "source": [
    "$$\n",
    "E(Species) = \\beta_0 + \\beta_1 * Area + \\beta_2 * Elevation + \\beta_3 * Nearest + \\beta_4 * Adjacent\n",
    "$$\n",
    "\n"
   ]
  },
  {
   "cell_type": "markdown",
   "metadata": {},
   "source": [
    "**b) Using the same mathematical notation, state the null hypothesis being tested by the F test reported in the output of 'model1.compare_f_test(model0)'.**"
   ]
  },
  {
   "cell_type": "markdown",
   "metadata": {},
   "source": [
    "The null hypothesis is that model2 is adequate, that is:\n",
    "\n",
    "$$\n",
    "H_0: \\beta_3=\\beta_4=0\n",
    "$$\n"
   ]
  },
  {
   "cell_type": "markdown",
   "metadata": {},
   "source": [
    "**c) based on the F test result which model do you choose and why?**"
   ]
  },
  {
   "cell_type": "markdown",
   "metadata": {},
   "source": [
    "\n",
    "The p-value for the test is less than 0.001, so I reject $H_0$ and choose 'model1'.\n"
   ]
  },
  {
   "cell_type": "markdown",
   "metadata": {},
   "source": [
    "**d) Provide the additional python code needed if we want to see the coefficient estiamtes and their standard errors for 'model1'.**"
   ]
  },
  {
   "cell_type": "markdown",
   "metadata": {},
   "source": [
    "\n",
    "    model1.summary()\n",
    "\n"
   ]
  },
  {
   "cell_type": "markdown",
   "metadata": {},
   "source": [
    "**e) Below is the residual plot for 'model1'. Recall that the ordinary least squares (OLS) fitting method is efficient if the model errors have constant standard deviation and the model is correct, with no nonlinear trends. Do the residuals appear consistent with these assumptions? Why or why not?**"
   ]
  },
  {
   "cell_type": "code",
   "execution_count": 15,
   "metadata": {},
   "outputs": [
    {
     "data": {
      "image/png": "[encoded data removed]",
      "text/plain": [
       "<Figure size 432x288 with 1 Axes>"
      ]
     },
     "metadata": {
      "needs_background": "light"
     },
     "output_type": "display_data"
    }
   ],
   "source": [
    "sns.regplot(x=model1.fittedvalues, y=model1.resid, ci=None)\n",
    "plt.title('Residuals versus Fitted Values')\n",
    "plt.show()"
   ]
  },
  {
   "cell_type": "markdown",
   "metadata": {},
   "source": [
    "\n",
    "There are a couple of problems:\n",
    "\n",
    "\n",
    "+ The spread appears to increase as the fitted values increase; nonconstant error standard deviation;\n",
    "\n",
    "\n",
    "+ There seems to be some systematic curvature to the shape of the residual cloud as a function of the fitted values; suggests a missing variable or need for soem kind of transformation of the response.\n",
    "\n",
    "\n",
    "\n"
   ]
  },
  {
   "cell_type": "markdown",
   "metadata": {},
   "source": [
    "**8. Consider the following python code fragments and output from some analysis.**\n",
    "\n",
    "    dat.head()\n",
    "    \n",
    "    Out:\n",
    "               x1\t    x2\ty\n",
    "        0\t0.343687\t-1\t0\n",
    "        1\t1.848400\t-1\t1\n",
    "        2\t0.224359\t-1\t0\n",
    "        3   -1.633660\t-1\t0\n",
    "        4\t1.245538\t-1\t1\n",
    "        "
   ]
  },
  {
   "cell_type": "markdown",
   "metadata": {},
   "source": [
    "    dat['x2'].value_counts()\n",
    "    \n",
    "    Out:\n",
    "    \n",
    "         1    50\n",
    "        -1    50\n",
    "        Name: x2, dtype: int64\n"
   ]
  },
  {
   "cell_type": "markdown",
   "metadata": {},
   "source": [
    "    mod = smf.logit('y ~ x1 + x2', data=dat).fit()\n",
    "    print(mod.summary())\n",
    "    \n",
    "    Out:\n",
    "    \n",
    "    Optimization terminated successfully.\n",
    "    Current function value: 0.447432\n",
    "    Iterations 7\n",
    "                           Logit Regression Results                           \n",
    "    ==============================================================================\n",
    "    Dep. Variable:                      y   No. Observations:                  100\n",
    "    Model:                          Logit   Df Residuals:                       97\n",
    "    Method:                           MLE   Df Model:                            2\n",
    "    Date:                Thu, 07 Nov 2019   Pseudo R-squ.:                  0.3498\n",
    "    Time:                        12:31:49   Log-Likelihood:                -44.743\n",
    "    converged:                       True   LL-Null:                       -68.814\n",
    "    Covariance Type:            nonrobust   LLR p-value:                 3.517e-11\n",
    "    ==============================================================================\n",
    "                     coef    std err          z      P>|z|      [0.025      0.975]\n",
    "    ------------------------------------------------------------------------------\n",
    "    Intercept     -0.4948      0.276     -1.794      0.073      -1.035       0.046\n",
    "    x1             1.8939      0.382      4.964      0.000       1.146       2.642\n",
    "    x2             0.3683      0.274      1.345      0.179      -0.168       0.905\n",
    "    =============================================================================="
   ]
  },
  {
   "cell_type": "markdown",
   "metadata": {},
   "source": [
    "**a) How many observations (rows) are there in the data frame?**"
   ]
  },
  {
   "cell_type": "markdown",
   "metadata": {},
   "source": [
    "n=100  based on either the .value_counts() total or the reported \"No. Observations.\"\n"
   ]
  },
  {
   "cell_type": "markdown",
   "metadata": {},
   "source": [
    "**b) Which of the logistic regression coefficients are significantly different from zero, at the significance level $\\alpha=0.05$?**"
   ]
  },
  {
   "cell_type": "markdown",
   "metadata": {},
   "source": [
    "\n",
    "Only the coefficient for x1, with p-value < 0.05.\n",
    "\n"
   ]
  },
  {
   "cell_type": "markdown",
   "metadata": {},
   "source": [
    "**c) Based on the fitted model, calculate an estimate of $p = P(Y=1)$ if $X_1=0$ and $X_2=1$.**"
   ]
  },
  {
   "cell_type": "markdown",
   "metadata": {},
   "source": [
    "+ First we estimate\n",
    "\n",
    "$$\n",
    "log(odds) = -0.4948 + 1.8939*0 + 0.3683*1 = 0.3683 - 0.4948 = -0.1265\n",
    "$$\n",
    "\n",
    "+ Then we calculate $odds = e^{-0.1265} = 0.8812$.\n",
    "\n",
    "+ Finally we calculate\n",
    "\n",
    "$$\n",
    "p = {0.8812 \\over 1 + 0.8812} = 0.468\n",
    "$$\n"
   ]
  },
  {
   "cell_type": "markdown",
   "metadata": {},
   "source": [
    "**d) Calculate the estimated log-odds-ratio for y=1 versus y=0 for individual A versus Individual B with the following values for x1 and x2:**\n",
    "\n",
    "| Individual | x1 | x2 |\n",
    "|---|---|---|\n",
    "| A | 2.0 | 1 |\n",
    "| B | 2.0 | -1 |"
   ]
  },
  {
   "cell_type": "markdown",
   "metadata": {},
   "source": [
    "\n",
    "This is the difference between the fitted log-odds for the two individuals. The intercept and x1 terms cancel so we are left with: \n",
    "\n",
    "$$\n",
    "(1)(\\hat{\\beta_2}) - (-1)(\\hat{\\beta_2}) = 2* 0.3683 = 0.7366\n",
    "$$\n"
   ]
  },
  {
   "cell_type": "markdown",
   "metadata": {},
   "source": [
    "**e) Give a 95% confidence interval for the odds ratio for y=1 versus y=0 for individual A versus individual B above.**"
   ]
  },
  {
   "cell_type": "code",
   "execution_count": 16,
   "metadata": {},
   "outputs": [
    {
     "data": {
      "text/plain": [
       "(0.7146231058160573, 6.11044743223061)"
      ]
     },
     "execution_count": 16,
     "metadata": {},
     "output_type": "execute_result"
    }
   ],
   "source": [
    "\n",
    "## We need to exponentiate 2 times the given confidence interval endpoints for $\\beta_2$:\n",
    "\n",
    "(np.exp(-0.168*2),  np.exp(0.905*2))"
   ]
  }
 ],
 "metadata": {
  "kernelspec": {
   "display_name": "Python 3",
   "language": "python",
   "name": "python3"
  },
  "language_info": {
   "codemirror_mode": {
    "name": "ipython",
    "version": 3
   },
   "file_extension": ".py",
   "mimetype": "text/x-python",
   "name": "python",
   "nbconvert_exporter": "python",
   "pygments_lexer": "ipython3",
   "version": "3.7.3"
  }
 },
 "nbformat": 4,
 "nbformat_minor": 2
}
