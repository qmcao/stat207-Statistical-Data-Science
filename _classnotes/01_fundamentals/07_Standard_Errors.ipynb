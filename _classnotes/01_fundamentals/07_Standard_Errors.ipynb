{
 "cells": [
  {
   "cell_type": "markdown",
   "metadata": {},
   "source": [
    "<!--# STAT 207: Data Science Exploration-->\n",
    "## Standard Errors and Confidence Intervals\n",
    "\n",
    "In the previous section we explored how samples statistics give us information about population parameters when the sample is a random sample from the population. In simulations studies we saw that often a population parameter of interest, such as a proportion, a mean or a percentile can be estimated by an analogous sample statistic. If the sample is sufficiently large, we can expect the sample estimate to be close to the population estimate. How close should it be? Can we say something more precise than \"close\"? \n",
    "\n",
    "In this section we answer this question by developing standard errors and confidence intervals for quantifying the variation in sample estimates. We will:\n",
    "\n",
    "+ Consider how to measure **correlation**\n",
    "\n",
    "+ Derive **expectations and variances for sums and averages** of random variables\n",
    "\n",
    "+ Derive the **binomial distribution** from sums of independent Bernoulli trials\n",
    "\n",
    "+ Investigate sample-based estimates of uncertainty including **standard errors** and **confidence intervals** based on sums, means, and proportions;\n",
    "\n",
    "+ Use the **Central Limit Theorem** to make normal approximations to the distributions of many common statistics\n",
    "\n",
    "+ Show how using $n-1$ in the sample variance reduces bias.\n"
   ]
  },
  {
   "cell_type": "markdown",
   "metadata": {},
   "source": [
    "### Example: Lead Exposure Study\n",
    "\n",
    "As an example, consider a study of lead exposure in 124 children living near a lead-emitting smelter in El Paso, Texas (Landrigan et al. 1975).  Blood levels of lead were measured and collected along with information on age, gender, and full scale IQ ('fulliq' in the data set). Full IQ is a measure of intellectual function scaled to have a mean of 100 and standard deviation of 15 in the general population. In the collected data low and high exposure groups are identified as the groups with 'lead < 40' (less than 40 $\\mu$g/mL) and 'lead >= 40' (at least 40 $\\mu$ g /mL. The data are in the comma separated file, 'lead.csv'. \n"
   ]
  },
  {
   "cell_type": "code",
   "execution_count": 1,
   "metadata": {},
   "outputs": [],
   "source": [
    "import pandas as pd\n",
    "import numpy as np\n",
    "import matplotlib.pyplot as plt\n",
    "import seaborn as sns; sns.set()"
   ]
  },
  {
   "cell_type": "code",
   "execution_count": 2,
   "metadata": {},
   "outputs": [
    {
     "data": {
      "text/html": [
       "<div>\n",
       "<style scoped>\n",
       "    .dataframe tbody tr th:only-of-type {\n",
       "        vertical-align: middle;\n",
       "    }\n",
       "\n",
       "    .dataframe tbody tr th {\n",
       "        vertical-align: top;\n",
       "    }\n",
       "\n",
       "    .dataframe thead th {\n",
       "        text-align: right;\n",
       "    }\n",
       "</style>\n",
       "<table border=\"1\" class=\"dataframe\">\n",
       "  <thead>\n",
       "    <tr style=\"text-align: right;\">\n",
       "      <th></th>\n",
       "      <th>id</th>\n",
       "      <th>age</th>\n",
       "      <th>sex</th>\n",
       "      <th>status</th>\n",
       "      <th>verbiq</th>\n",
       "      <th>perfiq</th>\n",
       "      <th>fulliq</th>\n",
       "      <th>iqtype</th>\n",
       "      <th>totyrs</th>\n",
       "      <th>hyperact</th>\n",
       "      <th>tapping</th>\n",
       "      <th>group</th>\n",
       "    </tr>\n",
       "  </thead>\n",
       "  <tbody>\n",
       "    <tr>\n",
       "      <th>0</th>\n",
       "      <td>101</td>\n",
       "      <td>11.083333</td>\n",
       "      <td>M</td>\n",
       "      <td>77</td>\n",
       "      <td>61</td>\n",
       "      <td>85</td>\n",
       "      <td>70</td>\n",
       "      <td>WISC</td>\n",
       "      <td>11</td>\n",
       "      <td>NaN</td>\n",
       "      <td>72.0</td>\n",
       "      <td>lead &lt; 40</td>\n",
       "    </tr>\n",
       "    <tr>\n",
       "      <th>1</th>\n",
       "      <td>102</td>\n",
       "      <td>9.416667</td>\n",
       "      <td>M</td>\n",
       "      <td>77</td>\n",
       "      <td>82</td>\n",
       "      <td>90</td>\n",
       "      <td>85</td>\n",
       "      <td>WISC</td>\n",
       "      <td>6</td>\n",
       "      <td>0.0</td>\n",
       "      <td>61.0</td>\n",
       "      <td>lead &lt; 40</td>\n",
       "    </tr>\n",
       "    <tr>\n",
       "      <th>2</th>\n",
       "      <td>103</td>\n",
       "      <td>11.083333</td>\n",
       "      <td>M</td>\n",
       "      <td>30</td>\n",
       "      <td>70</td>\n",
       "      <td>107</td>\n",
       "      <td>86</td>\n",
       "      <td>WISC</td>\n",
       "      <td>5</td>\n",
       "      <td>NaN</td>\n",
       "      <td>49.0</td>\n",
       "      <td>lead &lt; 40</td>\n",
       "    </tr>\n",
       "    <tr>\n",
       "      <th>3</th>\n",
       "      <td>104</td>\n",
       "      <td>6.916667</td>\n",
       "      <td>M</td>\n",
       "      <td>77</td>\n",
       "      <td>72</td>\n",
       "      <td>85</td>\n",
       "      <td>76</td>\n",
       "      <td>WISC</td>\n",
       "      <td>5</td>\n",
       "      <td>2.0</td>\n",
       "      <td>48.0</td>\n",
       "      <td>lead &lt; 40</td>\n",
       "    </tr>\n",
       "    <tr>\n",
       "      <th>4</th>\n",
       "      <td>105</td>\n",
       "      <td>11.250000</td>\n",
       "      <td>M</td>\n",
       "      <td>62</td>\n",
       "      <td>72</td>\n",
       "      <td>100</td>\n",
       "      <td>84</td>\n",
       "      <td>WISC</td>\n",
       "      <td>11</td>\n",
       "      <td>NaN</td>\n",
       "      <td>51.0</td>\n",
       "      <td>lead &lt; 40</td>\n",
       "    </tr>\n",
       "  </tbody>\n",
       "</table>\n",
       "</div>"
      ],
      "text/plain": [
       "    id        age sex  status  verbiq  perfiq  fulliq iqtype  totyrs  \\\n",
       "0  101  11.083333   M      77      61      85      70   WISC      11   \n",
       "1  102   9.416667   M      77      82      90      85   WISC       6   \n",
       "2  103  11.083333   M      30      70     107      86   WISC       5   \n",
       "3  104   6.916667   M      77      72      85      76   WISC       5   \n",
       "4  105  11.250000   M      62      72     100      84   WISC      11   \n",
       "\n",
       "   hyperact  tapping      group  \n",
       "0       NaN     72.0  lead < 40  \n",
       "1       0.0     61.0  lead < 40  \n",
       "2       NaN     49.0  lead < 40  \n",
       "3       2.0     48.0  lead < 40  \n",
       "4       NaN     51.0  lead < 40  "
      ]
     },
     "execution_count": 2,
     "metadata": {},
     "output_type": "execute_result"
    }
   ],
   "source": [
    "df = pd.read_csv('../data/lead.csv')\n",
    "df.head()"
   ]
  },
  {
   "cell_type": "markdown",
   "metadata": {},
   "source": [
    "Let's compare boxplots and sample means of 'fulliq' for the two exposure levels."
   ]
  },
  {
   "cell_type": "code",
   "execution_count": 3,
   "metadata": {},
   "outputs": [
    {
     "data": {
      "image/png": "[encoded data removed]",
      "text/plain": [
       "<Figure size 432x288 with 1 Axes>"
      ]
     },
     "metadata": {
      "needs_background": "light"
     },
     "output_type": "display_data"
    }
   ],
   "source": [
    "sns.boxplot(x='group', y='fulliq', data=df)\n",
    "plt.show()"
   ]
  },
  {
   "cell_type": "code",
   "execution_count": 4,
   "metadata": {},
   "outputs": [
    {
     "name": "stdout",
     "output_type": "stream",
     "text": [
      "mean difference (low exposure - high exposure) =  4.8629\n"
     ]
    }
   ],
   "source": [
    "mean_lo = df['fulliq'][df['group']=='lead < 40'].mean()\n",
    "mean_hi =  df['fulliq'][df['group']=='lead >= 40'].mean()\n",
    "print('mean difference (low exposure - high exposure) = ', \n",
    "      np.round(mean_lo - mean_hi, 4))"
   ]
  },
  {
   "cell_type": "markdown",
   "metadata": {},
   "source": [
    "**Question:** Could the mean difference in 'fulliq' between the low and high exposure groups be due to chance variation or some other factors than exposure? To answer this kind question we need more background development."
   ]
  },
  {
   "cell_type": "markdown",
   "metadata": {},
   "source": [
    "### Distributions of sums and averages of random variables: expectations and variance\n",
    "\n",
    "Our previous simulation studies demonstrated that sample means from random samples have expectations equal to the population mean, and their populatoin standard deviations equal to the population standard deviation divided square root of sample size, assuming sampling with replacement. What is the theory behind this?\n",
    "\n",
    "Recall that the population mean of a random variable $X$, often called the expectation, has the following form:\n",
    "\n",
    "$$\n",
    "E[X] = \\begin{cases}\n",
    "\\sum_{x} x p(x), \\quad \\mbox{discrete}\\ X\\\\  \n",
    "\\quad\\\\\n",
    "\\int_{-\\infty}^\\infty x f(x) dx, \\quad \\mbox{continuous}\\ X\\\\ \\end{cases}\n",
    "$$\n",
    "\n",
    "where $\\sum_{x} p(x) = 1$ or $\\int f(x) dx = 1$ depending on whether $X$ is deiscrete or continuous.\n",
    "\n",
    "A function of $X$, say $Y=g(X)$, is a random variable as well. Its expectation can be computed similarly:\n",
    "\n",
    "$$\n",
    "E[g(X)] = \\begin{cases}\n",
    "\\sum_{x} g(x) p(x), \\quad \\mbox{discrete}\\ X\\\\  \n",
    "\\quad\\\\\n",
    "\\int_{-\\infty}^\\infty g(x) f(x) dx, \\quad \\mbox{continuous}\\ X\\\\ \\end{cases}\n",
    "$$\n",
    "\n",
    "For example, let $\\mu = E[X]$. Setting $g(x) = (x-\\mu)^2$ in the formula shows how to compute the variance, $Var[X] = E[(X-\\mu)^2)]$.\n",
    "\n",
    "**Remark:** For future reference, it is common in many areas of application to have a mixture of discrete and continuous distributions, for example, nonnegative insurance claims data where many individuals have zero claims, but some have positive claims. That will not affect the basic ideas here.\n",
    "\n"
   ]
  },
  {
   "cell_type": "markdown",
   "metadata": {},
   "source": [
    "#### Expectation of a weighted sum\n",
    "\n",
    "Now suppose we have two random variables $X$ and $Y$ and consider the combined random variable $aX + bY$, where $a$ and $b$ are constants. With more advanced techniques it can be shown that for any random variables $X$ and $Y$:\n",
    "\n",
    "\n",
    "$$\n",
    "E[aX + bY] = a E[X] + b E[Y]\n",
    "$$\n",
    "\n",
    "\n",
    "**Application to sums and averages:** Suppose we have a random sample $X_1, X_2, \\ldots, X_n$ where each observation has mean $\\mu$ and standard deviation $\\sigma$. Define the sample mean $\\bar{X} = n^{-1} \\sum_{i=1}^n X_i$. Then:\n",
    "\n",
    "\n",
    "$$\n",
    "E[X_1 + X_2 + \\cdots +X_n] = n\\mu\n",
    "$$\n",
    "\n",
    "\n",
    "\n",
    "$$\n",
    "E[\\bar{X}] = E[n^{-1}(X_1+X_2+\\cdots + X_n)] = \\mu\n",
    "$$\n"
   ]
  },
  {
   "cell_type": "markdown",
   "metadata": {},
   "source": [
    "#### Covariance between two random variables\n",
    "\n",
    "Returning to our friends $X$ and $Y$, we define the **covariance** between them as:\n",
    "\n",
    "$$\n",
    "Cov[X, Y] = E[(X-E(X))(Y - E(Y)] = E[XY] - E[X]E[Y]\n",
    "$$\n",
    "\n",
    "and the **correlation**\n",
    "\n",
    "$$\n",
    "\\rho[X, Y] = {Cov[X, Y]\\over SD[X] SD[Y]}\n",
    "$$\n",
    "\n",
    "where $SD[X] = \\sqrt{Var[X]}$ and $SD[Y] = \\sqrt{Var[Y]}$. The correlation measures linear dependence between $X$ and $Y$. It is always between -1 and 1. Values close to 1 indicate strong postive linear dependence. Values close to -1 indicate strong negative linear dependence. Correlation = 0 means there is no linear dependence. \n",
    "\n",
    "**Remark:** For **independent** random variables $E[XY] = E[X]E[Y]$. This implies that independent random variables are always uncorrelated with each other. "
   ]
  },
  {
   "cell_type": "markdown",
   "metadata": {},
   "source": [
    "#### Variances for sums and averages random variables"
   ]
  },
  {
   "cell_type": "markdown",
   "metadata": {},
   "source": [
    "Next consider the variance of the weighted sum $aX + bY$. Whether they are correlated or not we have:\n",
    "\n",
    "$$\n",
    "\\begin{align}\n",
    "Var[aX + bY] &= E[a(X-\\mu_X) + b(Y-\\mu_Y))^2]\\\\\n",
    "\\\\\n",
    "&= a^2 E[(X-\\mu_X)^2] + b^2 E[(Y-\\mu_Y)^2] + 2ab E[(X-\\mu_x)(Y-\\mu_Y)]\\\\\n",
    "\\\\\n",
    "&= a^2 Var[X] + b^2 Var[Y] + 2ab Cov[X,Y]\\\\\n",
    "\\end{align}\n",
    "$$ \n",
    "\n",
    "\n",
    "**Only if $X$ and $Y$ are uncorrelated** (i.e. $Cov[X,Y]=0$), we have the simplified formula:\n",
    "\n",
    "$$\n",
    "Var[aX+bY] = a^2 Var[X] + b^2 Var[Y].\n",
    "$$\n",
    "\n"
   ]
  },
  {
   "cell_type": "markdown",
   "metadata": {},
   "source": [
    "#### Independent random samples and the square root rule\n",
    "\n",
    "For an independent  random sample, $X_1, X_2, \\ldots, X_n$, suppose each observation has the same mean $\\mu$ and standard deviation $\\sigma$. \n",
    "\n",
    "The square root rule says that the sample mean, $\\bar{X} = n^{-1} \\sum_{i=1}^n X_i$, has a populatoin standard deviation proportional to $1\\over \\sqrt{n}$. Why is this? Observe that\n",
    "\n",
    "$$\n",
    "Var(X_1 + X_2 + \\cdots +X_n) = n \\sigma^2\n",
    "$$\n",
    "\n",
    "and\n",
    "\n",
    "$$\n",
    "SD(X_1 + X_2 + \\cdots +X_n) = \\sqrt{n} \\sigma.\n",
    "$$\n",
    "\n",
    "Therefore,\n",
    "\n",
    "$$\n",
    "Var(\\bar{X}) = Var[n^{-1}(X_1+X_2+\\cdots + X_n)] = {n \\sigma^2\\over n^2} = {\\sigma^2 \\over n}\n",
    "$$\n",
    "\n",
    "and \n",
    "\n",
    "$$\n",
    "SD(\\bar{X}) = {\\sigma \\over \\sqrt{n}}\n",
    "$$\n",
    "\n",
    "This is the origin of the square root rule for sample means and proportions."
   ]
  },
  {
   "cell_type": "markdown",
   "metadata": {},
   "source": [
    "### Uncertainty Quantification: Estimating Population Means with Standard Errors\n",
    "\n",
    "Estimation of the sample proportion is simplified by the fact that we can \"plug-in\" the sample proportion as a part of the formula for the standard error. If the sample is large enough, the sample proportion and sample size give us all the information we need from the sample.\n",
    "\n",
    "Estimating a general mean with standard errors is a bit more involved, as we need to estimate both the mean and the standard deviation of the population distribution. \n",
    "\n",
    "**Example: Pew Research Survey Age Distribution**\n",
    "\n",
    "The February 2017 Pew Research Center random phone number dialing survey had 1,503 respondents in total.  How close is the mean age of respondents in the survey to the mean age for the population frame of the survey? Let's compute the sample mean and consider how to estimate the standard error."
   ]
  },
  {
   "cell_type": "code",
   "execution_count": 5,
   "metadata": {},
   "outputs": [],
   "source": [
    "# Read in the data, extracting only the 'age' column\n",
    "import zipfile as zp\n",
    "zf = zp.ZipFile('../data/Feb17-public.zip')\n",
    "missing_values = [\"NaN\", \"nan\", \"Don't know/Refused (VOL.)\"]\n",
    "df_pew_age = pd.read_csv(zf.open('Feb17public.csv'), \n",
    "                   na_values=missing_values)['age']"
   ]
  },
  {
   "cell_type": "code",
   "execution_count": 6,
   "metadata": {},
   "outputs": [
    {
     "name": "stdout",
     "output_type": "stream",
     "text": [
      "mean age= 50.49  std age= 17.84  n= 1503\n"
     ]
    }
   ],
   "source": [
    "# compute and display sample statistics\n",
    "age_mn = df_pew_age.mean()\n",
    "age_std = df_pew_age.std()\n",
    "age_n = df_pew_age.shape[0]\n",
    "print('mean age=', round(age_mn, 2), \n",
    "      ' std age=', round(age_std,2), \n",
    "      ' n=', age_n)"
   ]
  },
  {
   "cell_type": "markdown",
   "metadata": {},
   "source": [
    "So our natural estimates of the population mean and standard deviation for age are $\\bar{x}=50.49$ and $s = 17.84$.\n",
    "\n",
    "\n",
    "#### Standard error for the mean\n",
    "\n",
    "Assuming random sample from the population, we saw previously that the standard deviation of the sample mean is given by \n",
    "\n",
    "$$\n",
    "SD(\\bar{X}) = {\\sigma\\over \\sqrt{n}}\n",
    "$$\n",
    "\n",
    "where $\\sigma$ is the standard deviation of the population distribution, and $n$ is the sample size. Because $\\sigma$ is an unknown population parameter, we need to estimate it. Using the sample version standard deviation $S$, we obtain the **standard error:**\n",
    "\n",
    "$$\n",
    "SE(\\bar{X}) = {S\\over \\sqrt{n}}\n",
    "$$\n",
    "\n",
    "where $S$ is the sample standard deviation. This depends only on sample statistics, so we are able to compute it from the data.\n",
    "\n",
    "\n",
    "**Example: Pew Research Survey Age Distribution**\n",
    "\n",
    "We can now compute the standard error for the mean age in the Pew survey."
   ]
  },
  {
   "cell_type": "code",
   "execution_count": 7,
   "metadata": {},
   "outputs": [
    {
     "name": "stdout",
     "output_type": "stream",
     "text": [
      "mean age= 50.49  standard error= 0.46\n"
     ]
    }
   ],
   "source": [
    "# standard error calculation\n",
    "age_se = age_std/np.sqrt(age_n)\n",
    "print('mean age=', round(age_mn, 2), \n",
    "      ' standard error=', round(age_se, 3))"
   ]
  },
  {
   "cell_type": "markdown",
   "metadata": {},
   "source": [
    "**Remark:** It is important to understand that the *standard error* for the mean is much smaller than the *standard deviation* for the sample. The standard deviation is an estimate of the spread of the values in the population, whereas the standard error is an estimate of the spread in the distribution of $\\bar{X}$, which is much smaller due to the averaging effect captured by the square root rule."
   ]
  },
  {
   "cell_type": "markdown",
   "metadata": {},
   "source": [
    "### Confidence intervals\n",
    "\n",
    "With an estimate of the sampling distribution of the sample mean we are prepared to develop a confidence interval for the population mean. In general, we define a **confidence interval** with confidence level $1-\\alpha$ as an interval of the form\n",
    "\n",
    "$$\n",
    "[C_{lo}(\\mbox{Data}),\\,  C_{hi}(\\mbox{Data})]\n",
    "$$\n",
    "\n",
    "with the property that\n",
    "\n",
    "$$\n",
    "P\\left(C_{lo}(\\mbox{Data}) \\le \\mbox{Parameter} \\le C_{hi}(\\mbox{Data})\\right)\n",
    "= 1-\\alpha\n",
    "$$\n",
    "\n",
    "where 'Parameter' refers to the unknown value of the parameter that we are trying to estimate. \n",
    "\n",
    "It is frequently the case that we have an estimate that is approximately normally distributed, due to the central limit theorem, and a standard error that is a good estimate of the standard deviation of that normal distribution. In these cases a natural confidence interval takes the form\n",
    "\n",
    "$$\n",
    "(\\mbox{Estimate} - z_{1-{\\alpha\\over 2}}* SE, \\quad \n",
    "\\mbox{Estimate} + z_{1-{\\alpha\\over 2}}* SE)\n",
    "$$\n",
    "\n",
    "where $z_q$ is shorthand for the qth quantile of the standard normal distribution. In this case the margin of error is the half width:\n",
    "\n",
    "$$\n",
    "\\mbox{margin-of-error} = z_{1-{\\alpha\\over 2}}* SE\n",
    "$$\n",
    "\n"
   ]
  },
  {
   "cell_type": "markdown",
   "metadata": {},
   "source": [
    "### Margin of error and confidence interval for the mean\n",
    "\n",
    "\n",
    "#### Normality of the sample mean in a normal sample\n",
    "\n",
    "If $X_1, X_2, \\ldots, X_n$ is a random sample from a normal distribution, then the sample mean, $\\bar{X}$ is normally distributed as well, with the same mean, $\\mu$, as the individual observations, and with a reduced population standard deviation of $\\sigma/\\sqrt{n}$. \n",
    "\n",
    "\n",
    "#### Approximate normality of sample means in general\n",
    "\n",
    "Even if the original sample is not normally distributed, the **Central Limit Theorem** implies that the sample mean is approximately normal in large samples. We can therefore use the form a normal confidence interval even if the original sample is not precisely normally distributed.\n",
    "\n",
    "\n",
    "In particular, we have the following equivalent results for the sample mean $\\bar{X}$:\n",
    "\n",
    "$$\n",
    "\\bar{X}\\, \\mbox{is approximately normal with mean } \\mu \\mbox{ and standard deviation } SD(\\bar{X}) = {\\sigma\\over\\sqrt{n}};\n",
    "$$\n",
    "\n",
    "$$\n",
    "Z_\\sigma = {\\bar{X} - \\mu\\over SD(\\bar{X})}\\, \\mbox{ is approximately normal with mean } 0 \\mbox{ and standard deviation } 1.\n",
    "$$\n",
    "\n",
    "**Plug-in estimate of standard deviation:** When all we have is data we cannot use these expressions, because they depend on the unobservable value of $\\sigma$ for the population! However, in large samples we expect, with high probability,\n",
    "\n",
    "$$\n",
    "S = \\sqrt{{1 \\over n-1} \\sum_{i=1}^n (X_i - \\bar{X})^2}\\quad \\approx \\quad \\sigma.\n",
    "$$\n",
    "\n",
    "\"Plugging in\" we have the following useful approximations:\n",
    "\n",
    "$$\n",
    "\\bar{X} \\mbox{is approximately normal with mean } \\mu \\mbox{ and standard deviation } SE(\\bar{X}) = {S\\over\\sqrt{n}};\n",
    "$$\n",
    "\n",
    "$$\n",
    "Z = {\\bar{X} - \\mu\\over SE(\\bar{X})} \\mbox{ is approximately normal with mean } 0 \\mbox{ and standard deviation } 1.\n",
    "$$\n",
    "\n",
    "\n",
    "Based on these approximations we can compute confidence intervals with target levels of confidence. For example, suppose we want a 90% confidence interval for the population mean. Observe that, according to the statements above\n",
    "\n",
    "$$\n",
    "P\\left(-z_{0.95} \\lt {\\bar{X} - \\mu \\over SE(\\bar{X})} \\lt z_{0.95} \\right) \\approx 0.90,\n",
    "$$\n",
    "\n",
    "which is the same as\n",
    "\n",
    "$$\n",
    "P\\left(\\bar{X} -z_{0.95}*SE(\\bar{X}) \\lt \\mu \\lt \\bar{X} + z_{0.95}*SE(\\bar{X}) \\right) \\approx 0.90.\n",
    "$$\n",
    "\n",
    "Quick calculation:"
   ]
  },
  {
   "cell_type": "code",
   "execution_count": 8,
   "metadata": {},
   "outputs": [
    {
     "data": {
      "text/plain": [
       "1.6448536269514722"
      ]
     },
     "execution_count": 8,
     "metadata": {},
     "output_type": "execute_result"
    }
   ],
   "source": [
    "from scipy.stats import norm\n",
    "norm.ppf(0.95)"
   ]
  },
  {
   "cell_type": "markdown",
   "metadata": {},
   "source": [
    "Therefore, the **margin of error** for a 90% confidence level is\n",
    "\n",
    "$$\n",
    "MOE = \\pm 1.645 * SE(\\bar{X})\n",
    "$$\n",
    "\n",
    "and the 90% confidence interval has the form\n",
    "\n",
    "$$\n",
    "(\\bar{X} - 1.645*SE(\\bar{X}), \\quad \\bar{X} + 1.645*SE(\\bar{X}))\n",
    "$$\n",
    "\n",
    "In general, if we desire a $100(1-\\alpha)\\%$ confidence interval, then we need to use the mutiplier\n",
    "\n",
    "$$\n",
    "z_{1-{\\alpha\\over 2}} = 100(1-{\\alpha\\over 2}) \\mbox{ percentile of the normal distribution}.\n",
    "$$\n",
    "\n",
    "This ensures that the middle part of the distribution, excluding the tails includes $100(1-\\alpha)$ percent as illustrated below."
   ]
  },
  {
   "cell_type": "code",
   "execution_count": 9,
   "metadata": {},
   "outputs": [
    {
     "data": {
      "image/png": "[encoded data removed]",
      "text/plain": [
       "<Figure size 432x288 with 1 Axes>"
      ]
     },
     "metadata": {
      "needs_background": "light"
     },
     "output_type": "display_data"
    }
   ],
   "source": [
    "# alpha is the probability of being \n",
    "# outside of the confidence interval\n",
    "alpha = 0.1\n",
    "zq = norm.ppf(1-(alpha/2))\n",
    "eps = 0.02\n",
    "# plotting grid\n",
    "x = np.linspace(norm.ppf(0.001), norm.ppf(0.999), 100)\n",
    "# density curve\n",
    "plt.plot(x, norm.pdf(x))\n",
    "plt.xlabel('z-value')\n",
    "plt.ylabel('f(x)')\n",
    "# adaptive title and labels\n",
    "plt.title('1 - alpha = ' + str(1-alpha) + '   zq = ' + str(round(zq, 3)))\n",
    "plt.text(zq, norm.pdf(zq) + eps, 'Tail = ' + str(alpha/2), horizontalalignment='left')\n",
    "plt.text(-zq , norm.pdf(zq) + eps, 'Tail = ' + str(alpha/2), horizontalalignment='right')\n",
    "# add shaded areas whose probability we need\n",
    "xalpha = np.linspace(norm.ppf(alpha/2), norm.ppf(1-(alpha/2)), 100)\n",
    "plt.fill_between(xalpha, 0, norm.pdf(xalpha))\n",
    "plt.show()"
   ]
  },
  {
   "cell_type": "markdown",
   "metadata": {},
   "source": [
    "**Example: Pew Research Survey Age Distribution**\n",
    "\n",
    "In the Pew survey example we observed a mean age of $\\bar{x}=50.49$ with a standard error of $se = 0.46$. For a 95% confidence interval, the margin of error is $MOE = 1.96 * 0.46 = 0.90$. Therefore, a 95% for the mean age in the population is\n",
    "\n",
    "$$\n",
    "(50.49 - 0.90,\\quad 50.49 + 0.90) = (49.59,\\quad 51.39)\n",
    "$$\n",
    "\n",
    "Here are the calculations using Python:"
   ]
  },
  {
   "cell_type": "code",
   "execution_count": 10,
   "metadata": {},
   "outputs": [
    {
     "name": "stdout",
     "output_type": "stream",
     "text": [
      "mean age= 50.49  std age= 17.84  n= 1503\n",
      "Std Error for mean: 0.46\n",
      "Confidence level: 0.99\n",
      "Confidence limits: (49.303, 51.674)\n"
     ]
    }
   ],
   "source": [
    "age_mn = df_pew_age.mean()\n",
    "age_std = df_pew_age.std()\n",
    "age_n = df_pew_age.shape[0]\n",
    "age_se = age_std/np.sqrt(age_n)\n",
    "alpha = 0.01\n",
    "zq = norm.ppf(1-(alpha/2))\n",
    "print('mean age=', round(age_mn, 2), ' std age=', \n",
    "      round(age_std,2), ' n=', age_n)\n",
    "print('Std Error for mean:', round(age_se, 3))\n",
    "print('Confidence level:', 1-alpha)\n",
    "print('Confidence limits:', (round(age_mn - zq*age_se, 3), \n",
    "                             round(age_mn + zq*age_se, 3)))"
   ]
  },
  {
   "cell_type": "markdown",
   "metadata": {},
   "source": [
    "### Binomial proportions as means of independent Bernoulli random variables"
   ]
  },
  {
   "cell_type": "markdown",
   "metadata": {},
   "source": [
    "A **Bernoulli** random variable is one that takes only two possible values. We'll assume those values are 0 and 1. Typically the \"1\" corresponds to an outcome we're counting, e.g., \"heads\" on a coin\" or \"Plans to vote yes\" on a state proposition.\n",
    "\n",
    "Bernoulli random variables have extremely simple distributions. For any probability value $p$ between 0 and 1, let $p = P(X=1) = 1-P(X=0)$. We've just defined the entire probability mass function for a Bernoulli random variable!\n",
    "\n",
    "$$\n",
    "p(x) = \n",
    "\\begin{cases} \n",
    "1-p,& x=0\\\\\n",
    "p,& x=1\\\\\n",
    "0,& \\mbox{otherwise}\\\\\n",
    "\\end{cases}\n",
    "$$\n",
    "\n",
    "For this simple distribution we have $E(X) = p$ and $Var(X) = p(1-p)$  (Exercise).\n",
    "\n",
    "\n",
    "Next suppose we have a random sample of these Bernoulli random variables, i.e., $n$ draws at random without replacement from a population of 0/1 values. Denote them by\n",
    "\n",
    "$$\n",
    "X_1, X_2, \\ldots, X_n\n",
    "$$\n",
    "\n",
    "where each of these random variables independently equals 1 or 0 with probabilities $p$ and $1-p$ respectively. The total count is the sum\n",
    "\n",
    "$$\n",
    "Y = \\sum_{i=1}^n X_i = \\text{Number of 1's in the sample}\n",
    "$$\n",
    "\n",
    "This combined random variable $Y$ has the **Binomial distribution** with parameters $n$ = sample size or number of draws, and $p$ = probability of a 1 for each draw.\n",
    "\n",
    "Associated with this we define the Binomial proportion, $\\hat{p}$ given by\n",
    "\n",
    "$$\n",
    "\\hat{p} = {Y\\over n} = {\\text{Number of 1's in the sample}\\over n}.\n",
    "$$\n",
    "\n",
    "**Binomial probability mass function** \n",
    "\n",
    "The pmf of the Binomial distribution can be derived using combinatorial counting methods. It has the form:\n",
    "\n",
    "$$\n",
    "p(k) = \\binom{n}{k} p^k (1-p)^{n-k}, \\quad k=0, 1, \\ldots, n\n",
    "$$\n",
    "\n",
    "where $\\binom{n}{k} = k! (n-k)! / n!$ is the number of ways to choose $k$ positions out of $n$ for the 1's in a sequence of $n$ 1's and 0's. \n",
    "\n",
    "The Binomial distribution is included in SciPy as scipy.stat.binom with parameters n and p. The graph below shows the binomial pmf for n=20 and p=0.7.\n"
   ]
  },
  {
   "cell_type": "code",
   "execution_count": 11,
   "metadata": {},
   "outputs": [],
   "source": [
    "from scipy.stats import binom"
   ]
  },
  {
   "cell_type": "code",
   "execution_count": 12,
   "metadata": {},
   "outputs": [
    {
     "data": {
      "image/png": "[encoded data removed]",
      "text/plain": [
       "<Figure size 432x288 with 1 Axes>"
      ]
     },
     "metadata": {
      "needs_background": "light"
     },
     "output_type": "display_data"
    }
   ],
   "source": [
    "n, p = 20, 0.7\n",
    "x = np.arange(0,20)\n",
    "plt.plot(x, binom.pmf(x, n, p), 'bo')\n",
    "plt.title(\"Binomial Probability Mass Function\")\n",
    "plt.vlines(x, 0, binom.pmf(x, n=n, p=p), lw=2, colors='blue')\n",
    "plt.xlabel(\"x\")\n",
    "plt.ylabel(\"p(x)\")\n",
    "plt.show()"
   ]
  },
  {
   "cell_type": "markdown",
   "metadata": {},
   "source": [
    "**Population mean and standard deviation of Binomial**\n",
    "\n",
    "Using our results so far, we can easily find the mean and standard deviation for $Y$ and $\\hat{p}$. $Y$ is the sum of $n$ independent Bernoulli random variables, each with mean $\\mu=p$ and variance $\\sigma^2 = p(1-p)$. Therefore the general results above give the following formulas for $Y \\sim Binomial(n,p)$:\n",
    "\n",
    "$$\n",
    "E(Y) = np, \\quad Var(Y) = np(1-p), \\quad SD(Y) = \\sqrt{np(1-p)}\n",
    "$$\n",
    "\n",
    "Similarly, for the binomial proportion $\\hat{p}=Y/n$:\n",
    "\n",
    "$$\n",
    "E(\\hat{p}) = p, \\quad Var(\\hat{p}) = {p(1-p)\\over n}, \\quad SD(\\hat{p}) = \\sqrt{{p(1-p)\\over n}}.\n",
    "$$\n"
   ]
  },
  {
   "cell_type": "code",
   "execution_count": 13,
   "metadata": {},
   "outputs": [
    {
     "name": "stdout",
     "output_type": "stream",
     "text": [
      "Direct: 14.0 2.04939015319192\n",
      "Via binom: 14.0 2.04939015319192\n"
     ]
    }
   ],
   "source": [
    "# Compare\n",
    "n, p = 20, 0.7\n",
    "print('Direct:', n*p, np.sqrt(n*p*(1-p)))\n",
    "print('Via binom:', binom.mean(n, p), binom.std(n, p))"
   ]
  },
  {
   "cell_type": "markdown",
   "metadata": {},
   "source": [
    "### Estimating population proportions with standard errors\n",
    "\n",
    "**Example: Pew Research Survey**"
   ]
  },
  {
   "cell_type": "markdown",
   "metadata": {},
   "source": [
    "In the February 2017 Pew Research Center random phone number dialing survey of 1,503 adults of voting age, the first question in the survey was:\n",
    "\n",
    "- Q.1 Do you approve or disapprove of the way Donald Trump is handling his job as President?\n",
    "\n",
    "The possible answers were:\n",
    "\n",
    "- 1 Approve\n",
    "- 2 Disapprove\n",
    "- 9 Don't know/Refused (VOL.)\n",
    "\n",
    "Let's extract the data for this question."
   ]
  },
  {
   "cell_type": "code",
   "execution_count": 14,
   "metadata": {},
   "outputs": [],
   "source": [
    "import zipfile as zp\n",
    "zf = zp.ZipFile('../data/Feb17-public.zip')\n",
    "missing_values = [\"NaN\", \"nan\", \"Don't know/Refused (VOL.)\"]\n",
    "dfpewq1 = pd.read_csv(zf.open('Feb17public.csv'), \n",
    "                   na_values=missing_values)['q1']"
   ]
  },
  {
   "cell_type": "code",
   "execution_count": 15,
   "metadata": {},
   "outputs": [
    {
     "data": {
      "text/plain": [
       "(1503,)"
      ]
     },
     "execution_count": 15,
     "metadata": {},
     "output_type": "execute_result"
    }
   ],
   "source": [
    "dfpewq1.shape"
   ]
  },
  {
   "cell_type": "code",
   "execution_count": 16,
   "metadata": {},
   "outputs": [
    {
     "data": {
      "text/plain": [
       "0    Disapprove\n",
       "1    Disapprove\n",
       "2    Disapprove\n",
       "3       Approve\n",
       "4    Disapprove\n",
       "Name: q1, dtype: object"
      ]
     },
     "execution_count": 16,
     "metadata": {},
     "output_type": "execute_result"
    }
   ],
   "source": [
    "dfpewq1.head()"
   ]
  },
  {
   "cell_type": "code",
   "execution_count": 17,
   "metadata": {},
   "outputs": [
    {
     "data": {
      "text/plain": [
       "Approve        572\n",
       "Disapprove     861\n",
       "Other           70\n",
       "Total         1503\n",
       "dtype: int64"
      ]
     },
     "execution_count": 17,
     "metadata": {},
     "output_type": "execute_result"
    }
   ],
   "source": [
    "approve = sum(dfpewq1=='Approve')\n",
    "disapprove = sum(dfpewq1=='Disapprove')\n",
    "n = dfpewq1.shape[0]\n",
    "q1sum = pd.Series(\n",
    "    data= [approve, disapprove, n-approve-disapprove, n],\n",
    "    index= ['Approve', 'Disapprove', 'Other', 'Total']\n",
    ")\n",
    "q1sum"
   ]
  },
  {
   "cell_type": "markdown",
   "metadata": {},
   "source": [
    "Now we can compute the sample proportion of approval."
   ]
  },
  {
   "cell_type": "code",
   "execution_count": 18,
   "metadata": {},
   "outputs": [
    {
     "data": {
      "text/plain": [
       "0.3806"
      ]
     },
     "execution_count": 18,
     "metadata": {},
     "output_type": "execute_result"
    }
   ],
   "source": [
    "prop = q1sum['Approve']/q1sum['Total']\n",
    "round(prop, 4)"
   ]
  },
  {
   "cell_type": "markdown",
   "metadata": {},
   "source": [
    "**In this survey the President's approval rate is 38.1% ($\\hat{p}=0.381$). What is the margin of error for this estimate?**\n",
    "\n",
    "First, we need a **standard error**, which is defined to be an estimate of the standard deviation of the estimate. If we knew the true proportion we could compute the standard deviation, but $p$ is what we are trying to estimate! What are the alternatives?\n",
    "\n",
    "**Method 1 (Upper bound method)**. The SD function for $\\hat{p}$ is bounded:\n",
    "\n",
    "$$\n",
    "SD(\\hat{p}) = \\sqrt{p(1-p)\\over n} \\le \\sqrt{0.25 \\over n} = {0.5\\over\\sqrt{n}}\n",
    "$$\n",
    "\n",
    "So we could report a **standard error** of *at most* this computed value:"
   ]
  },
  {
   "cell_type": "code",
   "execution_count": 19,
   "metadata": {},
   "outputs": [
    {
     "data": {
      "text/plain": [
       "0.0129"
      ]
     },
     "execution_count": 19,
     "metadata": {},
     "output_type": "execute_result"
    }
   ],
   "source": [
    "se_bound = 0.5/np.sqrt(q1sum['Total'])\n",
    "round(se_bound, 4)"
   ]
  },
  {
   "cell_type": "markdown",
   "metadata": {},
   "source": [
    "This is likely to be reasonable for values of $p$ in the range of 0.4 to 0.6 and too conservative for more extreme values of $p$. A more commonly used method is to insert $\\hat{p}$ into the standard deviation formula.\n",
    "\n",
    "**Method 2 (Plug-in method).** Inserting the estimate itself into the standrd deviation formula gives:\n",
    "\n",
    "$$\n",
    "SE(\\hat{p}) = \\hat{SD}(\\hat{p}) = \\sqrt{\\hat{p}(1-\\hat{p})\\over n}.\n",
    "$$\n",
    "\n",
    "For the approval question in the Pew survey we obtain:"
   ]
  },
  {
   "cell_type": "code",
   "execution_count": 20,
   "metadata": {},
   "outputs": [
    {
     "data": {
      "text/plain": [
       "0.0125"
      ]
     },
     "execution_count": 20,
     "metadata": {},
     "output_type": "execute_result"
    }
   ],
   "source": [
    "se = np.sqrt(prop*(1-prop)/n)\n",
    "round(se, 4)"
   ]
  },
  {
   "cell_type": "markdown",
   "metadata": {},
   "source": [
    "We see that the plug in method gives a smaller standard error. Is it accurate? The upper bound method already shows that the expected deviation of at most $\\hat{p}$ from $p$ is on the order of 1.3\\%, so plugging it into the SE formula is likely to be quite accurate for this large of a sample. "
   ]
  },
  {
   "cell_type": "markdown",
   "metadata": {},
   "source": [
    "### Normal Approximation for the Binomial via Central Limit Theorem\n",
    "\n",
    "The sample proportion $\\hat{p}=Y/n$ from a Binomial sample is just a rescaling of the the total count $Y$ for the outcome of interest. We now know that $Y$ follows a Binomial distribution with $n$ draws and \"succes\" probability $p$ for each draw. The probabilty mass function for $\\hat{p}$ follows from that of $Y$ as follows:\n",
    "\n",
    "$$\n",
    "p_{\\hat{p}}(k/n) = \n",
    "P\\left(\\hat{p} = {k\\over n} \\right)= \n",
    "P(Y=k) = \\binom{n}{k} p^k (1-p)^{n-p}, \\quad k=0,1,2,\\ldots,n\n",
    "$$"
   ]
  },
  {
   "cell_type": "markdown",
   "metadata": {},
   "source": [
    "Using the sample estimates in the Pew example, the estimated pmf looks like the figure below."
   ]
  },
  {
   "cell_type": "code",
   "execution_count": 21,
   "metadata": {},
   "outputs": [
    {
     "data": {
      "image/png": "[encoded data removed]",
      "text/plain": [
       "<Figure size 432x288 with 1 Axes>"
      ]
     },
     "metadata": {
      "needs_background": "light"
     },
     "output_type": "display_data"
    }
   ],
   "source": [
    "n, p = 1503, prop\n",
    "x = np.arange(binom.ppf(0.001, n, p), binom.ppf(0.999, n, p))\n",
    "plt.plot(x/n, binom.pmf(x, n, p), 'bo')\n",
    "plt.title(\"Sample Proportion Mass Function\")\n",
    "plt.vlines(x/n, 0, binom.pmf(x, n, p), lw=2, colors='blue')\n",
    "plt.xlabel(\"x\")\n",
    "plt.ylabel(\"p(x)\")\n",
    "plt.show()"
   ]
  },
  {
   "cell_type": "markdown",
   "metadata": {},
   "source": [
    "Compare the shape of the normal pdf with the same mean and standard deviation as the scaled binomial pmf."
   ]
  },
  {
   "cell_type": "code",
   "execution_count": 22,
   "metadata": {},
   "outputs": [],
   "source": [
    "from scipy.stats import norm"
   ]
  },
  {
   "cell_type": "code",
   "execution_count": 23,
   "metadata": {},
   "outputs": [
    {
     "data": {
      "image/png": "[encoded data removed]",
      "text/plain": [
       "<Figure size 432x288 with 1 Axes>"
      ]
     },
     "metadata": {
      "needs_background": "light"
     },
     "output_type": "display_data"
    }
   ],
   "source": [
    "plt.plot(x/n, norm.pdf(x/n, loc=prop, scale=se), 'r--')\n",
    "plt.show()"
   ]
  },
  {
   "cell_type": "markdown",
   "metadata": {},
   "source": [
    "#### Normal Approximation for Binomial Sum\n",
    "\n",
    "Both the binomial distribution for $Y$ and the equivalent rescaled binomial  distribution for $\\hat{p}$ can be approximated by normal distributions with the same means and standard deviations if the sample size is large enough. This is a consequence of the central limit theorem for sample averages.\n",
    "\n",
    "As an example, let's compare $P(X\\le x)$ for Binomial(n=100, p=0.2) and Normal(loc=20, scale=4) for several values of $x$. For binomial counts it is more accurate to add or substract 0.5 to the interger count value depending on whether the probability includes or excludes that value."
   ]
  },
  {
   "cell_type": "code",
   "execution_count": 24,
   "metadata": {},
   "outputs": [
    {
     "data": {
      "text/html": [
       "<div>\n",
       "<style scoped>\n",
       "    .dataframe tbody tr th:only-of-type {\n",
       "        vertical-align: middle;\n",
       "    }\n",
       "\n",
       "    .dataframe tbody tr th {\n",
       "        vertical-align: top;\n",
       "    }\n",
       "\n",
       "    .dataframe thead th {\n",
       "        text-align: right;\n",
       "    }\n",
       "</style>\n",
       "<table border=\"1\" class=\"dataframe\">\n",
       "  <thead>\n",
       "    <tr style=\"text-align: right;\">\n",
       "      <th></th>\n",
       "      <th>z</th>\n",
       "      <th>binom.cdf(z, 100, 0.2)</th>\n",
       "      <th>norm.cdf(z, 20, 4)</th>\n",
       "    </tr>\n",
       "  </thead>\n",
       "  <tbody>\n",
       "    <tr>\n",
       "      <th>0</th>\n",
       "      <td>15.5</td>\n",
       "      <td>0.128506</td>\n",
       "      <td>0.130295</td>\n",
       "    </tr>\n",
       "    <tr>\n",
       "      <th>1</th>\n",
       "      <td>20.5</td>\n",
       "      <td>0.559462</td>\n",
       "      <td>0.549738</td>\n",
       "    </tr>\n",
       "    <tr>\n",
       "      <th>2</th>\n",
       "      <td>25.5</td>\n",
       "      <td>0.912525</td>\n",
       "      <td>0.915434</td>\n",
       "    </tr>\n",
       "    <tr>\n",
       "      <th>3</th>\n",
       "      <td>30.5</td>\n",
       "      <td>0.993941</td>\n",
       "      <td>0.995668</td>\n",
       "    </tr>\n",
       "  </tbody>\n",
       "</table>\n",
       "</div>"
      ],
      "text/plain": [
       "      z  binom.cdf(z, 100, 0.2)  norm.cdf(z, 20, 4)\n",
       "0  15.5                0.128506            0.130295\n",
       "1  20.5                0.559462            0.549738\n",
       "2  25.5                0.912525            0.915434\n",
       "3  30.5                0.993941            0.995668"
      ]
     },
     "execution_count": 24,
     "metadata": {},
     "output_type": "execute_result"
    }
   ],
   "source": [
    "n, p = 100, 0.2\n",
    "loc, scale = n*p, np.sqrt(n*p*(1-p))\n",
    "# values at which to compare\n",
    "z = [15.5, 20.5, 25.5, 30.5]\n",
    "# binomial cdf values\n",
    "bprob = binom.cdf(z, n, p)\n",
    "nprob = norm.cdf(z, loc, scale)\n",
    "pd.DataFrame({\n",
    "    'z': z,\n",
    "    'binom.cdf(z, 100, 0.2)': bprob,\n",
    "    'norm.cdf(z, 20, 4)': nprob\n",
    "})"
   ]
  },
  {
   "cell_type": "markdown",
   "metadata": {},
   "source": [
    "#### Margin of error for Binomial proportion\n",
    "\n",
    "In the Pew survey example, let's compute the margin of error for a confidence level of 95%.\n"
   ]
  },
  {
   "cell_type": "code",
   "execution_count": 25,
   "metadata": {},
   "outputs": [
    {
     "name": "stdout",
     "output_type": "stream",
     "text": [
      " Estimate= 0.3806\n",
      " Standard Error= 0.0125\n",
      " SE multiplier= 1.96\n",
      " Margin of error: 0.0245\n"
     ]
    }
   ],
   "source": [
    "# Estimate\n",
    "prop = q1sum['Approve']/q1sum['Total']\n",
    "# compute the multiplier from N(0,1)\n",
    "zq = norm.ppf(0.975)\n",
    "# compute the standard error\n",
    "SE = np.sqrt(prop*(1-prop)/q1sum['Total'])\n",
    "# compute and display margin of error\n",
    "print(' Estimate=', round(prop, 4))\n",
    "print(' Standard Error=', round(SE, 4)) \n",
    "print(' SE multiplier=', round(zq, 4))     \n",
    "print(' Margin of error:', round(zq*SE, 4))"
   ]
  },
  {
   "cell_type": "markdown",
   "metadata": {},
   "source": [
    "Conclusion: We are 95% confident that the sample estimate of 38.1% within $\\pm$2.45% of the population percentage for approval.\n",
    "\n",
    "Equivantly, we compute a 95% confidence interval:"
   ]
  },
  {
   "cell_type": "code",
   "execution_count": 26,
   "metadata": {},
   "outputs": [
    {
     "data": {
      "text/plain": [
       "array([0.356, 0.405])"
      ]
     },
     "execution_count": 26,
     "metadata": {},
     "output_type": "execute_result"
    }
   ],
   "source": [
    "np.round([prop-zq*SE, prop+zq*SE], 3)"
   ]
  },
  {
   "cell_type": "markdown",
   "metadata": {},
   "source": [
    "### Advanced topic: Why do we divide by n-1 in the sample standard deviation?\n",
    "\n",
    "The short answer is that this makes $S^2$ **unbiased** as an estimator of the population variance $\\sigma^2$. But this is worth delving into in a bit more detail, because it relates to a general idea that we will see repeatedly, that using the sample **training data** for estimating accuracy often makes results biased and we need to adjust for this in one way or another.\n",
    "\n",
    "**Framework:** Consider a random sample $X_1, X_2, \\ldots, X_n$ from a population or distribution with mean $\\mu$ and standard deviation $\\sigma$. Our standard estimators for $(\\mu, \\sigma^2)$ are $(\\bar{X}, S^2)$ where\n",
    "\n",
    "$$\n",
    "\\bar{X} = {1\\over n} \\sum_{i=1}^n X_i \\quad\\mbox{ and } \\quad\n",
    "S^2 = {1 \\over n-1} \\sum_{i=1}^n (X_i - \\bar{X})^2.\n",
    "$$\n",
    "\n",
    "What gives with the $n-1$??\n",
    "\n",
    "Let's work out the expected value using the facts we studied earlier in this section. Recall that the expectation of a sum of random variables is the sum of the expectations. Using this fact we already figured out that\n",
    "\n",
    "$$\n",
    "E(\\bar{X}) = \\mu \\quad \\mbox{and} \\quad E((\\bar{X} - \\mu)^2) = {\\sigma^2\\over n}.\n",
    "$$\n",
    "\n",
    "Next, consider the sum-of-squares of deviations of $X_i$ about the true, unknown $\\mu$:\n",
    "\n",
    "$$\n",
    "SS(\\mu) = \\sum_{i=1}^n (X_i - \\mu)^2.\n",
    "$$\n",
    "\n",
    "Using our facts about expectations we have:\n",
    "\n",
    "$$\n",
    "E(SS(\\mu)) = \\sum_{i=1}^n E((X_i - \\mu)^2) = \\sum_{i=1}^n \\sigma^2 = n \\sigma^2.\n",
    "$$\n",
    "\n",
    "Therefore, if we knew $\\mu$, then we could use $SS(\\mu)/n$ as an unbiased estimtator because\n",
    "\n",
    "$$\n",
    "E\\left( {1\\over n} SS(\\mu) \\right) = \\sigma^2.\n",
    "$$\n",
    "\n",
    "But we don't know $\\mu$. What is the impact of plugging in the estimate $\\bar{X}$ into the sum-of-squares?\n",
    "\n",
    "$$\n",
    "\\begin{align}\n",
    "SS(\\bar{X}) =& \\sum_{i=1}^n (X_i - \\bar{X})^2 \\\\\n",
    "=& \\sum_{i=1}^n (X_i - \\mu)^2 + \\sum_{i=1}^n (\\mu - \\bar{X})^2\n",
    "+ 2 \\sum_{i=1}^n (X_i - \\mu) (\\mu - \\bar{X}) \\\\\n",
    "\\\\\n",
    "=& SS(\\mu) + n(\\bar{X} - \\mu)^2 -  2n (\\bar{X} - \\mu)^2\\\\\n",
    "\\\\\n",
    "=& SS(\\mu) - n(\\bar{X} - \\mu)^2.\\\\\n",
    "\\end{align}\n",
    "$$\n",
    "\n",
    "Taking expectations on both sides of the equation gives\n",
    "\n",
    "$$\n",
    "E(SS(\\bar{X}) = E(SS(\\mu)) - n*Var(\\bar{X}) = n\\sigma^2 - \\sigma^2 = (n-1) \\sigma^2.\n",
    "$$\n",
    "\n",
    "Therefore, we get an unbiased, sample-based estimator of $\\sigma^2$ if we use $S^2$, because\n",
    "\n",
    "$$\n",
    "E(S^2) = E\\left({SS(\\bar{X})\\over n-1}\\right) = {(n-1) \\sigma^2 \\over n-1} = \\sigma^2.\n",
    "$$\n",
    "\n",
    "**Conclusion:** plugging the sample estimate $\\bar{X}$ into the expression for the sample variance (and standard deviation) underestimates the spread in the population distribution. We adjust for that by dividing by $n-1$ instead of $n$. This inflates the standard deviation estimate by the factor\n",
    "\n",
    "$$\n",
    "\\sqrt{n \\over n-1}.\n",
    "$$\n",
    "\n",
    "In very large samples this makes very little difference, but it has a noticable impact in smaller samples.\n"
   ]
  },
  {
   "cell_type": "markdown",
   "metadata": {},
   "source": [
    "### Next \n",
    "\n",
    "Compare two means : $\\mu_1 - \\mu_2$\n",
    "\n",
    "Estimates: $\\bar{X_1} - \\bar{X_2}$\n",
    "\n",
    "$Var(\\bar{X}_1 - \\bar{X}_2) = {\\sigma_1^2 \\over n_1} + {\\sigma_2^2 \\over n_2}$\n",
    "\n",
    "Develop standard error and confidence interval."
   ]
  },
  {
   "cell_type": "markdown",
   "metadata": {},
   "source": [
    "---\n",
    "### References\n",
    "\n",
    "Landrigan PJ, Whitworth RH, Baloh RW, Staehling NW, Barthel WF, Rosenblum BF. Neuropsychological dysfunction in children with chronic low-level lead absorption. *The Lancet*, Vol. 305, Issue 7909, P708-712, March 29, 1975. https://doi.org/10.1016/S0140-6736(75)91627-X"
   ]
  },
  {
   "cell_type": "markdown",
   "metadata": {},
   "source": [
    "---\n",
    "STAT 207, Douglas Simpson, University of Illinois at Urbana-Champaign"
   ]
  }
 ],
 "metadata": {
  "kernelspec": {
   "display_name": "Python 3",
   "language": "python",
   "name": "python3"
  },
  "language_info": {
   "codemirror_mode": {
    "name": "ipython",
    "version": 3
   },
   "file_extension": ".py",
   "mimetype": "text/x-python",
   "name": "python",
   "nbconvert_exporter": "python",
   "pygments_lexer": "ipython3",
   "version": "3.7.1"
  }
 },
 "nbformat": 4,
 "nbformat_minor": 2
}
