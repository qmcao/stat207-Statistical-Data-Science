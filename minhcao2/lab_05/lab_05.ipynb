{
 "cells": [
  {
   "cell_type": "markdown",
   "metadata": {},
   "source": [
    "### STAT 207 Lab 5: Sampling Distribution, Standard Error and Confidence Interval"
   ]
  },
  {
   "cell_type": "markdown",
   "metadata": {},
   "source": [
    "Due: Wednesday, February 26, 23:59:59"
   ]
  },
  {
   "cell_type": "markdown",
   "metadata": {},
   "source": [
    "### Michael Cao - minhcao2"
   ]
  },
  {
   "cell_type": "markdown",
   "metadata": {},
   "source": [
    "This lab consists of 2 main parts. You may add as many cells as you need in order to do the exercises. To add cells use the \"Insert\" tab from the menu bar above and select \"insert cell above\" or \"insert cell below\", and then select \"code\" or \"Markdown\" for the type of cell you want. \n",
    "\n",
    "**Note: not every problem in this lab requires Python calculation. In some cases you can just work it out and type in your solution.** \n"
   ]
  },
  {
   "cell_type": "markdown",
   "metadata": {},
   "source": [
    "### Part 1: Continuous Uniform Distribution (14 pts)\n",
    "\n",
    "A random variable $X$ has a **uniform** distribution on the interval from $a$ to $b$ ($a < b$) if its probability density function (pdf) has a constant height $c=1/(b-a)$ over the interval from $a$ to $b$, and is zero outside the interval. The following questions in Part 1 refer to uniform random variables.\n",
    "\n",
    "The model is available in SciPy as **scipy.stats.uniform** with the parameters **loc=a** (lower endpoint of interval) and **scale=b-a** (width of interval).\n"
   ]
  },
  {
   "cell_type": "markdown",
   "metadata": {},
   "source": [
    "**a) (2 pts) Consider the uniform distribution with $a=-1$ and $b=1$. This is the distribution of a random real number between -1 and 1. Use scipy.stats.uniform to compute the height of the pdf between -1 and 1.**"
   ]
  },
  {
   "cell_type": "code",
   "execution_count": 1,
   "metadata": {},
   "outputs": [],
   "source": [
    "import numpy as np\n",
    "import pandas as pd\n",
    "from scipy.stats import uniform"
   ]
  },
  {
   "cell_type": "code",
   "execution_count": 3,
   "metadata": {},
   "outputs": [
    {
     "data": {
      "text/plain": [
       "0.25"
      ]
     },
     "execution_count": 3,
     "metadata": {},
     "output_type": "execute_result"
    }
   ],
   "source": [
    "a, b = 0, 4\n",
    "uniform.pdf(0, loc = a, scale = b - a )\n",
    "\n"
   ]
  },
  {
   "cell_type": "markdown",
   "metadata": {},
   "source": [
    "**b) (2 pts) Explain how you could determine the height $c$ directly from the description of the uniform pdf, without using python. Recall that the total area under the pdf curve must equal 1.**"
   ]
  },
  {
   "cell_type": "code",
   "execution_count": 4,
   "metadata": {},
   "outputs": [
    {
     "data": {
      "text/plain": [
       "0.25"
      ]
     },
     "execution_count": 4,
     "metadata": {},
     "output_type": "execute_result"
    }
   ],
   "source": [
    "c = 1 / (b - a)\n",
    "c"
   ]
  },
  {
   "cell_type": "markdown",
   "metadata": {},
   "source": [
    "\n",
    "$$\\qquad$$"
   ]
  },
  {
   "cell_type": "markdown",
   "metadata": {},
   "source": [
    "**c) (2 pts) If $X$ is a continuous random variable with a uniform distribution on $[-1,1]$, use Python to calculate the mean $\\mu=E[X]$ and the population standard deviation $\\sigma$ for $X$.**"
   ]
  },
  {
   "cell_type": "code",
   "execution_count": 5,
   "metadata": {},
   "outputs": [
    {
     "name": "stdout",
     "output_type": "stream",
     "text": [
      "1.1547005383792515\n"
     ]
    },
    {
     "data": {
      "text/plain": [
       "2.0"
      ]
     },
     "execution_count": 5,
     "metadata": {},
     "output_type": "execute_result"
    }
   ],
   "source": [
    "print(uniform.std(loc = a, scale = b - a)) # Sigma\n",
    "uniform.mean(loc = a, scale = b - a) # Mu"
   ]
  },
  {
   "cell_type": "markdown",
   "metadata": {},
   "source": [
    "**d) (2 pts) Suppose $X_1, X_2, \\ldots, X_{16}$ is a random sample of 16 observations from the uniform distribution on $[-1,1]$. Let $\\bar{X} = {1\\over 16} \\sum_{i=1}^{16} X_i$. Compute the population mean, $E(\\bar{X})$, and population standard deviation for $\\bar{X}$. Hint: study the square root rule in the notes.**"
   ]
  },
  {
   "cell_type": "code",
   "execution_count": 7,
   "metadata": {},
   "outputs": [
    {
     "data": {
      "text/plain": [
       "0.14433756729740643"
      ]
     },
     "execution_count": 7,
     "metadata": {},
     "output_type": "execute_result"
    }
   ],
   "source": [
    "#populationMean of X bar = mean to the uniform distibution, which is 0\n",
    "#SD of X bar = sigma/ sqrt of n which is the sample size\n",
    "SD = uniform.std(loc = a, scale = b - a)/ 16 ** (1/2)\n",
    "SD\n"
   ]
  },
  {
   "cell_type": "markdown",
   "metadata": {},
   "source": [
    "**e) (4 pts) Use Python to generate a random sample of 16 observations from the uniform distribution on $[-1,1]$. Save them as a data frame or series and display them. In addition, compute and display the sample mean, the sample standard deviation, and the standard error for the sample mean $\\bar{X}$. Show your work in the cells below.**"
   ]
  },
  {
   "cell_type": "markdown",
   "metadata": {},
   "source": [
    "**i) Random sample:**"
   ]
  },
  {
   "cell_type": "code",
   "execution_count": 6,
   "metadata": {},
   "outputs": [
    {
     "data": {
      "text/plain": [
       "array([0.77765648, 2.26791457, 1.39769553, 3.74254747, 2.21474878,\n",
       "       1.10530707, 1.10802757, 2.15343819, 3.14785307, 2.7636985 ,\n",
       "       2.25498126, 0.12419319, 2.28573988, 0.45682401, 2.16995437,\n",
       "       1.57408403])"
      ]
     },
     "execution_count": 6,
     "metadata": {},
     "output_type": "execute_result"
    }
   ],
   "source": [
    "df = uniform.rvs(loc = a, scale = b - a, size = 16)\n",
    "df"
   ]
  },
  {
   "cell_type": "markdown",
   "metadata": {},
   "source": [
    "**ii) Sample mean:**"
   ]
  },
  {
   "cell_type": "code",
   "execution_count": 7,
   "metadata": {},
   "outputs": [
    {
     "data": {
      "text/plain": [
       "1.8465414976721148"
      ]
     },
     "execution_count": 7,
     "metadata": {},
     "output_type": "execute_result"
    }
   ],
   "source": [
    "df.mean()"
   ]
  },
  {
   "cell_type": "markdown",
   "metadata": {},
   "source": [
    "**iii) Sample standard deviation:**"
   ]
  },
  {
   "cell_type": "code",
   "execution_count": 8,
   "metadata": {},
   "outputs": [
    {
     "data": {
      "text/plain": [
       "0.9490751955223923"
      ]
     },
     "execution_count": 8,
     "metadata": {},
     "output_type": "execute_result"
    }
   ],
   "source": [
    "df.std()"
   ]
  },
  {
   "cell_type": "markdown",
   "metadata": {},
   "source": [
    "**iv) Standard error for the sample mean:**"
   ]
  },
  {
   "cell_type": "code",
   "execution_count": 9,
   "metadata": {},
   "outputs": [
    {
     "data": {
      "text/plain": [
       "0.23726879888059807"
      ]
     },
     "execution_count": 9,
     "metadata": {},
     "output_type": "execute_result"
    }
   ],
   "source": [
    "df.std()/ 16**(1/2)"
   ]
  },
  {
   "cell_type": "markdown",
   "metadata": {},
   "source": [
    "**f) (2 pts) According to the Central Limit Theorem, $\\bar{X}$ is approximately normally distributed. You computed its population mean and standard deviation above. Use these results and the scipy 'norm' function to compute the approximate value for $P(\\bar{X} \\ge -0.2)$.**"
   ]
  },
  {
   "cell_type": "code",
   "execution_count": 10,
   "metadata": {},
   "outputs": [
    {
     "ename": "NameError",
     "evalue": "name 'norm' is not defined",
     "output_type": "error",
     "traceback": [
      "\u001b[0;31m---------------------------------------------------------------------------\u001b[0m",
      "\u001b[0;31mNameError\u001b[0m                                 Traceback (most recent call last)",
      "\u001b[0;32m<ipython-input-10-c1486a083062>\u001b[0m in \u001b[0;36m<module>\u001b[0;34m\u001b[0m\n\u001b[0;32m----> 1\u001b[0;31m \u001b[0;36m1\u001b[0m \u001b[0;34m-\u001b[0m \u001b[0mnorm\u001b[0m\u001b[0;34m.\u001b[0m\u001b[0mcdf\u001b[0m\u001b[0;34m(\u001b[0m\u001b[0;34m-\u001b[0m\u001b[0;36m.2\u001b[0m\u001b[0;34m,\u001b[0m \u001b[0mloc\u001b[0m \u001b[0;34m=\u001b[0m \u001b[0;36m0\u001b[0m\u001b[0;34m,\u001b[0m \u001b[0mscale\u001b[0m \u001b[0;34m=\u001b[0m \u001b[0mSD\u001b[0m \u001b[0;34m)\u001b[0m\u001b[0;34m\u001b[0m\u001b[0;34m\u001b[0m\u001b[0m\n\u001b[0m",
      "\u001b[0;31mNameError\u001b[0m: name 'norm' is not defined"
     ]
    }
   ],
   "source": [
    "1 - norm.cdf(-.2, loc = 0, scale = SD )"
   ]
  },
  {
   "cell_type": "markdown",
   "metadata": {},
   "source": [
    "### Part 2: Normal random sample (11 pts)\n",
    "\n",
    "**Run the code below to generate a random sample from the normal distribution.**"
   ]
  },
  {
   "cell_type": "code",
   "execution_count": 12,
   "metadata": {},
   "outputs": [],
   "source": [
    "import pandas as pd\n",
    "import numpy as np\n",
    "from scipy.stats import norm\n",
    "from scipy.stats import binom\n"
   ]
  },
  {
   "cell_type": "code",
   "execution_count": 13,
   "metadata": {},
   "outputs": [
    {
     "ename": "AttributeError",
     "evalue": "'binom_gen' object has no attribute 'hist'",
     "output_type": "error",
     "traceback": [
      "\u001b[0;31m---------------------------------------------------------------------------\u001b[0m",
      "\u001b[0;31mAttributeError\u001b[0m                            Traceback (most recent call last)",
      "\u001b[0;32m<ipython-input-13-76d041664644>\u001b[0m in \u001b[0;36m<module>\u001b[0;34m\u001b[0m\n\u001b[0;32m----> 1\u001b[0;31m \u001b[0mbinom\u001b[0m\u001b[0;34m.\u001b[0m\u001b[0mhist\u001b[0m\u001b[0;34m(\u001b[0m\u001b[0;34m)\u001b[0m\u001b[0;34m\u001b[0m\u001b[0;34m\u001b[0m\u001b[0m\n\u001b[0m",
      "\u001b[0;31mAttributeError\u001b[0m: 'binom_gen' object has no attribute 'hist'"
     ]
    }
   ],
   "source": [
    "uniform.cdf()"
   ]
  },
  {
   "cell_type": "code",
   "execution_count": 24,
   "metadata": {},
   "outputs": [
    {
     "data": {
      "text/plain": [
       "0     13.949177\n",
       "1     18.673977\n",
       "2     13.574488\n",
       "3      7.740308\n",
       "4     16.780988\n",
       "5     18.248229\n",
       "6     10.709936\n",
       "7      9.145211\n",
       "8     11.613217\n",
       "9     11.916614\n",
       "10     7.115744\n",
       "11    18.363311\n",
       "12    13.318338\n",
       "13    16.755989\n",
       "14    17.694560\n",
       "15    16.645726\n",
       "16    11.604337\n",
       "17    17.497123\n",
       "18     8.565800\n",
       "19    13.942420\n",
       "dtype: float64"
      ]
     },
     "execution_count": 24,
     "metadata": {},
     "output_type": "execute_result"
    }
   ],
   "source": [
    "samp = pd.Series(norm.rvs(loc=12.87, scale=3.14, size=20, random_state=12347))\n",
    "samp"
   ]
  },
  {
   "cell_type": "markdown",
   "metadata": {},
   "source": [
    "**a) (2 pts) Compute and display the sample mean and sample standard deviation for the random sample.**"
   ]
  },
  {
   "cell_type": "code",
   "execution_count": 25,
   "metadata": {},
   "outputs": [
    {
     "name": "stdout",
     "output_type": "stream",
     "text": [
      "13.692774683236678\n",
      "3.784886385631239\n"
     ]
    }
   ],
   "source": [
    "print(samp.mean())\n",
    "print(samp.std())\n"
   ]
  },
  {
   "cell_type": "markdown",
   "metadata": {},
   "source": [
    "**b) (1 pt) Compute the standard error for the sample mean, based on the generated data.**"
   ]
  },
  {
   "cell_type": "code",
   "execution_count": 52,
   "metadata": {},
   "outputs": [
    {
     "data": {
      "text/plain": [
       "0.8463263245384933"
      ]
     },
     "execution_count": 52,
     "metadata": {},
     "output_type": "execute_result"
    }
   ],
   "source": [
    "#SE = sigma / sqrt of n\n",
    "SE = samp.std() / 20** (1/2)\n",
    "SE"
   ]
  },
  {
   "cell_type": "markdown",
   "metadata": {},
   "source": [
    "**c) (2 pts) In order to compute an approximate 80% confidence interval for the population mean based on the sample, we need to compute the standard error multiplier, $z_{0.90}$. Compute $z_{0.90}$ using appropropriate python fuctions.**"
   ]
  },
  {
   "cell_type": "code",
   "execution_count": 61,
   "metadata": {},
   "outputs": [
    {
     "data": {
      "text/plain": [
       "1.2815515655446004"
      ]
     },
     "execution_count": 61,
     "metadata": {},
     "output_type": "execute_result"
    }
   ],
   "source": [
    "z80 = norm.ppf(.9)\n",
    "z80"
   ]
  },
  {
   "cell_type": "markdown",
   "metadata": {},
   "source": [
    "**d) (2 pts) calculate and display the endpoints of the approximate 80% confidence interval for the population mean $\\mu$ based on the generated data.**"
   ]
  },
  {
   "cell_type": "code",
   "execution_count": 69,
   "metadata": {},
   "outputs": [
    {
     "name": "stdout",
     "output_type": "stream",
     "text": [
      "14.77738550941059\n"
     ]
    },
    {
     "data": {
      "text/plain": [
       "12.608163857062765"
      ]
     },
     "execution_count": 69,
     "metadata": {},
     "output_type": "execute_result"
    }
   ],
   "source": [
    "upperEndpoint = samp.mean() + SE * z80\n",
    "print(upperEndpoint)\n",
    "lowerEndpoint = samp.mean() - SE * z80\n",
    "lowerEndpoint\n"
   ]
  },
  {
   "cell_type": "markdown",
   "metadata": {},
   "source": [
    "**e) (1 pt) Does the interval you computed in d) contain the true population mean in this case? What is the numerical value of the population mean?**"
   ]
  },
  {
   "cell_type": "code",
   "execution_count": 70,
   "metadata": {},
   "outputs": [],
   "source": [
    "#Yes. 12.87"
   ]
  },
  {
   "cell_type": "markdown",
   "metadata": {},
   "source": [
    "**f) (3 pts) If $\\bar{X}$ is the sample mean for a random sample of size 20 generated using the method used here in Part 2 of the lab, what is the population distribution of $\\bar{X}$? State the family and determine the numerical values for its population parameters such as mean and standard deviation.**"
   ]
  },
  {
   "cell_type": "markdown",
   "metadata": {},
   "source": [
    "$$\\quad$$"
   ]
  },
  {
   "cell_type": "markdown",
   "metadata": {},
   "source": []
  },
  {
   "cell_type": "code",
   "execution_count": 71,
   "metadata": {},
   "outputs": [
    {
     "data": {
      "text/plain": [
       "0.702125344934934"
      ]
     },
     "execution_count": 71,
     "metadata": {},
     "output_type": "execute_result"
    }
   ],
   "source": [
    "#It will form a normal distribution, the mean of X bar is equal the true population\n",
    "#mean = 12.87, SD bar = sigma/ sqrt sample size\n",
    "SD = 3.14 / 20**0.5\n",
    "SD"
   ]
  },
  {
   "cell_type": "code",
   "execution_count": null,
   "metadata": {},
   "outputs": [],
   "source": []
  }
 ],
 "metadata": {
  "kernelspec": {
   "display_name": "Python 3",
   "language": "python",
   "name": "python3"
  },
  "language_info": {
   "codemirror_mode": {
    "name": "ipython",
    "version": 3
   },
   "file_extension": ".py",
   "mimetype": "text/x-python",
   "name": "python",
   "nbconvert_exporter": "python",
   "pygments_lexer": "ipython3",
   "version": "3.7.3"
  }
 },
 "nbformat": 4,
 "nbformat_minor": 2
}
