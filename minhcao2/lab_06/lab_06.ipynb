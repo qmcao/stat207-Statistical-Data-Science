{
 "cells": [
  {
   "cell_type": "markdown",
   "metadata": {},
   "source": [
    "## STAT 207 Lab 6: Confidence Intervals and Hypothesis Tests"
   ]
  },
  {
   "cell_type": "markdown",
   "metadata": {},
   "source": [
    "Due: Wednesday, March 11, 23:59:59"
   ]
  },
  {
   "cell_type": "markdown",
   "metadata": {},
   "source": [
    "### Michael Cao - minhcao2"
   ]
  },
  {
   "cell_type": "markdown",
   "metadata": {},
   "source": [
    "This lab consists of three main parts. We will analyze the lead exposure data, and data from a study of mother's smoking status and child's birth weight."
   ]
  },
  {
   "cell_type": "markdown",
   "metadata": {},
   "source": [
    "### Part 1: Preliminary analysis of lead study (9 pts)\n",
    "\n",
    "The file 'leadstudy.csv' is included in the same folder as this lab notebook. It contains data from the lead exposure study discussed in our class notes. We will focus on the response variable 'fulliq', which is an IQ test measurement, and the lead exposure level 'group', which has the values 'lead < 40' and 'lead >= 40'.\n",
    "\n",
    "**a) (1 pt) Read 'leadstudy.csv' into a data frame and display the first 5 rows.**"
   ]
  },
  {
   "cell_type": "code",
   "execution_count": 1,
   "metadata": {},
   "outputs": [],
   "source": [
    "import pandas as pd\n",
    "import matplotlib.pyplot as plt\n"
   ]
  },
  {
   "cell_type": "code",
   "execution_count": 2,
   "metadata": {},
   "outputs": [
    {
     "data": {
      "text/html": [
       "<div>\n",
       "<style scoped>\n",
       "    .dataframe tbody tr th:only-of-type {\n",
       "        vertical-align: middle;\n",
       "    }\n",
       "\n",
       "    .dataframe tbody tr th {\n",
       "        vertical-align: top;\n",
       "    }\n",
       "\n",
       "    .dataframe thead th {\n",
       "        text-align: right;\n",
       "    }\n",
       "</style>\n",
       "<table border=\"1\" class=\"dataframe\">\n",
       "  <thead>\n",
       "    <tr style=\"text-align: right;\">\n",
       "      <th></th>\n",
       "      <th>id</th>\n",
       "      <th>age</th>\n",
       "      <th>sex</th>\n",
       "      <th>status</th>\n",
       "      <th>verbiq</th>\n",
       "      <th>perfiq</th>\n",
       "      <th>fulliq</th>\n",
       "      <th>iqtype</th>\n",
       "      <th>totyrs</th>\n",
       "      <th>group</th>\n",
       "    </tr>\n",
       "  </thead>\n",
       "  <tbody>\n",
       "    <tr>\n",
       "      <th>0</th>\n",
       "      <td>101</td>\n",
       "      <td>11.083333</td>\n",
       "      <td>M</td>\n",
       "      <td>77</td>\n",
       "      <td>61</td>\n",
       "      <td>85</td>\n",
       "      <td>70</td>\n",
       "      <td>WISC</td>\n",
       "      <td>11</td>\n",
       "      <td>lead &lt; 40</td>\n",
       "    </tr>\n",
       "    <tr>\n",
       "      <th>1</th>\n",
       "      <td>102</td>\n",
       "      <td>9.416667</td>\n",
       "      <td>M</td>\n",
       "      <td>77</td>\n",
       "      <td>82</td>\n",
       "      <td>90</td>\n",
       "      <td>85</td>\n",
       "      <td>WISC</td>\n",
       "      <td>6</td>\n",
       "      <td>lead &lt; 40</td>\n",
       "    </tr>\n",
       "    <tr>\n",
       "      <th>2</th>\n",
       "      <td>103</td>\n",
       "      <td>11.083333</td>\n",
       "      <td>M</td>\n",
       "      <td>30</td>\n",
       "      <td>70</td>\n",
       "      <td>107</td>\n",
       "      <td>86</td>\n",
       "      <td>WISC</td>\n",
       "      <td>5</td>\n",
       "      <td>lead &lt; 40</td>\n",
       "    </tr>\n",
       "    <tr>\n",
       "      <th>3</th>\n",
       "      <td>104</td>\n",
       "      <td>6.916667</td>\n",
       "      <td>M</td>\n",
       "      <td>77</td>\n",
       "      <td>72</td>\n",
       "      <td>85</td>\n",
       "      <td>76</td>\n",
       "      <td>WISC</td>\n",
       "      <td>5</td>\n",
       "      <td>lead &lt; 40</td>\n",
       "    </tr>\n",
       "    <tr>\n",
       "      <th>4</th>\n",
       "      <td>105</td>\n",
       "      <td>11.250000</td>\n",
       "      <td>M</td>\n",
       "      <td>62</td>\n",
       "      <td>72</td>\n",
       "      <td>100</td>\n",
       "      <td>84</td>\n",
       "      <td>WISC</td>\n",
       "      <td>11</td>\n",
       "      <td>lead &lt; 40</td>\n",
       "    </tr>\n",
       "    <tr>\n",
       "      <th>5</th>\n",
       "      <td>106</td>\n",
       "      <td>6.500000</td>\n",
       "      <td>M</td>\n",
       "      <td>72</td>\n",
       "      <td>95</td>\n",
       "      <td>97</td>\n",
       "      <td>96</td>\n",
       "      <td>WISC</td>\n",
       "      <td>6</td>\n",
       "      <td>lead &lt; 40</td>\n",
       "    </tr>\n",
       "    <tr>\n",
       "      <th>6</th>\n",
       "      <td>107</td>\n",
       "      <td>6.916667</td>\n",
       "      <td>M</td>\n",
       "      <td>54</td>\n",
       "      <td>89</td>\n",
       "      <td>101</td>\n",
       "      <td>94</td>\n",
       "      <td>WISC</td>\n",
       "      <td>6</td>\n",
       "      <td>lead &lt; 40</td>\n",
       "    </tr>\n",
       "    <tr>\n",
       "      <th>7</th>\n",
       "      <td>108</td>\n",
       "      <td>15.000000</td>\n",
       "      <td>F</td>\n",
       "      <td>73</td>\n",
       "      <td>57</td>\n",
       "      <td>64</td>\n",
       "      <td>56</td>\n",
       "      <td>WISC</td>\n",
       "      <td>15</td>\n",
       "      <td>lead &lt; 40</td>\n",
       "    </tr>\n",
       "    <tr>\n",
       "      <th>8</th>\n",
       "      <td>109</td>\n",
       "      <td>7.166667</td>\n",
       "      <td>F</td>\n",
       "      <td>22</td>\n",
       "      <td>116</td>\n",
       "      <td>111</td>\n",
       "      <td>115</td>\n",
       "      <td>WISC</td>\n",
       "      <td>7</td>\n",
       "      <td>lead &lt; 40</td>\n",
       "    </tr>\n",
       "    <tr>\n",
       "      <th>9</th>\n",
       "      <td>110</td>\n",
       "      <td>7.250000</td>\n",
       "      <td>M</td>\n",
       "      <td>77</td>\n",
       "      <td>95</td>\n",
       "      <td>100</td>\n",
       "      <td>97</td>\n",
       "      <td>WISC</td>\n",
       "      <td>7</td>\n",
       "      <td>lead &lt; 40</td>\n",
       "    </tr>\n",
       "  </tbody>\n",
       "</table>\n",
       "</div>"
      ],
      "text/plain": [
       "    id        age sex  status  verbiq  perfiq  fulliq iqtype  totyrs  \\\n",
       "0  101  11.083333   M      77      61      85      70   WISC      11   \n",
       "1  102   9.416667   M      77      82      90      85   WISC       6   \n",
       "2  103  11.083333   M      30      70     107      86   WISC       5   \n",
       "3  104   6.916667   M      77      72      85      76   WISC       5   \n",
       "4  105  11.250000   M      62      72     100      84   WISC      11   \n",
       "5  106   6.500000   M      72      95      97      96   WISC       6   \n",
       "6  107   6.916667   M      54      89     101      94   WISC       6   \n",
       "7  108  15.000000   F      73      57      64      56   WISC      15   \n",
       "8  109   7.166667   F      22     116     111     115   WISC       7   \n",
       "9  110   7.250000   M      77      95     100      97   WISC       7   \n",
       "\n",
       "       group  \n",
       "0  lead < 40  \n",
       "1  lead < 40  \n",
       "2  lead < 40  \n",
       "3  lead < 40  \n",
       "4  lead < 40  \n",
       "5  lead < 40  \n",
       "6  lead < 40  \n",
       "7  lead < 40  \n",
       "8  lead < 40  \n",
       "9  lead < 40  "
      ]
     },
     "execution_count": 2,
     "metadata": {},
     "output_type": "execute_result"
    }
   ],
   "source": [
    "df = pd.read_csv(\"leadstudy.csv\")\n",
    "df.head(n =10)"
   ]
  },
  {
   "cell_type": "markdown",
   "metadata": {},
   "source": [
    "**b) (2 pts) Display a histogram of 'fulliq'. On the histogram plot include a vertical line at the value x=100, to indicate the value that is expected to be the mean value in a typical population. See examples of graphs with vertical lines in the class notes and online documentation for matplotlib.pyplot.vlines.**"
   ]
  },
  {
   "cell_type": "code",
   "execution_count": 4,
   "metadata": {},
   "outputs": [
    {
     "data": {
      "text/plain": [
       "<matplotlib.collections.LineCollection at 0x7fd962db8be0>"
      ]
     },
     "execution_count": 4,
     "metadata": {},
     "output_type": "execute_result"
    },
    {
     "data": {
      "image/png": "[encoded data removed]",
      "text/plain": [
       "<Figure size 432x288 with 1 Axes>"
      ]
     },
     "metadata": {
      "needs_background": "light"
     },
     "output_type": "display_data"
    }
   ],
   "source": [
    "df[\"fulliq\"].hist()\n",
    "plt.vlines( x = 100, ymin = 0, ymax = 40)"
   ]
  },
  {
   "cell_type": "code",
   "execution_count": null,
   "metadata": {},
   "outputs": [],
   "source": []
  },
  {
   "cell_type": "markdown",
   "metadata": {},
   "source": [
    "**c) (3 pts) Compute and display the sample size n, the sample mean, the sample standard deviation and the standard error for the mean of the variable 'fulliq'.**"
   ]
  },
  {
   "cell_type": "code",
   "execution_count": 29,
   "metadata": {},
   "outputs": [
    {
     "data": {
      "text/plain": [
       "124"
      ]
     },
     "execution_count": 29,
     "metadata": {},
     "output_type": "execute_result"
    }
   ],
   "source": [
    "len(df[\"fulliq\"])"
   ]
  },
  {
   "cell_type": "code",
   "execution_count": 35,
   "metadata": {},
   "outputs": [
    {
     "data": {
      "text/plain": [
       "91.08064516129032"
      ]
     },
     "execution_count": 35,
     "metadata": {},
     "output_type": "execute_result"
    }
   ],
   "source": [
    "mean = df[\"fulliq\"].mean()\n",
    "mean"
   ]
  },
  {
   "cell_type": "code",
   "execution_count": 31,
   "metadata": {},
   "outputs": [
    {
     "data": {
      "text/plain": [
       "14.403927182528031"
      ]
     },
     "execution_count": 31,
     "metadata": {},
     "output_type": "execute_result"
    }
   ],
   "source": [
    "df[\"fulliq\"].std()"
   ]
  },
  {
   "cell_type": "code",
   "execution_count": 36,
   "metadata": {},
   "outputs": [
    {
     "data": {
      "text/plain": [
       "1.2935108459948101"
      ]
     },
     "execution_count": 36,
     "metadata": {},
     "output_type": "execute_result"
    }
   ],
   "source": [
    "se = df[\"fulliq\"].std() / (len(df[\"fulliq\"]))** 0.5\n",
    "se"
   ]
  },
  {
   "cell_type": "markdown",
   "metadata": {},
   "source": [
    "**d) (2 pts) Compute an approximate 99% confidence interval for the mean value of 'fulliq' for this population of children.**"
   ]
  },
  {
   "cell_type": "code",
   "execution_count": 33,
   "metadata": {},
   "outputs": [
    {
     "data": {
      "text/plain": [
       "2.5758293035489004"
      ]
     },
     "execution_count": 33,
     "metadata": {},
     "output_type": "execute_result"
    }
   ],
   "source": [
    "from scipy.stats import norm\n",
    "z99 = norm.ppf(.995)\n",
    "z99"
   ]
  },
  {
   "cell_type": "code",
   "execution_count": 38,
   "metadata": {},
   "outputs": [
    {
     "name": "stdout",
     "output_type": "stream",
     "text": [
      "94.41250830286208\n",
      "87.74878201971856\n"
     ]
    }
   ],
   "source": [
    "upperBound = mean + z99*se\n",
    "lowerBound = mean - z99*se\n",
    "print(upperBound)\n",
    "print(lowerBound)"
   ]
  },
  {
   "cell_type": "markdown",
   "metadata": {},
   "source": [
    "**e) (1 pt) Based on your results, is the population mean signficiantly different from the standard value of 100 at an $\\alpha$ significance level of 0.01?**"
   ]
  },
  {
   "cell_type": "markdown",
   "metadata": {},
   "source": [
    "The difference is significant because the value not in the interval"
   ]
  },
  {
   "cell_type": "markdown",
   "metadata": {},
   "source": [
    "### Part 2: Comparison of subgroups in the lead study (6 pts)\n",
    "\n",
    "In this part we analyze the relation between exposure group and 'fulliq'. We compare the mean 'fulliq' for low lead exposure ('group'=='lead < 40') and high exposure ('group'== 'lead >= 40'). We will determine if there is a statistically significant difference."
   ]
  },
  {
   "cell_type": "markdown",
   "metadata": {},
   "source": [
    "**a) (2 pts) For the low exposure group ('lead < 40'), compute the number of observations (nobs), sample mean (xbar), sample standard deviation (s) and standard error for the mean (se). Display the results with labels.**"
   ]
  },
  {
   "cell_type": "code",
   "execution_count": 41,
   "metadata": {},
   "outputs": [
    {
     "data": {
      "text/plain": [
       "78"
      ]
     },
     "execution_count": 41,
     "metadata": {},
     "output_type": "execute_result"
    }
   ],
   "source": [
    "age1 = df[df['group']=='lead < 40']\n",
    "nobs = len(age1)\n",
    "nobs"
   ]
  },
  {
   "cell_type": "code",
   "execution_count": 44,
   "metadata": {},
   "outputs": [
    {
     "data": {
      "text/plain": [
       "92.88461538461539"
      ]
     },
     "execution_count": 44,
     "metadata": {},
     "output_type": "execute_result"
    }
   ],
   "source": [
    "xbar = age1[\"fulliq\"].mean()\n",
    "xbar"
   ]
  },
  {
   "cell_type": "code",
   "execution_count": 46,
   "metadata": {},
   "outputs": [
    {
     "data": {
      "text/plain": [
       "15.34451191644902"
      ]
     },
     "execution_count": 46,
     "metadata": {},
     "output_type": "execute_result"
    }
   ],
   "source": [
    "s = age1[\"fulliq\"].std()\n",
    "s"
   ]
  },
  {
   "cell_type": "code",
   "execution_count": 48,
   "metadata": {},
   "outputs": [
    {
     "data": {
      "text/plain": [
       "1.7374238443153303"
      ]
     },
     "execution_count": 48,
     "metadata": {},
     "output_type": "execute_result"
    }
   ],
   "source": [
    "se = s / nobs**0.5\n",
    "se"
   ]
  },
  {
   "cell_type": "markdown",
   "metadata": {},
   "source": [
    "**b) (1 pt) For the high exposure group ('lead >= 40'), compute the number of observations (nobs), sample mean (xbar), sample standard deviation (s) and standard error for the mean (se). Display the results with labels.**"
   ]
  },
  {
   "cell_type": "code",
   "execution_count": 53,
   "metadata": {},
   "outputs": [
    {
     "data": {
      "text/plain": [
       "46"
      ]
     },
     "execution_count": 53,
     "metadata": {},
     "output_type": "execute_result"
    }
   ],
   "source": [
    "age2 = df[df['group']=='lead >= 40']\n",
    "nobs = len(age2)\n",
    "nobs"
   ]
  },
  {
   "cell_type": "code",
   "execution_count": 54,
   "metadata": {},
   "outputs": [
    {
     "data": {
      "text/plain": [
       "88.02173913043478"
      ]
     },
     "execution_count": 54,
     "metadata": {},
     "output_type": "execute_result"
    }
   ],
   "source": [
    "xbar = age2[\"fulliq\"].mean()\n",
    "xbar"
   ]
  },
  {
   "cell_type": "code",
   "execution_count": 56,
   "metadata": {},
   "outputs": [
    {
     "data": {
      "text/plain": [
       "12.206535827507023"
      ]
     },
     "execution_count": 56,
     "metadata": {},
     "output_type": "execute_result"
    }
   ],
   "source": [
    "s = age2[\"fulliq\"].std()\n",
    "s"
   ]
  },
  {
   "cell_type": "code",
   "execution_count": 57,
   "metadata": {},
   "outputs": [
    {
     "data": {
      "text/plain": [
       "1.7997555202824715"
      ]
     },
     "execution_count": 57,
     "metadata": {},
     "output_type": "execute_result"
    }
   ],
   "source": [
    "se = s / nobs**0.5\n",
    "se"
   ]
  },
  {
   "cell_type": "markdown",
   "metadata": {},
   "source": [
    "**c) (3 pts) Use the ttest_ind function from scipy.stats, or the related myttest_ind function we defined in class notes, to test the null hypothesis of no mean difference in 'fulliq' between the low exposure and high exposure groups in the population. Report the value of the t-test statistic and the p-value.**"
   ]
  },
  {
   "cell_type": "code",
   "execution_count": 59,
   "metadata": {},
   "outputs": [
    {
     "data": {
      "text/plain": [
       "Ttest_indResult(statistic=1.9439438351740033, pvalue=0.054423965479957315)"
      ]
     },
     "execution_count": 59,
     "metadata": {},
     "output_type": "execute_result"
    }
   ],
   "source": [
    "from scipy.stats import t\n",
    "from scipy.stats import ttest_ind\n",
    "ttest_ind(age1[\"fulliq\"], age2[\"fulliq\"], equal_var=False)"
   ]
  },
  {
   "cell_type": "code",
   "execution_count": null,
   "metadata": {},
   "outputs": [],
   "source": []
  },
  {
   "cell_type": "markdown",
   "metadata": {},
   "source": [
    "### Part 3: Birthweight versus mother's smoking status (10 pts)\n",
    "\n",
    "As reported in Hosmer, D.W. and Lemeshow, S. (1989) *Applied Logistic Regression*. New York: Wiley, data on birth weights of newborn babies and smoking status of their mothers were collected at Baystate Medical Center, Springfield, Mass during 1986. It was recorded whether or not the child had a low birthweight below a certain threshold weight, and whether or not the mother had smoked during pregnancy.\n",
    "\n",
    "There were 189 births in the study. Of those, 59 of the mothers were smokers, and 130 were nonsmokers during pregnancy:"
   ]
  },
  {
   "cell_type": "code",
   "execution_count": 60,
   "metadata": {},
   "outputs": [
    {
     "name": "stdout",
     "output_type": "stream",
     "text": [
      "nobs: 189\n",
      "smoker        59\n",
      "nonsmoker    130\n"
     ]
    }
   ],
   "source": [
    "nobs = pd.Series([59, 130], index=['smoker', 'nonsmoker'])\n",
    "print('nobs: 189')\n",
    "print(nobs.to_string(dtype=False))"
   ]
  },
  {
   "cell_type": "markdown",
   "metadata": {},
   "source": [
    "The frequency of low birthweight was 30 among the smokers and 44 among nonsmokers:"
   ]
  },
  {
   "cell_type": "code",
   "execution_count": 61,
   "metadata": {},
   "outputs": [
    {
     "name": "stdout",
     "output_type": "stream",
     "text": [
      "low_bwt: 77\n",
      "smoker       30\n",
      "nonsmoker    44\n"
     ]
    }
   ],
   "source": [
    "low_bwt = pd.Series([30, 44], index=['smoker', 'nonsmoker'])\n",
    "print('low_bwt: 77')\n",
    "print(low_bwt.to_string(dtype=False))"
   ]
  },
  {
   "cell_type": "markdown",
   "metadata": {},
   "source": [
    "**a) (2 pts) Compute the sample proportions of low birth weight for smokers and nonsmokers. Make sure the output labels the two proportions so we know which group corresponds to which proportion.**"
   ]
  },
  {
   "cell_type": "code",
   "execution_count": 68,
   "metadata": {},
   "outputs": [
    {
     "name": "stdout",
     "output_type": "stream",
     "text": [
      "0.5084745762711864\n",
      "0.3384615384615385\n"
     ]
    }
   ],
   "source": [
    "proOfSmoker = 30 / 59\n",
    "proOfNonSmoker = 44 / 130\n",
    "print(proOfSmoker)\n",
    "print(proOfNonSmoker)"
   ]
  },
  {
   "cell_type": "markdown",
   "metadata": {},
   "source": [
    "**b) (2 pts) Considering the sample proportions to be estimates of population proportions for smokers and nonsmokers, compute standard errors for the two proportions.**"
   ]
  },
  {
   "cell_type": "code",
   "execution_count": 69,
   "metadata": {},
   "outputs": [
    {
     "name": "stdout",
     "output_type": "stream",
     "text": [
      "0.06508510485393613\n",
      "0.04150118862466351\n"
     ]
    }
   ],
   "source": [
    "seOfSmoker = (proOfSmoker * (1 - proOfSmoker) / 59)**0.5\n",
    "print(seOfSmoker)\n",
    "seOfNonSmoker = (proOfNonSmoker * (1 - proOfNonSmoker) / 130)**0.5\n",
    "print(seOfNonSmoker)"
   ]
  },
  {
   "cell_type": "markdown",
   "metadata": {},
   "source": [
    "**c) (2 pts) Compute the difference between the two proportions, and the standard error for the difference.**"
   ]
  },
  {
   "cell_type": "code",
   "execution_count": 76,
   "metadata": {},
   "outputs": [
    {
     "name": "stdout",
     "output_type": "stream",
     "text": [
      "-0.17001303780964794\n"
     ]
    },
    {
     "data": {
      "text/plain": [
       "0.07719079952369817"
      ]
     },
     "execution_count": 76,
     "metadata": {},
     "output_type": "execute_result"
    }
   ],
   "source": [
    "diff = proOfNonSmoker - proOfSmoker\n",
    "print(diff)\n",
    "seDiff = (seOfSmoker**2 + seOfNonSmoker**2) ** 0.5\n",
    "seDiff"
   ]
  },
  {
   "cell_type": "markdown",
   "metadata": {},
   "source": [
    "**d) (2 pts) Compute the z-value and p-value for testing the null hypothesis $H_0: p_{smoker} - p_{nonsmoker} = 0$.**"
   ]
  },
  {
   "cell_type": "code",
   "execution_count": 80,
   "metadata": {},
   "outputs": [
    {
     "name": "stdout",
     "output_type": "stream",
     "text": [
      "-2.2025039105528714\n"
     ]
    },
    {
     "data": {
      "text/plain": [
       "0.02762973320269138"
      ]
     },
     "execution_count": 80,
     "metadata": {},
     "output_type": "execute_result"
    }
   ],
   "source": [
    "z = diff / seDiff\n",
    "print(z)\n",
    "2 * norm.cdf(z)"
   ]
  },
  {
   "cell_type": "markdown",
   "metadata": {},
   "source": [
    "**e) (2 pts) Use the proportions_ztest function from the statsmodels.stats.proportion library to test the hypothesis in d).**"
   ]
  },
  {
   "cell_type": "code",
   "execution_count": 82,
   "metadata": {},
   "outputs": [],
   "source": [
    "from statsmodels.stats.proportion import proportions_ztest"
   ]
  },
  {
   "cell_type": "code",
   "execution_count": 83,
   "metadata": {},
   "outputs": [
    {
     "data": {
      "text/plain": [
       "(2.218942413484697, 0.026490642530502425)"
      ]
     },
     "execution_count": 83,
     "metadata": {},
     "output_type": "execute_result"
    }
   ],
   "source": [
    "proportions_ztest(low_bwt, nobs)"
   ]
  },
  {
   "cell_type": "code",
   "execution_count": null,
   "metadata": {},
   "outputs": [],
   "source": []
  }
 ],
 "metadata": {
  "kernelspec": {
   "display_name": "Python 3",
   "language": "python",
   "name": "python3"
  },
  "language_info": {
   "codemirror_mode": {
    "name": "ipython",
    "version": 3
   },
   "file_extension": ".py",
   "mimetype": "text/x-python",
   "name": "python",
   "nbconvert_exporter": "python",
   "pygments_lexer": "ipython3",
   "version": "3.7.3"
  }
 },
 "nbformat": 4,
 "nbformat_minor": 2
}
