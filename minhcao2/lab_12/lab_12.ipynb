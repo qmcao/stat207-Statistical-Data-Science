{
 "cells": [
  {
   "cell_type": "markdown",
   "metadata": {},
   "source": [
    "## STAT 207 Lab 12: Regularized Linear Regression"
   ]
  },
  {
   "cell_type": "markdown",
   "metadata": {},
   "source": [
    "Due: Wednesday, May 6, 23:59:59"
   ]
  },
  {
   "cell_type": "markdown",
   "metadata": {},
   "source": [
    "### minhcao2 AND Michael Cao "
   ]
  },
  {
   "cell_type": "markdown",
   "metadata": {},
   "source": [
    "#### The code below generates data to analyze in this lab. \n",
    "\n",
    "The response variable is 'y'. The other variables are feature variables. Run the code and then work on the questions below."
   ]
  },
  {
   "cell_type": "code",
   "execution_count": 4,
   "metadata": {},
   "outputs": [],
   "source": [
    "import pandas as pd\n",
    "import numpy as np\n",
    "from scipy.stats import norm, t\n",
    "import matplotlib.pyplot as plt\n",
    "import seaborn as sb; sb.set()"
   ]
  },
  {
   "cell_type": "code",
   "execution_count": 2,
   "metadata": {},
   "outputs": [],
   "source": [
    "b0 = 17.3\n",
    "bvec = np.repeat([1, -1, 0.15, 0], [4, 2, 3, 23])\n",
    "n = 150\n",
    "nX = bvec.size\n",
    "X = t.rvs(size=n*nX, loc=10, scale=2.5, df=6, random_state=1).reshape((n, nX))\n",
    "Xnames = []\n",
    "for i in range(nX):\n",
    "    list.append(Xnames, 'X'+str(i+1))\n",
    "df = pd.DataFrame(X, columns=Xnames)\n",
    "df['y'] = b0 + np.matmul(X, bvec) + t.rvs(df=5, scale=5.7, random_state=13, size=n)"
   ]
  },
  {
   "cell_type": "markdown",
   "metadata": {},
   "source": [
    "### Part 1: Data Summary and Visualization (8 pts)\n",
    "\n",
    "**a) (2 pts)** Use the .describe() function to compute summary statistics for all the feature variables and the response. Comment on whether or not the feature variables have widely varying standard deviations or similar standard deviations. Some of our variable selection methods work better if the scales of the feature variables are similar to each other."
   ]
  },
  {
   "cell_type": "code",
   "execution_count": 3,
   "metadata": {},
   "outputs": [
    {
     "data": {
      "text/html": [
       "<div>\n",
       "<style scoped>\n",
       "    .dataframe tbody tr th:only-of-type {\n",
       "        vertical-align: middle;\n",
       "    }\n",
       "\n",
       "    .dataframe tbody tr th {\n",
       "        vertical-align: top;\n",
       "    }\n",
       "\n",
       "    .dataframe thead th {\n",
       "        text-align: right;\n",
       "    }\n",
       "</style>\n",
       "<table border=\"1\" class=\"dataframe\">\n",
       "  <thead>\n",
       "    <tr style=\"text-align: right;\">\n",
       "      <th></th>\n",
       "      <th>X1</th>\n",
       "      <th>X2</th>\n",
       "      <th>X3</th>\n",
       "      <th>X4</th>\n",
       "      <th>X5</th>\n",
       "      <th>X6</th>\n",
       "      <th>X7</th>\n",
       "      <th>X8</th>\n",
       "      <th>X9</th>\n",
       "      <th>X10</th>\n",
       "      <th>...</th>\n",
       "      <th>X24</th>\n",
       "      <th>X25</th>\n",
       "      <th>X26</th>\n",
       "      <th>X27</th>\n",
       "      <th>X28</th>\n",
       "      <th>X29</th>\n",
       "      <th>X30</th>\n",
       "      <th>X31</th>\n",
       "      <th>X32</th>\n",
       "      <th>y</th>\n",
       "    </tr>\n",
       "  </thead>\n",
       "  <tbody>\n",
       "    <tr>\n",
       "      <th>count</th>\n",
       "      <td>150.000000</td>\n",
       "      <td>150.000000</td>\n",
       "      <td>150.000000</td>\n",
       "      <td>150.000000</td>\n",
       "      <td>150.000000</td>\n",
       "      <td>150.000000</td>\n",
       "      <td>150.000000</td>\n",
       "      <td>150.000000</td>\n",
       "      <td>150.000000</td>\n",
       "      <td>150.000000</td>\n",
       "      <td>...</td>\n",
       "      <td>150.000000</td>\n",
       "      <td>150.000000</td>\n",
       "      <td>150.000000</td>\n",
       "      <td>150.000000</td>\n",
       "      <td>150.000000</td>\n",
       "      <td>150.000000</td>\n",
       "      <td>150.000000</td>\n",
       "      <td>150.000000</td>\n",
       "      <td>150.000000</td>\n",
       "      <td>150.000000</td>\n",
       "    </tr>\n",
       "    <tr>\n",
       "      <th>mean</th>\n",
       "      <td>9.927516</td>\n",
       "      <td>9.672206</td>\n",
       "      <td>9.827706</td>\n",
       "      <td>9.980261</td>\n",
       "      <td>9.613107</td>\n",
       "      <td>10.107092</td>\n",
       "      <td>9.703299</td>\n",
       "      <td>9.674936</td>\n",
       "      <td>10.224194</td>\n",
       "      <td>10.039294</td>\n",
       "      <td>...</td>\n",
       "      <td>10.018971</td>\n",
       "      <td>9.805344</td>\n",
       "      <td>9.759456</td>\n",
       "      <td>10.046996</td>\n",
       "      <td>9.565271</td>\n",
       "      <td>9.849641</td>\n",
       "      <td>10.019706</td>\n",
       "      <td>10.146526</td>\n",
       "      <td>10.211818</td>\n",
       "      <td>41.965212</td>\n",
       "    </tr>\n",
       "    <tr>\n",
       "      <th>std</th>\n",
       "      <td>3.022367</td>\n",
       "      <td>3.128528</td>\n",
       "      <td>2.803113</td>\n",
       "      <td>2.922390</td>\n",
       "      <td>2.847218</td>\n",
       "      <td>3.081909</td>\n",
       "      <td>2.668704</td>\n",
       "      <td>2.801009</td>\n",
       "      <td>2.945952</td>\n",
       "      <td>3.345381</td>\n",
       "      <td>...</td>\n",
       "      <td>2.751667</td>\n",
       "      <td>3.108416</td>\n",
       "      <td>2.642744</td>\n",
       "      <td>3.042646</td>\n",
       "      <td>2.945139</td>\n",
       "      <td>2.937049</td>\n",
       "      <td>2.974315</td>\n",
       "      <td>3.314347</td>\n",
       "      <td>2.948996</td>\n",
       "      <td>9.740258</td>\n",
       "    </tr>\n",
       "    <tr>\n",
       "      <th>min</th>\n",
       "      <td>-3.493133</td>\n",
       "      <td>-0.211723</td>\n",
       "      <td>0.929926</td>\n",
       "      <td>-0.634442</td>\n",
       "      <td>-0.692340</td>\n",
       "      <td>-3.609361</td>\n",
       "      <td>0.010210</td>\n",
       "      <td>1.725515</td>\n",
       "      <td>-2.833697</td>\n",
       "      <td>-3.995182</td>\n",
       "      <td>...</td>\n",
       "      <td>3.577089</td>\n",
       "      <td>-2.955298</td>\n",
       "      <td>2.324880</td>\n",
       "      <td>-3.611018</td>\n",
       "      <td>2.969740</td>\n",
       "      <td>-1.523011</td>\n",
       "      <td>0.474820</td>\n",
       "      <td>1.733413</td>\n",
       "      <td>0.051699</td>\n",
       "      <td>14.650897</td>\n",
       "    </tr>\n",
       "    <tr>\n",
       "      <th>25%</th>\n",
       "      <td>8.089146</td>\n",
       "      <td>7.501608</td>\n",
       "      <td>8.286204</td>\n",
       "      <td>8.142708</td>\n",
       "      <td>7.869755</td>\n",
       "      <td>8.258094</td>\n",
       "      <td>8.281414</td>\n",
       "      <td>7.875670</td>\n",
       "      <td>8.880848</td>\n",
       "      <td>8.141887</td>\n",
       "      <td>...</td>\n",
       "      <td>8.139202</td>\n",
       "      <td>8.015356</td>\n",
       "      <td>8.002739</td>\n",
       "      <td>8.234073</td>\n",
       "      <td>7.833637</td>\n",
       "      <td>8.255389</td>\n",
       "      <td>8.242057</td>\n",
       "      <td>8.139922</td>\n",
       "      <td>8.700384</td>\n",
       "      <td>35.106183</td>\n",
       "    </tr>\n",
       "    <tr>\n",
       "      <th>50%</th>\n",
       "      <td>10.178137</td>\n",
       "      <td>9.978406</td>\n",
       "      <td>10.101535</td>\n",
       "      <td>10.138785</td>\n",
       "      <td>9.797717</td>\n",
       "      <td>9.804287</td>\n",
       "      <td>9.765363</td>\n",
       "      <td>9.907172</td>\n",
       "      <td>10.207325</td>\n",
       "      <td>9.761149</td>\n",
       "      <td>...</td>\n",
       "      <td>9.950892</td>\n",
       "      <td>10.014644</td>\n",
       "      <td>9.832070</td>\n",
       "      <td>10.310754</td>\n",
       "      <td>9.539543</td>\n",
       "      <td>9.873912</td>\n",
       "      <td>10.063159</td>\n",
       "      <td>10.017180</td>\n",
       "      <td>10.219836</td>\n",
       "      <td>41.705526</td>\n",
       "    </tr>\n",
       "    <tr>\n",
       "      <th>75%</th>\n",
       "      <td>11.720538</td>\n",
       "      <td>11.763074</td>\n",
       "      <td>11.774162</td>\n",
       "      <td>11.715377</td>\n",
       "      <td>11.064819</td>\n",
       "      <td>11.865759</td>\n",
       "      <td>11.167208</td>\n",
       "      <td>11.304363</td>\n",
       "      <td>11.405933</td>\n",
       "      <td>11.932534</td>\n",
       "      <td>...</td>\n",
       "      <td>12.008818</td>\n",
       "      <td>11.447037</td>\n",
       "      <td>11.546189</td>\n",
       "      <td>11.832517</td>\n",
       "      <td>11.298953</td>\n",
       "      <td>11.519136</td>\n",
       "      <td>12.064943</td>\n",
       "      <td>12.130275</td>\n",
       "      <td>11.942326</td>\n",
       "      <td>47.389015</td>\n",
       "    </tr>\n",
       "    <tr>\n",
       "      <th>max</th>\n",
       "      <td>18.855323</td>\n",
       "      <td>20.521743</td>\n",
       "      <td>17.740586</td>\n",
       "      <td>19.666872</td>\n",
       "      <td>17.975048</td>\n",
       "      <td>21.757740</td>\n",
       "      <td>15.946676</td>\n",
       "      <td>18.066252</td>\n",
       "      <td>26.721873</td>\n",
       "      <td>22.743389</td>\n",
       "      <td>...</td>\n",
       "      <td>19.178044</td>\n",
       "      <td>19.462822</td>\n",
       "      <td>17.391591</td>\n",
       "      <td>19.586861</td>\n",
       "      <td>19.171904</td>\n",
       "      <td>17.642756</td>\n",
       "      <td>18.029959</td>\n",
       "      <td>25.116210</td>\n",
       "      <td>19.474205</td>\n",
       "      <td>73.676405</td>\n",
       "    </tr>\n",
       "  </tbody>\n",
       "</table>\n",
       "<p>8 rows × 33 columns</p>\n",
       "</div>"
      ],
      "text/plain": [
       "               X1          X2          X3          X4          X5          X6  \\\n",
       "count  150.000000  150.000000  150.000000  150.000000  150.000000  150.000000   \n",
       "mean     9.927516    9.672206    9.827706    9.980261    9.613107   10.107092   \n",
       "std      3.022367    3.128528    2.803113    2.922390    2.847218    3.081909   \n",
       "min     -3.493133   -0.211723    0.929926   -0.634442   -0.692340   -3.609361   \n",
       "25%      8.089146    7.501608    8.286204    8.142708    7.869755    8.258094   \n",
       "50%     10.178137    9.978406   10.101535   10.138785    9.797717    9.804287   \n",
       "75%     11.720538   11.763074   11.774162   11.715377   11.064819   11.865759   \n",
       "max     18.855323   20.521743   17.740586   19.666872   17.975048   21.757740   \n",
       "\n",
       "               X7          X8          X9         X10  ...         X24  \\\n",
       "count  150.000000  150.000000  150.000000  150.000000  ...  150.000000   \n",
       "mean     9.703299    9.674936   10.224194   10.039294  ...   10.018971   \n",
       "std      2.668704    2.801009    2.945952    3.345381  ...    2.751667   \n",
       "min      0.010210    1.725515   -2.833697   -3.995182  ...    3.577089   \n",
       "25%      8.281414    7.875670    8.880848    8.141887  ...    8.139202   \n",
       "50%      9.765363    9.907172   10.207325    9.761149  ...    9.950892   \n",
       "75%     11.167208   11.304363   11.405933   11.932534  ...   12.008818   \n",
       "max     15.946676   18.066252   26.721873   22.743389  ...   19.178044   \n",
       "\n",
       "              X25         X26         X27         X28         X29         X30  \\\n",
       "count  150.000000  150.000000  150.000000  150.000000  150.000000  150.000000   \n",
       "mean     9.805344    9.759456   10.046996    9.565271    9.849641   10.019706   \n",
       "std      3.108416    2.642744    3.042646    2.945139    2.937049    2.974315   \n",
       "min     -2.955298    2.324880   -3.611018    2.969740   -1.523011    0.474820   \n",
       "25%      8.015356    8.002739    8.234073    7.833637    8.255389    8.242057   \n",
       "50%     10.014644    9.832070   10.310754    9.539543    9.873912   10.063159   \n",
       "75%     11.447037   11.546189   11.832517   11.298953   11.519136   12.064943   \n",
       "max     19.462822   17.391591   19.586861   19.171904   17.642756   18.029959   \n",
       "\n",
       "              X31         X32           y  \n",
       "count  150.000000  150.000000  150.000000  \n",
       "mean    10.146526   10.211818   41.965212  \n",
       "std      3.314347    2.948996    9.740258  \n",
       "min      1.733413    0.051699   14.650897  \n",
       "25%      8.139922    8.700384   35.106183  \n",
       "50%     10.017180   10.219836   41.705526  \n",
       "75%     12.130275   11.942326   47.389015  \n",
       "max     25.116210   19.474205   73.676405  \n",
       "\n",
       "[8 rows x 33 columns]"
      ]
     },
     "execution_count": 3,
     "metadata": {},
     "output_type": "execute_result"
    }
   ],
   "source": [
    "df.describe()"
   ]
  },
  {
   "cell_type": "code",
   "execution_count": 6,
   "metadata": {},
   "outputs": [
    {
     "data": {
      "text/html": [
       "<div>\n",
       "<style scoped>\n",
       "    .dataframe tbody tr th:only-of-type {\n",
       "        vertical-align: middle;\n",
       "    }\n",
       "\n",
       "    .dataframe tbody tr th {\n",
       "        vertical-align: top;\n",
       "    }\n",
       "\n",
       "    .dataframe thead th {\n",
       "        text-align: right;\n",
       "    }\n",
       "</style>\n",
       "<table border=\"1\" class=\"dataframe\">\n",
       "  <thead>\n",
       "    <tr style=\"text-align: right;\">\n",
       "      <th></th>\n",
       "      <th>X1</th>\n",
       "      <th>X2</th>\n",
       "      <th>X3</th>\n",
       "      <th>X4</th>\n",
       "      <th>X5</th>\n",
       "      <th>X6</th>\n",
       "      <th>X7</th>\n",
       "      <th>X8</th>\n",
       "      <th>X9</th>\n",
       "      <th>X10</th>\n",
       "      <th>...</th>\n",
       "      <th>X24</th>\n",
       "      <th>X25</th>\n",
       "      <th>X26</th>\n",
       "      <th>X27</th>\n",
       "      <th>X28</th>\n",
       "      <th>X29</th>\n",
       "      <th>X30</th>\n",
       "      <th>X31</th>\n",
       "      <th>X32</th>\n",
       "      <th>y</th>\n",
       "    </tr>\n",
       "  </thead>\n",
       "  <tbody>\n",
       "    <tr>\n",
       "      <th>0</th>\n",
       "      <td>15.261250</td>\n",
       "      <td>7.543098</td>\n",
       "      <td>7.970773</td>\n",
       "      <td>5.415610</td>\n",
       "      <td>10.914943</td>\n",
       "      <td>8.565230</td>\n",
       "      <td>9.033689</td>\n",
       "      <td>11.733897</td>\n",
       "      <td>9.385160</td>\n",
       "      <td>14.600989</td>\n",
       "      <td>...</td>\n",
       "      <td>5.444990</td>\n",
       "      <td>11.325942</td>\n",
       "      <td>7.850875</td>\n",
       "      <td>19.586861</td>\n",
       "      <td>10.921050</td>\n",
       "      <td>11.859945</td>\n",
       "      <td>12.058796</td>\n",
       "      <td>9.372276</td>\n",
       "      <td>8.997377</td>\n",
       "      <td>35.089959</td>\n",
       "    </tr>\n",
       "    <tr>\n",
       "      <th>1</th>\n",
       "      <td>10.507227</td>\n",
       "      <td>11.759343</td>\n",
       "      <td>13.007035</td>\n",
       "      <td>11.850835</td>\n",
       "      <td>10.095002</td>\n",
       "      <td>8.597800</td>\n",
       "      <td>11.696141</td>\n",
       "      <td>9.017233</td>\n",
       "      <td>10.084688</td>\n",
       "      <td>10.988113</td>\n",
       "      <td>...</td>\n",
       "      <td>12.128168</td>\n",
       "      <td>7.694838</td>\n",
       "      <td>12.004999</td>\n",
       "      <td>11.207174</td>\n",
       "      <td>8.890172</td>\n",
       "      <td>8.071047</td>\n",
       "      <td>8.931837</td>\n",
       "      <td>12.453282</td>\n",
       "      <td>9.816475</td>\n",
       "      <td>69.715006</td>\n",
       "    </tr>\n",
       "    <tr>\n",
       "      <th>2</th>\n",
       "      <td>8.668538</td>\n",
       "      <td>9.460572</td>\n",
       "      <td>13.865577</td>\n",
       "      <td>10.374676</td>\n",
       "      <td>10.938932</td>\n",
       "      <td>16.096844</td>\n",
       "      <td>10.761202</td>\n",
       "      <td>10.527714</td>\n",
       "      <td>13.202317</td>\n",
       "      <td>10.930243</td>\n",
       "      <td>...</td>\n",
       "      <td>3.577089</td>\n",
       "      <td>6.484959</td>\n",
       "      <td>9.466277</td>\n",
       "      <td>9.991703</td>\n",
       "      <td>7.714535</td>\n",
       "      <td>17.642756</td>\n",
       "      <td>10.139209</td>\n",
       "      <td>11.391926</td>\n",
       "      <td>7.816795</td>\n",
       "      <td>44.135425</td>\n",
       "    </tr>\n",
       "    <tr>\n",
       "      <th>3</th>\n",
       "      <td>10.492958</td>\n",
       "      <td>12.812401</td>\n",
       "      <td>10.698198</td>\n",
       "      <td>12.665292</td>\n",
       "      <td>11.568467</td>\n",
       "      <td>13.166865</td>\n",
       "      <td>9.537697</td>\n",
       "      <td>11.144326</td>\n",
       "      <td>10.041551</td>\n",
       "      <td>8.686830</td>\n",
       "      <td>...</td>\n",
       "      <td>12.203646</td>\n",
       "      <td>9.540746</td>\n",
       "      <td>7.622554</td>\n",
       "      <td>7.267387</td>\n",
       "      <td>8.936340</td>\n",
       "      <td>-1.523011</td>\n",
       "      <td>13.865486</td>\n",
       "      <td>8.934622</td>\n",
       "      <td>10.060588</td>\n",
       "      <td>41.821333</td>\n",
       "    </tr>\n",
       "    <tr>\n",
       "      <th>4</th>\n",
       "      <td>9.529107</td>\n",
       "      <td>11.923139</td>\n",
       "      <td>12.069086</td>\n",
       "      <td>5.311639</td>\n",
       "      <td>10.439717</td>\n",
       "      <td>12.471839</td>\n",
       "      <td>5.357008</td>\n",
       "      <td>4.377699</td>\n",
       "      <td>11.408174</td>\n",
       "      <td>5.013244</td>\n",
       "      <td>...</td>\n",
       "      <td>12.984102</td>\n",
       "      <td>10.882825</td>\n",
       "      <td>9.150179</td>\n",
       "      <td>14.755608</td>\n",
       "      <td>6.920305</td>\n",
       "      <td>8.483852</td>\n",
       "      <td>7.388411</td>\n",
       "      <td>9.604214</td>\n",
       "      <td>10.275105</td>\n",
       "      <td>49.969993</td>\n",
       "    </tr>\n",
       "  </tbody>\n",
       "</table>\n",
       "<p>5 rows × 33 columns</p>\n",
       "</div>"
      ],
      "text/plain": [
       "          X1         X2         X3         X4         X5         X6  \\\n",
       "0  15.261250   7.543098   7.970773   5.415610  10.914943   8.565230   \n",
       "1  10.507227  11.759343  13.007035  11.850835  10.095002   8.597800   \n",
       "2   8.668538   9.460572  13.865577  10.374676  10.938932  16.096844   \n",
       "3  10.492958  12.812401  10.698198  12.665292  11.568467  13.166865   \n",
       "4   9.529107  11.923139  12.069086   5.311639  10.439717  12.471839   \n",
       "\n",
       "          X7         X8         X9        X10  ...        X24        X25  \\\n",
       "0   9.033689  11.733897   9.385160  14.600989  ...   5.444990  11.325942   \n",
       "1  11.696141   9.017233  10.084688  10.988113  ...  12.128168   7.694838   \n",
       "2  10.761202  10.527714  13.202317  10.930243  ...   3.577089   6.484959   \n",
       "3   9.537697  11.144326  10.041551   8.686830  ...  12.203646   9.540746   \n",
       "4   5.357008   4.377699  11.408174   5.013244  ...  12.984102  10.882825   \n",
       "\n",
       "         X26        X27        X28        X29        X30        X31  \\\n",
       "0   7.850875  19.586861  10.921050  11.859945  12.058796   9.372276   \n",
       "1  12.004999  11.207174   8.890172   8.071047   8.931837  12.453282   \n",
       "2   9.466277   9.991703   7.714535  17.642756  10.139209  11.391926   \n",
       "3   7.622554   7.267387   8.936340  -1.523011  13.865486   8.934622   \n",
       "4   9.150179  14.755608   6.920305   8.483852   7.388411   9.604214   \n",
       "\n",
       "         X32          y  \n",
       "0   8.997377  35.089959  \n",
       "1   9.816475  69.715006  \n",
       "2   7.816795  44.135425  \n",
       "3  10.060588  41.821333  \n",
       "4  10.275105  49.969993  \n",
       "\n",
       "[5 rows x 33 columns]"
      ]
     },
     "execution_count": 6,
     "metadata": {},
     "output_type": "execute_result"
    }
   ],
   "source": [
    "df.head()"
   ]
  },
  {
   "cell_type": "markdown",
   "metadata": {},
   "source": [
    "Same standard deviation"
   ]
  },
  {
   "cell_type": "markdown",
   "metadata": {},
   "source": [
    "**b) (2 pts)** Plot a histogram or distribution plot of the response variable, y."
   ]
  },
  {
   "cell_type": "code",
   "execution_count": 5,
   "metadata": {},
   "outputs": [
    {
     "data": {
      "text/plain": [
       "<matplotlib.axes._subplots.AxesSubplot at 0x14d93b6ba48>"
      ]
     },
     "execution_count": 5,
     "metadata": {},
     "output_type": "execute_result"
    },
    {
     "data": {
      "image/png": "[encoded data removed]",
      "text/plain": [
       "<Figure size 432x288 with 1 Axes>"
      ]
     },
     "metadata": {},
     "output_type": "display_data"
    }
   ],
   "source": [
    "sb.distplot(df['y'])\n"
   ]
  },
  {
   "cell_type": "code",
   "execution_count": 7,
   "metadata": {},
   "outputs": [
    {
     "data": {
      "text/plain": [
       "(32,)"
      ]
     },
     "execution_count": 7,
     "metadata": {},
     "output_type": "execute_result"
    }
   ],
   "source": [
    "corrxy = df.corr()['y'][:len(df.columns)-1]\n",
    "corrxy.shape"
   ]
  },
  {
   "cell_type": "markdown",
   "metadata": {},
   "source": [
    "**c) (2 pts)** Plot all the sample correlation coefficients between X variables and y in one scatter plot with the column number on the horizontal axis and correlation on the vertical axis. Include a horizontal line at 0 for reference. "
   ]
  },
  {
   "cell_type": "code",
   "execution_count": 8,
   "metadata": {},
   "outputs": [
    {
     "data": {
      "image/png": "[encoded data removed]",
      "text/plain": [
       "<Figure size 432x288 with 1 Axes>"
      ]
     },
     "metadata": {},
     "output_type": "display_data"
    }
   ],
   "source": [
    "sb.scatterplot(np.arange(np.size(corrxy)), corrxy)\n",
    "plt.hlines(y=0, xmin=0, xmax=90)\n",
    "plt.show()"
   ]
  },
  {
   "cell_type": "code",
   "execution_count": null,
   "metadata": {},
   "outputs": [],
   "source": []
  },
  {
   "cell_type": "markdown",
   "metadata": {},
   "source": [
    "**d) (2 pts)** Interpret correlation plot: comment on whether any of the feature variables appear linearly associated with y. Which ones and why, based on what you see in the graph?"
   ]
  },
  {
   "cell_type": "markdown",
   "metadata": {},
   "source": [
    "No"
   ]
  },
  {
   "cell_type": "markdown",
   "metadata": {},
   "source": [
    "### Part 2: Compare OLS and Lasso regression (12 pts)"
   ]
  },
  {
   "cell_type": "markdown",
   "metadata": {},
   "source": [
    "**a) (3 pts)** Extract the feature matrix X and target y from the data frame. Create a train test split of the data with 10% in the test data and 90% in the training data. "
   ]
  },
  {
   "cell_type": "code",
   "execution_count": 11,
   "metadata": {},
   "outputs": [],
   "source": [
    "from sklearn.model_selection import train_test_split\n",
    "from sklearn.linear_model import Lasso, LinearRegression\n",
    "import pandas as pd"
   ]
  },
  {
   "cell_type": "code",
   "execution_count": 15,
   "metadata": {},
   "outputs": [],
   "source": [
    "y = df['y']\n",
    "X = df.drop(columns='y')\n",
    "X_train, X_test, y_train, y_test = \\\n",
    "train_test_split(X, y, test_size=0.10, random_state=42)"
   ]
  },
  {
   "cell_type": "code",
   "execution_count": null,
   "metadata": {},
   "outputs": [],
   "source": []
  },
  {
   "cell_type": "markdown",
   "metadata": {},
   "source": [
    "**b) (3 pts)** Fit the OLS linear regression model with all of the feature varaibles to the training data. Then use the training model to predict the test data responses. Make a scatter the test data y values versus their predicted values (let's call them yhat0) computed from the training model."
   ]
  },
  {
   "cell_type": "code",
   "execution_count": 16,
   "metadata": {},
   "outputs": [
    {
     "data": {
      "text/plain": [
       "LinearRegression(copy_X=True, fit_intercept=True, n_jobs=None, normalize=False)"
      ]
     },
     "execution_count": 16,
     "metadata": {},
     "output_type": "execute_result"
    }
   ],
   "source": [
    "clf0 = LinearRegression()\n",
    "clf0.fit(X_train, y_train)"
   ]
  },
  {
   "cell_type": "code",
   "execution_count": 18,
   "metadata": {},
   "outputs": [],
   "source": [
    "yhat0 = clf0.predict(X_test)"
   ]
  },
  {
   "cell_type": "code",
   "execution_count": 20,
   "metadata": {},
   "outputs": [
    {
     "data": {
      "image/png": "[encoded data removed]",
      "text/plain": [
       "<Figure size 180x180 with 1 Axes>"
      ]
     },
     "metadata": {},
     "output_type": "display_data"
    }
   ],
   "source": [
    "sb.pairplot(data=\n",
    "            pd.DataFrame({'y_test': y_test, \n",
    "                          'yhat0': yhat0}), \n",
    "            y_vars='y_test', x_vars=['yhat0'\n",
    "                                    \n",
    "                                    \n",
    "                                    ])\n",
    "plt.show()"
   ]
  },
  {
   "cell_type": "code",
   "execution_count": null,
   "metadata": {},
   "outputs": [],
   "source": []
  },
  {
   "cell_type": "markdown",
   "metadata": {},
   "source": [
    "**c) (3 pts)** Use the Lasso (L1 regularized) to fit a linear regression model with all of the feature variables to the training data. Set the penalty parameter alpha=2. Then use the training model to predict the test data responses. Make a scatter the test data y values versus their predicted values (let's call them yhat1) computed from the training model."
   ]
  },
  {
   "cell_type": "code",
   "execution_count": 17,
   "metadata": {},
   "outputs": [
    {
     "data": {
      "text/plain": [
       "Lasso(alpha=2, copy_X=True, fit_intercept=True, max_iter=1000, normalize=False,\n",
       "      positive=False, precompute=False, random_state=None, selection='cyclic',\n",
       "      tol=0.0001, warm_start=False)"
      ]
     },
     "execution_count": 17,
     "metadata": {},
     "output_type": "execute_result"
    }
   ],
   "source": [
    "clf1 = Lasso(alpha=2, max_iter=1000)\n",
    "clf1.fit(X_train, y_train)"
   ]
  },
  {
   "cell_type": "code",
   "execution_count": 19,
   "metadata": {},
   "outputs": [],
   "source": [
    "yhat1 = clf1.predict(X_test)"
   ]
  },
  {
   "cell_type": "code",
   "execution_count": 22,
   "metadata": {},
   "outputs": [
    {
     "data": {
      "image/png": "[encoded data removed]",
      "text/plain": [
       "<Figure size 180x180 with 1 Axes>"
      ]
     },
     "metadata": {},
     "output_type": "display_data"
    }
   ],
   "source": [
    "sb.pairplot(data=\n",
    "            pd.DataFrame({'y_test': y_test, \n",
    "                          'yhat1': yhat1}), \n",
    "            y_vars='y_test', x_vars=['yhat1'\n",
    "                                    \n",
    "                                    \n",
    "                                    ])\n",
    "plt.show()"
   ]
  },
  {
   "cell_type": "markdown",
   "metadata": {},
   "source": [
    "**d) (2 pts)** Compute and compare the **test** coefficients of determination ($R^2$) for the two models. Which model performed better? "
   ]
  },
  {
   "cell_type": "code",
   "execution_count": 23,
   "metadata": {},
   "outputs": [
    {
     "name": "stdout",
     "output_type": "stream",
     "text": [
      "Test R-square for OLS:  0.45496258883628604\n",
      "Test R-square for Lasso:  0.563830351836379\n"
     ]
    }
   ],
   "source": [
    "print(\"Test R-square for OLS: \", clf0.score(X_test, y_test))\n",
    "print(\"Test R-square for Lasso: \", clf1.score(X_test, y_test))"
   ]
  },
  {
   "cell_type": "markdown",
   "metadata": {},
   "source": [
    "Both are pretty low, but we see that the Lasso has substantially outperformed OLS based on the test R-square scores."
   ]
  },
  {
   "cell_type": "code",
   "execution_count": null,
   "metadata": {},
   "outputs": [],
   "source": []
  },
  {
   "cell_type": "markdown",
   "metadata": {},
   "source": [
    "**e) (1 pt)** List all of the feature variables that have nonzero coefficient estimates in the Lasso trained model."
   ]
  },
  {
   "cell_type": "code",
   "execution_count": 33,
   "metadata": {},
   "outputs": [
    {
     "data": {
      "text/plain": [
       "array([0.81432743, 0.88597302, 1.19627139, 0.3883589 , 0.07116985,\n",
       "       0.05807395, 0.08504154])"
      ]
     },
     "execution_count": 33,
     "metadata": {},
     "output_type": "execute_result"
    }
   ],
   "source": [
    "clf1.coef_[clf1.coef_ > 0]"
   ]
  },
  {
   "cell_type": "code",
   "execution_count": null,
   "metadata": {},
   "outputs": [],
   "source": []
  },
  {
   "cell_type": "markdown",
   "metadata": {},
   "source": [
    "### Part 3: Cross-validation (5 pts)"
   ]
  },
  {
   "cell_type": "markdown",
   "metadata": {},
   "source": [
    "**a) (2 pts)** Use 10-fold cross-validation to compute the average test mean square error (MSE) and its standard error for the OLS linear regression of y on all the feature variables."
   ]
  },
  {
   "cell_type": "code",
   "execution_count": 34,
   "metadata": {},
   "outputs": [],
   "source": [
    "from sklearn.model_selection import cross_val_score"
   ]
  },
  {
   "cell_type": "code",
   "execution_count": 35,
   "metadata": {},
   "outputs": [
    {
     "name": "stdout",
     "output_type": "stream",
     "text": [
      "CV MSE scores: [66.1995267  78.98654045 39.86489595 57.57861022 38.32194866 86.90848484\n",
      " 57.04190057 57.57093084 48.44626984 57.15161018]\n",
      "Average MSE: 58.81\n",
      "Std. error: 4.63\n"
     ]
    }
   ],
   "source": [
    "modclass0 = LinearRegression()\n",
    "scores0 = cross_val_score(modclass0, X, y, cv=10, \n",
    "                          scoring=\"neg_mean_squared_error\")\n",
    "print(\"CV MSE scores:\", -scores0)\n",
    "print(\"Average MSE:\", round(-scores0.mean(), 2))\n",
    "print(\"Std. error:\", round(scores0.std()/np.sqrt(len(scores0)), 2))"
   ]
  },
  {
   "cell_type": "markdown",
   "metadata": {},
   "source": [
    "**b) (2 pts)** Use 10-fold cross-validation to compute the average test mean square error (MSE) and its standard error for the Lasso linear regression model with alpha = 2 and using all of the feature variables."
   ]
  },
  {
   "cell_type": "code",
   "execution_count": 36,
   "metadata": {},
   "outputs": [
    {
     "name": "stdout",
     "output_type": "stream",
     "text": [
      "CV MSE scores: [62.12369537 49.8295149  56.87439976 50.06438711 49.37951739]\n",
      "Average MSE: 53.65\n",
      "Std. error: 2.26\n"
     ]
    }
   ],
   "source": [
    "modclass1 = Lasso(alpha=0.3, max_iter=1000)\n",
    "scores1 = cross_val_score(modclass1, X, y, cv=5, \n",
    "                          scoring=\"neg_mean_squared_error\")\n",
    "print(\"CV MSE scores:\", -scores1)\n",
    "print(\"Average MSE:\", round(-scores1.mean(), 2))\n",
    "print(\"Std. error:\", round(scores1.std()/np.sqrt(len(scores1)), 2))"
   ]
  },
  {
   "cell_type": "markdown",
   "metadata": {},
   "source": [
    "**c) (1 pt)** According to the average MSE criterion how do the two models compare? Which one is better and how big is the difference, say, compared to the standard errors."
   ]
  },
  {
   "cell_type": "code",
   "execution_count": 38,
   "metadata": {},
   "outputs": [
    {
     "data": {
      "text/plain": [
       "(5.160000000000004, 2.37)"
      ]
     },
     "execution_count": 38,
     "metadata": {},
     "output_type": "execute_result"
    }
   ],
   "source": [
    "diff_in_MSE = 58.81 - 53.65\n",
    "diff_in_std = 4.63 - 2.26\n",
    "diff_in_MSE, diff_in_std"
   ]
  },
  {
   "cell_type": "markdown",
   "metadata": {},
   "source": [
    "We see that L1 penalized regression has better predictive accuracy in this example than OLS regression"
   ]
  },
  {
   "cell_type": "code",
   "execution_count": null,
   "metadata": {},
   "outputs": [],
   "source": []
  }
 ],
 "metadata": {
  "kernelspec": {
   "display_name": "Python 3",
   "language": "python",
   "name": "python3"
  },
  "language_info": {
   "codemirror_mode": {
    "name": "ipython",
    "version": 3
   },
   "file_extension": ".py",
   "mimetype": "text/x-python",
   "name": "python",
   "nbconvert_exporter": "python",
   "pygments_lexer": "ipython3",
   "version": "3.7.3"
  }
 },
 "nbformat": 4,
 "nbformat_minor": 2
}
