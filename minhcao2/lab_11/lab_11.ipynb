{
 "cells": [
  {
   "cell_type": "markdown",
   "metadata": {},
   "source": [
    "## STAT 207 Lab 11: Regularized Logistic Regression"
   ]
  },
  {
   "cell_type": "markdown",
   "metadata": {},
   "source": [
    "Due: Wednesday, April 29, 23:59:59"
   ]
  },
  {
   "cell_type": "markdown",
   "metadata": {},
   "source": [
    "### Michael Cao AND minhcao2 "
   ]
  },
  {
   "cell_type": "markdown",
   "metadata": {},
   "source": [
    "This lab concerns uses regularized logistic regression to develop a model for classifying email spam. The data are in the file \"spam100.csv\". The target variable 'spam' is 1 if the message is labeled as spam, and 0 if the message is labeled as not spam.\n",
    "\n",
    "These data comprise a subset of a larger data set of email messages and numerous quantitative measures of the messages themselves. \n",
    "\n",
    "In the provided data for this lab, all of the quantitative feature variables have been scaled to  a 0-100 range by dividing by the maximum observed value for each feature. "
   ]
  },
  {
   "cell_type": "markdown",
   "metadata": {},
   "source": [
    "### Part 1: Data Preparation and visualization (10 pts)\n",
    "\n",
    "**a) (3 pts)** Read the email spam data into a data frame, and separate out a feature matrix (data frame) X, and a target array y. Display the dimensions of X and its first few rows, including column names. Also display the first few elements of y along with its length."
   ]
  },
  {
   "cell_type": "code",
   "execution_count": 39,
   "metadata": {},
   "outputs": [
    {
     "data": {
      "text/html": [
       "<div>\n",
       "<style scoped>\n",
       "    .dataframe tbody tr th:only-of-type {\n",
       "        vertical-align: middle;\n",
       "    }\n",
       "\n",
       "    .dataframe tbody tr th {\n",
       "        vertical-align: top;\n",
       "    }\n",
       "\n",
       "    .dataframe thead th {\n",
       "        text-align: right;\n",
       "    }\n",
       "</style>\n",
       "<table border=\"1\" class=\"dataframe\">\n",
       "  <thead>\n",
       "    <tr style=\"text-align: right;\">\n",
       "      <th></th>\n",
       "      <th>char_freq_;</th>\n",
       "      <th>char_freq_(</th>\n",
       "      <th>char_freq_[</th>\n",
       "      <th>char_freq_!</th>\n",
       "      <th>char_freq_$</th>\n",
       "      <th>char_freq_#</th>\n",
       "      <th>capital_run_length_average</th>\n",
       "      <th>capital_run_length_longest</th>\n",
       "      <th>capital_run_length_total</th>\n",
       "      <th>word_freq_our</th>\n",
       "      <th>...</th>\n",
       "      <th>word_freq_will</th>\n",
       "      <th>word_freq_people</th>\n",
       "      <th>word_freq_report</th>\n",
       "      <th>word_freq_money</th>\n",
       "      <th>word_freq_mail.1</th>\n",
       "      <th>word_freq_email</th>\n",
       "      <th>word_freq_free</th>\n",
       "      <th>word_freq_free.1</th>\n",
       "      <th>word_freq_your</th>\n",
       "      <th>spam</th>\n",
       "    </tr>\n",
       "  </thead>\n",
       "  <tbody>\n",
       "    <tr>\n",
       "      <th>0</th>\n",
       "      <td>0.00000</td>\n",
       "      <td>2.639752</td>\n",
       "      <td>0.000000</td>\n",
       "      <td>0.000000</td>\n",
       "      <td>0.000000</td>\n",
       "      <td>0.0</td>\n",
       "      <td>0.441809</td>\n",
       "      <td>1.614274</td>\n",
       "      <td>2.344197</td>\n",
       "      <td>56.250</td>\n",
       "      <td>...</td>\n",
       "      <td>0.000000</td>\n",
       "      <td>0.0</td>\n",
       "      <td>0.0</td>\n",
       "      <td>0.000000</td>\n",
       "      <td>22.453222</td>\n",
       "      <td>0.000000</td>\n",
       "      <td>0.000000</td>\n",
       "      <td>0.000000</td>\n",
       "      <td>5.940594</td>\n",
       "      <td>1</td>\n",
       "    </tr>\n",
       "    <tr>\n",
       "      <th>1</th>\n",
       "      <td>0.00000</td>\n",
       "      <td>17.857143</td>\n",
       "      <td>0.000000</td>\n",
       "      <td>0.000000</td>\n",
       "      <td>0.000000</td>\n",
       "      <td>0.0</td>\n",
       "      <td>0.493996</td>\n",
       "      <td>0.509771</td>\n",
       "      <td>1.572327</td>\n",
       "      <td>0.000</td>\n",
       "      <td>...</td>\n",
       "      <td>26.007802</td>\n",
       "      <td>0.0</td>\n",
       "      <td>0.0</td>\n",
       "      <td>0.000000</td>\n",
       "      <td>0.000000</td>\n",
       "      <td>0.000000</td>\n",
       "      <td>0.000000</td>\n",
       "      <td>0.000000</td>\n",
       "      <td>11.001100</td>\n",
       "      <td>0</td>\n",
       "    </tr>\n",
       "    <tr>\n",
       "      <th>2</th>\n",
       "      <td>0.00000</td>\n",
       "      <td>0.000000</td>\n",
       "      <td>0.000000</td>\n",
       "      <td>0.000000</td>\n",
       "      <td>19.428571</td>\n",
       "      <td>0.0</td>\n",
       "      <td>1.536249</td>\n",
       "      <td>2.124044</td>\n",
       "      <td>1.629503</td>\n",
       "      <td>0.000</td>\n",
       "      <td>...</td>\n",
       "      <td>16.644993</td>\n",
       "      <td>0.0</td>\n",
       "      <td>0.0</td>\n",
       "      <td>19.219219</td>\n",
       "      <td>0.000000</td>\n",
       "      <td>0.000000</td>\n",
       "      <td>0.000000</td>\n",
       "      <td>0.000000</td>\n",
       "      <td>70.517052</td>\n",
       "      <td>1</td>\n",
       "    </tr>\n",
       "    <tr>\n",
       "      <th>3</th>\n",
       "      <td>0.00000</td>\n",
       "      <td>4.244306</td>\n",
       "      <td>0.000000</td>\n",
       "      <td>0.460087</td>\n",
       "      <td>0.000000</td>\n",
       "      <td>0.0</td>\n",
       "      <td>0.442105</td>\n",
       "      <td>0.934579</td>\n",
       "      <td>7.632933</td>\n",
       "      <td>3.125</td>\n",
       "      <td>...</td>\n",
       "      <td>3.250975</td>\n",
       "      <td>0.0</td>\n",
       "      <td>0.0</td>\n",
       "      <td>0.000000</td>\n",
       "      <td>0.000000</td>\n",
       "      <td>1.801802</td>\n",
       "      <td>0.000000</td>\n",
       "      <td>0.000000</td>\n",
       "      <td>4.180418</td>\n",
       "      <td>0</td>\n",
       "    </tr>\n",
       "    <tr>\n",
       "      <th>4</th>\n",
       "      <td>0.00000</td>\n",
       "      <td>15.217391</td>\n",
       "      <td>0.000000</td>\n",
       "      <td>0.000000</td>\n",
       "      <td>0.000000</td>\n",
       "      <td>0.0</td>\n",
       "      <td>0.370645</td>\n",
       "      <td>0.169924</td>\n",
       "      <td>0.428816</td>\n",
       "      <td>0.000</td>\n",
       "      <td>...</td>\n",
       "      <td>0.000000</td>\n",
       "      <td>0.0</td>\n",
       "      <td>0.0</td>\n",
       "      <td>0.000000</td>\n",
       "      <td>0.000000</td>\n",
       "      <td>0.000000</td>\n",
       "      <td>0.000000</td>\n",
       "      <td>0.000000</td>\n",
       "      <td>0.000000</td>\n",
       "      <td>0</td>\n",
       "    </tr>\n",
       "    <tr>\n",
       "      <th>...</th>\n",
       "      <td>...</td>\n",
       "      <td>...</td>\n",
       "      <td>...</td>\n",
       "      <td>...</td>\n",
       "      <td>...</td>\n",
       "      <td>...</td>\n",
       "      <td>...</td>\n",
       "      <td>...</td>\n",
       "      <td>...</td>\n",
       "      <td>...</td>\n",
       "      <td>...</td>\n",
       "      <td>...</td>\n",
       "      <td>...</td>\n",
       "      <td>...</td>\n",
       "      <td>...</td>\n",
       "      <td>...</td>\n",
       "      <td>...</td>\n",
       "      <td>...</td>\n",
       "      <td>...</td>\n",
       "      <td>...</td>\n",
       "      <td>...</td>\n",
       "    </tr>\n",
       "    <tr>\n",
       "      <th>395</th>\n",
       "      <td>0.00000</td>\n",
       "      <td>49.482402</td>\n",
       "      <td>0.000000</td>\n",
       "      <td>0.000000</td>\n",
       "      <td>0.000000</td>\n",
       "      <td>0.0</td>\n",
       "      <td>1.067457</td>\n",
       "      <td>0.934579</td>\n",
       "      <td>1.029160</td>\n",
       "      <td>0.000</td>\n",
       "      <td>...</td>\n",
       "      <td>0.000000</td>\n",
       "      <td>0.0</td>\n",
       "      <td>0.0</td>\n",
       "      <td>0.000000</td>\n",
       "      <td>0.000000</td>\n",
       "      <td>0.000000</td>\n",
       "      <td>0.000000</td>\n",
       "      <td>0.000000</td>\n",
       "      <td>0.000000</td>\n",
       "      <td>0</td>\n",
       "    </tr>\n",
       "    <tr>\n",
       "      <th>396</th>\n",
       "      <td>0.00000</td>\n",
       "      <td>0.000000</td>\n",
       "      <td>0.000000</td>\n",
       "      <td>0.000000</td>\n",
       "      <td>0.000000</td>\n",
       "      <td>0.0</td>\n",
       "      <td>0.438844</td>\n",
       "      <td>0.509771</td>\n",
       "      <td>1.057747</td>\n",
       "      <td>0.000</td>\n",
       "      <td>...</td>\n",
       "      <td>0.000000</td>\n",
       "      <td>0.0</td>\n",
       "      <td>0.0</td>\n",
       "      <td>0.000000</td>\n",
       "      <td>0.000000</td>\n",
       "      <td>0.000000</td>\n",
       "      <td>0.000000</td>\n",
       "      <td>0.000000</td>\n",
       "      <td>0.000000</td>\n",
       "      <td>0</td>\n",
       "    </tr>\n",
       "    <tr>\n",
       "      <th>397</th>\n",
       "      <td>2.56469</td>\n",
       "      <td>10.455487</td>\n",
       "      <td>7.891637</td>\n",
       "      <td>0.000000</td>\n",
       "      <td>1.333333</td>\n",
       "      <td>0.0</td>\n",
       "      <td>0.924240</td>\n",
       "      <td>4.418012</td>\n",
       "      <td>37.249857</td>\n",
       "      <td>0.000</td>\n",
       "      <td>...</td>\n",
       "      <td>1.950585</td>\n",
       "      <td>0.0</td>\n",
       "      <td>0.0</td>\n",
       "      <td>0.000000</td>\n",
       "      <td>0.000000</td>\n",
       "      <td>0.750751</td>\n",
       "      <td>0.000000</td>\n",
       "      <td>0.000000</td>\n",
       "      <td>1.650165</td>\n",
       "      <td>0</td>\n",
       "    </tr>\n",
       "    <tr>\n",
       "      <th>398</th>\n",
       "      <td>0.00000</td>\n",
       "      <td>0.000000</td>\n",
       "      <td>0.000000</td>\n",
       "      <td>3.519669</td>\n",
       "      <td>0.000000</td>\n",
       "      <td>0.0</td>\n",
       "      <td>0.573165</td>\n",
       "      <td>0.594732</td>\n",
       "      <td>1.658090</td>\n",
       "      <td>0.000</td>\n",
       "      <td>...</td>\n",
       "      <td>47.204161</td>\n",
       "      <td>0.0</td>\n",
       "      <td>0.0</td>\n",
       "      <td>0.000000</td>\n",
       "      <td>0.000000</td>\n",
       "      <td>0.000000</td>\n",
       "      <td>0.000000</td>\n",
       "      <td>0.000000</td>\n",
       "      <td>0.000000</td>\n",
       "      <td>0</td>\n",
       "    </tr>\n",
       "    <tr>\n",
       "      <th>399</th>\n",
       "      <td>0.00000</td>\n",
       "      <td>0.000000</td>\n",
       "      <td>0.000000</td>\n",
       "      <td>0.000000</td>\n",
       "      <td>16.285714</td>\n",
       "      <td>0.0</td>\n",
       "      <td>0.768569</td>\n",
       "      <td>2.718777</td>\n",
       "      <td>2.001144</td>\n",
       "      <td>0.000</td>\n",
       "      <td>...</td>\n",
       "      <td>7.022107</td>\n",
       "      <td>0.0</td>\n",
       "      <td>0.0</td>\n",
       "      <td>0.000000</td>\n",
       "      <td>0.000000</td>\n",
       "      <td>8.108108</td>\n",
       "      <td>5.314961</td>\n",
       "      <td>5.314961</td>\n",
       "      <td>23.982398</td>\n",
       "      <td>1</td>\n",
       "    </tr>\n",
       "  </tbody>\n",
       "</table>\n",
       "<p>400 rows × 26 columns</p>\n",
       "</div>"
      ],
      "text/plain": [
       "     char_freq_;  char_freq_(  char_freq_[  char_freq_!  char_freq_$  \\\n",
       "0        0.00000     2.639752     0.000000     0.000000     0.000000   \n",
       "1        0.00000    17.857143     0.000000     0.000000     0.000000   \n",
       "2        0.00000     0.000000     0.000000     0.000000    19.428571   \n",
       "3        0.00000     4.244306     0.000000     0.460087     0.000000   \n",
       "4        0.00000    15.217391     0.000000     0.000000     0.000000   \n",
       "..           ...          ...          ...          ...          ...   \n",
       "395      0.00000    49.482402     0.000000     0.000000     0.000000   \n",
       "396      0.00000     0.000000     0.000000     0.000000     0.000000   \n",
       "397      2.56469    10.455487     7.891637     0.000000     1.333333   \n",
       "398      0.00000     0.000000     0.000000     3.519669     0.000000   \n",
       "399      0.00000     0.000000     0.000000     0.000000    16.285714   \n",
       "\n",
       "     char_freq_#  capital_run_length_average  capital_run_length_longest  \\\n",
       "0            0.0                    0.441809                    1.614274   \n",
       "1            0.0                    0.493996                    0.509771   \n",
       "2            0.0                    1.536249                    2.124044   \n",
       "3            0.0                    0.442105                    0.934579   \n",
       "4            0.0                    0.370645                    0.169924   \n",
       "..           ...                         ...                         ...   \n",
       "395          0.0                    1.067457                    0.934579   \n",
       "396          0.0                    0.438844                    0.509771   \n",
       "397          0.0                    0.924240                    4.418012   \n",
       "398          0.0                    0.573165                    0.594732   \n",
       "399          0.0                    0.768569                    2.718777   \n",
       "\n",
       "     capital_run_length_total  word_freq_our  ...  word_freq_will  \\\n",
       "0                    2.344197         56.250  ...        0.000000   \n",
       "1                    1.572327          0.000  ...       26.007802   \n",
       "2                    1.629503          0.000  ...       16.644993   \n",
       "3                    7.632933          3.125  ...        3.250975   \n",
       "4                    0.428816          0.000  ...        0.000000   \n",
       "..                        ...            ...  ...             ...   \n",
       "395                  1.029160          0.000  ...        0.000000   \n",
       "396                  1.057747          0.000  ...        0.000000   \n",
       "397                 37.249857          0.000  ...        1.950585   \n",
       "398                  1.658090          0.000  ...       47.204161   \n",
       "399                  2.001144          0.000  ...        7.022107   \n",
       "\n",
       "     word_freq_people  word_freq_report  word_freq_money  word_freq_mail.1  \\\n",
       "0                 0.0               0.0         0.000000         22.453222   \n",
       "1                 0.0               0.0         0.000000          0.000000   \n",
       "2                 0.0               0.0        19.219219          0.000000   \n",
       "3                 0.0               0.0         0.000000          0.000000   \n",
       "4                 0.0               0.0         0.000000          0.000000   \n",
       "..                ...               ...              ...               ...   \n",
       "395               0.0               0.0         0.000000          0.000000   \n",
       "396               0.0               0.0         0.000000          0.000000   \n",
       "397               0.0               0.0         0.000000          0.000000   \n",
       "398               0.0               0.0         0.000000          0.000000   \n",
       "399               0.0               0.0         0.000000          0.000000   \n",
       "\n",
       "     word_freq_email  word_freq_free  word_freq_free.1  word_freq_your  spam  \n",
       "0           0.000000        0.000000          0.000000        5.940594     1  \n",
       "1           0.000000        0.000000          0.000000       11.001100     0  \n",
       "2           0.000000        0.000000          0.000000       70.517052     1  \n",
       "3           1.801802        0.000000          0.000000        4.180418     0  \n",
       "4           0.000000        0.000000          0.000000        0.000000     0  \n",
       "..               ...             ...               ...             ...   ...  \n",
       "395         0.000000        0.000000          0.000000        0.000000     0  \n",
       "396         0.000000        0.000000          0.000000        0.000000     0  \n",
       "397         0.750751        0.000000          0.000000        1.650165     0  \n",
       "398         0.000000        0.000000          0.000000        0.000000     0  \n",
       "399         8.108108        5.314961          5.314961       23.982398     1  \n",
       "\n",
       "[400 rows x 26 columns]"
      ]
     },
     "execution_count": 39,
     "metadata": {},
     "output_type": "execute_result"
    }
   ],
   "source": [
    "import pandas as pd\n",
    "import numpy as np\n",
    "import seaborn as sns\n",
    "import matplotlib.pyplot as plt\n",
    "import seaborn as sns; sns.set()\n",
    "from sklearn import metrics\n",
    "df = pd.read_csv(\"spam100.csv\")\n",
    "df"
   ]
  },
  {
   "cell_type": "code",
   "execution_count": 8,
   "metadata": {},
   "outputs": [],
   "source": [
    "y = df['spam']\n",
    "X = df.drop(columns='spam')"
   ]
  },
  {
   "cell_type": "code",
   "execution_count": 9,
   "metadata": {},
   "outputs": [
    {
     "data": {
      "text/plain": [
       "(2, 25)"
      ]
     },
     "metadata": {},
     "output_type": "display_data"
    },
    {
     "data": {
      "text/plain": [
       "array([[ 1.63391783,  8.74344743,  2.22639902,  2.38168656,  1.22107396,\n",
       "         0.1329848 ,  0.70764727,  1.50545021,  5.68166612,  3.30341312,\n",
       "         1.77682209,  0.06842253,  0.72828189,  3.24227865,  2.28601761,\n",
       "         1.15957447,  6.85111917,  2.57101482,  0.45503308,  0.21468277,\n",
       "         2.28601761,  0.98524056,  0.40961635,  0.40961635,  4.69302249],\n",
       "       [ 0.41287619,  5.7233829 ,  1.12503123, 10.54715547, 14.81558442,\n",
       "         0.97780301,  2.95724689,  7.71092402, 13.0363671 , 12.75410354,\n",
       "         8.620245  ,  5.65478574,  7.26793628, 12.6686217 ,  7.76412776,\n",
       "         6.55757576,  7.58876148,  7.7899413 ,  2.11739241,  4.24788425,\n",
       "         7.76412776,  5.63563564,  4.98031496,  4.98031496, 15.55422209]])"
      ]
     },
     "metadata": {},
     "output_type": "display_data"
    }
   ],
   "source": [
    "mean_matrix = np.array((X[y==0].mean(), X[y==1].mean()))\n",
    "display(mean_matrix.shape, mean_matrix)"
   ]
  },
  {
   "cell_type": "code",
   "execution_count": 16,
   "metadata": {},
   "outputs": [
    {
     "data": {
      "text/plain": [
       "0      1\n",
       "1      0\n",
       "2      1\n",
       "3      0\n",
       "4      0\n",
       "      ..\n",
       "395    0\n",
       "396    0\n",
       "397    0\n",
       "398    0\n",
       "399    1\n",
       "Name: spam, Length: 400, dtype: int64"
      ]
     },
     "execution_count": 16,
     "metadata": {},
     "output_type": "execute_result"
    }
   ],
   "source": [
    "y"
   ]
  },
  {
   "cell_type": "code",
   "execution_count": 19,
   "metadata": {},
   "outputs": [
    {
     "data": {
      "text/plain": [
       "0    0.5875\n",
       "1    0.4125\n",
       "Name: spam, dtype: float64"
      ]
     },
     "execution_count": 19,
     "metadata": {},
     "output_type": "execute_result"
    }
   ],
   "source": [
    "props = y.value_counts(normalize =  True)\n",
    "props"
   ]
  },
  {
   "cell_type": "markdown",
   "metadata": {},
   "source": [
    "**b) (1pt)** Compute the proportion of spam messages in the data set."
   ]
  },
  {
   "cell_type": "code",
   "execution_count": null,
   "metadata": {},
   "outputs": [],
   "source": [
    "dfspam = df[ df[\"spam\"] == 1]"
   ]
  },
  {
   "cell_type": "code",
   "execution_count": 13,
   "metadata": {},
   "outputs": [],
   "source": [
    "dfnonspam = df[ df[\"spam\"] == 0]"
   ]
  },
  {
   "cell_type": "code",
   "execution_count": 14,
   "metadata": {},
   "outputs": [
    {
     "data": {
      "text/plain": [
       "0.4125"
      ]
     },
     "execution_count": 14,
     "metadata": {},
     "output_type": "execute_result"
    }
   ],
   "source": [
    "len(df[ df[\"spam\"] == 1]) / len(df)"
   ]
  },
  {
   "cell_type": "markdown",
   "metadata": {},
   "source": [
    "**c) (2 pts)** Show a bar plot comparing the proportion of zeros (non-spam) and the proportion of ones (spam) in the data."
   ]
  },
  {
   "cell_type": "code",
   "execution_count": 21,
   "metadata": {},
   "outputs": [
    {
     "data": {
      "text/plain": [
       "<matplotlib.axes._subplots.AxesSubplot at 0x280e364d108>"
      ]
     },
     "execution_count": 21,
     "metadata": {},
     "output_type": "execute_result"
    },
    {
     "data": {
      "image/png": "[encoded data removed]",
      "text/plain": [
       "<Figure size 432x288 with 1 Axes>"
      ]
     },
     "metadata": {
      "needs_background": "light"
     },
     "output_type": "display_data"
    }
   ],
   "source": [
    "import matplotlib.pyplot as plt\n",
    "sns.barplot(x = props.index, y = props)"
   ]
  },
  {
   "cell_type": "code",
   "execution_count": null,
   "metadata": {},
   "outputs": [],
   "source": []
  },
  {
   "cell_type": "markdown",
   "metadata": {},
   "source": [
    "**d) (3 pts)** Create a heat map comparing the mean values for all the feature variables in X when y=0 versus their mean values when y=1.  For an example see the notes, \"15_regularized_logit\"."
   ]
  },
  {
   "cell_type": "code",
   "execution_count": 22,
   "metadata": {},
   "outputs": [
    {
     "data": {
      "image/png": "[encoded data removed]",
      "text/plain": [
       "<Figure size 432x288 with 2 Axes>"
      ]
     },
     "metadata": {
      "needs_background": "light"
     },
     "output_type": "display_data"
    }
   ],
   "source": [
    "fig = sns.heatmap(mean_matrix, annot=False, linewidths=0, \n",
    "            square = False, cmap = 'Blues_r');\n",
    "fig.set_ylim([0,2]);\n",
    "plt.ylabel('Group');\n",
    "plt.xlabel('Feature');\n",
    "all_sample_title = 'Feature Means by Group'\n",
    "plt.title(all_sample_title, size = 12);\n",
    "plt.show(fig)"
   ]
  },
  {
   "cell_type": "code",
   "execution_count": null,
   "metadata": {},
   "outputs": [],
   "source": []
  },
  {
   "cell_type": "markdown",
   "metadata": {},
   "source": [
    "**e) (1 pt)** Based on the heat map, do you expect the feature variables to be useful for predicting spam versus nonspam? Why or why not?"
   ]
  },
  {
   "cell_type": "markdown",
   "metadata": {},
   "source": [
    "Yes, because it has different pattern"
   ]
  },
  {
   "cell_type": "markdown",
   "metadata": {},
   "source": [
    "### Part 2: Train / test regularized logistic regression (10 pts)\n",
    "\n",
    "**a) (2 pts)** Split the data in the features matrix X and target y at random into training data and test data, using 10% of the data for testing. You should end up with two feature matrices (train and test) and two target arrays, the training y valaues and the test y values. Display the numbers of rows and columns of your train and test feature matrices."
   ]
  },
  {
   "cell_type": "code",
   "execution_count": 26,
   "metadata": {},
   "outputs": [],
   "source": [
    "from sklearn.model_selection import train_test_split\n",
    "from sklearn.linear_model import LogisticRegression \n"
   ]
  },
  {
   "cell_type": "code",
   "execution_count": 24,
   "metadata": {},
   "outputs": [],
   "source": [
    "X_train, X_test, y_train, y_test = train_test_split(\n",
    "    X, y, test_size=0.10, random_state=42)"
   ]
  },
  {
   "cell_type": "markdown",
   "metadata": {},
   "source": [
    "**b) (3 pts)** Fit an L1 penalized logistic regression model to your training data, using all of the features. Use an inverse penality C less than 1. If the model fit fails to converge try increasing the maximum number of iterations allowed. Display the feature coefficients for the training model."
   ]
  },
  {
   "cell_type": "code",
   "execution_count": 29,
   "metadata": {},
   "outputs": [],
   "source": [
    "logitReg = LogisticRegression(penalty='l1', \n",
    "                              solver='liblinear', \n",
    "                              C=0.5, \n",
    "                              max_iter=1000)\n"
   ]
  },
  {
   "cell_type": "code",
   "execution_count": 30,
   "metadata": {},
   "outputs": [
    {
     "data": {
      "text/plain": [
       "LogisticRegression(C=0.5, class_weight=None, dual=False, fit_intercept=True,\n",
       "                   intercept_scaling=1, l1_ratio=None, max_iter=1000,\n",
       "                   multi_class='auto', n_jobs=None, penalty='l1',\n",
       "                   random_state=None, solver='liblinear', tol=0.0001, verbose=0,\n",
       "                   warm_start=False)"
      ]
     },
     "execution_count": 30,
     "metadata": {},
     "output_type": "execute_result"
    }
   ],
   "source": [
    "logitReg.fit(X_train, y_train)"
   ]
  },
  {
   "cell_type": "code",
   "execution_count": null,
   "metadata": {},
   "outputs": [],
   "source": []
  },
  {
   "cell_type": "markdown",
   "metadata": {},
   "source": [
    "**c) (3 pts)** Use the training model to get predicted categories (0/1) for the test data based on the test feature matrix, assuming a 0.5 cutoff for the predictive probability. Compute the overall accuracy (proportion correct) of these predictions."
   ]
  },
  {
   "cell_type": "code",
   "execution_count": 32,
   "metadata": {},
   "outputs": [
    {
     "data": {
      "text/plain": [
       "array([0, 0, 1, 1, 0, 1, 0, 0, 0, 1, 1, 0, 0, 1, 1, 1, 0, 0, 0, 0, 0, 1,\n",
       "       1, 0, 1, 0, 0, 0, 0, 1, 0, 1, 0, 1, 1, 1, 0, 0, 0, 0], dtype=int64)"
      ]
     },
     "execution_count": 32,
     "metadata": {},
     "output_type": "execute_result"
    }
   ],
   "source": [
    "yhat = logitReg.predict(X_test)\n",
    "yhat"
   ]
  },
  {
   "cell_type": "code",
   "execution_count": 33,
   "metadata": {},
   "outputs": [
    {
     "data": {
      "text/plain": [
       "0.9"
      ]
     },
     "execution_count": 33,
     "metadata": {},
     "output_type": "execute_result"
    }
   ],
   "source": [
    "score = logitReg.score(X_test, y_test)\n",
    "score"
   ]
  },
  {
   "cell_type": "markdown",
   "metadata": {},
   "source": [
    "**d) (2 pts)** Use the test data to compute the estimated sensitivy and specificity based on the confusion matrix, or adapting any functions we developed in class notes. Here we label 1 = positive (spam) and 0 = negative (not spam)."
   ]
  },
  {
   "cell_type": "code",
   "execution_count": 34,
   "metadata": {},
   "outputs": [],
   "source": [
    "def senspec(y, score, thresh, index=0):\n",
    "    yhat = 1*(score >= thresh)\n",
    "    tn, fp, fn, tp = metrics.confusion_matrix(y_true=y, \n",
    "                                              y_pred=yhat).ravel()\n",
    "    sens = tp / (fn + tp)\n",
    "    spec = tn / (fp + tn)\n",
    "    accuracy = (tn+tp)/(tn+fp+fn+tp)\n",
    "    return pd.DataFrame({'tn':[tn], \n",
    "                         'fp':[fp], \n",
    "                         'fn':[fn], \n",
    "                         'tp':[tp], \n",
    "                         'sens':[sens], \n",
    "                         'spec':[spec],\n",
    "                         'accuracy':[accuracy]})"
   ]
  },
  {
   "cell_type": "code",
   "execution_count": 37,
   "metadata": {},
   "outputs": [
    {
     "data": {
      "text/plain": [
       "array([0.04348709, 0.03126508, 0.75693634, 0.99718675, 0.0892227 ,\n",
       "       0.8820183 , 0.08857469, 0.03723472, 0.18298787, 0.99998747,\n",
       "       0.99658645, 0.03126508, 0.21361399, 0.99535933, 0.99205493,\n",
       "       0.98101477, 0.29449702, 0.03440329, 0.04176871, 0.04293266,\n",
       "       0.03126508, 0.54940916, 0.97942701, 0.08502996, 0.7998192 ,\n",
       "       0.03351624, 0.05074588, 0.0753759 , 0.07029812, 0.98577186,\n",
       "       0.04297519, 1.        , 0.03758379, 0.99994113, 0.71012111,\n",
       "       0.97817843, 0.16087069, 0.03169774, 0.0560265 , 0.04272735])"
      ]
     },
     "execution_count": 37,
     "metadata": {},
     "output_type": "execute_result"
    }
   ],
   "source": [
    "phat01 = logitReg.predict_proba(X_test)\n",
    "phat1 = phat01[:,1]\n",
    "phat1"
   ]
  },
  {
   "cell_type": "code",
   "execution_count": 40,
   "metadata": {},
   "outputs": [
    {
     "data": {
      "text/html": [
       "<div>\n",
       "<style scoped>\n",
       "    .dataframe tbody tr th:only-of-type {\n",
       "        vertical-align: middle;\n",
       "    }\n",
       "\n",
       "    .dataframe tbody tr th {\n",
       "        vertical-align: top;\n",
       "    }\n",
       "\n",
       "    .dataframe thead th {\n",
       "        text-align: right;\n",
       "    }\n",
       "</style>\n",
       "<table border=\"1\" class=\"dataframe\">\n",
       "  <thead>\n",
       "    <tr style=\"text-align: right;\">\n",
       "      <th></th>\n",
       "      <th>tn</th>\n",
       "      <th>fp</th>\n",
       "      <th>fn</th>\n",
       "      <th>tp</th>\n",
       "      <th>sens</th>\n",
       "      <th>spec</th>\n",
       "      <th>accuracy</th>\n",
       "    </tr>\n",
       "  </thead>\n",
       "  <tbody>\n",
       "    <tr>\n",
       "      <th>0</th>\n",
       "      <td>23</td>\n",
       "      <td>3</td>\n",
       "      <td>1</td>\n",
       "      <td>13</td>\n",
       "      <td>0.928571</td>\n",
       "      <td>0.884615</td>\n",
       "      <td>0.9</td>\n",
       "    </tr>\n",
       "  </tbody>\n",
       "</table>\n",
       "</div>"
      ],
      "text/plain": [
       "   tn  fp  fn  tp      sens      spec  accuracy\n",
       "0  23   3   1  13  0.928571  0.884615       0.9"
      ]
     },
     "execution_count": 40,
     "metadata": {},
     "output_type": "execute_result"
    }
   ],
   "source": [
    "senspec(y_test, phat1, 0.5)"
   ]
  },
  {
   "cell_type": "code",
   "execution_count": null,
   "metadata": {},
   "outputs": [],
   "source": []
  },
  {
   "cell_type": "markdown",
   "metadata": {},
   "source": [
    "### Part 3: Cross-validation (5 pts)\n",
    "\n",
    "**a) (4 pts)** Using the same penalized logistic regression model you used in Part 2, use 10-fold cross validation (cv=10) to estimate the accuracy of the the L1 penalized logit classifier and also compute its standard error. Note that the estimated accuracy is the sample mean of the 10 different train/test accuracy scores produced by cross-validation, and the standard error for the mean is computed in the usual way for sample means. Display code and results. \n",
    "\n",
    "Note: if you have convergence problems, try using solver='liblinear' and max_iter=1000."
   ]
  },
  {
   "cell_type": "code",
   "execution_count": 41,
   "metadata": {},
   "outputs": [],
   "source": [
    "from sklearn.model_selection import cross_val_score"
   ]
  },
  {
   "cell_type": "code",
   "execution_count": 44,
   "metadata": {},
   "outputs": [
    {
     "data": {
      "text/plain": [
       "array([0.95 , 0.875, 0.85 , 0.9  , 0.825, 0.85 , 0.875, 0.825, 0.875,\n",
       "       0.925])"
      ]
     },
     "execution_count": 44,
     "metadata": {},
     "output_type": "execute_result"
    }
   ],
   "source": [
    "scores1 = cross_val_score(logitReg, X, y, cv=10)\n",
    "scores1"
   ]
  },
  {
   "cell_type": "code",
   "execution_count": 45,
   "metadata": {},
   "outputs": [
    {
     "name": "stdout",
     "output_type": "stream",
     "text": [
      "Accuracy: 0.88 (+/- 0.02)\n"
     ]
    }
   ],
   "source": [
    "print(\"Accuracy: %0.2f (+/- %0.2f)\" % \\\n",
    "      (scores1.mean(), 2*scores1.std()/np.sqrt( 10)))"
   ]
  },
  {
   "cell_type": "markdown",
   "metadata": {},
   "source": [
    "**b) (1 pt)** Comment on whether the cross-validation average accuracy score differs noticeably from the single train/test accuracy estimate you calculated in Part 2. How would you explain the difference?"
   ]
  },
  {
   "cell_type": "markdown",
   "metadata": {},
   "source": [
    "Not significantly different. The differences cause by applying model to many train data"
   ]
  },
  {
   "cell_type": "code",
   "execution_count": null,
   "metadata": {},
   "outputs": [],
   "source": []
  }
 ],
 "metadata": {
  "kernelspec": {
   "display_name": "Python 3",
   "language": "python",
   "name": "python3"
  },
  "language_info": {
   "codemirror_mode": {
    "name": "ipython",
    "version": 3
   },
   "file_extension": ".py",
   "mimetype": "text/x-python",
   "name": "python",
   "nbconvert_exporter": "python",
   "pygments_lexer": "ipython3",
   "version": "3.7.3"
  }
 },
 "nbformat": 4,
 "nbformat_minor": 2
}
