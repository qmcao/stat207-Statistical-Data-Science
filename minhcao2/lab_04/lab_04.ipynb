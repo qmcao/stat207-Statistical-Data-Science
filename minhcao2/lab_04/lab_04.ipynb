{
 "cells": [
  {
   "cell_type": "markdown",
   "metadata": {},
   "source": [
    "##### STAT 207 Lab 4: Distributions and random variables"
   ]
  },
  {
   "cell_type": "markdown",
   "metadata": {},
   "source": [
    "Due: Wednesday, February 19, 23:59:59"
   ]
  },
  {
   "cell_type": "markdown",
   "metadata": {},
   "source": [
    "This lab consists of 3 main parts. You may add as many cells as you need in order to do the excercises. To add cells use the \"Insert\" tab from the menu bar above and select \"insert cell above\" or \"insert cell below\". In some cases, you will need to import certain python libraries before doing calculations.\n",
    "\n",
    "Please use Markdown cells above or below your code cells to explain your results. Make sure graders know that you understand what your code is doing.\n",
    "\n",
    "**Note: not every problem in this lab requires Python calculation. In some cases you can just work it out and type in your solution.**\n",
    "\n",
    "\n"
   ]
  },
  {
   "cell_type": "markdown",
   "metadata": {},
   "source": [
    "### Part 1: Bernoulli random variables (8 pts)"
   ]
  },
  {
   "cell_type": "markdown",
   "metadata": {},
   "source": [
    "**a) (2 pts) A Bernoulli random variable can only take two possible values: 0 or 1. Suppose $X$ is a Bernoulli random variable and $P(X=1)=0.2$. What does $P(X=0)$ equal? (answer only).**"
   ]
  },
  {
   "cell_type": "code",
   "execution_count": 11,
   "metadata": {},
   "outputs": [
    {
     "data": {
      "text/plain": [
       "0.8"
      ]
     },
     "execution_count": 11,
     "metadata": {},
     "output_type": "execute_result"
    }
   ],
   "source": [
    "0.8"
   ]
  },
  {
   "cell_type": "markdown",
   "metadata": {},
   "source": [
    "**b) (2 pts) The population mean $\\mu$ of a discrete random variable $X$ with possible values $x_1, x_2, \\ldots$ is given by**\n",
    "\n",
    "$$\n",
    "\\mu = E[X] = x_1 P(X=x_1) + x_2 P(X=x_2) + \\ldots \n",
    "$$\n",
    "\n",
    "**where the sum ranges over all possible values $x_i$ for $X$. If $X$ is a Bernoulli random variable with $P(X=1)= 0.6$, find  $E[X]$ by hand (i.e. not using Python functions). Show how you calculated it.**\n"
   ]
  },
  {
   "cell_type": "code",
   "execution_count": 12,
   "metadata": {},
   "outputs": [
    {
     "data": {
      "text/plain": [
       "0.6"
      ]
     },
     "execution_count": 12,
     "metadata": {},
     "output_type": "execute_result"
    }
   ],
   "source": [
    "u=.6*1 + .4*0\n",
    "u"
   ]
  },
  {
   "cell_type": "markdown",
   "metadata": {},
   "source": [
    "**c) (2 pts) The variance of a random variable with mean $\\mu$ is given by**\n",
    "\n",
    "$$\n",
    "\\sigma^2 = Var(X) = E[(X-\\mu)^2]\n",
    "$$\n",
    "\n",
    "**If $X$ is a Bernoulli random variable and $P(X=1)=0.6$, compute the variance by hand. (show work)**"
   ]
  },
  {
   "cell_type": "code",
   "execution_count": 13,
   "metadata": {},
   "outputs": [
    {
     "data": {
      "text/plain": [
       "0.24"
      ]
     },
     "execution_count": 13,
     "metadata": {},
     "output_type": "execute_result"
    }
   ],
   "source": [
    "var = 0.6*(0.6 - 1)**2 + 0.4*(0.6-0)**2\n",
    "var"
   ]
  },
  {
   "cell_type": "code",
   "execution_count": null,
   "metadata": {},
   "outputs": [],
   "source": []
  },
  {
   "cell_type": "markdown",
   "metadata": {},
   "source": [
    "**d) (2 pts) For any Bernoulli random variable $X$ with $P(X=1) = p = 1- P(X=0)$, where $0 <p<1$, show that the population mean and variance for $X$ are given by $\\mu=p$ and $\\sigma^2 = p(1-p)$. I.e. go through the motions of how you calculate $\\mu$ and $\\sigma^2$ with $p$ inserted instead of a specific number. Then try to simplify the expressions into the given forms, showing how.**"
   ]
  },
  {
   "cell_type": "code",
   "execution_count": 14,
   "metadata": {},
   "outputs": [
    {
     "data": {
      "text/plain": [
       "'\\nvar = p * (p - 1)^2 + (1 - p)*(p - 0)^2\\nvar = p * (p^2 - 2p + 1) + p^2 - p^3\\nvar = p^3 - 2p^2 + p + p^2 - p^3\\nvar = p - p^2\\nvar = p(1-p)\\n'"
      ]
     },
     "execution_count": 14,
     "metadata": {},
     "output_type": "execute_result"
    }
   ],
   "source": [
    "'''\n",
    "var = p * (p - 1)^2 + (1 - p)*(p - 0)^2\n",
    "var = p * (p^2 - 2p + 1) + p^2 - p^3\n",
    "var = p^3 - 2p^2 + p + p^2 - p^3\n",
    "var = p - p^2\n",
    "var = p(1-p)\n",
    "'''"
   ]
  },
  {
   "cell_type": "markdown",
   "metadata": {},
   "source": [
    "### Part 2: Normal Distribution (8 pts)"
   ]
  },
  {
   "cell_type": "markdown",
   "metadata": {},
   "source": [
    "The normal family of distributions are used widely in practice, both because of the Central Limit Theorem for the large sample distribution of averages, and because many types of measurements appear to follow a normal distribution to a reasonable approximation. The SciPy.stats library provides the 'norm' function with methods for computing the probability density function (.pdf), cumulative distribution function (.cdf), percent point function (.ppf - like the quantile function for data), random variate generation (.rvs), and other parameters (.mean, .std, .median etc). Please study the documentation here:\n",
    "[scipy.stats.norm](https://docs.scipy.org/doc/scipy/reference/generated/scipy.stats.norm.html#scipy.stats.norm)\n",
    "\n",
    "Let's let 'norm' help us experiment with the normal distribution. Note that for the 'norm' function the loc keyword specifies the mean, and the scale keyword specifies the standard deviation."
   ]
  },
  {
   "cell_type": "code",
   "execution_count": 15,
   "metadata": {},
   "outputs": [],
   "source": [
    "from scipy.stats import norm"
   ]
  },
  {
   "cell_type": "markdown",
   "metadata": {},
   "source": [
    "**a) (2 pts) Use the scipy.stats .mean( ) and .std( ) methods to show that distribution implemented by the 'norm' function with loc=8 and scale=2 has mean 8 and standard devation 2.**"
   ]
  },
  {
   "cell_type": "code",
   "execution_count": 16,
   "metadata": {},
   "outputs": [
    {
     "name": "stdout",
     "output_type": "stream",
     "text": [
      "8.0\n"
     ]
    },
    {
     "data": {
      "text/plain": [
       "2.0"
      ]
     },
     "execution_count": 16,
     "metadata": {},
     "output_type": "execute_result"
    }
   ],
   "source": [
    "print(norm.mean(loc = 8, scale = 2))\n",
    "norm.std(loc = 8, scale = 2)"
   ]
  },
  {
   "cell_type": "markdown",
   "metadata": {},
   "source": [
    "**b) (2 pts) Suppose the random variable $X$ is normally distributed with mean 5 and standard deviation 1. Compute $P(X \\le 7)$.**"
   ]
  },
  {
   "cell_type": "code",
   "execution_count": 51,
   "metadata": {},
   "outputs": [
    {
     "data": {
      "text/plain": [
       "0.9772498680518208"
      ]
     },
     "execution_count": 51,
     "metadata": {},
     "output_type": "execute_result"
    }
   ],
   "source": [
    "norm.cdf(7, loc = 5, scale = 1)"
   ]
  },
  {
   "cell_type": "markdown",
   "metadata": {},
   "source": [
    "**c) (2 pts) If $X$ normally distributed with mean 5 and standard deviation 1, compute $P(3 \\lt X \\le 7)$**"
   ]
  },
  {
   "cell_type": "code",
   "execution_count": 18,
   "metadata": {},
   "outputs": [
    {
     "data": {
      "text/plain": [
       "0.9544997361036416"
      ]
     },
     "execution_count": 18,
     "metadata": {},
     "output_type": "execute_result"
    }
   ],
   "source": [
    "norm.cdf(7, loc = 5, scale = 1) - norm.cdf(3, loc = 5, scale = 1)"
   ]
  },
  {
   "cell_type": "markdown",
   "metadata": {},
   "source": [
    "**e) (2 pts) If $X$ is normal with mean 5 and standard deviation 1, compute the 25th percentile of its distribution.**"
   ]
  },
  {
   "cell_type": "code",
   "execution_count": 19,
   "metadata": {},
   "outputs": [
    {
     "data": {
      "text/plain": [
       "4.325510249803918"
      ]
     },
     "execution_count": 19,
     "metadata": {},
     "output_type": "execute_result"
    }
   ],
   "source": [
    "norm.ppf(.25, loc = 5)"
   ]
  },
  {
   "cell_type": "markdown",
   "metadata": {},
   "source": [
    "### Part 3: Sampling from the Normal distribution (9 pts)\n",
    "\n",
    "If $X_1, X_2, \\ldots, X_n$ is an independent random sample from a distribution with mean $\\mu$ and standard deviation $\\sigma$, then the sample mean\n",
    "\n",
    "$$\n",
    "\\bar{X} = {X_1+X_2+\\cdots+X_n\\over n}\n",
    "$$\n",
    "\n",
    "has the same mean as the original variable, i.e. $E[\\bar{X}]=\\mu$, but it has reduced standard devation, according to the square root rule:\n",
    "\n",
    "$$\n",
    "SD[\\bar{X}] = {\\sigma\\over \\sqrt{n}}.\n",
    "$$\n",
    "\n",
    "Furthermore, averages of normal random variables are also normally distributed."
   ]
  },
  {
   "cell_type": "markdown",
   "metadata": {},
   "source": [
    "**a) (2 pts) Use 'norm' .rvs( ) method to generate a random sample of 25 observations from the normal distribution with mean = 10 and standard devation =2. Save the values in a pandas Series or data frame and display the results.**"
   ]
  },
  {
   "cell_type": "code",
   "execution_count": 28,
   "metadata": {},
   "outputs": [
    {
     "data": {
      "text/plain": [
       "array([ 8.98479157, 14.39236087,  7.10435464,  8.81488126,  9.3567294 ,\n",
       "        9.08791398,  6.93526228, 11.27238133, 11.11981323, 11.99352094,\n",
       "        9.46788154,  9.86163741, 10.1294468 , 11.53197794,  4.76385642,\n",
       "       10.80421423, 10.09134359,  9.26157977,  9.40043919, 11.17306462,\n",
       "       10.46031146, 11.71204421, 13.50392626, 15.6108991 , 12.95146209])"
      ]
     },
     "execution_count": 28,
     "metadata": {},
     "output_type": "execute_result"
    }
   ],
   "source": [
    "df = norm.rvs(loc = 10, scale = 2, size = 25)\n",
    "df"
   ]
  },
  {
   "cell_type": "markdown",
   "metadata": {},
   "source": [
    "**b) (1 pt) Compute the sample mean and sample standard deviation for the numbers you generated in part a). Are they close to 10 and 2 respectively?**"
   ]
  },
  {
   "cell_type": "code",
   "execution_count": 32,
   "metadata": {},
   "outputs": [
    {
     "name": "stdout",
     "output_type": "stream",
     "text": [
      "8.816877173404503\n"
     ]
    },
    {
     "data": {
      "text/plain": [
       "6.5223607439605225"
      ]
     },
     "execution_count": 32,
     "metadata": {},
     "output_type": "execute_result"
    }
   ],
   "source": [
    "print(df.mean())\n",
    "df.std()\n"
   ]
  },
  {
   "cell_type": "markdown",
   "metadata": {},
   "source": [
    "**c) (1 pts) Make a density histogram of the values you got in a)** "
   ]
  },
  {
   "cell_type": "code",
   "execution_count": 33,
   "metadata": {},
   "outputs": [
    {
     "data": {
      "text/plain": [
       "<matplotlib.axes._subplots.AxesSubplot at 0x1a1b279c50>"
      ]
     },
     "execution_count": 33,
     "metadata": {},
     "output_type": "execute_result"
    },
    {
     "data": {
      "image/png": "[encoded data removed]",
      "text/plain": [
       "<Figure size 432x288 with 1 Axes>"
      ]
     },
     "metadata": {
      "needs_background": "light"
     },
     "output_type": "display_data"
    }
   ],
   "source": [
    "import pandas as pd\n",
    "df = pd.Series(sample)\n",
    "df.hist(density = True)"
   ]
  },
  {
   "cell_type": "markdown",
   "metadata": {},
   "source": [
    "**d) (3 pts) Write a loop to repeat the following process 50 times:  1) Draw a sample of 25 observations from the normal distribution with mean=10 and standard devation =2. 2) Compute the sample mean for each sample. Store your 50 sample means in a data frame or Series and display them.**"
   ]
  },
  {
   "cell_type": "code",
   "execution_count": 37,
   "metadata": {},
   "outputs": [
    {
     "data": {
      "text/html": [
       "<div>\n",
       "<style scoped>\n",
       "    .dataframe tbody tr th:only-of-type {\n",
       "        vertical-align: middle;\n",
       "    }\n",
       "\n",
       "    .dataframe tbody tr th {\n",
       "        vertical-align: top;\n",
       "    }\n",
       "\n",
       "    .dataframe thead th {\n",
       "        text-align: right;\n",
       "    }\n",
       "</style>\n",
       "<table border=\"1\" class=\"dataframe\">\n",
       "  <thead>\n",
       "    <tr style=\"text-align: right;\">\n",
       "      <th></th>\n",
       "      <th>mean</th>\n",
       "    </tr>\n",
       "  </thead>\n",
       "  <tbody>\n",
       "    <tr>\n",
       "      <th>0</th>\n",
       "      <td>9.847792</td>\n",
       "    </tr>\n",
       "    <tr>\n",
       "      <th>1</th>\n",
       "      <td>9.673552</td>\n",
       "    </tr>\n",
       "    <tr>\n",
       "      <th>2</th>\n",
       "      <td>9.976683</td>\n",
       "    </tr>\n",
       "    <tr>\n",
       "      <th>3</th>\n",
       "      <td>10.693287</td>\n",
       "    </tr>\n",
       "    <tr>\n",
       "      <th>4</th>\n",
       "      <td>9.864510</td>\n",
       "    </tr>\n",
       "    <tr>\n",
       "      <th>5</th>\n",
       "      <td>9.563379</td>\n",
       "    </tr>\n",
       "    <tr>\n",
       "      <th>6</th>\n",
       "      <td>10.623294</td>\n",
       "    </tr>\n",
       "    <tr>\n",
       "      <th>7</th>\n",
       "      <td>9.956507</td>\n",
       "    </tr>\n",
       "    <tr>\n",
       "      <th>8</th>\n",
       "      <td>9.680333</td>\n",
       "    </tr>\n",
       "    <tr>\n",
       "      <th>9</th>\n",
       "      <td>10.256708</td>\n",
       "    </tr>\n",
       "    <tr>\n",
       "      <th>10</th>\n",
       "      <td>10.460316</td>\n",
       "    </tr>\n",
       "    <tr>\n",
       "      <th>11</th>\n",
       "      <td>10.079906</td>\n",
       "    </tr>\n",
       "    <tr>\n",
       "      <th>12</th>\n",
       "      <td>9.950923</td>\n",
       "    </tr>\n",
       "    <tr>\n",
       "      <th>13</th>\n",
       "      <td>10.315716</td>\n",
       "    </tr>\n",
       "    <tr>\n",
       "      <th>14</th>\n",
       "      <td>10.573719</td>\n",
       "    </tr>\n",
       "    <tr>\n",
       "      <th>15</th>\n",
       "      <td>9.678503</td>\n",
       "    </tr>\n",
       "    <tr>\n",
       "      <th>16</th>\n",
       "      <td>9.830800</td>\n",
       "    </tr>\n",
       "    <tr>\n",
       "      <th>17</th>\n",
       "      <td>9.647550</td>\n",
       "    </tr>\n",
       "    <tr>\n",
       "      <th>18</th>\n",
       "      <td>9.739623</td>\n",
       "    </tr>\n",
       "    <tr>\n",
       "      <th>19</th>\n",
       "      <td>9.918106</td>\n",
       "    </tr>\n",
       "    <tr>\n",
       "      <th>20</th>\n",
       "      <td>9.797278</td>\n",
       "    </tr>\n",
       "    <tr>\n",
       "      <th>21</th>\n",
       "      <td>10.186858</td>\n",
       "    </tr>\n",
       "    <tr>\n",
       "      <th>22</th>\n",
       "      <td>10.517702</td>\n",
       "    </tr>\n",
       "    <tr>\n",
       "      <th>23</th>\n",
       "      <td>10.271127</td>\n",
       "    </tr>\n",
       "    <tr>\n",
       "      <th>24</th>\n",
       "      <td>10.000421</td>\n",
       "    </tr>\n",
       "    <tr>\n",
       "      <th>25</th>\n",
       "      <td>9.740258</td>\n",
       "    </tr>\n",
       "    <tr>\n",
       "      <th>26</th>\n",
       "      <td>10.337871</td>\n",
       "    </tr>\n",
       "    <tr>\n",
       "      <th>27</th>\n",
       "      <td>9.868995</td>\n",
       "    </tr>\n",
       "    <tr>\n",
       "      <th>28</th>\n",
       "      <td>10.287914</td>\n",
       "    </tr>\n",
       "    <tr>\n",
       "      <th>29</th>\n",
       "      <td>10.278874</td>\n",
       "    </tr>\n",
       "    <tr>\n",
       "      <th>30</th>\n",
       "      <td>10.629287</td>\n",
       "    </tr>\n",
       "    <tr>\n",
       "      <th>31</th>\n",
       "      <td>9.576137</td>\n",
       "    </tr>\n",
       "    <tr>\n",
       "      <th>32</th>\n",
       "      <td>9.905020</td>\n",
       "    </tr>\n",
       "    <tr>\n",
       "      <th>33</th>\n",
       "      <td>10.011942</td>\n",
       "    </tr>\n",
       "    <tr>\n",
       "      <th>34</th>\n",
       "      <td>9.174401</td>\n",
       "    </tr>\n",
       "    <tr>\n",
       "      <th>35</th>\n",
       "      <td>9.732248</td>\n",
       "    </tr>\n",
       "    <tr>\n",
       "      <th>36</th>\n",
       "      <td>10.114601</td>\n",
       "    </tr>\n",
       "    <tr>\n",
       "      <th>37</th>\n",
       "      <td>9.924123</td>\n",
       "    </tr>\n",
       "    <tr>\n",
       "      <th>38</th>\n",
       "      <td>9.775654</td>\n",
       "    </tr>\n",
       "    <tr>\n",
       "      <th>39</th>\n",
       "      <td>10.098450</td>\n",
       "    </tr>\n",
       "    <tr>\n",
       "      <th>40</th>\n",
       "      <td>9.903543</td>\n",
       "    </tr>\n",
       "    <tr>\n",
       "      <th>41</th>\n",
       "      <td>9.610861</td>\n",
       "    </tr>\n",
       "    <tr>\n",
       "      <th>42</th>\n",
       "      <td>10.505272</td>\n",
       "    </tr>\n",
       "    <tr>\n",
       "      <th>43</th>\n",
       "      <td>9.950273</td>\n",
       "    </tr>\n",
       "    <tr>\n",
       "      <th>44</th>\n",
       "      <td>9.864756</td>\n",
       "    </tr>\n",
       "    <tr>\n",
       "      <th>45</th>\n",
       "      <td>9.975214</td>\n",
       "    </tr>\n",
       "    <tr>\n",
       "      <th>46</th>\n",
       "      <td>10.329272</td>\n",
       "    </tr>\n",
       "    <tr>\n",
       "      <th>47</th>\n",
       "      <td>10.570503</td>\n",
       "    </tr>\n",
       "    <tr>\n",
       "      <th>48</th>\n",
       "      <td>9.341293</td>\n",
       "    </tr>\n",
       "    <tr>\n",
       "      <th>49</th>\n",
       "      <td>10.096182</td>\n",
       "    </tr>\n",
       "  </tbody>\n",
       "</table>\n",
       "</div>"
      ],
      "text/plain": [
       "         mean\n",
       "0    9.847792\n",
       "1    9.673552\n",
       "2    9.976683\n",
       "3   10.693287\n",
       "4    9.864510\n",
       "5    9.563379\n",
       "6   10.623294\n",
       "7    9.956507\n",
       "8    9.680333\n",
       "9   10.256708\n",
       "10  10.460316\n",
       "11  10.079906\n",
       "12   9.950923\n",
       "13  10.315716\n",
       "14  10.573719\n",
       "15   9.678503\n",
       "16   9.830800\n",
       "17   9.647550\n",
       "18   9.739623\n",
       "19   9.918106\n",
       "20   9.797278\n",
       "21  10.186858\n",
       "22  10.517702\n",
       "23  10.271127\n",
       "24  10.000421\n",
       "25   9.740258\n",
       "26  10.337871\n",
       "27   9.868995\n",
       "28  10.287914\n",
       "29  10.278874\n",
       "30  10.629287\n",
       "31   9.576137\n",
       "32   9.905020\n",
       "33  10.011942\n",
       "34   9.174401\n",
       "35   9.732248\n",
       "36  10.114601\n",
       "37   9.924123\n",
       "38   9.775654\n",
       "39  10.098450\n",
       "40   9.903543\n",
       "41   9.610861\n",
       "42  10.505272\n",
       "43   9.950273\n",
       "44   9.864756\n",
       "45   9.975214\n",
       "46  10.329272\n",
       "47  10.570503\n",
       "48   9.341293\n",
       "49  10.096182"
      ]
     },
     "execution_count": 37,
     "metadata": {},
     "output_type": "execute_result"
    }
   ],
   "source": [
    "data = []\n",
    "for i in range(50):\n",
    "    mean = norm.rvs(loc = 10, scale = 2, size = 25).mean()\n",
    "    data.append({\"mean\":mean})\n",
    "df1 = pd.DataFrame(data)    \n",
    "df1"
   ]
  },
  {
   "cell_type": "markdown",
   "metadata": {},
   "source": [
    "**e) (1 pt) Compute and display the sample mean and standard deviation of the 50 sample means you got in d).** "
   ]
  },
  {
   "cell_type": "code",
   "execution_count": 45,
   "metadata": {},
   "outputs": [
    {
     "name": "stdout",
     "output_type": "stream",
     "text": [
      "10.014150721819815\n"
     ]
    },
    {
     "data": {
      "text/plain": [
       "0.34573479036375837"
      ]
     },
     "execution_count": 45,
     "metadata": {},
     "output_type": "execute_result"
    }
   ],
   "source": [
    "print(df1['mean'].mean())\n",
    "df1['mean'].std()"
   ]
  },
  {
   "cell_type": "markdown",
   "metadata": {},
   "source": [
    "**f) (1 pt) using the square root law above, what are the population mean and population standard deviation for the sample mean of 25 observations from a normal distribution with mean=10 and standard deviation = 2?**"
   ]
  },
  {
   "cell_type": "code",
   "execution_count": 52,
   "metadata": {},
   "outputs": [
    {
     "name": "stdout",
     "output_type": "stream",
     "text": [
      "10\n",
      "0.4\n"
     ]
    }
   ],
   "source": [
    "'sd = Ex / sqrt(n)'\n",
    "popMean = 10\n",
    "popStd = 2 / (25**0.5)\n",
    "print(popMean)\n",
    "print(popStd)"
   ]
  },
  {
   "cell_type": "code",
   "execution_count": null,
   "metadata": {},
   "outputs": [],
   "source": []
  },
  {
   "cell_type": "code",
   "execution_count": null,
   "metadata": {},
   "outputs": [],
   "source": []
  }
 ],
 "metadata": {
  "kernelspec": {
   "display_name": "Python 3",
   "language": "python",
   "name": "python3"
  },
  "language_info": {
   "codemirror_mode": {
    "name": "ipython",
    "version": 3
   },
   "file_extension": ".py",
   "mimetype": "text/x-python",
   "name": "python",
   "nbconvert_exporter": "python",
   "pygments_lexer": "ipython3",
   "version": "3.7.3"
  }
 },
 "nbformat": 4,
 "nbformat_minor": 2
}
