{
 "cells": [
  {
   "cell_type": "markdown",
   "metadata": {},
   "source": [
    "### STAT 207 Lab 10: Model Selection"
   ]
  },
  {
   "cell_type": "markdown",
   "metadata": {},
   "source": [
    "Due: Wednesday, April 22, 23:59:59"
   ]
  },
  {
   "cell_type": "markdown",
   "metadata": {},
   "source": [
    "### Michael Cao AND minhcao2"
   ]
  },
  {
   "cell_type": "markdown",
   "metadata": {},
   "source": [
    "This lab consists of 3 main parts. You may add as many cells as you need in order to do the exercises. To add cells use the \"Insert\" tab from the menu bar above and select \"insert cell above\" or \"insert cell below\". "
   ]
  },
  {
   "cell_type": "markdown",
   "metadata": {},
   "source": [
    "#### The code below generates data to analyze in this lab. Run the code and then work on the questions below."
   ]
  },
  {
   "cell_type": "code",
   "execution_count": 42,
   "metadata": {},
   "outputs": [],
   "source": [
    "import pandas as pd\n",
    "import numpy as np\n",
    "from scipy.stats import norm, bernoulli"
   ]
  },
  {
   "cell_type": "code",
   "execution_count": 43,
   "metadata": {},
   "outputs": [
    {
     "data": {
      "text/plain": [
       "500"
      ]
     },
     "metadata": {},
     "output_type": "display_data"
    },
    {
     "data": {
      "text/html": [
       "<div>\n",
       "<style scoped>\n",
       "    .dataframe tbody tr th:only-of-type {\n",
       "        vertical-align: middle;\n",
       "    }\n",
       "\n",
       "    .dataframe tbody tr th {\n",
       "        vertical-align: top;\n",
       "    }\n",
       "\n",
       "    .dataframe thead th {\n",
       "        text-align: right;\n",
       "    }\n",
       "</style>\n",
       "<table border=\"1\" class=\"dataframe\">\n",
       "  <thead>\n",
       "    <tr style=\"text-align: right;\">\n",
       "      <th></th>\n",
       "      <th>X1</th>\n",
       "      <th>X2</th>\n",
       "      <th>X3</th>\n",
       "      <th>X4</th>\n",
       "      <th>X5</th>\n",
       "      <th>X6</th>\n",
       "      <th>X7</th>\n",
       "      <th>y</th>\n",
       "    </tr>\n",
       "  </thead>\n",
       "  <tbody>\n",
       "    <tr>\n",
       "      <th>0</th>\n",
       "      <td>9.060863</td>\n",
       "      <td>3.470609</td>\n",
       "      <td>3.679571</td>\n",
       "      <td>2.317578</td>\n",
       "      <td>7.163519</td>\n",
       "      <td>-0.753847</td>\n",
       "      <td>9.362029</td>\n",
       "      <td>1</td>\n",
       "    </tr>\n",
       "    <tr>\n",
       "      <th>1</th>\n",
       "      <td>3.096983</td>\n",
       "      <td>5.797598</td>\n",
       "      <td>4.376574</td>\n",
       "      <td>8.655270</td>\n",
       "      <td>-0.150352</td>\n",
       "      <td>4.193957</td>\n",
       "      <td>4.039864</td>\n",
       "      <td>0</td>\n",
       "    </tr>\n",
       "    <tr>\n",
       "      <th>2</th>\n",
       "      <td>7.834424</td>\n",
       "      <td>2.250272</td>\n",
       "      <td>4.568929</td>\n",
       "      <td>2.805354</td>\n",
       "      <td>5.105534</td>\n",
       "      <td>6.457038</td>\n",
       "      <td>2.248452</td>\n",
       "      <td>0</td>\n",
       "    </tr>\n",
       "    <tr>\n",
       "      <th>3</th>\n",
       "      <td>7.861809</td>\n",
       "      <td>7.253977</td>\n",
       "      <td>6.256236</td>\n",
       "      <td>7.252140</td>\n",
       "      <td>3.290680</td>\n",
       "      <td>4.692774</td>\n",
       "      <td>2.660576</td>\n",
       "      <td>1</td>\n",
       "    </tr>\n",
       "    <tr>\n",
       "      <th>4</th>\n",
       "      <td>4.330280</td>\n",
       "      <td>6.325889</td>\n",
       "      <td>3.270848</td>\n",
       "      <td>4.008116</td>\n",
       "      <td>3.282068</td>\n",
       "      <td>2.886986</td>\n",
       "      <td>3.321885</td>\n",
       "      <td>0</td>\n",
       "    </tr>\n",
       "    <tr>\n",
       "      <th>...</th>\n",
       "      <td>...</td>\n",
       "      <td>...</td>\n",
       "      <td>...</td>\n",
       "      <td>...</td>\n",
       "      <td>...</td>\n",
       "      <td>...</td>\n",
       "      <td>...</td>\n",
       "      <td>...</td>\n",
       "    </tr>\n",
       "    <tr>\n",
       "      <th>495</th>\n",
       "      <td>2.474653</td>\n",
       "      <td>3.777289</td>\n",
       "      <td>6.446762</td>\n",
       "      <td>1.329203</td>\n",
       "      <td>7.476578</td>\n",
       "      <td>5.580584</td>\n",
       "      <td>5.553371</td>\n",
       "      <td>0</td>\n",
       "    </tr>\n",
       "    <tr>\n",
       "      <th>496</th>\n",
       "      <td>1.399337</td>\n",
       "      <td>1.570622</td>\n",
       "      <td>5.086186</td>\n",
       "      <td>4.161299</td>\n",
       "      <td>3.459894</td>\n",
       "      <td>4.602205</td>\n",
       "      <td>2.673328</td>\n",
       "      <td>0</td>\n",
       "    </tr>\n",
       "    <tr>\n",
       "      <th>497</th>\n",
       "      <td>4.541364</td>\n",
       "      <td>6.255047</td>\n",
       "      <td>2.680907</td>\n",
       "      <td>2.804052</td>\n",
       "      <td>4.603687</td>\n",
       "      <td>3.746360</td>\n",
       "      <td>4.702619</td>\n",
       "      <td>1</td>\n",
       "    </tr>\n",
       "    <tr>\n",
       "      <th>498</th>\n",
       "      <td>5.059423</td>\n",
       "      <td>0.581945</td>\n",
       "      <td>8.853574</td>\n",
       "      <td>4.390039</td>\n",
       "      <td>5.091781</td>\n",
       "      <td>1.895300</td>\n",
       "      <td>4.248366</td>\n",
       "      <td>0</td>\n",
       "    </tr>\n",
       "    <tr>\n",
       "      <th>499</th>\n",
       "      <td>4.132602</td>\n",
       "      <td>2.286616</td>\n",
       "      <td>4.309647</td>\n",
       "      <td>1.006724</td>\n",
       "      <td>10.559552</td>\n",
       "      <td>5.417515</td>\n",
       "      <td>6.085808</td>\n",
       "      <td>1</td>\n",
       "    </tr>\n",
       "  </tbody>\n",
       "</table>\n",
       "<p>500 rows × 8 columns</p>\n",
       "</div>"
      ],
      "text/plain": [
       "           X1        X2        X3        X4         X5        X6        X7  y\n",
       "0    9.060863  3.470609  3.679571  2.317578   7.163519 -0.753847  9.362029  1\n",
       "1    3.096983  5.797598  4.376574  8.655270  -0.150352  4.193957  4.039864  0\n",
       "2    7.834424  2.250272  4.568929  2.805354   5.105534  6.457038  2.248452  0\n",
       "3    7.861809  7.253977  6.256236  7.252140   3.290680  4.692774  2.660576  1\n",
       "4    4.330280  6.325889  3.270848  4.008116   3.282068  2.886986  3.321885  0\n",
       "..        ...       ...       ...       ...        ...       ...       ... ..\n",
       "495  2.474653  3.777289  6.446762  1.329203   7.476578  5.580584  5.553371  0\n",
       "496  1.399337  1.570622  5.086186  4.161299   3.459894  4.602205  2.673328  0\n",
       "497  4.541364  6.255047  2.680907  2.804052   4.603687  3.746360  4.702619  1\n",
       "498  5.059423  0.581945  8.853574  4.390039   5.091781  1.895300  4.248366  0\n",
       "499  4.132602  2.286616  4.309647  1.006724  10.559552  5.417515  6.085808  1\n",
       "\n",
       "[500 rows x 8 columns]"
      ]
     },
     "metadata": {},
     "output_type": "display_data"
    }
   ],
   "source": [
    "b0 = -2.5\n",
    "bvec = np.repeat([1, -1, 0.05], [2, 2, 3])\n",
    "n = 500\n",
    "nX = bvec.size\n",
    "X = norm.rvs(size=n*nX, loc=5, scale=2.5, random_state=1).reshape((n, nX))\n",
    "odds = np.exp(b0 + np.matmul(X, bvec)) \n",
    "y = bernoulli.rvs(p=odds/(1+odds), size=n, random_state=13)\n",
    "Xnames = []\n",
    "for i in range(nX):\n",
    "    list.append(Xnames, 'X'+str(i+1))\n",
    "df = pd.DataFrame(X, columns=Xnames)\n",
    "df['y'] = y\n",
    "display(df.shape[0], df)"
   ]
  },
  {
   "cell_type": "markdown",
   "metadata": {},
   "source": [
    "### Part 1: Log-Likelihood-Ratio test (6 pts)"
   ]
  },
  {
   "cell_type": "markdown",
   "metadata": {},
   "source": [
    "In this part we consider a logit model of the form:\n",
    "\n",
    "$$\n",
    "\\log\\left({p_i \\over 1 - p_i}\\right) = b_0 + b_1*\\text{X1}_i + b_2*\\text{X2}_i + \\cdots + b_7*\\text{X7}_i\n",
    "$$\n",
    "\n",
    "where $p_i = P(Y_i = 1)$, and the subscript $i$ refers to the $i$th row of the data frame df: \n",
    "\n",
    "$$\n",
    " \\text{X1}_i\\quad \\text{X2}_i \\quad \\cdots \\quad \\text{X7}_i \\quad y_i \n",
    "$$\n",
    "\n",
    "for $i=1,2,\\ldots,500$."
   ]
  },
  {
   "cell_type": "markdown",
   "metadata": {},
   "source": [
    "**a) (1 pt)** Use python to fit the logit model described above to the data in df. Display the model summary."
   ]
  },
  {
   "cell_type": "code",
   "execution_count": 44,
   "metadata": {},
   "outputs": [],
   "source": [
    "import numpy as np\n",
    "import pandas as pd\n",
    "import zipfile as zp\n",
    "import statsmodels.api as sm\n",
    "import statsmodels.formula.api as smf"
   ]
  },
  {
   "cell_type": "code",
   "execution_count": null,
   "metadata": {},
   "outputs": [],
   "source": []
  },
  {
   "cell_type": "code",
   "execution_count": 45,
   "metadata": {},
   "outputs": [
    {
     "name": "stdout",
     "output_type": "stream",
     "text": [
      "Optimization terminated successfully.\n",
      "         Current function value: 0.234167\n",
      "         Iterations 9\n"
     ]
    },
    {
     "data": {
      "text/html": [
       "<table class=\"simpletable\">\n",
       "<caption>Logit Regression Results</caption>\n",
       "<tr>\n",
       "  <th>Dep. Variable:</th>           <td>y</td>        <th>  No. Observations:  </th>  <td>   500</td>  \n",
       "</tr>\n",
       "<tr>\n",
       "  <th>Model:</th>                 <td>Logit</td>      <th>  Df Residuals:      </th>  <td>   492</td>  \n",
       "</tr>\n",
       "<tr>\n",
       "  <th>Method:</th>                 <td>MLE</td>       <th>  Df Model:          </th>  <td>     7</td>  \n",
       "</tr>\n",
       "<tr>\n",
       "  <th>Date:</th>            <td>Sat, 29 May 2021</td> <th>  Pseudo R-squ.:     </th>  <td>0.6416</td>  \n",
       "</tr>\n",
       "<tr>\n",
       "  <th>Time:</th>                <td>16:37:16</td>     <th>  Log-Likelihood:    </th> <td> -117.08</td> \n",
       "</tr>\n",
       "<tr>\n",
       "  <th>converged:</th>             <td>True</td>       <th>  LL-Null:           </th> <td> -326.71</td> \n",
       "</tr>\n",
       "<tr>\n",
       "  <th>Covariance Type:</th>     <td>nonrobust</td>    <th>  LLR p-value:       </th> <td>1.770e-86</td>\n",
       "</tr>\n",
       "</table>\n",
       "<table class=\"simpletable\">\n",
       "<tr>\n",
       "      <td></td>         <th>coef</th>     <th>std err</th>      <th>z</th>      <th>P>|z|</th>  <th>[0.025</th>    <th>0.975]</th>  \n",
       "</tr>\n",
       "<tr>\n",
       "  <th>Intercept</th> <td>   -1.8020</td> <td>    0.875</td> <td>   -2.059</td> <td> 0.040</td> <td>   -3.517</td> <td>   -0.087</td>\n",
       "</tr>\n",
       "<tr>\n",
       "  <th>X1</th>        <td>    0.8954</td> <td>    0.112</td> <td>    7.988</td> <td> 0.000</td> <td>    0.676</td> <td>    1.115</td>\n",
       "</tr>\n",
       "<tr>\n",
       "  <th>X2</th>        <td>    0.9939</td> <td>    0.112</td> <td>    8.896</td> <td> 0.000</td> <td>    0.775</td> <td>    1.213</td>\n",
       "</tr>\n",
       "<tr>\n",
       "  <th>X3</th>        <td>   -1.0693</td> <td>    0.120</td> <td>   -8.904</td> <td> 0.000</td> <td>   -1.305</td> <td>   -0.834</td>\n",
       "</tr>\n",
       "<tr>\n",
       "  <th>X4</th>        <td>   -1.0238</td> <td>    0.117</td> <td>   -8.751</td> <td> 0.000</td> <td>   -1.253</td> <td>   -0.794</td>\n",
       "</tr>\n",
       "<tr>\n",
       "  <th>X5</th>        <td>    0.1428</td> <td>    0.069</td> <td>    2.079</td> <td> 0.038</td> <td>    0.008</td> <td>    0.277</td>\n",
       "</tr>\n",
       "<tr>\n",
       "  <th>X6</th>        <td>    0.0221</td> <td>    0.066</td> <td>    0.334</td> <td> 0.738</td> <td>   -0.107</td> <td>    0.151</td>\n",
       "</tr>\n",
       "<tr>\n",
       "  <th>X7</th>        <td>    0.0510</td> <td>    0.068</td> <td>    0.752</td> <td> 0.452</td> <td>   -0.082</td> <td>    0.184</td>\n",
       "</tr>\n",
       "</table>"
      ],
      "text/plain": [
       "<class 'statsmodels.iolib.summary.Summary'>\n",
       "\"\"\"\n",
       "                           Logit Regression Results                           \n",
       "==============================================================================\n",
       "Dep. Variable:                      y   No. Observations:                  500\n",
       "Model:                          Logit   Df Residuals:                      492\n",
       "Method:                           MLE   Df Model:                            7\n",
       "Date:                Sat, 29 May 2021   Pseudo R-squ.:                  0.6416\n",
       "Time:                        16:37:16   Log-Likelihood:                -117.08\n",
       "converged:                       True   LL-Null:                       -326.71\n",
       "Covariance Type:            nonrobust   LLR p-value:                 1.770e-86\n",
       "==============================================================================\n",
       "                 coef    std err          z      P>|z|      [0.025      0.975]\n",
       "------------------------------------------------------------------------------\n",
       "Intercept     -1.8020      0.875     -2.059      0.040      -3.517      -0.087\n",
       "X1             0.8954      0.112      7.988      0.000       0.676       1.115\n",
       "X2             0.9939      0.112      8.896      0.000       0.775       1.213\n",
       "X3            -1.0693      0.120     -8.904      0.000      -1.305      -0.834\n",
       "X4            -1.0238      0.117     -8.751      0.000      -1.253      -0.794\n",
       "X5             0.1428      0.069      2.079      0.038       0.008       0.277\n",
       "X6             0.0221      0.066      0.334      0.738      -0.107       0.151\n",
       "X7             0.0510      0.068      0.752      0.452      -0.082       0.184\n",
       "==============================================================================\n",
       "\"\"\""
      ]
     },
     "execution_count": 45,
     "metadata": {},
     "output_type": "execute_result"
    }
   ],
   "source": [
    "model1 = smf.logit('y ~ X1 + X2 + X3 + X4 + X5 + X6 + X7', data=df).fit()\n",
    "model1.summary()"
   ]
  },
  {
   "cell_type": "markdown",
   "metadata": {},
   "source": [
    "**b) (3 pts)** We would like to test the null hypothesis\n",
    "\n",
    "$$\n",
    "H_0: b_5 = b_6 = b_7 = 0\n",
    "$$\n",
    "\n",
    "against the alternative that at least one of the coefficients $b_5$, $b_6$ or $b_7$ is nonzero. Use python to calculate the log-likelihood-ratio test statistic for testing $H_0$ along with its degrees of freedom. Hint: consider what is the null model in this case."
   ]
  },
  {
   "cell_type": "code",
   "execution_count": 46,
   "metadata": {},
   "outputs": [
    {
     "name": "stdout",
     "output_type": "stream",
     "text": [
      "Optimization terminated successfully.\n",
      "         Current function value: 0.239466\n",
      "         Iterations 8\n"
     ]
    },
    {
     "data": {
      "text/html": [
       "<table class=\"simpletable\">\n",
       "<caption>Logit Regression Results</caption>\n",
       "<tr>\n",
       "  <th>Dep. Variable:</th>           <td>y</td>        <th>  No. Observations:  </th>  <td>   500</td>  \n",
       "</tr>\n",
       "<tr>\n",
       "  <th>Model:</th>                 <td>Logit</td>      <th>  Df Residuals:      </th>  <td>   495</td>  \n",
       "</tr>\n",
       "<tr>\n",
       "  <th>Method:</th>                 <td>MLE</td>       <th>  Df Model:          </th>  <td>     4</td>  \n",
       "</tr>\n",
       "<tr>\n",
       "  <th>Date:</th>            <td>Sat, 29 May 2021</td> <th>  Pseudo R-squ.:     </th>  <td>0.6335</td>  \n",
       "</tr>\n",
       "<tr>\n",
       "  <th>Time:</th>                <td>16:37:17</td>     <th>  Log-Likelihood:    </th> <td> -119.73</td> \n",
       "</tr>\n",
       "<tr>\n",
       "  <th>converged:</th>             <td>True</td>       <th>  LL-Null:           </th> <td> -326.71</td> \n",
       "</tr>\n",
       "<tr>\n",
       "  <th>Covariance Type:</th>     <td>nonrobust</td>    <th>  LLR p-value:       </th> <td>2.688e-88</td>\n",
       "</tr>\n",
       "</table>\n",
       "<table class=\"simpletable\">\n",
       "<tr>\n",
       "      <td></td>         <th>coef</th>     <th>std err</th>      <th>z</th>      <th>P>|z|</th>  <th>[0.025</th>    <th>0.975]</th>  \n",
       "</tr>\n",
       "<tr>\n",
       "  <th>Intercept</th> <td>   -0.7365</td> <td>    0.679</td> <td>   -1.085</td> <td> 0.278</td> <td>   -2.067</td> <td>    0.594</td>\n",
       "</tr>\n",
       "<tr>\n",
       "  <th>X1</th>        <td>    0.8686</td> <td>    0.108</td> <td>    8.023</td> <td> 0.000</td> <td>    0.656</td> <td>    1.081</td>\n",
       "</tr>\n",
       "<tr>\n",
       "  <th>X2</th>        <td>    0.9731</td> <td>    0.109</td> <td>    8.918</td> <td> 0.000</td> <td>    0.759</td> <td>    1.187</td>\n",
       "</tr>\n",
       "<tr>\n",
       "  <th>X3</th>        <td>   -1.0308</td> <td>    0.114</td> <td>   -9.041</td> <td> 0.000</td> <td>   -1.254</td> <td>   -0.807</td>\n",
       "</tr>\n",
       "<tr>\n",
       "  <th>X4</th>        <td>   -1.0029</td> <td>    0.113</td> <td>   -8.853</td> <td> 0.000</td> <td>   -1.225</td> <td>   -0.781</td>\n",
       "</tr>\n",
       "</table>"
      ],
      "text/plain": [
       "<class 'statsmodels.iolib.summary.Summary'>\n",
       "\"\"\"\n",
       "                           Logit Regression Results                           \n",
       "==============================================================================\n",
       "Dep. Variable:                      y   No. Observations:                  500\n",
       "Model:                          Logit   Df Residuals:                      495\n",
       "Method:                           MLE   Df Model:                            4\n",
       "Date:                Sat, 29 May 2021   Pseudo R-squ.:                  0.6335\n",
       "Time:                        16:37:17   Log-Likelihood:                -119.73\n",
       "converged:                       True   LL-Null:                       -326.71\n",
       "Covariance Type:            nonrobust   LLR p-value:                 2.688e-88\n",
       "==============================================================================\n",
       "                 coef    std err          z      P>|z|      [0.025      0.975]\n",
       "------------------------------------------------------------------------------\n",
       "Intercept     -0.7365      0.679     -1.085      0.278      -2.067       0.594\n",
       "X1             0.8686      0.108      8.023      0.000       0.656       1.081\n",
       "X2             0.9731      0.109      8.918      0.000       0.759       1.187\n",
       "X3            -1.0308      0.114     -9.041      0.000      -1.254      -0.807\n",
       "X4            -1.0029      0.113     -8.853      0.000      -1.225      -0.781\n",
       "==============================================================================\n",
       "\"\"\""
      ]
     },
     "execution_count": 46,
     "metadata": {},
     "output_type": "execute_result"
    }
   ],
   "source": [
    "model0 = smf.logit('y ~ X1 + X2 + X3 + X4', data=df).fit()\n",
    "model0.summary()"
   ]
  },
  {
   "cell_type": "markdown",
   "metadata": {},
   "source": [
    "**c) (2 pts)** Calculate the p-value for the log-likelihood-ratio test. State whether $H_0$ is accepted or rejected at level $\\alpha=0.05$?"
   ]
  },
  {
   "cell_type": "code",
   "execution_count": 47,
   "metadata": {},
   "outputs": [
    {
     "data": {
      "text/html": [
       "<div>\n",
       "<style scoped>\n",
       "    .dataframe tbody tr th:only-of-type {\n",
       "        vertical-align: middle;\n",
       "    }\n",
       "\n",
       "    .dataframe tbody tr th {\n",
       "        vertical-align: top;\n",
       "    }\n",
       "\n",
       "    .dataframe thead th {\n",
       "        text-align: right;\n",
       "    }\n",
       "</style>\n",
       "<table border=\"1\" class=\"dataframe\">\n",
       "  <thead>\n",
       "    <tr style=\"text-align: right;\">\n",
       "      <th></th>\n",
       "      <th>-2*llf</th>\n",
       "      <th>df_model</th>\n",
       "    </tr>\n",
       "  </thead>\n",
       "  <tbody>\n",
       "    <tr>\n",
       "      <th>model0</th>\n",
       "      <td>239.465835</td>\n",
       "      <td>4.0</td>\n",
       "    </tr>\n",
       "    <tr>\n",
       "      <th>model1</th>\n",
       "      <td>234.167038</td>\n",
       "      <td>7.0</td>\n",
       "    </tr>\n",
       "    <tr>\n",
       "      <th>diff</th>\n",
       "      <td>5.298797</td>\n",
       "      <td>3.0</td>\n",
       "    </tr>\n",
       "  </tbody>\n",
       "</table>\n",
       "</div>"
      ],
      "text/plain": [
       "            -2*llf  df_model\n",
       "model0  239.465835       4.0\n",
       "model1  234.167038       7.0\n",
       "diff      5.298797       3.0"
      ]
     },
     "execution_count": 47,
     "metadata": {},
     "output_type": "execute_result"
    }
   ],
   "source": [
    "# Extract log-likelihood function values \n",
    "# and model degrees of freedom from each model\n",
    "llf0, df0 = model0.llf, model0.df_model\n",
    "llf1, df1 = model1.llf, model1.df_model\n",
    "# take differences\n",
    "llr, dfdiff = -2*(llf0 - llf1), df1 - df0\n",
    "# display results\n",
    "pd.DataFrame({'-2*llf': [-2*llf0, -2*llf1, llr], \n",
    "              'df_model': [df0, df1, dfdiff]}, \n",
    "             index=['model0','model1', 'diff'])"
   ]
  },
  {
   "cell_type": "code",
   "execution_count": 48,
   "metadata": {},
   "outputs": [
    {
     "data": {
      "text/plain": [
       "0.15118046957236575"
      ]
     },
     "execution_count": 48,
     "metadata": {},
     "output_type": "execute_result"
    }
   ],
   "source": [
    "# import chisquare function and compute p-value\n",
    "from scipy.stats import chi2\n",
    "\n",
    "1 - chi2.cdf(llr, df=dfdiff)"
   ]
  },
  {
   "cell_type": "markdown",
   "metadata": {},
   "source": [
    "p value > 0.05 => accept null hypothesis\n"
   ]
  },
  {
   "cell_type": "markdown",
   "metadata": {},
   "source": [
    "### Part 2: Split the data into training data and test data (4 pts)"
   ]
  },
  {
   "cell_type": "markdown",
   "metadata": {},
   "source": [
    "**a) (2 pts)** Split the df data frame at random into a training subset data frame and test subset data frame. Make the training subset have 80% of the data, and the test set have the other 20%."
   ]
  },
  {
   "cell_type": "code",
   "execution_count": 49,
   "metadata": {},
   "outputs": [
    {
     "ename": "NameError",
     "evalue": "name 'train_test_split' is not defined",
     "output_type": "error",
     "traceback": [
      "\u001b[0;31m---------------------------------------------------------------------------\u001b[0m",
      "\u001b[0;31mNameError\u001b[0m                                 Traceback (most recent call last)",
      "\u001b[0;32m<ipython-input-49-1addd0d6c2e3>\u001b[0m in \u001b[0;36m<module>\u001b[0;34m\u001b[0m\n\u001b[0;32m----> 1\u001b[0;31m \u001b[0mdf_train\u001b[0m\u001b[0;34m,\u001b[0m \u001b[0mdf_test\u001b[0m \u001b[0;34m=\u001b[0m\u001b[0mtrain_test_split\u001b[0m\u001b[0;34m(\u001b[0m\u001b[0mdf\u001b[0m\u001b[0;34m,\u001b[0m \u001b[0mtest_size\u001b[0m\u001b[0;34m=\u001b[0m\u001b[0;36m0.20\u001b[0m\u001b[0;34m,\u001b[0m \u001b[0mrandom_state\u001b[0m\u001b[0;34m=\u001b[0m\u001b[0;36m123457\u001b[0m\u001b[0;34m)\u001b[0m\u001b[0;34m\u001b[0m\u001b[0;34m\u001b[0m\u001b[0m\n\u001b[0m",
      "\u001b[0;31mNameError\u001b[0m: name 'train_test_split' is not defined"
     ]
    }
   ],
   "source": [
    "df_train, df_test =train_test_split(df, test_size=0.20, random_state=123457)"
   ]
  },
  {
   "cell_type": "code",
   "execution_count": 22,
   "metadata": {},
   "outputs": [],
   "source": [
    "from sklearn.datasets import make_classification\n",
    "from sklearn.model_selection import train_test_split\n",
    "from sklearn.metrics import roc_curve\n",
    "from sklearn.metrics import roc_auc_score"
   ]
  },
  {
   "cell_type": "code",
   "execution_count": null,
   "metadata": {},
   "outputs": [],
   "source": []
  },
  {
   "cell_type": "markdown",
   "metadata": {},
   "source": [
    "**b) (1 pt)** Display the first few rows of the training data, and also show the number of total number rows in the training data. "
   ]
  },
  {
   "cell_type": "code",
   "execution_count": 26,
   "metadata": {},
   "outputs": [
    {
     "data": {
      "text/html": [
       "<div>\n",
       "<style scoped>\n",
       "    .dataframe tbody tr th:only-of-type {\n",
       "        vertical-align: middle;\n",
       "    }\n",
       "\n",
       "    .dataframe tbody tr th {\n",
       "        vertical-align: top;\n",
       "    }\n",
       "\n",
       "    .dataframe thead th {\n",
       "        text-align: right;\n",
       "    }\n",
       "</style>\n",
       "<table border=\"1\" class=\"dataframe\">\n",
       "  <thead>\n",
       "    <tr style=\"text-align: right;\">\n",
       "      <th></th>\n",
       "      <th>X1</th>\n",
       "      <th>X2</th>\n",
       "      <th>X3</th>\n",
       "      <th>X4</th>\n",
       "      <th>X5</th>\n",
       "      <th>X6</th>\n",
       "      <th>X7</th>\n",
       "      <th>y</th>\n",
       "    </tr>\n",
       "  </thead>\n",
       "  <tbody>\n",
       "    <tr>\n",
       "      <th>447</th>\n",
       "      <td>3.324493</td>\n",
       "      <td>3.018148</td>\n",
       "      <td>7.826513</td>\n",
       "      <td>-1.847854</td>\n",
       "      <td>6.275787</td>\n",
       "      <td>4.365952</td>\n",
       "      <td>3.855843</td>\n",
       "      <td>1</td>\n",
       "    </tr>\n",
       "    <tr>\n",
       "      <th>181</th>\n",
       "      <td>4.294985</td>\n",
       "      <td>5.124806</td>\n",
       "      <td>5.548694</td>\n",
       "      <td>1.997111</td>\n",
       "      <td>4.252263</td>\n",
       "      <td>4.218492</td>\n",
       "      <td>5.253008</td>\n",
       "      <td>0</td>\n",
       "    </tr>\n",
       "    <tr>\n",
       "      <th>334</th>\n",
       "      <td>2.266740</td>\n",
       "      <td>5.561127</td>\n",
       "      <td>2.412405</td>\n",
       "      <td>1.403137</td>\n",
       "      <td>3.845376</td>\n",
       "      <td>0.554205</td>\n",
       "      <td>1.748816</td>\n",
       "      <td>1</td>\n",
       "    </tr>\n",
       "    <tr>\n",
       "      <th>393</th>\n",
       "      <td>6.193342</td>\n",
       "      <td>6.482809</td>\n",
       "      <td>2.409529</td>\n",
       "      <td>3.622811</td>\n",
       "      <td>4.206335</td>\n",
       "      <td>2.903306</td>\n",
       "      <td>1.977249</td>\n",
       "      <td>1</td>\n",
       "    </tr>\n",
       "    <tr>\n",
       "      <th>428</th>\n",
       "      <td>3.443359</td>\n",
       "      <td>4.623351</td>\n",
       "      <td>1.499943</td>\n",
       "      <td>1.747335</td>\n",
       "      <td>4.807233</td>\n",
       "      <td>5.519563</td>\n",
       "      <td>7.465490</td>\n",
       "      <td>1</td>\n",
       "    </tr>\n",
       "  </tbody>\n",
       "</table>\n",
       "</div>"
      ],
      "text/plain": [
       "           X1        X2        X3        X4        X5        X6        X7  y\n",
       "447  3.324493  3.018148  7.826513 -1.847854  6.275787  4.365952  3.855843  1\n",
       "181  4.294985  5.124806  5.548694  1.997111  4.252263  4.218492  5.253008  0\n",
       "334  2.266740  5.561127  2.412405  1.403137  3.845376  0.554205  1.748816  1\n",
       "393  6.193342  6.482809  2.409529  3.622811  4.206335  2.903306  1.977249  1\n",
       "428  3.443359  4.623351  1.499943  1.747335  4.807233  5.519563  7.465490  1"
      ]
     },
     "execution_count": 26,
     "metadata": {},
     "output_type": "execute_result"
    }
   ],
   "source": [
    "df_train.head()"
   ]
  },
  {
   "cell_type": "code",
   "execution_count": 27,
   "metadata": {},
   "outputs": [
    {
     "data": {
      "text/plain": [
       "(400, 8)"
      ]
     },
     "execution_count": 27,
     "metadata": {},
     "output_type": "execute_result"
    }
   ],
   "source": [
    "df_train.shape"
   ]
  },
  {
   "cell_type": "markdown",
   "metadata": {},
   "source": [
    "**c) (1 pt)** Display the first few rows of the test data, and also show the number of rows in the test data."
   ]
  },
  {
   "cell_type": "code",
   "execution_count": 29,
   "metadata": {},
   "outputs": [
    {
     "data": {
      "text/html": [
       "<div>\n",
       "<style scoped>\n",
       "    .dataframe tbody tr th:only-of-type {\n",
       "        vertical-align: middle;\n",
       "    }\n",
       "\n",
       "    .dataframe tbody tr th {\n",
       "        vertical-align: top;\n",
       "    }\n",
       "\n",
       "    .dataframe thead th {\n",
       "        text-align: right;\n",
       "    }\n",
       "</style>\n",
       "<table border=\"1\" class=\"dataframe\">\n",
       "  <thead>\n",
       "    <tr style=\"text-align: right;\">\n",
       "      <th></th>\n",
       "      <th>X1</th>\n",
       "      <th>X2</th>\n",
       "      <th>X3</th>\n",
       "      <th>X4</th>\n",
       "      <th>X5</th>\n",
       "      <th>X6</th>\n",
       "      <th>X7</th>\n",
       "      <th>y</th>\n",
       "    </tr>\n",
       "  </thead>\n",
       "  <tbody>\n",
       "    <tr>\n",
       "      <th>452</th>\n",
       "      <td>6.888436</td>\n",
       "      <td>2.682519</td>\n",
       "      <td>4.224763</td>\n",
       "      <td>8.770279</td>\n",
       "      <td>7.324273</td>\n",
       "      <td>1.612024</td>\n",
       "      <td>7.687789</td>\n",
       "      <td>0</td>\n",
       "    </tr>\n",
       "    <tr>\n",
       "      <th>370</th>\n",
       "      <td>6.680071</td>\n",
       "      <td>7.240804</td>\n",
       "      <td>5.854313</td>\n",
       "      <td>1.046580</td>\n",
       "      <td>9.025510</td>\n",
       "      <td>6.556237</td>\n",
       "      <td>-0.892162</td>\n",
       "      <td>1</td>\n",
       "    </tr>\n",
       "    <tr>\n",
       "      <th>219</th>\n",
       "      <td>0.463182</td>\n",
       "      <td>5.454353</td>\n",
       "      <td>5.380936</td>\n",
       "      <td>6.241263</td>\n",
       "      <td>5.189943</td>\n",
       "      <td>8.843450</td>\n",
       "      <td>8.939459</td>\n",
       "      <td>0</td>\n",
       "    </tr>\n",
       "    <tr>\n",
       "      <th>497</th>\n",
       "      <td>4.541364</td>\n",
       "      <td>6.255047</td>\n",
       "      <td>2.680907</td>\n",
       "      <td>2.804052</td>\n",
       "      <td>4.603687</td>\n",
       "      <td>3.746360</td>\n",
       "      <td>4.702619</td>\n",
       "      <td>1</td>\n",
       "    </tr>\n",
       "    <tr>\n",
       "      <th>488</th>\n",
       "      <td>9.541945</td>\n",
       "      <td>9.728218</td>\n",
       "      <td>5.739684</td>\n",
       "      <td>7.085891</td>\n",
       "      <td>5.536955</td>\n",
       "      <td>8.954950</td>\n",
       "      <td>0.548030</td>\n",
       "      <td>0</td>\n",
       "    </tr>\n",
       "  </tbody>\n",
       "</table>\n",
       "</div>"
      ],
      "text/plain": [
       "           X1        X2        X3        X4        X5        X6        X7  y\n",
       "452  6.888436  2.682519  4.224763  8.770279  7.324273  1.612024  7.687789  0\n",
       "370  6.680071  7.240804  5.854313  1.046580  9.025510  6.556237 -0.892162  1\n",
       "219  0.463182  5.454353  5.380936  6.241263  5.189943  8.843450  8.939459  0\n",
       "497  4.541364  6.255047  2.680907  2.804052  4.603687  3.746360  4.702619  1\n",
       "488  9.541945  9.728218  5.739684  7.085891  5.536955  8.954950  0.548030  0"
      ]
     },
     "execution_count": 29,
     "metadata": {},
     "output_type": "execute_result"
    }
   ],
   "source": [
    "df_test.head()"
   ]
  },
  {
   "cell_type": "code",
   "execution_count": 30,
   "metadata": {},
   "outputs": [
    {
     "data": {
      "text/plain": [
       "(100, 8)"
      ]
     },
     "execution_count": 30,
     "metadata": {},
     "output_type": "execute_result"
    }
   ],
   "source": [
    "df_test.shape"
   ]
  },
  {
   "cell_type": "markdown",
   "metadata": {},
   "source": [
    "### Part 2: Use the training data for model building (9 pts)"
   ]
  },
  {
   "cell_type": "markdown",
   "metadata": {},
   "source": [
    "**a) (2 pts)** Using the training data only, fit a logistic regression model that includes all 7 variables. Show the model summary and identify which if any variables have coefficients that are significant at level alpha = 0.05."
   ]
  },
  {
   "cell_type": "code",
   "execution_count": 31,
   "metadata": {},
   "outputs": [
    {
     "name": "stdout",
     "output_type": "stream",
     "text": [
      "Optimization terminated successfully.\n",
      "         Current function value: 0.243592\n",
      "         Iterations 8\n"
     ]
    },
    {
     "data": {
      "text/html": [
       "<table class=\"simpletable\">\n",
       "<caption>Logit Regression Results</caption>\n",
       "<tr>\n",
       "  <th>Dep. Variable:</th>           <td>y</td>        <th>  No. Observations:  </th>  <td>   400</td>  \n",
       "</tr>\n",
       "<tr>\n",
       "  <th>Model:</th>                 <td>Logit</td>      <th>  Df Residuals:      </th>  <td>   392</td>  \n",
       "</tr>\n",
       "<tr>\n",
       "  <th>Method:</th>                 <td>MLE</td>       <th>  Df Model:          </th>  <td>     7</td>  \n",
       "</tr>\n",
       "<tr>\n",
       "  <th>Date:</th>            <td>Tue, 21 Apr 2020</td> <th>  Pseudo R-squ.:     </th>  <td>0.6296</td>  \n",
       "</tr>\n",
       "<tr>\n",
       "  <th>Time:</th>                <td>13:52:05</td>     <th>  Log-Likelihood:    </th> <td> -97.437</td> \n",
       "</tr>\n",
       "<tr>\n",
       "  <th>converged:</th>             <td>True</td>       <th>  LL-Null:           </th> <td> -263.04</td> \n",
       "</tr>\n",
       "<tr>\n",
       "  <th>Covariance Type:</th>     <td>nonrobust</td>    <th>  LLR p-value:       </th> <td>1.289e-67</td>\n",
       "</tr>\n",
       "</table>\n",
       "<table class=\"simpletable\">\n",
       "<tr>\n",
       "      <td></td>         <th>coef</th>     <th>std err</th>      <th>z</th>      <th>P>|z|</th>  <th>[0.025</th>    <th>0.975]</th>  \n",
       "</tr>\n",
       "<tr>\n",
       "  <th>Intercept</th> <td>   -2.4985</td> <td>    0.926</td> <td>   -2.699</td> <td> 0.007</td> <td>   -4.313</td> <td>   -0.684</td>\n",
       "</tr>\n",
       "<tr>\n",
       "  <th>X1</th>        <td>    0.9253</td> <td>    0.126</td> <td>    7.331</td> <td> 0.000</td> <td>    0.678</td> <td>    1.173</td>\n",
       "</tr>\n",
       "<tr>\n",
       "  <th>X2</th>        <td>    1.0172</td> <td>    0.126</td> <td>    8.043</td> <td> 0.000</td> <td>    0.769</td> <td>    1.265</td>\n",
       "</tr>\n",
       "<tr>\n",
       "  <th>X3</th>        <td>   -1.0082</td> <td>    0.130</td> <td>   -7.745</td> <td> 0.000</td> <td>   -1.263</td> <td>   -0.753</td>\n",
       "</tr>\n",
       "<tr>\n",
       "  <th>X4</th>        <td>   -0.9639</td> <td>    0.123</td> <td>   -7.809</td> <td> 0.000</td> <td>   -1.206</td> <td>   -0.722</td>\n",
       "</tr>\n",
       "<tr>\n",
       "  <th>X5</th>        <td>    0.1301</td> <td>    0.072</td> <td>    1.806</td> <td> 0.071</td> <td>   -0.011</td> <td>    0.271</td>\n",
       "</tr>\n",
       "<tr>\n",
       "  <th>X6</th>        <td>    0.0427</td> <td>    0.074</td> <td>    0.576</td> <td> 0.564</td> <td>   -0.103</td> <td>    0.188</td>\n",
       "</tr>\n",
       "<tr>\n",
       "  <th>X7</th>        <td>    0.0247</td> <td>    0.073</td> <td>    0.339</td> <td> 0.735</td> <td>   -0.118</td> <td>    0.168</td>\n",
       "</tr>\n",
       "</table>"
      ],
      "text/plain": [
       "<class 'statsmodels.iolib.summary.Summary'>\n",
       "\"\"\"\n",
       "                           Logit Regression Results                           \n",
       "==============================================================================\n",
       "Dep. Variable:                      y   No. Observations:                  400\n",
       "Model:                          Logit   Df Residuals:                      392\n",
       "Method:                           MLE   Df Model:                            7\n",
       "Date:                Tue, 21 Apr 2020   Pseudo R-squ.:                  0.6296\n",
       "Time:                        13:52:05   Log-Likelihood:                -97.437\n",
       "converged:                       True   LL-Null:                       -263.04\n",
       "Covariance Type:            nonrobust   LLR p-value:                 1.289e-67\n",
       "==============================================================================\n",
       "                 coef    std err          z      P>|z|      [0.025      0.975]\n",
       "------------------------------------------------------------------------------\n",
       "Intercept     -2.4985      0.926     -2.699      0.007      -4.313      -0.684\n",
       "X1             0.9253      0.126      7.331      0.000       0.678       1.173\n",
       "X2             1.0172      0.126      8.043      0.000       0.769       1.265\n",
       "X3            -1.0082      0.130     -7.745      0.000      -1.263      -0.753\n",
       "X4            -0.9639      0.123     -7.809      0.000      -1.206      -0.722\n",
       "X5             0.1301      0.072      1.806      0.071      -0.011       0.271\n",
       "X6             0.0427      0.074      0.576      0.564      -0.103       0.188\n",
       "X7             0.0247      0.073      0.339      0.735      -0.118       0.168\n",
       "==============================================================================\n",
       "\"\"\""
      ]
     },
     "execution_count": 31,
     "metadata": {},
     "output_type": "execute_result"
    }
   ],
   "source": [
    "model11 = smf.logit('y ~ X1 + X2 + X3 + X4 + X5 + X6 + X7', data=df_train).fit()\n",
    "model11.summary()"
   ]
  },
  {
   "cell_type": "markdown",
   "metadata": {},
   "source": [
    "x1, x2, x3, x4 significant at $a$ = 0.05"
   ]
  },
  {
   "cell_type": "markdown",
   "metadata": {},
   "source": [
    "**BIC criterion for model selection:** The BIC criterion is one method for evaluating a fitted model. It is a function of negative log-likelihood (a measure of model fit), and number of parameters (complexity of the model). It aims to trade off model fit and model complexity to avoid 'overfitting' and enhance generalizability. When used as a model selection criterion, models with lower BIC are considered more generalizable than models with higher BIC. \n",
    "\n",
    "When using the statsmodels.formula.api logit method for fitting the model the BIC criterion can be obtained from the fitted model using the .bic extension (e.g. model1.bic). "
   ]
  },
  {
   "cell_type": "markdown",
   "metadata": {},
   "source": [
    "**b) (1 pt)** Display the BIC value for the model in 2a)."
   ]
  },
  {
   "cell_type": "code",
   "execution_count": 33,
   "metadata": {},
   "outputs": [
    {
     "data": {
      "text/plain": [
       "242.80537956452207"
      ]
     },
     "execution_count": 33,
     "metadata": {},
     "output_type": "execute_result"
    }
   ],
   "source": [
    "model11.bic"
   ]
  },
  {
   "cell_type": "markdown",
   "metadata": {},
   "source": [
    "**c) (5 pts)** Using the training data only, fit different models with different subsets of the variables included to try to find a good simplified model. Try to find a simplified model that satisfies the following conditions:\n",
    "\n",
    "+ All variables included in the model (except possibly the intercept) have coefficient p-values below 0.10;\n",
    "\n",
    "+ Among such models, the BIC is as small as possible.\n",
    "\n",
    "+ Include the intercept in all models.\n",
    "\n",
    "You don't need to show the full model summary of each model you tried. Instead make a table of the models you tried. Identify the model by which vairables it included and its BIC value. Also list which variables in each model satisfy the p-value cut-off (p < 0.1). You may also try dropping the least significant variables to see if BIC decreases further. Here is a generic example of a way to organize the results:\n",
    "\n",
    "| Model Variables | Insignificant variables (p>0.10) | BIC |\n",
    "| --- | --- | --- |\n",
    "| X0, X1, ..., X7 | X5, X7 ... | etc. |\n",
    "| etc. | etc. | etc. |\n",
    "| X0, X1, X4 |  | 68.33 |\n",
    "| etc. | etc. | etc. |\n",
    "\n",
    "It is useful that you can access the p-values from the fitted model using the .pvalues extension, e.g., model.pvalues. That way you can avoid having to display the model summary for each model you try just to get the p-values. Also, you can extract the variables in the model with a call like model.params.index"
   ]
  },
  {
   "cell_type": "code",
   "execution_count": 37,
   "metadata": {},
   "outputs": [
    {
     "data": {
      "text/plain": [
       "Intercept    6.956517e-03\n",
       "X1           2.291527e-13\n",
       "X2           8.787616e-16\n",
       "X3           9.524369e-15\n",
       "X4           5.761773e-15\n",
       "X5           7.092268e-02\n",
       "dtype: float64"
      ]
     },
     "execution_count": 37,
     "metadata": {},
     "output_type": "execute_result"
    }
   ],
   "source": [
    "model11.pvalues[model11.pvalues < 0.1]"
   ]
  },
  {
   "cell_type": "code",
   "execution_count": 58,
   "metadata": {},
   "outputs": [
    {
     "data": {
      "text/html": [
       "<div>\n",
       "<style scoped>\n",
       "    .dataframe tbody tr th:only-of-type {\n",
       "        vertical-align: middle;\n",
       "    }\n",
       "\n",
       "    .dataframe tbody tr th {\n",
       "        vertical-align: top;\n",
       "    }\n",
       "\n",
       "    .dataframe thead th {\n",
       "        text-align: right;\n",
       "    }\n",
       "</style>\n",
       "<table border=\"1\" class=\"dataframe\">\n",
       "  <thead>\n",
       "    <tr style=\"text-align: right;\">\n",
       "      <th></th>\n",
       "      <th>Model Variables</th>\n",
       "      <th>Insignificant variables (p&gt;0.10)</th>\n",
       "      <th>BIC</th>\n",
       "    </tr>\n",
       "  </thead>\n",
       "  <tbody>\n",
       "    <tr>\n",
       "      <th>0</th>\n",
       "      <td>X1, X2, X3, X4, X5, X6, X7</td>\n",
       "      <td>X6, X7</td>\n",
       "      <td>242.805380</td>\n",
       "    </tr>\n",
       "    <tr>\n",
       "      <th>1</th>\n",
       "      <td>X1, X2, X3, X4, X5</td>\n",
       "      <td>Non</td>\n",
       "      <td>231.329250</td>\n",
       "    </tr>\n",
       "    <tr>\n",
       "      <th>2</th>\n",
       "      <td>X1, X2, X3, X4</td>\n",
       "      <td>Non</td>\n",
       "      <td>228.836688</td>\n",
       "    </tr>\n",
       "    <tr>\n",
       "      <th>3</th>\n",
       "      <td>X1, X2, X3</td>\n",
       "      <td>Non</td>\n",
       "      <td>357.836404</td>\n",
       "    </tr>\n",
       "    <tr>\n",
       "      <th>4</th>\n",
       "      <td>X1, X2</td>\n",
       "      <td>Non</td>\n",
       "      <td>439.109941</td>\n",
       "    </tr>\n",
       "    <tr>\n",
       "      <th>5</th>\n",
       "      <td>X1</td>\n",
       "      <td>Non</td>\n",
       "      <td>506.470096</td>\n",
       "    </tr>\n",
       "    <tr>\n",
       "      <th>6</th>\n",
       "      <td>X1, X4, X3</td>\n",
       "      <td>Non</td>\n",
       "      <td>443.541330</td>\n",
       "    </tr>\n",
       "  </tbody>\n",
       "</table>\n",
       "</div>"
      ],
      "text/plain": [
       "              Model Variables Insignificant variables (p>0.10)         BIC\n",
       "0  X1, X2, X3, X4, X5, X6, X7                           X6, X7  242.805380\n",
       "1          X1, X2, X3, X4, X5                              Non  231.329250\n",
       "2              X1, X2, X3, X4                              Non  228.836688\n",
       "3                  X1, X2, X3                              Non  357.836404\n",
       "4                      X1, X2                              Non  439.109941\n",
       "5                          X1                              Non  506.470096\n",
       "6                  X1, X4, X3                              Non  443.541330"
      ]
     },
     "execution_count": 58,
     "metadata": {},
     "output_type": "execute_result"
    }
   ],
   "source": [
    "\n",
    "df1 = pd.DataFrame({'Model Variables':[\"X1, X2, X3, X4, X5, X6, X7\",\n",
    "                                       \"X1, X2, X3, X4, X5\", \n",
    "                                       \"X1, X2, X3, X4\"\n",
    "                                      , \"X1, X2, X3\"\n",
    "                                       , \"X1, X2\", \n",
    "                                       \"X1\"\n",
    "                                      , \"X1, X4, X3\"],\n",
    "                    'Insignificant variables (p>0.10)':[\"X6, X7\"\n",
    "                                                        ,\"Non\"\n",
    "                                                        , \"Non\"\n",
    "                                                        , \"Non\"\n",
    "                                                        , \"Non\"\n",
    "                                                        , \"Non\"\n",
    "                                                       , \"Non\"],\n",
    "                    'BIC': [model11.bic, model12.bic, model13.bic, model13_5.bic,\n",
    "                           model14.bic, model15.bic, model16.bic] })\n",
    "df1"
   ]
  },
  {
   "cell_type": "code",
   "execution_count": 82,
   "metadata": {},
   "outputs": [
    {
     "name": "stdout",
     "output_type": "stream",
     "text": [
      "Optimization terminated successfully.\n",
      "         Current function value: 0.244226\n",
      "         Iterations 8\n",
      "Optimization terminated successfully.\n",
      "         Current function value: 0.248599\n",
      "         Iterations 8\n",
      "Optimization terminated successfully.\n",
      "         Current function value: 0.417338\n",
      "         Iterations 7\n",
      "Optimization terminated successfully.\n",
      "         Current function value: 0.526419\n",
      "         Iterations 6\n",
      "Optimization terminated successfully.\n",
      "         Current function value: 0.618109\n",
      "         Iterations 5\n",
      "Optimization terminated successfully.\n",
      "         Current function value: 0.428489\n",
      "         Iterations 7\n"
     ]
    }
   ],
   "source": [
    "model12 = smf.logit('y ~ X1 + X2 + X3 + X4 + X5', data=df_train).fit()\n",
    "model13 = smf.logit('y ~ X1 + X2 + X3 + X4', data=df_train).fit()\n",
    "model13_5 = smf.logit('y ~ X1 + X2 + X3', data=df_train).fit()\n",
    "model14 = smf.logit('y ~ X1 + X2', data=df_train).fit()\n",
    "model15 = smf.logit('y ~ X1', data=df_train).fit()\n",
    "model16 = smf.logit('y ~ X1 + X4 + X3', data=df_train).fit()\n"
   ]
  },
  {
   "cell_type": "code",
   "execution_count": null,
   "metadata": {},
   "outputs": [],
   "source": []
  },
  {
   "cell_type": "markdown",
   "metadata": {},
   "source": []
  },
  {
   "cell_type": "markdown",
   "metadata": {},
   "source": [
    "**d) (1 pt)** Show the model summary for the final model you selected. Explain briefly why it was selected."
   ]
  },
  {
   "cell_type": "code",
   "execution_count": 83,
   "metadata": {},
   "outputs": [
    {
     "name": "stdout",
     "output_type": "stream",
     "text": [
      "Optimization terminated successfully.\n",
      "         Current function value: 0.248599\n",
      "         Iterations 8\n"
     ]
    },
    {
     "data": {
      "text/html": [
       "<table class=\"simpletable\">\n",
       "<caption>Logit Regression Results</caption>\n",
       "<tr>\n",
       "  <th>Dep. Variable:</th>           <td>y</td>        <th>  No. Observations:  </th>  <td>   400</td>  \n",
       "</tr>\n",
       "<tr>\n",
       "  <th>Model:</th>                 <td>Logit</td>      <th>  Df Residuals:      </th>  <td>   395</td>  \n",
       "</tr>\n",
       "<tr>\n",
       "  <th>Method:</th>                 <td>MLE</td>       <th>  Df Model:          </th>  <td>     4</td>  \n",
       "</tr>\n",
       "<tr>\n",
       "  <th>Date:</th>            <td>Tue, 21 Apr 2020</td> <th>  Pseudo R-squ.:     </th>  <td>0.6220</td>  \n",
       "</tr>\n",
       "<tr>\n",
       "  <th>Time:</th>                <td>14:39:21</td>     <th>  Log-Likelihood:    </th> <td> -99.440</td> \n",
       "</tr>\n",
       "<tr>\n",
       "  <th>converged:</th>             <td>True</td>       <th>  LL-Null:           </th> <td> -263.04</td> \n",
       "</tr>\n",
       "<tr>\n",
       "  <th>Covariance Type:</th>     <td>nonrobust</td>    <th>  LLR p-value:       </th> <td>1.458e-69</td>\n",
       "</tr>\n",
       "</table>\n",
       "<table class=\"simpletable\">\n",
       "<tr>\n",
       "      <td></td>         <th>coef</th>     <th>std err</th>      <th>z</th>      <th>P>|z|</th>  <th>[0.025</th>    <th>0.975]</th>  \n",
       "</tr>\n",
       "<tr>\n",
       "  <th>Intercept</th> <td>   -1.5548</td> <td>    0.742</td> <td>   -2.094</td> <td> 0.036</td> <td>   -3.010</td> <td>   -0.100</td>\n",
       "</tr>\n",
       "<tr>\n",
       "  <th>X1</th>        <td>    0.9123</td> <td>    0.123</td> <td>    7.426</td> <td> 0.000</td> <td>    0.671</td> <td>    1.153</td>\n",
       "</tr>\n",
       "<tr>\n",
       "  <th>X2</th>        <td>    1.0136</td> <td>    0.125</td> <td>    8.090</td> <td> 0.000</td> <td>    0.768</td> <td>    1.259</td>\n",
       "</tr>\n",
       "<tr>\n",
       "  <th>X3</th>        <td>   -0.9858</td> <td>    0.125</td> <td>   -7.856</td> <td> 0.000</td> <td>   -1.232</td> <td>   -0.740</td>\n",
       "</tr>\n",
       "<tr>\n",
       "  <th>X4</th>        <td>   -0.9545</td> <td>    0.121</td> <td>   -7.898</td> <td> 0.000</td> <td>   -1.191</td> <td>   -0.718</td>\n",
       "</tr>\n",
       "</table>"
      ],
      "text/plain": [
       "<class 'statsmodels.iolib.summary.Summary'>\n",
       "\"\"\"\n",
       "                           Logit Regression Results                           \n",
       "==============================================================================\n",
       "Dep. Variable:                      y   No. Observations:                  400\n",
       "Model:                          Logit   Df Residuals:                      395\n",
       "Method:                           MLE   Df Model:                            4\n",
       "Date:                Tue, 21 Apr 2020   Pseudo R-squ.:                  0.6220\n",
       "Time:                        14:39:21   Log-Likelihood:                -99.440\n",
       "converged:                       True   LL-Null:                       -263.04\n",
       "Covariance Type:            nonrobust   LLR p-value:                 1.458e-69\n",
       "==============================================================================\n",
       "                 coef    std err          z      P>|z|      [0.025      0.975]\n",
       "------------------------------------------------------------------------------\n",
       "Intercept     -1.5548      0.742     -2.094      0.036      -3.010      -0.100\n",
       "X1             0.9123      0.123      7.426      0.000       0.671       1.153\n",
       "X2             1.0136      0.125      8.090      0.000       0.768       1.259\n",
       "X3            -0.9858      0.125     -7.856      0.000      -1.232      -0.740\n",
       "X4            -0.9545      0.121     -7.898      0.000      -1.191      -0.718\n",
       "==============================================================================\n",
       "\"\"\""
      ]
     },
     "execution_count": 83,
     "metadata": {},
     "output_type": "execute_result"
    }
   ],
   "source": [
    "model13 = smf.logit('y ~ X1 + X2 + X3 + X4', data=df_train).fit()\n",
    "model13.summary()"
   ]
  },
  {
   "cell_type": "markdown",
   "metadata": {},
   "source": [
    "I select this model because it has the lowest BIC point"
   ]
  },
  {
   "cell_type": "markdown",
   "metadata": {},
   "source": [
    "### Part 3: Use the test data for model evaluation (6 pts)"
   ]
  },
  {
   "cell_type": "markdown",
   "metadata": {},
   "source": [
    "**a) (2 pts)** Use the trained model from Part 1d) to get predictive probabilities for the test data, i.e., estimated probabilities of y=1 for the test data using the training data model. Show at least the first five predictive probabilities."
   ]
  },
  {
   "cell_type": "code",
   "execution_count": 84,
   "metadata": {},
   "outputs": [
    {
     "data": {
      "text/plain": [
       "452    0.006135\n",
       "370    0.993989\n",
       "219    0.001042\n",
       "497    0.973636\n",
       "488    0.989939\n",
       "63     0.000018\n",
       "154    0.002699\n",
       "139    0.916764\n",
       "296    0.056500\n",
       "179    0.001954\n",
       "dtype: float64"
      ]
     },
     "execution_count": 84,
     "metadata": {},
     "output_type": "execute_result"
    }
   ],
   "source": [
    "p_hat = model13.predict(exog=df_test)\n",
    "p_hat.head(10)"
   ]
  },
  {
   "cell_type": "markdown",
   "metadata": {},
   "source": [
    "**b) (2 pts)** Classify the test data as 1 or zero based on a predictive probability threshold of 0.5. \n",
    "\n",
    "+ Classify a test value as 1 if the training model predictive probability for it is 0.5 or greater,\n",
    "\n",
    "+ Classify a test value 0 if the training model predictive probability for it is less than 0.5.\n",
    "\n",
    "Based on this classification, compute and display confusion matrix elements, i.e, the numbers of true positives, false negatives, true negatives and false positives. Also compute the implied estimates of sensitivty and specificity.\n",
    "\n",
    "A function to compute sensitivity and specificity for a given threshold was included in the class notes. You may include it in your code if helpful."
   ]
  },
  {
   "cell_type": "code",
   "execution_count": 74,
   "metadata": {},
   "outputs": [],
   "source": [
    "from sklearn.metrics import accuracy_score\n",
    "import matplotlib.pyplot as plt\n",
    "import seaborn as sns\n",
    "sns.set()\n",
    "from sklearn.metrics import confusion_matrix, roc_curve, roc_auc_score"
   ]
  },
  {
   "cell_type": "code",
   "execution_count": 75,
   "metadata": {},
   "outputs": [
    {
     "data": {
      "image/png": "[encoded data removed]",
      "text/plain": [
       "<Figure size 432x288 with 1 Axes>"
      ]
     },
     "metadata": {},
     "output_type": "display_data"
    }
   ],
   "source": [
    "thresh = 0.5\n",
    "sns.scatterplot(x=p_hat, y=df_test['y'], hue=1*(p_hat > thresh))\n",
    "plt.legend(loc='center right')\n",
    "plt.xlabel('p hat')\n",
    "plt.vlines(x=thresh, ymin=0, ymax=1)\n",
    "plt.title('Actual y_test versus phat_train(X_test)')\n",
    "plt\n",
    "plt.show()"
   ]
  },
  {
   "cell_type": "code",
   "execution_count": 85,
   "metadata": {},
   "outputs": [],
   "source": [
    "def senspec(y, score, thresh):\n",
    "    yhat = 1*(score >= thresh)\n",
    "    tn, fp, fn, tp = confusion_matrix(y_true=y, y_pred=yhat).ravel()\n",
    "    sens = tp / (fn + tp)\n",
    "    spec = tn / (fp + tn)\n",
    "    return pd.DataFrame({'tn':[tn], \n",
    "                         'fp':[fp], \n",
    "                         'fn':[fn], \n",
    "                         'tp':[tp], \n",
    "                         'sens':[sens], \n",
    "                         'spec':[spec]})"
   ]
  },
  {
   "cell_type": "code",
   "execution_count": 86,
   "metadata": {},
   "outputs": [
    {
     "data": {
      "text/html": [
       "<div>\n",
       "<style scoped>\n",
       "    .dataframe tbody tr th:only-of-type {\n",
       "        vertical-align: middle;\n",
       "    }\n",
       "\n",
       "    .dataframe tbody tr th {\n",
       "        vertical-align: top;\n",
       "    }\n",
       "\n",
       "    .dataframe thead th {\n",
       "        text-align: right;\n",
       "    }\n",
       "</style>\n",
       "<table border=\"1\" class=\"dataframe\">\n",
       "  <thead>\n",
       "    <tr style=\"text-align: right;\">\n",
       "      <th></th>\n",
       "      <th>tn</th>\n",
       "      <th>fp</th>\n",
       "      <th>fn</th>\n",
       "      <th>tp</th>\n",
       "      <th>sens</th>\n",
       "      <th>spec</th>\n",
       "    </tr>\n",
       "  </thead>\n",
       "  <tbody>\n",
       "    <tr>\n",
       "      <th>0</th>\n",
       "      <td>62</td>\n",
       "      <td>5</td>\n",
       "      <td>2</td>\n",
       "      <td>31</td>\n",
       "      <td>0.939394</td>\n",
       "      <td>0.925373</td>\n",
       "    </tr>\n",
       "  </tbody>\n",
       "</table>\n",
       "</div>"
      ],
      "text/plain": [
       "   tn  fp  fn  tp      sens      spec\n",
       "0  62   5   2  31  0.939394  0.925373"
      ]
     },
     "execution_count": 86,
     "metadata": {},
     "output_type": "execute_result"
    }
   ],
   "source": [
    "senspec(df_test['y'], p_hat, thresh)"
   ]
  },
  {
   "cell_type": "markdown",
   "metadata": {},
   "source": [
    "**b) (2 pts)** Compute and display the ROC curve for the training model you selected as a classifier of the test data. There was a function defined in class notes to help plot ROC curves."
   ]
  },
  {
   "cell_type": "code",
   "execution_count": 87,
   "metadata": {},
   "outputs": [],
   "source": [
    "fpr, tpr, score = roc_curve(y_true=df_test['y'], y_score=p_hat)\n",
    "auc = roc_auc_score(y_true=df_test['y'], y_score=p_hat)"
   ]
  },
  {
   "cell_type": "code",
   "execution_count": 88,
   "metadata": {},
   "outputs": [],
   "source": [
    "def plot_roc(fpr, tpr, auc, lw=2):\n",
    "    plt.plot(fpr, tpr, color='darkorange', lw=lw,\n",
    "             label='ROC curve (area = '+str(round(auc,3))+')')\n",
    "    plt.plot([0, 1], [0, 1], color='navy', lw=lw, linestyle='--')\n",
    "    plt.xlabel('False Positive Rate')\n",
    "    plt.ylabel('True Positive Rate')\n",
    "    plt.title('ROC Curve')\n",
    "    plt.legend(loc=\"lower right\")\n",
    "    plt.show()"
   ]
  },
  {
   "cell_type": "code",
   "execution_count": 89,
   "metadata": {},
   "outputs": [
    {
     "data": {
      "image/png": "[encoded data removed]",
      "text/plain": [
       "<Figure size 432x288 with 1 Axes>"
      ]
     },
     "metadata": {},
     "output_type": "display_data"
    }
   ],
   "source": [
    "plot_roc(fpr, tpr, auc)"
   ]
  },
  {
   "cell_type": "code",
   "execution_count": null,
   "metadata": {},
   "outputs": [],
   "source": []
  }
 ],
 "metadata": {
  "kernelspec": {
   "display_name": "Python 3",
   "language": "python",
   "name": "python3"
  },
  "language_info": {
   "codemirror_mode": {
    "name": "ipython",
    "version": 3
   },
   "file_extension": ".py",
   "mimetype": "text/x-python",
   "name": "python",
   "nbconvert_exporter": "python",
   "pygments_lexer": "ipython3",
   "version": "3.7.3"
  }
 },
 "nbformat": 4,
 "nbformat_minor": 2
}
